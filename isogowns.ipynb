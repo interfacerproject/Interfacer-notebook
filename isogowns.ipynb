{
 "cells": [
  {
   "cell_type": "markdown",
   "id": "88a915f1",
   "metadata": {},
   "source": [
    "This notebook implements a simple flow described in the following:\n",
    "\n",
    "cotton - consume - Sew Gown - produce - gown\n",
    "\n",
    "gown - transfer-custody - gown\n",
    "\n",
    "gown - accept - Use Gown - modify - gown\n",
    "              /\n",
    "         work\n",
    "\n",
    "gown - transfer-custody - gown\n",
    "\n",
    "water - consume\\\n",
    "  gown - accept - Clean Gown - modify\n",
    "soap - consume /                                              "
   ]
  },
  {
   "cell_type": "code",
   "execution_count": null,
   "id": "2899cdd5",
   "metadata": {},
   "outputs": [],
   "source": [
    "# The following should reload python files if we change them on disk\n",
    "%load_ext autoreload\n",
    "%aimport if_lib, if_utils, if_dpp, if_graphics, if_consts\n",
    "%autoreload 1\n",
    "import os\n",
    "import json\n",
    "import random\n",
    "\n",
    "from if_utils import get_filename, show_data, save_traces\n",
    "\n",
    "from if_lib import generate_random_challenge, read_HMAC, read_keypair, get_id_person, get_location_id, \\\n",
    "get_unit_id, get_resource_spec_id, get_resource, get_process, create_event, make_transfer, reduce_resource, set_user_location\n",
    "\n",
    "from if_dpp import trace_query, check_traces, er_before, get_dpp\n",
    "\n",
    "from if_graphics import vis_dpp, make_sankey, consol_trace"
   ]
  },
  {
   "cell_type": "code",
   "execution_count": null,
   "id": "ea0b830e",
   "metadata": {
    "tags": [
     "parameters"
    ]
   },
   "outputs": [],
   "source": [
    "USE_CASE = 'isogowns'\n",
    "\n",
    "# What endpoint are we talking to?\n",
    "ENDPOINT = 'https://zenflows.interfacer-staging.dyne.im/api'\n",
    "# debug\n",
    "# ENDPOINT = 'http://65.109.11.42:10000/api'\n",
    "# ENDPOINT = 'http://zenflows-debug.interfacer.dyne.org/api'\n",
    "# staging\n",
    "# ENDPOINT = 'http://65.109.11.42:8000/api'\n",
    "# ENDPOINT = 'https://zenflows-staging.interfacer.dyne.org/api'\n",
    "# testing\n",
    "# ENDPOINT = 'http://65.109.11.42:9000/api'\n",
    "# ENDPOINT = 'https://zenflows-test.interfacer.dyne.org/api'\n",
    "\n",
    "USERS = ['A', 'B']"
   ]
  },
  {
   "cell_type": "code",
   "execution_count": null,
   "id": "ccad8b22",
   "metadata": {},
   "outputs": [],
   "source": [
    "# Calculate names of settings files\n",
    "USERS_FILE = get_filename('cred_users.json', ENDPOINT, USE_CASE)\n",
    "LOCS_FILE = get_filename('loc_users.json', ENDPOINT, USE_CASE)\n",
    "UNITS_FILE = get_filename('units_data.json', ENDPOINT, USE_CASE)\n",
    "SPECS_FILE = get_filename('res_spec_data.json', ENDPOINT, USE_CASE)"
   ]
  },
  {
   "cell_type": "code",
   "execution_count": null,
   "id": "755da840",
   "metadata": {},
   "outputs": [],
   "source": [
    "# This should print something like\n",
    "# Generated challenge: MMQ1JSrCA7L4QNftLyaaSRunT4Z9+Rr2QkE+a+DWLEljtg6EroLbCj5VjLH+xba9Rv1D+3ncQHw5s/lH41IFJw==\n",
    "generate_random_challenge()"
   ]
  },
  {
   "cell_type": "code",
   "execution_count": null,
   "id": "b8bc7c31",
   "metadata": {},
   "outputs": [],
   "source": [
    "# Read or define user data that is going to be used in the GraphQL calls\n",
    "\n",
    "# create data structure to hold processes\n",
    "process_data = {}\n",
    "\n",
    "# create data structures to hold resources and events (possibly to compare results from track and trace)\n",
    "res_data = {}\n",
    "event_seq = []\n",
    "\n",
    "\n",
    "if os.path.isfile(USERS_FILE):\n",
    "    with open(USERS_FILE,'r') as f:\n",
    "        users_data = json.loads(f.read())\n",
    "    print(\"Credentials file available for users\")\n",
    "else:\n",
    "    users_data = {}\n",
    "    users_data['A'] = {\n",
    "      \"userChallenges\": {\n",
    "        \"whereParentsMet\": \"London\",\n",
    "        \"nameFirstPet\": \"Fuffy\",\n",
    "        \"nameFirstTeacher\": \"Jim\",\n",
    "        \"whereHomeTown\": \"Paris\",\n",
    "        \"nameMotherMaid\": \"Wright\"\n",
    "      },\n",
    "      \"name\": \"User A\",\n",
    "      \"username\": \"userA_username\",\n",
    "      \"email\": \"userA@example.org\",\n",
    "      \"note\": \"me.userA.org\"\n",
    "    }\n",
    "    users_data['B'] = {\n",
    "        \"userChallenges\": {\n",
    "            \"whereParentsMet\":\"Amsterdam\",\n",
    "            \"nameFirstPet\":\"Toby\",\n",
    "            \"nameFirstTeacher\":\"Juliet\",\n",
    "            \"whereHomeTown\":\"Rome\",\n",
    "            \"nameMotherMaid\":\"Banks\"\n",
    "        },\n",
    "        \"name\": \"User B\",\n",
    "        \"username\": \"userB\",\n",
    "        \"email\": \"userB@example.org\",\n",
    "        \"note\" : \"me.userB.org\"\n",
    "    }\n",
    "\n",
    "    with open(USERS_FILE,'w') as f:\n",
    "        json.dump(users_data, f)\n",
    "\n",
    "\n",
    "if os.path.isfile(LOCS_FILE):\n",
    "    with open(LOCS_FILE,'r') as f:\n",
    "        locs_data = json.loads(f.read())\n",
    "    print(\"Location file available\")\n",
    "else:\n",
    "    locs_data = {}\n",
    "    locs_data['A'] = {\n",
    "        \"name\": \"OLVG\",\n",
    "        \"lat\": 52.35871773455108,\n",
    "        \"long\": 4.916762398221842,\n",
    "        \"addr\": \"Oosterpark 9, 1091 AC Amsterdam\",\n",
    "        \"note\": \"location.user1.org\"\n",
    "    }\n",
    "    locs_data['B'] = {\n",
    "        \"name\": \"CleanLease\",\n",
    "        \"lat\" : 51.47240440868687,\n",
    "        \"long\" : 5.412460440524406,\n",
    "        \"addr\" : \"De schakel 30, 5651 Eindhoven\",\n",
    "        \"note\": \"location.user2.org\"\n",
    "    }\n",
    "    with open(LOCS_FILE,'w') as f:\n",
    "        json.dump(locs_data, f)\n",
    "\n",
    "\n",
    "if os.path.isfile(UNITS_FILE):\n",
    "    with open(UNITS_FILE,'r') as f:\n",
    "        units_data = json.loads(f.read())\n",
    "    print(f\"Unit file available\")\n",
    "else:\n",
    "    units_data = {}\n",
    "#     with open(file,'w') as f:\n",
    "#         json.dump(units_data, f)\n",
    "\n",
    "\n",
    "\n",
    "if os.path.isfile(SPECS_FILE):\n",
    "    with open(SPECS_FILE,'r') as f:\n",
    "        res_spec_data = json.loads(f.read())\n",
    "    print(f\"Resource Spec file available\")\n",
    "else:\n",
    "    res_spec_data = {}\n",
    "  "
   ]
  },
  {
   "cell_type": "code",
   "execution_count": null,
   "id": "5bf379da",
   "metadata": {},
   "outputs": [],
   "source": [
    "# Read HMAC or get it from the server\n",
    "for user in USERS:\n",
    "    read_HMAC(USERS_FILE, users_data, user, endpoint=ENDPOINT)"
   ]
  },
  {
   "cell_type": "code",
   "execution_count": null,
   "id": "968e547b",
   "metadata": {
    "scrolled": true
   },
   "outputs": [],
   "source": [
    "# Read the keypair\n",
    "for user in USERS:\n",
    "    read_keypair(USERS_FILE, users_data, user)"
   ]
  },
  {
   "cell_type": "code",
   "execution_count": null,
   "id": "5f04298a",
   "metadata": {},
   "outputs": [],
   "source": [
    "# read or get id of the person\n",
    "for user in USERS:\n",
    "    get_id_person(USERS_FILE, users_data, user, endpoint=ENDPOINT)"
   ]
  },
  {
   "cell_type": "code",
   "execution_count": null,
   "id": "b4898764",
   "metadata": {},
   "outputs": [],
   "source": [
    "# Read of get the location id\n",
    "for user in USERS:\n",
    "    get_location_id(LOCS_FILE, users_data[user], locs_data, user, endpoint=ENDPOINT)\n",
    "    set_user_location(USERS_FILE, users_data, locs_data, user, endpoint=ENDPOINT)"
   ]
  },
  {
   "cell_type": "code",
   "execution_count": null,
   "id": "9df2fe4f",
   "metadata": {},
   "outputs": [],
   "source": [
    "# Get the ids of all units\n",
    "get_unit_id(UNITS_FILE, users_data['B'], units_data, 'piece', 'u_piece', 'om2:one', endpoint=ENDPOINT)\n",
    "get_unit_id(UNITS_FILE, users_data['B'], units_data, 'mass', 'kg', 'om2:kilogram', endpoint=ENDPOINT)\n",
    "get_unit_id(UNITS_FILE, users_data['B'], units_data, 'volume', 'lt', 'om2:litre', endpoint=ENDPOINT)\n",
    "get_unit_id(UNITS_FILE, users_data['A'], units_data, 'time', 'h', 'om2:hour', endpoint=ENDPOINT)\n"
   ]
  },
  {
   "cell_type": "code",
   "execution_count": null,
   "id": "cd1fd6e8",
   "metadata": {},
   "outputs": [],
   "source": [
    "# Read all the resource specifications\n",
    "name = 'soap'\n",
    "note = 'Specification for soap to be used to wash the gowns'\n",
    "classification = 'https://www.wikidata.org/wiki/Q34396'\n",
    "default_unit_id = units_data['mass']['id']\n",
    "get_resource_spec_id(SPECS_FILE, users_data['B'], res_spec_data, name, note, classification, default_unit_id, endpoint=ENDPOINT)\n",
    "\n",
    "name = 'water'\n",
    "note = 'Specification for water to be used to wash the gowns'\n",
    "classification = 'https://www.wikidata.org/wiki/Q283'\n",
    "default_unit_id = units_data['volume']['id']\n",
    "get_resource_spec_id(SPECS_FILE, users_data['B'], res_spec_data, name, note, classification, default_unit_id, endpoint=ENDPOINT)\n",
    "\n",
    "name = 'cotton'\n",
    "note = 'Specification for cotton to be used to sew the gowns'\n",
    "classification = 'https://www.wikidata.org/wiki/Q11457'\n",
    "default_unit_id = units_data['mass']['id']\n",
    "get_resource_spec_id(SPECS_FILE, users_data['B'], res_spec_data, name, note, classification, default_unit_id, endpoint=ENDPOINT)\n",
    "\n",
    "name = 'gown'\n",
    "note = 'Specification for gowns'\n",
    "classification = 'https://www.wikidata.org/wiki/Q89990310'\n",
    "default_unit_id = units_data['piece']['id']\n",
    "get_resource_spec_id(SPECS_FILE, users_data['B'], res_spec_data, name, note, classification, default_unit_id, endpoint=ENDPOINT)\n",
    "\n",
    "name = 'surgical_operation'\n",
    "note = 'Specification for surgical operations'\n",
    "classification = 'https://www.wikidata.org/wiki/Q600236'\n",
    "default_unit_id = units_data['time']['id']\n",
    "get_resource_spec_id(SPECS_FILE, users_data['B'], res_spec_data, name, note, classification, default_unit_id, endpoint=ENDPOINT)"
   ]
  },
  {
   "cell_type": "code",
   "execution_count": null,
   "id": "36377061",
   "metadata": {},
   "outputs": [],
   "source": [
    "# We create the resources that will not be saved to file as it is assumed they are recreated at each run\n",
    "\n",
    "res_name = 'soap'\n",
    "amount = 100\n",
    "\n",
    "get_resource(res_data, res_spec_data, res_name, users_data['B'], event_seq, amount, endpoint=ENDPOINT)"
   ]
  },
  {
   "cell_type": "code",
   "execution_count": null,
   "id": "1f2fb82f",
   "metadata": {},
   "outputs": [],
   "source": [
    "res_name = 'water'\n",
    "amount = 50\n",
    "\n",
    "get_resource(res_data, res_spec_data, res_name, users_data['B'], event_seq, amount, endpoint=ENDPOINT)"
   ]
  },
  {
   "cell_type": "code",
   "execution_count": null,
   "id": "877e88a7",
   "metadata": {},
   "outputs": [],
   "source": [
    "res_name = 'cotton'\n",
    "amount = 20\n",
    "\n",
    "get_resource(res_data, res_spec_data, res_name, users_data['B'], event_seq, amount, endpoint=ENDPOINT)"
   ]
  },
  {
   "cell_type": "code",
   "execution_count": null,
   "id": "ed2b15ba",
   "metadata": {},
   "outputs": [],
   "source": [
    "# Create the process that wraps sewing of the gown (its creation)\n",
    "# print(process_data)\n",
    "process_name = 'Sew_gown'\n",
    "user_data = users_data['A']\n",
    "note = f\"Sew gown process performed by {user_data['name']}\"\n",
    "\n",
    "get_process(process_name, process_data, note, user_data, endpoint=ENDPOINT)\n",
    "# print(process_data)"
   ]
  },
  {
   "cell_type": "code",
   "execution_count": null,
   "id": "02c570c6",
   "metadata": {},
   "outputs": [],
   "source": [
    "# Create the process that wraps using the gown in the hospital and make it dirty\n",
    "process_name = 'Use_gown'\n",
    "user_data = users_data['A']\n",
    "note = f\"Use gown process performed by {user_data['name']}\"\n",
    "\n",
    "get_process(process_name, process_data, note, user_data, endpoint=ENDPOINT)\n",
    "# print(process_data)"
   ]
  },
  {
   "cell_type": "code",
   "execution_count": null,
   "id": "153222a2",
   "metadata": {
    "scrolled": true
   },
   "outputs": [],
   "source": [
    "# Create the process that includes cleaning the gown\n",
    "process_name = 'Clean_gown'\n",
    "user_data = users_data['B']\n",
    "note = f\"Clean gown process performed by {user_data['name']}\"\n",
    "\n",
    "get_process(process_name, process_data, note, user_data, endpoint=ENDPOINT)\n",
    "# print(process_data)"
   ]
  },
  {
   "cell_type": "code",
   "execution_count": null,
   "id": "609b9864",
   "metadata": {
    "scrolled": true
   },
   "outputs": [],
   "source": [
    "# Define event consume for the gown creation\n",
    "cur_res = action = event_note = amount = cur_pros = None\n",
    "action = 'consume'\n",
    "event_note='consume cotton for sewing'\n",
    "amount = 10\n",
    "cur_pros = process_data['Sew_gown']\n",
    "cur_res = res_data['cotton_res']\n",
    "\n",
    "\n",
    "event_id, ts = create_event(users_data['B'], action, event_note, amount=amount, process=cur_pros, \\\n",
    "                            res_spec_data=res_spec_data, existing_res=cur_res, endpoint=ENDPOINT)\n",
    "\n",
    "event_seq.append({'ts': ts, 'event_id':event_id, 'action' : action, 'res_name': cur_res['name'], 'res': cur_res['id']})\n",
    "event_seq.append({'ts': ts, 'process_id':cur_pros['id'], 'name' : cur_pros['name']})"
   ]
  },
  {
   "cell_type": "code",
   "execution_count": null,
   "id": "468ba053",
   "metadata": {
    "scrolled": true
   },
   "outputs": [],
   "source": [
    "# Define event produce for the gown creation\n",
    "cur_res = action = event_note = amount = cur_pros = None\n",
    "action = 'produce'\n",
    "event_note='produce gown'\n",
    "amount = 1\n",
    "cur_pros = process_data['Sew_gown']\n",
    "\n",
    "res_data['gown_res'] = {\n",
    "    \"res_ref_id\": f'gown-{random.randint(0, 10000)}',\n",
    "    \"name\": 'gown',\n",
    "    \"spec_id\": res_spec_data['gown']['id']\n",
    "}\n",
    "cur_res = res_data['gown_res']\n",
    "\n",
    "\n",
    "event_id, ts = create_event(users_data['B'], action, event_note, amount=amount, process=cur_pros, \\\n",
    "                 res_spec_data=res_spec_data, new_res=cur_res, endpoint=ENDPOINT)\n",
    "\n",
    "event_seq.append({'ts': ts, 'event_id':event_id, 'action' : action, 'res_name': cur_res['name'], 'res': cur_res['id']})\n"
   ]
  },
  {
   "cell_type": "code",
   "execution_count": null,
   "id": "911631dd",
   "metadata": {},
   "outputs": [],
   "source": [
    "# Transfer the gown from the owner/leaser to the hospital\n",
    "cur_res = action = event_note = amount = cur_pros = None\n",
    "note='Transfer gowns to hospital'\n",
    "action = 'transfer-custody'\n",
    "amount = 1\n",
    "cur_res = res_data['gown_res']\n",
    "\n",
    "event_id, ts = make_transfer(users_data['B'], action, note, users_data['A'], amount, cur_res,  locs_data, res_spec_data, endpoint=ENDPOINT)\n",
    "event_seq.append({'ts': ts, 'event_id':event_id, 'action' : action, 'res_name': cur_res['name'], 'res': cur_res['id']})\n"
   ]
  },
  {
   "cell_type": "code",
   "execution_count": null,
   "id": "8b2cc309",
   "metadata": {},
   "outputs": [],
   "source": [
    "# Work with the gown to perform surgery\n",
    "cur_res = action = event_note = amount = cur_pros = None\n",
    "action = 'work'\n",
    "event_note='work perform surgery'\n",
    "\n",
    "cur_pros = process_data['Use_gown']\n",
    "effort_spec = {}\n",
    "effort_spec['unit_id'] = res_spec_data['surgical_operation']['defaultUnit']\n",
    "effort_spec['spec_id'] = res_spec_data['surgical_operation']['id']\n",
    "effort_spec['amount'] = 80\n",
    "\n",
    "event_id, ts = create_event(users_data['A'], action, event_note, amount=0, process=cur_pros, \\\n",
    "                 res_spec_data=res_spec_data, effort_spec=effort_spec, endpoint=ENDPOINT)\n",
    "\n",
    "event_seq.append({'ts': ts, 'event_id':event_id, 'action' : action, 'amount': effort_spec['amount']})\n",
    "    \n"
   ]
  },
  {
   "cell_type": "code",
   "execution_count": null,
   "id": "0199a43b",
   "metadata": {},
   "outputs": [],
   "source": [
    "# Use the gown to perform surgery and as a consequence make it dirty\n",
    "cur_res = action = event_note = amount = cur_pros = None\n",
    "action = 'accept'\n",
    "event_note='accept use for surgery'\n",
    "amount = 1\n",
    "cur_pros = process_data['Use_gown']\n",
    "cur_res = res_data['gown_res']\n",
    "\n",
    "\n",
    "event_id, ts = create_event(users_data['A'], action, event_note, amount=amount, process=cur_pros, \\\n",
    "                 res_spec_data=res_spec_data, existing_res=cur_res, endpoint=ENDPOINT)\n",
    "\n",
    "event_seq.append({'ts': ts, 'event_id':event_id, 'action' : action, 'res_name': cur_res['name'], 'res': cur_res['id']})\n",
    "event_seq.append({'ts': ts, 'process_id':cur_pros['id'], 'name' : cur_pros['name']})\n",
    "    \n"
   ]
  },
  {
   "cell_type": "code",
   "execution_count": null,
   "id": "ca3471c3",
   "metadata": {},
   "outputs": [],
   "source": [
    "# Modify the gown and make it dirty as a consequence of being used\n",
    "cur_res = action = event_note = amount = cur_pros = None\n",
    "action = 'modify'\n",
    "event_note='modify dirty after use'\n",
    "amount = 1\n",
    "cur_pros = process_data['Use_gown']\n",
    "cur_res = res_data['gown_res']\n",
    "\n",
    "\n",
    "event_id, ts = create_event(users_data['A'], action, event_note, amount=amount, process=cur_pros, \\\n",
    "                 res_spec_data=res_spec_data, existing_res=cur_res, endpoint=ENDPOINT)\n",
    "\n",
    "event_seq.append({'ts': ts, 'event_id':event_id, 'action' : action, 'res_name': cur_res['name'], 'res': cur_res['id']})\n"
   ]
  },
  {
   "cell_type": "code",
   "execution_count": null,
   "id": "02270f31",
   "metadata": {
    "scrolled": true
   },
   "outputs": [],
   "source": [
    "# Transfer the gown to the leaser for cleaning\n",
    "cur_res = action = event_note = amount = cur_pros = None\n",
    "note='Transfer gowns to cleaner'\n",
    "action = 'transfer-custody'\n",
    "amount = 1\n",
    "cur_res = res_data['gown_res']\n",
    "\n",
    "event_id, ts = make_transfer(users_data['A'], action, note, users_data['B'], amount, cur_res,  locs_data, res_spec_data, endpoint=ENDPOINT)\n",
    "event_seq.append({'ts': ts, 'event_id':event_id, 'action' : action, 'res_name': cur_res['name'], 'res': cur_res['id']})\n"
   ]
  },
  {
   "cell_type": "code",
   "execution_count": null,
   "id": "06ecd9bc",
   "metadata": {
    "scrolled": true
   },
   "outputs": [],
   "source": [
    "# accept the gown for washing\n",
    "cur_res = action = event_note = amount = cur_pros = None\n",
    "action = 'accept'\n",
    "event_note='accept gowns to be cleaned'\n",
    "amount = 1\n",
    "cur_pros = process_data['Clean_gown']\n",
    "cur_res = res_data['gown_res']\n",
    "\n",
    "\n",
    "event_id, ts = create_event(users_data['B'], action, event_note, amount=amount, process=cur_pros, \\\n",
    "                 res_spec_data=res_spec_data, existing_res=cur_res, endpoint=ENDPOINT)\n",
    "\n",
    "event_seq.append({'ts': ts, 'event_id':event_id, 'action' : action, 'res_name': cur_res['name'], 'res': cur_res['id']})\n"
   ]
  },
  {
   "cell_type": "code",
   "execution_count": null,
   "id": "a78cea31",
   "metadata": {},
   "outputs": [],
   "source": [
    "# consume water for washing\n",
    "cur_res = action = event_note = amount = cur_pros = None\n",
    "action = 'consume'\n",
    "event_note='consume water for the washing'\n",
    "amount = 25\n",
    "cur_pros = process_data['Clean_gown']\n",
    "cur_res = res_data['water_res']\n",
    "\n",
    "\n",
    "event_id, ts = create_event(users_data['B'], action, event_note, amount=amount, process=cur_pros, \\\n",
    "                 res_spec_data=res_spec_data, existing_res=cur_res, endpoint=ENDPOINT)\n",
    "\n",
    "event_seq.append({'ts': ts, 'event_id':event_id, 'action' : action, 'res_name': cur_res['name'], 'res': cur_res['id']})"
   ]
  },
  {
   "cell_type": "code",
   "execution_count": null,
   "id": "72010b22",
   "metadata": {},
   "outputs": [],
   "source": [
    "# consume soap for washing\n",
    "cur_res = action = event_note = amount = cur_pros = None\n",
    "action = 'consume'\n",
    "event_note='consume soap for the washing'\n",
    "amount = 50\n",
    "cur_pros = process_data['Clean_gown']\n",
    "cur_res = res_data['soap_res']\n",
    "\n",
    "\n",
    "event_id, ts = create_event(users_data['B'], action, event_note, amount=amount, process=cur_pros, \\\n",
    "                 res_spec_data=res_spec_data, existing_res=cur_res, endpoint=ENDPOINT)\n",
    "\n",
    "event_seq.append({'ts': ts, 'event_id':event_id, 'action' : action, 'res_name': cur_res['name'], 'res': cur_res['id']})\n",
    "event_seq.append({'ts': ts, 'process_id':cur_pros['id'], 'name' : cur_pros['name']})\n"
   ]
  },
  {
   "cell_type": "code",
   "execution_count": null,
   "id": "23f32f18",
   "metadata": {},
   "outputs": [],
   "source": [
    "# modify the gown that is now clean\n",
    "cur_res = action = event_note = amount = cur_pros = None\n",
    "action = 'modify'\n",
    "event_note='modify clean after washing'\n",
    "amount = 1\n",
    "cur_pros = process_data['Clean_gown']\n",
    "cur_res = res_data['gown_res']\n",
    "\n",
    "\n",
    "event_id, ts = create_event(users_data['B'], action, event_note, amount=amount, process=cur_pros, \\\n",
    "                 res_spec_data=res_spec_data, existing_res=cur_res, endpoint=ENDPOINT)\n",
    "\n",
    "event_seq.append({'ts': ts, 'event_id':event_id, 'action' : action, 'res_name': cur_res['name'], 'res': cur_res['id']})\n"
   ]
  },
  {
   "cell_type": "code",
   "execution_count": null,
   "id": "4b8b4001",
   "metadata": {},
   "outputs": [],
   "source": [
    "show_data(users_data, locs_data, res_data, units_data, res_spec_data, process_data, event_seq)"
   ]
  },
  {
   "cell_type": "code",
   "execution_count": null,
   "id": "065a2a66",
   "metadata": {},
   "outputs": [],
   "source": [
    "# example of using show functions\n",
    "# show_resource(users_data['A'], '061Z9FX8M4BJ3M6JMB7MW7VSER', endpoint=ENDPOINT)\n",
    "# show_proposal(users_data['A'], '061Z9FX9H8PT0JF16KP25VS8R0', endpoint=ENDPOINT)\n"
   ]
  },
  {
   "cell_type": "code",
   "execution_count": null,
   "id": "b98ddac7",
   "metadata": {},
   "outputs": [],
   "source": [
    "trace_me = res_data['gown_res']['id']\n",
    "# trace_me = '062HCB36KR2QRY5HPP2RETC9M4'\n",
    "print(f\"Resource to be traced: {trace_me}\")\n",
    "tot_dpp = []\n",
    "visited = set()\n",
    "er_before(trace_me, users_data['A'], dpp_children=tot_dpp, depth=0, visited=visited, endpoint=ENDPOINT)\n",
    "\n",
    "# Serializing json\n",
    "json_object = json.dumps(tot_dpp, indent=2)\n",
    "\n",
    "print(json_object)\n",
    "print(visited)"
   ]
  },
  {
   "cell_type": "code",
   "execution_count": null,
   "id": "239aa175",
   "metadata": {},
   "outputs": [],
   "source": [
    "be_dpp = get_dpp(trace_me, users_data['A'], endpoint=ENDPOINT)\n",
    "print(json.dumps(be_dpp, indent=2))"
   ]
  },
  {
   "cell_type": "code",
   "execution_count": null,
   "id": "597c9173",
   "metadata": {},
   "outputs": [],
   "source": [
    "trace = trace_query(trace_me, users_data['A'], endpoint=ENDPOINT)\n",
    "# check consistency between the registered events, the back-end trace and the generated dpp\n",
    "check_traces(trace, event_seq, tot_dpp, be_dpp)"
   ]
  },
  {
   "cell_type": "code",
   "execution_count": null,
   "id": "8a03e394",
   "metadata": {},
   "outputs": [],
   "source": [
    "save_traces(USE_CASE, tot_dpp, trace, be_dpp, event_seq)"
   ]
  },
  {
   "cell_type": "code",
   "execution_count": null,
   "id": "85893af9",
   "metadata": {},
   "outputs": [],
   "source": [
    "labels = []\n",
    "sources = []\n",
    "targets = []\n",
    "values = []\n",
    "color_nodes = []\n",
    "color_links = []\n",
    "assigned = {}\n",
    "vis_dpp(tot_dpp[0], count=0, assigned=assigned, labels=labels, targets=targets, sources=sources, values=values, color_nodes=color_nodes, color_links=color_links)\n",
    "sources, targets = consol_trace(assigned, sources, targets)\n",
    "make_sankey(sources, targets, labels, values, color_nodes, color_links)\n",
    "# make_sankey([0,0,1,2,2], [2,3,3,3,4], ['0','1','2','3','4'], [2,1,1,1,1], color_nodes, color_links)"
   ]
  },
  {
   "cell_type": "markdown",
   "id": "9a4dc706",
   "metadata": {},
   "source": [
    "Here we start some example visualisations"
   ]
  },
  {
   "cell_type": "code",
   "execution_count": null,
   "id": "f440d392",
   "metadata": {},
   "outputs": [],
   "source": [
    "label = ['Operating Expeditures', \n",
    "         'Public Safety', \n",
    "         'Engineering and Utilities', \n",
    "         'Community-Related Services', \n",
    "         'Corporate Support',\n",
    "         'Police', \n",
    "         'Fire',\n",
    "         'Utilities', \n",
    "         'Engineering Public Works',\n",
    "         'Parks and Recreation', \n",
    "         'Arts, Culture, and Community Services',\n",
    "         'Library', \n",
    "         'Development, Buildings, and Licensing',\n",
    "         'Planning, Urban Design, and Sustainability', \n",
    "         'Other',\n",
    "         'Corporate Support', \n",
    "         'Debt and Capital (Non-Utility)', \n",
    "         'Contingencies and Transfers']\n",
    "\n",
    "color_node = ['#808B96', \n",
    "             '#EC7063', '#F7DC6F', '#48C9B0', '#AF7AC5',\n",
    "             '#EC7063', '#EC7063',\n",
    "             '#F7DC6F', '#F7DC6F',\n",
    "             '#48C9B0', '#48C9B0', '#48C9B0', '#48C9B0', '#48C9B0', '#48C9B0',\n",
    "             '#AF7AC5', '#AF7AC5', '#AF7AC5']\n",
    "\n",
    "color_link = ['#EBBAB5', '#FEF3C7', '#A6E3D7', '#CBB4D5',\n",
    "              '#EBBAB5', '#EBBAB5',\n",
    "              '#FEF3C7', '#FEF3C7',\n",
    "              '#A6E3D7', '#A6E3D7', '#A6E3D7', '#A6E3D7', '#A6E3D7', '#A6E3D7',\n",
    "              '#CBB4D5', '#CBB4D5', '#CBB4D5']\n",
    "\n",
    "\n",
    "source = [0, 0, 0, 0,\n",
    "          1, 1,\n",
    "          2, 2,\n",
    "          3, 3, 3, 3, 3, 3,\n",
    "          4, 4, 4]\n",
    "\n",
    "target = [1, 2, 3, 4, \n",
    "          5, 6,\n",
    "          7, 8, \n",
    "          9, 10, 11, 12, 13, 14, \n",
    "          15, 16, 17]\n",
    "\n",
    "value = [484900, 468350, 355300, 306850, \n",
    "         339150, 145350, \n",
    "         371450, 96900, \n",
    "         129200, 80750, 48450, 48450, 32300, 16150, \n",
    "         113050, 129200, 64600]"
   ]
  },
  {
   "cell_type": "code",
   "execution_count": null,
   "id": "59109e7b",
   "metadata": {},
   "outputs": [],
   "source": [
    "# data to dict, dict to sankey\n",
    "import plotly.graph_objects as go\n",
    "link = dict(source = source, target = target, value = value, color=color_link)\n",
    "node = dict(label = label, pad=15, thickness=5, color=color_node)\n",
    "data = go.Sankey(link = link, node=node)\n",
    "# plot\n",
    "fig = go.Figure(data)\n",
    "fig.show()"
   ]
  },
  {
   "cell_type": "code",
   "execution_count": null,
   "id": "1c5ef21d",
   "metadata": {},
   "outputs": [],
   "source": []
  }
 ],
 "metadata": {
  "celltoolbar": "Tags",
  "kernelspec": {
   "display_name": "Python 3 (ipykernel)",
   "language": "python",
   "name": "python3"
  },
  "language_info": {
   "codemirror_mode": {
    "name": "ipython",
    "version": 3
   },
   "file_extension": ".py",
   "mimetype": "text/x-python",
   "name": "python",
   "nbconvert_exporter": "python",
   "pygments_lexer": "ipython3",
   "version": "3.11.0"
  },
  "vscode": {
   "interpreter": {
    "hash": "aee8b7b246df8f9039afb4144a1f6fd8d2ca17a180786b69acc140d282b71a49"
   }
  }
 },
 "nbformat": 4,
 "nbformat_minor": 5
}
