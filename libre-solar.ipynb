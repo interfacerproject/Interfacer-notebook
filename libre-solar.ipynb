{
 "cells": [
  {
   "cell_type": "markdown",
   "id": "88a915f1",
   "metadata": {},
   "source": [
    "This notebook implements the assembly of the libre-solar OSH project:\n",
    "\n",
    "Currently includes only the frame of the enclosure\n"
   ]
  },
  {
   "cell_type": "markdown",
   "id": "a3afa7e0-ac6e-4be9-a4b6-e82cf44f4843",
   "metadata": {
    "tags": []
   },
   "source": [
    "# Initialisation"
   ]
  },
  {
   "cell_type": "code",
   "execution_count": null,
   "id": "2899cdd5",
   "metadata": {
    "tags": []
   },
   "outputs": [],
   "source": [
    "# The following should reload if_lib if we change it on disk\n",
    "%load_ext autoreload\n",
    "%aimport if_lib, if_utils, if_dpp, if_graphics\n",
    "%autoreload 1\n",
    "import os\n",
    "import json\n",
    "import random\n",
    "\n",
    "from if_utils import get_filename, show_data, save_traces\n",
    "\n",
    "from if_lib import generate_random_challenge, read_HMAC, read_keypair, get_id_person, get_location_id, \\\n",
    "get_unit_id, get_resource_spec_id, get_resource, get_process, create_event, make_transfer, reduce_resource, set_user_location\n",
    "\n",
    "from if_groups import get_processgrp, insert_procingrp\n",
    "\n",
    "from if_dpp import trace_query, check_traces, er_before, get_dpp\n",
    "\n",
    "from if_prop import get_proposal, get_intent, get_proposedIntent, show_proposal, get_satisfaction, check_proposals\n",
    "\n",
    "from if_graphics import vis_dpp, make_sankey, consol_trace\n"
   ]
  },
  {
   "cell_type": "code",
   "execution_count": null,
   "id": "ea0b830e",
   "metadata": {
    "tags": [
     "parameters"
    ]
   },
   "outputs": [],
   "source": [
    "USE_CASE = 'libre-solar'\n",
    "\n",
    "# What endpoint are we talking to?\n",
    "# debug\n",
    "# ENDPOINT = 'http://65.109.11.42:10000/api'\n",
    "ENDPOINT = 'https://zenflows.interfacer-staging.dyne.im/api'\n",
    "# staging\n",
    "# ENDPOINT = 'http://65.109.11.42:8000/api'\n",
    "# ENDPOINT = 'https://zenflows-staging.interfacer.dyne.org/api'\n",
    "# testing\n",
    "# ENDPOINT = 'http://65.109.11.42:9000/api'\n",
    "# ENDPOINT = 'https://zenflows-test.interfacer.dyne.org/api'\n",
    "\n",
    "USERS = ['one', 'two', 'Michel', 'Adam']\n",
    "# USERS = ['one', 'two']"
   ]
  },
  {
   "cell_type": "code",
   "execution_count": null,
   "id": "57e931b1",
   "metadata": {},
   "outputs": [],
   "source": [
    "# Calculate names of settings files\n",
    "USERS_FILE = get_filename('cred_users.json', ENDPOINT, USE_CASE)\n",
    "LOCS_FILE = get_filename('loc_users.json', ENDPOINT, USE_CASE)\n",
    "UNITS_FILE = get_filename('units_data.json', ENDPOINT, USE_CASE)\n",
    "SPECS_FILE = get_filename('res_spec_data.json', ENDPOINT, USE_CASE)"
   ]
  },
  {
   "cell_type": "code",
   "execution_count": null,
   "id": "b8bc7c31",
   "metadata": {},
   "outputs": [],
   "source": [
    "# Read or define user data that is going to be used in the GraphQL calls\n",
    "\n",
    "\n",
    "# create data structure to hold processes\n",
    "process_data = {}\n",
    "\n",
    "# create data structure to hold process groups\n",
    "processgrp_data = {}\n",
    "\n",
    "# create data structure to hold proposals\n",
    "proposal_data = {}\n",
    "\n",
    "# create data structure to hold intents\n",
    "intent_data = {}\n",
    "\n",
    "# create data structure to hold proposed intents\n",
    "prop_int_data = {}\n",
    "\n",
    "# create data structure to hold satisfactions\n",
    "satisfaction_data = {}\n",
    "\n",
    "# create data structures to hold resources and events (possibly to compare results from track and trace)\n",
    "res_data = {}\n",
    "event_seq = []\n",
    "\n",
    "\n",
    "if os.path.isfile(USERS_FILE):\n",
    "    with open(USERS_FILE,'r') as f:\n",
    "        users_data = json.loads(f.read())\n",
    "    print(\"Credentials file available for users\")\n",
    "else:\n",
    "    users_data = {}\n",
    "    users_data['one'] = {\n",
    "      \"userChallenges\": {\n",
    "        \"whereParentsMet\": \"London\",\n",
    "        \"nameFirstPet\": \"Fuffy\",\n",
    "        \"nameFirstTeacher\": \"Jim\",\n",
    "        \"whereHomeTown\": \"Paris\",\n",
    "        \"nameMotherMaid\": \"Wright\"\n",
    "      },\n",
    "      \"name\": \"User One\",\n",
    "      \"username\": \"user1_username\",\n",
    "      \"email\": \"user1@example.org\",\n",
    "      \"note\": \"me.user1.org\"\n",
    "    }\n",
    "    users_data['two'] = {\n",
    "        \"userChallenges\": {\n",
    "            \"whereParentsMet\":\"Amsterdam\",\n",
    "            \"nameFirstPet\":\"Toby\",\n",
    "            \"nameFirstTeacher\":\"Juliet\",\n",
    "            \"whereHomeTown\":\"Rome\",\n",
    "            \"nameMotherMaid\":\"Banks\"\n",
    "        },\n",
    "        \"name\": \"User Two\",\n",
    "        \"username\": \"user2\",\n",
    "        \"email\": \"user2@example.org\",\n",
    "        \"note\" : \"me.user2.org\"\n",
    "    }\n",
    "    users_data['Michel'] = {\n",
    "      \"userChallenges\": {\n",
    "        \"whereParentsMet\": \"London\",\n",
    "        \"nameFirstPet\": \"Fuffy\",\n",
    "        \"nameFirstTeacher\": \"Jim\",\n",
    "        \"whereHomeTown\": \"Paris\",\n",
    "        \"nameMotherMaid\": \"Shortshovel\"\n",
    "      },\n",
    "      \"name\": \"Michel Langhammer\",\n",
    "      \"username\": \"michel\",\n",
    "      \"email\": \"michel@fabcity.hamburg\",\n",
    "      \"note\": \"michel@fabcity.hamburg - test account\"\n",
    "    }\n",
    "    users_data['Adam'] = {\n",
    "        \"userChallenges\": {\n",
    "            \"whereParentsMet\":\"Amsterdam\",\n",
    "            \"nameFirstPet\":\"Toby\",\n",
    "            \"nameFirstTeacher\":\"Juliet\",\n",
    "            \"whereHomeTown\":\"Rome\",\n",
    "            \"nameMotherMaid\":\"Maiden\"\n",
    "        },\n",
    "        \"name\": \"Adam Burns\",\n",
    "        \"username\": \"adam\",\n",
    "        \"email\": \"adamb@networkcommons.org\",\n",
    "        \"note\" : \"adamb@networkcommons.org - test account\"\n",
    "    }\n",
    "\n",
    "    with open(USERS_FILE,'w') as f:\n",
    "        json.dump(users_data, f)\n",
    "\n",
    "\n",
    "if os.path.isfile(LOCS_FILE):\n",
    "    with open(LOCS_FILE,'r') as f:\n",
    "        locs_data = json.loads(f.read())\n",
    "    print(\"Location file available\")\n",
    "else:\n",
    "    locs_data = {}\n",
    "    locs_data['one'] = {\n",
    "        \"name\": \"FabCity Hamburg\",\n",
    "        \"lat\" : 53.54651094994547,\n",
    "        \"long\": 9.996357255816038,\n",
    "        \"addr\": \"Zippelhaus 5A, 20457 Hamburg, Germany\",\n",
    "        \"note\": \"location.user1.org\"\n",
    "    }\n",
    "    locs_data['two'] = {\n",
    "        \"name\": \"Fab City Hamburg\",\n",
    "        \"lat\" : 53.54651094994547,\n",
    "        \"long\" : 9.996357255816038,\n",
    "        \"addr\" : \"Zippelhaus 5A, 20457 Hamburg, Germany\",\n",
    "        \"note\": \"location.user2.org\"\n",
    "    }\n",
    "    locs_data['Michel'] = {\n",
    "        \"name\": \"Fab City Hamburg\",\n",
    "        \"lat\" : 53.54651094994547,\n",
    "        \"long\" : 9.996357255816038,\n",
    "        \"addr\" : \"Zippelhaus 5A, 20457 Hamburg, Germany\",\n",
    "        \"note\": \"location.user2.org\"\n",
    "    }\n",
    "    locs_data['Adam'] = {\n",
    "        \"name\": \"Fab City Hamburg\",\n",
    "        \"lat\" : 53.54651094994547,\n",
    "        \"long\" : 9.996357255816038,\n",
    "        \"addr\" : \"Zippelhaus 5A, 20457 Hamburg, Germany\",\n",
    "        \"note\": \"location.user2.org\"\n",
    "    }\n",
    "\n",
    "    with open(LOCS_FILE,'w') as f:\n",
    "        json.dump(locs_data, f)\n",
    "\n",
    "\n",
    "if os.path.isfile(UNITS_FILE):\n",
    "    with open(UNITS_FILE,'r') as f:\n",
    "        units_data = json.loads(f.read())\n",
    "    print(f\"Unit file available\")\n",
    "else:\n",
    "    units_data = {}\n",
    "#     with open(file,'w') as f:\n",
    "#         json.dump(units_data, f)\n",
    "\n",
    "\n",
    "\n",
    "if os.path.isfile(SPECS_FILE):\n",
    "    with open(SPECS_FILE,'r') as f:\n",
    "        res_spec_data = json.loads(f.read())\n",
    "    print(f\"Resource Spec file available\")\n",
    "else:\n",
    "    res_spec_data = {}\n",
    "  "
   ]
  },
  {
   "cell_type": "code",
   "execution_count": null,
   "id": "5bf379da",
   "metadata": {},
   "outputs": [],
   "source": [
    "# Read HMAC or get it from the server\n",
    "for user in USERS:\n",
    "    read_HMAC(USERS_FILE, users_data, user, endpoint=ENDPOINT)"
   ]
  },
  {
   "cell_type": "code",
   "execution_count": null,
   "id": "968e547b",
   "metadata": {
    "scrolled": true
   },
   "outputs": [],
   "source": [
    "# Read the keypair\n",
    "for user in USERS:\n",
    "    read_keypair(USERS_FILE, users_data, user)"
   ]
  },
  {
   "cell_type": "code",
   "execution_count": null,
   "id": "5f04298a",
   "metadata": {},
   "outputs": [],
   "source": [
    "# Read or get id of the person\n",
    "for user in USERS:\n",
    "    get_id_person(USERS_FILE, users_data, user, endpoint=ENDPOINT)"
   ]
  },
  {
   "cell_type": "code",
   "execution_count": null,
   "id": "b4898764",
   "metadata": {},
   "outputs": [],
   "source": [
    "# Read or get the location id\n",
    "for user in USERS:\n",
    "    get_location_id(LOCS_FILE, users_data[user], locs_data, user, endpoint=ENDPOINT)\n",
    "    set_user_location(USERS_FILE, users_data, locs_data, user, endpoint=ENDPOINT)"
   ]
  },
  {
   "cell_type": "code",
   "execution_count": null,
   "id": "9df2fe4f",
   "metadata": {},
   "outputs": [],
   "source": [
    "# Get the ids of all units\n",
    "get_unit_id(UNITS_FILE, users_data['two'], units_data, 'piece', 'u_piece', 'om2:one', endpoint=ENDPOINT)\n",
    "get_unit_id(UNITS_FILE, users_data['two'], units_data, 'mass', 'kg', 'om2:kilogram', endpoint=ENDPOINT)\n",
    "get_unit_id(UNITS_FILE, users_data['two'], units_data, 'volume', 'lt', 'om2:litre', endpoint=ENDPOINT)\n",
    "get_unit_id(UNITS_FILE, users_data['one'], units_data, 'time', 'h', 'om2:hour', endpoint=ENDPOINT)\n"
   ]
  },
  {
   "cell_type": "markdown",
   "id": "8e6d9a86-984b-4b23-987c-36d0b5062cba",
   "metadata": {
    "tags": []
   },
   "source": [
    "# Resource Specifications"
   ]
  },
  {
   "cell_type": "code",
   "execution_count": null,
   "id": "cd1fd6e8",
   "metadata": {},
   "outputs": [],
   "source": [
    "# RESOURCE SPECIFICATIONS\n",
    "# Read all the resource specifications\n",
    "name = 'Allen_Key'\n",
    "note = 'Specification for DIN911 4mm hex tool (aka Allen Key) for assembly'\n",
    "classification = 'https://www.fasteners.eu/standards/DIN/911/'\n",
    "default_unit_id = units_data['piece']['id']\n",
    "get_resource_spec_id(SPECS_FILE, users_data['two'], res_spec_data, name, note, classification, default_unit_id, endpoint=ENDPOINT)\n",
    "\n",
    "name = 'M6nutplate'\n",
    "note = 'Specification for M6 nut for Right-Angle-Connector '\n",
    "classification = 'https://www.fasteners.eu/standards/DIN/562/'\n",
    "default_unit_id = units_data['piece']['id']\n",
    "get_resource_spec_id(SPECS_FILE, users_data['two'], res_spec_data, name, note, classification, default_unit_id, endpoint=ENDPOINT)\n",
    "\n",
    "name = 'M6x12'\n",
    "note = 'Specification for screw for right angled connector'\n",
    "classification = 'https://www.fasteners.eu/standards/ISO/7380/'\n",
    "default_unit_id = units_data['piece']['id']\n",
    "get_resource_spec_id(SPECS_FILE, users_data['two'], res_spec_data, name, note, classification, default_unit_id, endpoint=ENDPOINT)\n",
    "\n",
    "name = 'M6x25cyl'\n",
    "note = 'Specification for screw for direct corner connection'\n",
    "classification = 'https://www.fasteners.eu/standards/DIN/7984/'\n",
    "default_unit_id = units_data['mass']['id']\n",
    "get_resource_spec_id(SPECS_FILE, users_data['two'], res_spec_data, name, note, classification, default_unit_id, endpoint=ENDPOINT)\n",
    "\n",
    "name = 'RAConnector'\n",
    "note = 'Specification for connector'\n",
    "classification = 'A resource specification URI'\n",
    "default_unit_id = units_data['piece']['id']\n",
    "get_resource_spec_id(SPECS_FILE, users_data['two'], res_spec_data, name, note, classification, default_unit_id, endpoint=ENDPOINT)\n",
    "\n",
    "name = 'Tslot16'\n",
    "note = 'Specification for a frame slot'\n",
    "classification = 'https://www.motedis.com/en/Profile-20x20-B-type-slot-6'\n",
    "default_unit_id = units_data['piece']['id']\n",
    "get_resource_spec_id(SPECS_FILE, users_data['two'], res_spec_data, name, note, classification, default_unit_id, endpoint=ENDPOINT)\n",
    "\n",
    "name = 'Tslot32'\n",
    "note = 'Specification for a frame slot'\n",
    "classification = 'https://www.motedis.com/en/Profile-20x20-B-type-slot-6'\n",
    "default_unit_id = units_data['piece']['id']\n",
    "get_resource_spec_id(SPECS_FILE, users_data['two'], res_spec_data, name, note, classification, default_unit_id, endpoint=ENDPOINT)\n",
    "\n",
    "name = 'Tslot32con'\n",
    "note = 'Specification for a frame slot modifed by designer'\n",
    "classification = 'https://www.motedis.com/en/Profile-20x20-B-type-slot-6'\n",
    "default_unit_id = units_data['piece']['id']\n",
    "get_resource_spec_id(SPECS_FILE, users_data['two'], res_spec_data, name, note, classification, default_unit_id, endpoint=ENDPOINT)\n",
    "\n",
    "name = 'assembly_construction'\n",
    "note = 'Specification for Frame assembly work'\n",
    "classification = 'A resource specification URI'\n",
    "default_unit_id = units_data['time']['id']\n",
    "get_resource_spec_id(SPECS_FILE, users_data['two'], res_spec_data, name, note, classification, default_unit_id, endpoint=ENDPOINT)\n",
    "\n",
    "name = 'upper_frame'\n",
    "note = 'Specification for upperframe'\n",
    "classification = 'A resource specification URI'\n",
    "default_unit_id = units_data['piece']['id']\n",
    "get_resource_spec_id(SPECS_FILE, users_data['two'], res_spec_data, name, note, classification, default_unit_id, endpoint=ENDPOINT)\n",
    "\n",
    "name = 'lower_frame'\n",
    "note = 'Specification for lowerframe'\n",
    "classification = 'A resource specification URI'\n",
    "default_unit_id = units_data['piece']['id']\n",
    "get_resource_spec_id(SPECS_FILE, users_data['two'], res_spec_data, name, note, classification, default_unit_id, endpoint=ENDPOINT)\n",
    "\n",
    "name = 'pillar'\n",
    "note = 'Specification for pillar'\n",
    "classification = 'A resource specification URI'\n",
    "default_unit_id = units_data['piece']['id']\n",
    "get_resource_spec_id(SPECS_FILE, users_data['two'], res_spec_data, name, note, classification, default_unit_id, endpoint=ENDPOINT)\n",
    "\n",
    "name = 'box_frame'\n",
    "note = 'Specification for box_frame'\n",
    "classification = 'A resource specification URI'\n",
    "default_unit_id = units_data['piece']['id']\n",
    "get_resource_spec_id(SPECS_FILE, users_data['two'], res_spec_data, name, note, classification, default_unit_id, endpoint=ENDPOINT)\n",
    "\n"
   ]
  },
  {
   "cell_type": "markdown",
   "id": "18f97484-a666-4ae2-b0ad-ba876795a29a",
   "metadata": {
    "tags": []
   },
   "source": [
    "# Resource Creation & Assignment"
   ]
  },
  {
   "cell_type": "code",
   "execution_count": null,
   "id": "36377061",
   "metadata": {},
   "outputs": [],
   "source": [
    "# RESOURCES\n",
    "# We create the resources that will not be saved to file as it is assumed they are recreated at each run\n",
    "\n",
    "res_name = 'Allen_Key'\n",
    "amount = 1\n",
    "\n",
    "get_resource(res_data, res_spec_data, res_name, users_data['two'], event_seq, amount, endpoint=ENDPOINT)"
   ]
  },
  {
   "cell_type": "code",
   "execution_count": null,
   "id": "1f2fb82f",
   "metadata": {
    "tags": []
   },
   "outputs": [],
   "source": [
    "res_name = 'M6nutplate'\n",
    "amount = 50\n",
    "\n",
    "get_resource(res_data, res_spec_data, res_name, users_data['two'], event_seq, amount, endpoint=ENDPOINT)"
   ]
  },
  {
   "cell_type": "code",
   "execution_count": null,
   "id": "70984ea1-c9da-40b8-b35a-5f9a86b51c0f",
   "metadata": {
    "tags": []
   },
   "outputs": [],
   "source": [
    "res_name = 'M6x12'\n",
    "amount = 50\n",
    "\n",
    "get_resource(res_data, res_spec_data, res_name, users_data['two'], event_seq, amount, endpoint=ENDPOINT)"
   ]
  },
  {
   "cell_type": "code",
   "execution_count": null,
   "id": "1b8aae99-79a8-4fde-bec3-061703323fda",
   "metadata": {
    "tags": []
   },
   "outputs": [],
   "source": [
    "res_name = 'M6x25cyl'\n",
    "amount = 50\n",
    "\n",
    "get_resource(res_data, res_spec_data, res_name, users_data['two'], event_seq, amount, endpoint=ENDPOINT)"
   ]
  },
  {
   "cell_type": "code",
   "execution_count": null,
   "id": "989574c5-601a-465e-baf9-51ad271837dc",
   "metadata": {
    "tags": []
   },
   "outputs": [],
   "source": [
    "res_name = 'RAConnector'\n",
    "amount = 50\n",
    "\n",
    "get_resource(res_data, res_spec_data, res_name, users_data['two'], event_seq, amount, endpoint=ENDPOINT)"
   ]
  },
  {
   "cell_type": "code",
   "execution_count": null,
   "id": "61e1eee9-c130-49e8-a431-547514e9702d",
   "metadata": {
    "tags": []
   },
   "outputs": [],
   "source": [
    "res_name = 'Tslot16'\n",
    "amount = 4\n",
    "\n",
    "get_resource(res_data, res_spec_data, res_name, users_data['two'], event_seq, amount, endpoint=ENDPOINT)"
   ]
  },
  {
   "cell_type": "code",
   "execution_count": null,
   "id": "d3c0dcde-5bd8-40e0-8312-1b02cbbe5aea",
   "metadata": {
    "tags": []
   },
   "outputs": [],
   "source": [
    "res_name = 'Tslot32'\n",
    "amount = 50\n",
    "\n",
    "get_resource(res_data, res_spec_data, res_name, users_data['two'], event_seq, amount, endpoint=ENDPOINT)"
   ]
  },
  {
   "cell_type": "code",
   "execution_count": null,
   "id": "48eb866b-221b-46a5-bd01-2e082e300cc6",
   "metadata": {
    "tags": []
   },
   "outputs": [],
   "source": [
    "res_name = 'Tslot32con'\n",
    "amount = 50\n",
    "\n",
    "get_resource(res_data, res_spec_data, res_name, users_data['two'], event_seq, amount, endpoint=ENDPOINT)"
   ]
  },
  {
   "cell_type": "markdown",
   "id": "d7417916-0c02-4c6f-8898-cd410097d132",
   "metadata": {
    "tags": []
   },
   "source": [
    "# Process Object Definitions"
   ]
  },
  {
   "cell_type": "code",
   "execution_count": null,
   "id": "ed2b15ba",
   "metadata": {},
   "outputs": [],
   "source": [
    "# PROCESSES\n",
    "# Create the process that wraps the assembly of the upper frame\n",
    "# print(process_data)\n",
    "process_name = 'UpperFrame'\n",
    "user_data = users_data['one']\n",
    "note = f\"Assembly process {process_name} defined by {user_data['name']}\"\n",
    "\n",
    "get_process(process_name, process_data, note, user_data, endpoint=ENDPOINT)\n",
    "# print(process_data)"
   ]
  },
  {
   "cell_type": "code",
   "execution_count": null,
   "id": "7c1c7f42-51ef-464c-beb4-a752ac1e134e",
   "metadata": {},
   "outputs": [],
   "source": [
    "# PROCESSES\n",
    "# Create the process that wraps the assembly of the upper frame\n",
    "# print(process_data)\n",
    "process_name = 'UpperFrame_1'\n",
    "user_data = users_data['one']\n",
    "note = f\"Assembly process {process_name} defined by {user_data['name']}\"\n",
    "\n",
    "get_process(process_name, process_data, note, user_data, endpoint=ENDPOINT)\n",
    "# print(process_data)"
   ]
  },
  {
   "cell_type": "code",
   "execution_count": null,
   "id": "11dde7fd-5088-4717-8335-ca27c96f4c19",
   "metadata": {},
   "outputs": [],
   "source": [
    "# PROCESSES\n",
    "# Create the process that wraps the assembly of the upper frame\n",
    "# print(process_data)\n",
    "process_name = 'UpperFrame_2'\n",
    "user_data = users_data['one']\n",
    "note = f\"Assembly process {process_name} defined by {user_data['name']}\"\n",
    "\n",
    "get_process(process_name, process_data, note, user_data, endpoint=ENDPOINT)\n",
    "# print(process_data)"
   ]
  },
  {
   "cell_type": "code",
   "execution_count": null,
   "id": "37505a0c-13dc-4205-914c-5caef20e6444",
   "metadata": {},
   "outputs": [],
   "source": [
    "# PROCESSES\n",
    "# Create the process that wraps the assembly of the upper frame\n",
    "# print(process_data)\n",
    "process_name = 'UpperFrame_3'\n",
    "user_data = users_data['one']\n",
    "note = f\"Assembly process {process_name} defined by {user_data['name']}\"\n",
    "\n",
    "get_process(process_name, process_data, note, user_data, endpoint=ENDPOINT)\n",
    "# print(process_data)"
   ]
  },
  {
   "cell_type": "code",
   "execution_count": null,
   "id": "16531b41-8711-4e41-ae1e-b38314ce31ec",
   "metadata": {},
   "outputs": [],
   "source": [
    "# PROCESSES\n",
    "# Create the process that wraps the assembly of the upper frame\n",
    "# print(process_data)\n",
    "process_name = 'UpperFrame_4'\n",
    "user_data = users_data['one']\n",
    "note = f\"Assembly process {process_name} defined by {user_data['name']}\"\n",
    "\n",
    "get_process(process_name, process_data, note, user_data, endpoint=ENDPOINT)\n",
    "# print(process_data)"
   ]
  },
  {
   "cell_type": "code",
   "execution_count": null,
   "id": "bf522379-e91f-4735-9a5c-020a605d0ef1",
   "metadata": {},
   "outputs": [],
   "source": [
    "# PROCESSES\n",
    "# Create the process that wraps the assembly of the upper frame\n",
    "# print(process_data)\n",
    "process_name = 'LowerFrame'\n",
    "user_data = users_data['one']\n",
    "note = f\"Assembly process {process_name} defined by {user_data['name']}\"\n",
    "\n",
    "get_process(process_name, process_data, note, user_data, endpoint=ENDPOINT)\n",
    "# print(process_data)"
   ]
  },
  {
   "cell_type": "code",
   "execution_count": null,
   "id": "843589b9-d2c8-43b4-8009-ff88537371cd",
   "metadata": {},
   "outputs": [],
   "source": [
    "# PROCESSES\n",
    "# Create the process that wraps the assembly of the upper frame\n",
    "# print(process_data)\n",
    "process_name = 'LowerFrame_1'\n",
    "user_data = users_data['one']\n",
    "note = f\"Assembly process {process_name} defined by {user_data['name']}\"\n",
    "\n",
    "get_process(process_name, process_data, note, user_data, endpoint=ENDPOINT)\n",
    "# print(process_data)"
   ]
  },
  {
   "cell_type": "code",
   "execution_count": null,
   "id": "e653c3de-4b2f-4d49-be73-ad7c2e7848f5",
   "metadata": {},
   "outputs": [],
   "source": [
    "# PROCESSES\n",
    "# Create the process that wraps the assembly of the upper frame\n",
    "# print(process_data)\n",
    "process_name = 'LowerFrame_2'\n",
    "user_data = users_data['one']\n",
    "note = f\"Assembly process {process_name} defined by {user_data['name']}\"\n",
    "\n",
    "get_process(process_name, process_data, note, user_data, endpoint=ENDPOINT)\n",
    "# print(process_data)"
   ]
  },
  {
   "cell_type": "code",
   "execution_count": null,
   "id": "30b06dae-2d57-419e-bc65-6837c5d84349",
   "metadata": {},
   "outputs": [],
   "source": [
    "# PROCESSES\n",
    "# Create the process that wraps the assembly of the upper frame\n",
    "# print(process_data)\n",
    "process_name = 'LowerFrame_3'\n",
    "user_data = users_data['one']\n",
    "note = f\"Assembly process {process_name} defined by {user_data['name']}\"\n",
    "\n",
    "get_process(process_name, process_data, note, user_data, endpoint=ENDPOINT)\n",
    "# print(process_data)"
   ]
  },
  {
   "cell_type": "code",
   "execution_count": null,
   "id": "d7d76d04-8310-40db-b886-91c448313629",
   "metadata": {},
   "outputs": [],
   "source": [
    "# PROCESSES\n",
    "# Create the process that wraps the assembly of the upper frame\n",
    "# print(process_data)\n",
    "process_name = 'LowerFrame_4'\n",
    "user_data = users_data['one']\n",
    "note = f\"Assembly process {process_name} defined by {user_data['name']}\"\n",
    "\n",
    "get_process(process_name, process_data, note, user_data, endpoint=ENDPOINT)\n",
    "# print(process_data)"
   ]
  },
  {
   "cell_type": "code",
   "execution_count": null,
   "id": "26d263b7-5bf1-4b0c-b6aa-da2ac7f99a05",
   "metadata": {
    "tags": []
   },
   "outputs": [],
   "source": [
    "# PROCESSES\n",
    "# Create the process that wraps the assembly of the Pillar\n",
    "# print(process_data)\n",
    "process_name = 'Pillar'\n",
    "user_data = users_data['one']\n",
    "note = f\"Assembly process {process_name} defined by {user_data['name']}\"\n",
    "\n",
    "get_process(process_name, process_data, note, user_data, endpoint=ENDPOINT)\n",
    "# print(process_data)"
   ]
  },
  {
   "cell_type": "code",
   "execution_count": null,
   "id": "5d4eacac-fd91-4c0e-988f-64f7c7b657f4",
   "metadata": {
    "tags": []
   },
   "outputs": [],
   "source": [
    "# PROCESSES\n",
    "# Create the process that wraps the assembly of the Pillar\n",
    "# print(process_data)\n",
    "process_name = 'Pillar_1'\n",
    "user_data = users_data['one']\n",
    "note = f\"Assembly process {process_name} defined by {user_data['name']}\"\n",
    "\n",
    "get_process(process_name, process_data, note, user_data, endpoint=ENDPOINT)\n",
    "# print(process_data)"
   ]
  },
  {
   "cell_type": "code",
   "execution_count": null,
   "id": "fd43d33a-d02b-4108-90ac-dc1ed91a8901",
   "metadata": {
    "tags": []
   },
   "outputs": [],
   "source": [
    "# PROCESSES\n",
    "# Create the process that wraps the assembly of the Pillar\n",
    "# print(process_data)\n",
    "process_name = 'Pillar_2'\n",
    "user_data = users_data['one']\n",
    "note = f\"Assembly process {process_name} defined by {user_data['name']}\"\n",
    "\n",
    "get_process(process_name, process_data, note, user_data, endpoint=ENDPOINT)\n",
    "# print(process_data)"
   ]
  },
  {
   "cell_type": "code",
   "execution_count": null,
   "id": "a4b248c8-91a0-4149-aba9-34d7014e6fbf",
   "metadata": {
    "tags": []
   },
   "outputs": [],
   "source": [
    "# PROCESSES\n",
    "# Create the process that wraps the assembly of the Pillar\n",
    "# print(process_data)\n",
    "process_name = 'First_Pillar_1'\n",
    "user_data = users_data['one']\n",
    "note = f\"Assembly process {process_name} defined by {user_data['name']}\"\n",
    "\n",
    "get_process(process_name, process_data, note, user_data, endpoint=ENDPOINT)\n",
    "# print(process_data)"
   ]
  },
  {
   "cell_type": "code",
   "execution_count": null,
   "id": "dac37661-ce31-48ff-bcac-ca097d561e59",
   "metadata": {
    "tags": []
   },
   "outputs": [],
   "source": [
    "# PROCESSES\n",
    "# Create the process that wraps the assembly of the Pillar\n",
    "# print(process_data)\n",
    "process_name = 'First_Pillar_2'\n",
    "user_data = users_data['one']\n",
    "note = f\"Assembly process {process_name} defined by {user_data['name']}\"\n",
    "\n",
    "get_process(process_name, process_data, note, user_data, endpoint=ENDPOINT)\n",
    "# print(process_data)"
   ]
  },
  {
   "cell_type": "code",
   "execution_count": null,
   "id": "5930734c-a438-4382-b38f-3d5dd12c610e",
   "metadata": {
    "tags": []
   },
   "outputs": [],
   "source": [
    "# PROCESSES\n",
    "# Create the process that wraps the assembly of the Pillar\n",
    "# print(process_data)\n",
    "process_name = 'Second_Pillar_1'\n",
    "user_data = users_data['one']\n",
    "note = f\"Assembly process {process_name} defined by {user_data['name']}\"\n",
    "\n",
    "get_process(process_name, process_data, note, user_data, endpoint=ENDPOINT)\n",
    "# print(process_data)"
   ]
  },
  {
   "cell_type": "code",
   "execution_count": null,
   "id": "176be86d-a257-4aa0-88bd-14a3ff8a360d",
   "metadata": {
    "tags": []
   },
   "outputs": [],
   "source": [
    "# PROCESSES\n",
    "# Create the process that wraps the assembly of the Pillar\n",
    "# print(process_data)\n",
    "process_name = 'Second_Pillar_2'\n",
    "user_data = users_data['one']\n",
    "note = f\"Assembly process {process_name} defined by {user_data['name']}\"\n",
    "\n",
    "get_process(process_name, process_data, note, user_data, endpoint=ENDPOINT)\n",
    "# print(process_data)"
   ]
  },
  {
   "cell_type": "code",
   "execution_count": null,
   "id": "ed2176e1-f65e-4a0e-b6c6-ad653dd9b996",
   "metadata": {
    "tags": []
   },
   "outputs": [],
   "source": [
    "# PROCESSES\n",
    "# Create the process that wraps the assembly of the Pillar\n",
    "# print(process_data)\n",
    "process_name = 'Third_Pillar_1'\n",
    "user_data = users_data['one']\n",
    "note = f\"Assembly process {process_name} defined by {user_data['name']}\"\n",
    "\n",
    "get_process(process_name, process_data, note, user_data, endpoint=ENDPOINT)\n",
    "# print(process_data)"
   ]
  },
  {
   "cell_type": "code",
   "execution_count": null,
   "id": "a46babbf-dd75-4ae2-9fb0-a8796b98ba9b",
   "metadata": {
    "tags": []
   },
   "outputs": [],
   "source": [
    "# PROCESSES\n",
    "# Create the process that wraps the assembly of the Pillar\n",
    "# print(process_data)\n",
    "process_name = 'Third_Pillar_2'\n",
    "user_data = users_data['one']\n",
    "note = f\"Assembly process {process_name} defined by {user_data['name']}\"\n",
    "\n",
    "get_process(process_name, process_data, note, user_data, endpoint=ENDPOINT)\n",
    "# print(process_data)"
   ]
  },
  {
   "cell_type": "code",
   "execution_count": null,
   "id": "402e5eaf-a40d-4917-a0e2-359233766a45",
   "metadata": {
    "tags": []
   },
   "outputs": [],
   "source": [
    "# PROCESSES\n",
    "# Create the process that wraps the assembly of the Pillar\n",
    "# print(process_data)\n",
    "process_name = 'Forth_Pillar_1'\n",
    "user_data = users_data['one']\n",
    "note = f\"Assembly process {process_name} defined by {user_data['name']}\"\n",
    "\n",
    "get_process(process_name, process_data, note, user_data, endpoint=ENDPOINT)\n",
    "# print(process_data)"
   ]
  },
  {
   "cell_type": "code",
   "execution_count": null,
   "id": "bb07d4a9-db04-4514-b739-aa4d72b16deb",
   "metadata": {
    "tags": []
   },
   "outputs": [],
   "source": [
    "# PROCESSES\n",
    "# Create the process that wraps the assembly of the Pillar\n",
    "# print(process_data)\n",
    "process_name = 'Forth_Pillar_2'\n",
    "user_data = users_data['one']\n",
    "note = f\"Assembly process {process_name} defined by {user_data['name']}\"\n",
    "\n",
    "get_process(process_name, process_data, note, user_data, endpoint=ENDPOINT)\n",
    "# print(process_data)"
   ]
  },
  {
   "cell_type": "code",
   "execution_count": null,
   "id": "97abfcc5-0133-4147-bf3c-fb4383a2415e",
   "metadata": {
    "tags": []
   },
   "outputs": [],
   "source": [
    "# PROCESSES\n",
    "# Create the process that wraps the assembly of the Lower Frame & a Pillar\n",
    "# print(process_data)\n",
    "process_name = 'Pillar_Lower_Frame_Connection'\n",
    "user_data = users_data['one']\n",
    "note = f\"Assembly process {process_name} defined by {user_data['name']}\"\n",
    "\n",
    "get_process(process_name, process_data, note, user_data, endpoint=ENDPOINT)\n",
    "# print(process_data)"
   ]
  },
  {
   "cell_type": "code",
   "execution_count": null,
   "id": "27c5fd10-a18c-4eb8-ab7a-ef7b1c470607",
   "metadata": {
    "tags": []
   },
   "outputs": [],
   "source": [
    "# PROCESSES\n",
    "# Create the process that wraps the assembly of the Box Frame & First Pillar\n",
    "# print(process_data)\n",
    "process_name = 'First_Pillar_Box_Frame_Connect'\n",
    "user_data = users_data['one']\n",
    "note = f\"Assembly process {process_name} defined by {user_data['name']}\"\n",
    "\n",
    "get_process(process_name, process_data, note, user_data, endpoint=ENDPOINT)\n",
    "# print(process_data)"
   ]
  },
  {
   "cell_type": "code",
   "execution_count": null,
   "id": "4ecdb6c8-70f1-4aa7-9deb-5fde431ce5c3",
   "metadata": {
    "tags": []
   },
   "outputs": [],
   "source": [
    "# PROCESSES\n",
    "# Create the process that wraps the assembly of the Box Frame & Second Pillar\n",
    "# print(process_data)\n",
    "process_name = 'Second_Pillar_Box_Frame_Connect'\n",
    "user_data = users_data['one']\n",
    "note = f\"Assembly process {process_name} defined by {user_data['name']}\"\n",
    "\n",
    "get_process(process_name, process_data, note, user_data, endpoint=ENDPOINT)\n",
    "# print(process_data)"
   ]
  },
  {
   "cell_type": "code",
   "execution_count": null,
   "id": "06ee648c-9e26-4131-a2d2-b02beb1cda94",
   "metadata": {
    "tags": []
   },
   "outputs": [],
   "source": [
    "# PROCESSES\n",
    "# Create the process that wraps the assembly of the  Lower Frame & Third Pillar\n",
    "# print(process_data)\n",
    "process_name = 'Third_Pillar_Box_Frame_Connect'\n",
    "user_data = users_data['one']\n",
    "note = f\"Assembly process {process_name} defined by {user_data['name']}\"\n",
    "\n",
    "get_process(process_name, process_data, note, user_data, endpoint=ENDPOINT)\n",
    "# print(process_data)"
   ]
  },
  {
   "cell_type": "code",
   "execution_count": null,
   "id": "57300187-fb85-44ea-946c-014011734ddb",
   "metadata": {
    "tags": []
   },
   "outputs": [],
   "source": [
    "# PROCESSES\n",
    "# Create the process that wraps the assembly of the  Lower Frame & Forth Pillar\n",
    "# print(process_data)\n",
    "process_name = 'Forth_Pillar_Box_Frame_Connect'\n",
    "user_data = users_data['one']\n",
    "note = f\"Assembly process {process_name} defined by {user_data['name']}\"\n",
    "\n",
    "get_process(process_name, process_data, note, user_data, endpoint=ENDPOINT)\n",
    "# print(process_data)"
   ]
  },
  {
   "cell_type": "code",
   "execution_count": null,
   "id": "feb615f7-da31-4bd6-9f37-2b71591f0d8c",
   "metadata": {
    "tags": []
   },
   "outputs": [],
   "source": [
    "# PROCESSES\n",
    "# Create the process that wraps the assembly of the Side Cover Nutplates Insertion\n",
    "# print(process_data)\n",
    "process_name = 'Box_Frame_Side_Cover_Nutplates_Insertion'\n",
    "user_data = users_data['one']\n",
    "note = f\"Assembly process {process_name} defined by {user_data['name']}\"\n",
    "\n",
    "get_process(process_name, process_data, note, user_data, endpoint=ENDPOINT)\n",
    "# print(process_data)"
   ]
  },
  {
   "cell_type": "code",
   "execution_count": null,
   "id": "2cd4a74e-dc22-4428-8e68-d9051e925f1e",
   "metadata": {
    "tags": []
   },
   "outputs": [],
   "source": [
    "# PROCESSES\n",
    "# Create the process that wraps the assembly of the Side Cover Nutplates Insertion\n",
    "# print(process_data)\n",
    "process_name = 'Box_Frame_Front_Back_Cover_Nutplates_Insertion'\n",
    "user_data = users_data['one']\n",
    "note = f\"Assembly process {process_name} defined by {user_data['name']}\"\n",
    "\n",
    "get_process(process_name, process_data, note, user_data, endpoint=ENDPOINT)\n",
    "# print(process_data)"
   ]
  },
  {
   "cell_type": "code",
   "execution_count": null,
   "id": "a6cf7fef-92c9-42bf-bbff-486818a91f1d",
   "metadata": {
    "tags": []
   },
   "outputs": [],
   "source": [
    "# PROCESSES\n",
    "# Create the process that wraps the assembly of the Side Cover Nutplates Insertion\n",
    "# print(process_data)\n",
    "process_name = 'Box_Frame_Mountplate_Nutplates_Insertion'\n",
    "user_data = users_data['one']\n",
    "note = f\"Assembly process {process_name} defined by {user_data['name']}\"\n",
    "\n",
    "get_process(process_name, process_data, note, user_data, endpoint=ENDPOINT)\n",
    "# print(process_data)"
   ]
  },
  {
   "cell_type": "code",
   "execution_count": null,
   "id": "95f2478f-1eac-4b93-b42a-622186a04291",
   "metadata": {
    "tags": []
   },
   "outputs": [],
   "source": [
    "# PROCESSES\n",
    "# Create the process that wraps the assembly of the Side Cover Nutplates Insertion\n",
    "# print(process_data)\n",
    "process_name = 'Box_Upper_Frame_Connection'\n",
    "user_data = users_data['one']\n",
    "note = f\"Assembly process {process_name} defined by {user_data['name']}\"\n",
    "\n",
    "get_process(process_name, process_data, note, user_data, endpoint=ENDPOINT)\n",
    "# print(process_data)"
   ]
  },
  {
   "cell_type": "markdown",
   "id": "7aac3aa0-d7c6-4e10-aa39-442fe6055267",
   "metadata": {
    "tags": []
   },
   "source": [
    "# Process Input & Output Event Definitions"
   ]
  },
  {
   "cell_type": "markdown",
   "id": "5f44cab1-7a1f-4b82-b9b6-b18fc6bc9269",
   "metadata": {
    "tags": []
   },
   "source": [
    "## UpperFrame"
   ]
  },
  {
   "cell_type": "code",
   "execution_count": null,
   "id": "609b9864",
   "metadata": {
    "scrolled": true
   },
   "outputs": [],
   "source": [
    "# UpperFrame 1\n",
    "# Input event 1\n",
    "# Define input consume Tslot32con event for UpperFrame Assembly: \n",
    "process_name = 'UpperFrame_1'\n",
    "event_note='Input consume Tslot32con event for Upper Frame Assembly'\n",
    "\n",
    "action = 'consume'\n",
    "amount = 1\n",
    "resource = 'Tslot32con'\n",
    "agent = 'two'\n",
    "\n",
    "cur_pros = process_data[f'{process_name}']\n",
    "cur_res = res_data[f'{resource}_res']\n",
    "\n",
    "event_id, ts = create_event(users_data[f'{agent}'], action, event_note, amount=amount, process=cur_pros, \\\n",
    "                            res_spec_data=res_spec_data, existing_res=cur_res, endpoint=ENDPOINT)\n",
    "\n",
    "event_seq.append({'ts': ts, 'event_id':event_id, 'action' : action, 'res_name': cur_res['name'], 'res': cur_res['id']})\n"
   ]
  },
  {
   "cell_type": "code",
   "execution_count": null,
   "id": "8a79c3bb-95eb-4e84-86c9-0a20e3db7e6e",
   "metadata": {
    "scrolled": true
   },
   "outputs": [],
   "source": [
    "# UpperFrame 1\n",
    "# Input event 2\n",
    "# Define input consume Tslot16 event for UpperFrame Assembly: \n",
    "process_name = 'UpperFrame_1'\n",
    "event_note='Input consume Tslot16 event for Upper Frame Assembly'\n",
    "\n",
    "action = 'consume'\n",
    "amount = 1\n",
    "resource = 'Tslot16'\n",
    "agent = 'two'\n",
    "\n",
    "cur_pros = process_data[f'{process_name}']\n",
    "cur_res = res_data[f'{resource}_res']\n",
    "\n",
    "event_id, ts = create_event(users_data[f'{agent}'], action, event_note, amount=amount, process=cur_pros, \\\n",
    "                            res_spec_data=res_spec_data, existing_res=cur_res, endpoint=ENDPOINT)\n",
    "\n",
    "event_seq.append({'ts': ts, 'event_id':event_id, 'action' : action, 'res_name': cur_res['name'], 'res': cur_res['id']})\n"
   ]
  },
  {
   "cell_type": "code",
   "execution_count": null,
   "id": "96ca05de-2a24-47f3-acff-8b52762c838c",
   "metadata": {
    "scrolled": true
   },
   "outputs": [],
   "source": [
    "# UpperFrame 1\n",
    "# Input event 3\n",
    "# Define input consume M6x25cyl event for UpperFrame Assembly: \n",
    "process_name = 'UpperFrame_1'\n",
    "event_note='Input consume M6x25cyl event for Upper Frame Assembly'\n",
    "\n",
    "action = 'consume'\n",
    "amount = 1\n",
    "resource = 'M6x25cyl'\n",
    "agent = 'two'\n",
    "\n",
    "cur_pros = process_data[f'{process_name}']\n",
    "cur_res = res_data[f'{resource}_res']\n",
    "\n",
    "event_id, ts = create_event(users_data[f'{agent}'], action, event_note, amount=amount, process=cur_pros, \\\n",
    "                            res_spec_data=res_spec_data, existing_res=cur_res, endpoint=ENDPOINT)\n",
    "\n",
    "event_seq.append({'ts': ts, 'event_id':event_id, 'action' : action, 'res_name': cur_res['name'], 'res': cur_res['id']})\n"
   ]
  },
  {
   "cell_type": "code",
   "execution_count": null,
   "id": "9aa7c4f6-7a0a-445d-8a06-24d8ad31fbc4",
   "metadata": {
    "scrolled": true
   },
   "outputs": [],
   "source": [
    "# UpperFrame 1\n",
    "# Input event 4\n",
    "# Define input use Allen Key for UpperFrame Assembly: \n",
    "process_name = 'UpperFrame_1'\n",
    "event_note='Input use Allen Key event for Upper Frame Assembly'\n",
    "\n",
    "action = 'use'\n",
    "amount = 1\n",
    "resource = 'Allen_Key'\n",
    "agent = 'two'\n",
    "\n",
    "cur_pros = process_data[f'{process_name}']\n",
    "cur_res = res_data[f'{resource}_res']\n",
    "\n",
    "#####\n",
    "effort_spec = {}\n",
    "effort_spec['unit_id'] = res_spec_data['assembly_construction']['defaultUnit']\n",
    "# effort_spec['spec_id'] = res_spec_data['assembly_construction']['id']\n",
    "effort_spec['amount'] = 0.03\n",
    "\n",
    "\n",
    "event_id, ts = create_event(users_data[f'{agent}'], action, event_note, amount=amount, process=cur_pros, \\\n",
    "                 res_spec_data=res_spec_data, existing_res=cur_res, effort_spec=effort_spec, endpoint=ENDPOINT)\n",
    "\n",
    "event_seq.append({'ts': ts, 'event_id':event_id, 'action' : action, 'res_name': cur_res['name'], 'res': cur_res['id']})\n"
   ]
  },
  {
   "cell_type": "code",
   "execution_count": null,
   "id": "d871dcb5-ef11-471b-8dfa-cd75d0f33333",
   "metadata": {
    "scrolled": true
   },
   "outputs": [],
   "source": [
    "# UpperFrame 1\n",
    "# Input event 5\n",
    "# Define input event work with using Allen Key to assemble UpperFrame_1\n",
    "process_name = 'UpperFrame_1'\n",
    "event_note='Make a corner junction between a Tslot32con and Tslot16 by a M6x25cyl screw.'\n",
    "\n",
    "action = 'work'\n",
    "amount = 0.05\n",
    "agent = 'one'\n",
    "\n",
    "cur_pros = process_data[f'{process_name}']\n",
    "\n",
    "effort_spec = {}\n",
    "effort_spec['unit_id'] = res_spec_data['assembly_construction']['defaultUnit']\n",
    "effort_spec['spec_id'] = res_spec_data['assembly_construction']['id']\n",
    "effort_spec['amount'] = amount\n",
    "\n",
    "\n",
    "event_id, ts = create_event(users_data[f'{agent}'], action, event_note, amount=amount, process=cur_pros, \\\n",
    "                 res_spec_data=res_spec_data, effort_spec=effort_spec, endpoint=ENDPOINT)\n",
    "\n",
    "event_seq.append({'ts': ts, 'event_id':event_id, 'action' : action, 'res_name': cur_res['name'], 'res': cur_res['id']})\n"
   ]
  },
  {
   "cell_type": "code",
   "execution_count": null,
   "id": "0ee29e01-2992-4d6e-85bd-6be6da65e1b4",
   "metadata": {},
   "outputs": [],
   "source": [
    "# PROCESS wrap\n",
    "event_seq.append({'ts': ts, 'event_id':cur_pros['id'], 'action' : cur_pros['name'], 'res_name': cur_res['name'], 'res': cur_res['id']})"
   ]
  },
  {
   "cell_type": "code",
   "execution_count": null,
   "id": "64d08ce8-973e-4d39-8220-474c620509ee",
   "metadata": {
    "scrolled": true
   },
   "outputs": [],
   "source": [
    "# UpperFrame 1\n",
    "# Output event 1\n",
    "# Define output event produce for UpperFrame\n",
    "process_name = 'UpperFrame_1'\n",
    "event_note='produce UpperFrame'\n",
    "\n",
    "action = 'produce'\n",
    "amount = 1\n",
    "resource = 'upper_frame'\n",
    "agent = 'two'\n",
    "\n",
    "cur_pros = process_data[f'{process_name}']\n",
    "\n",
    "res_data[f'{resource}_res'] = {\n",
    "    \"res_ref_id\": f'upper_frame-{random.randint(0, 10000)}',\n",
    "    \"name\": 'upper_frame',\n",
    "    \"spec_id\": res_spec_data['upper_frame']['id']\n",
    "}\n",
    "cur_res = res_data[f'{resource}_res']\n",
    "\n",
    "# for produce events, note new_res=cur_res parameter is required\n",
    "event_id, ts = create_event(users_data[f'{agent}'], action, event_note, amount=amount, process=cur_pros, \\\n",
    "                 res_spec_data=res_spec_data, new_res=cur_res, endpoint=ENDPOINT)\n",
    "\n",
    "event_seq.append({'ts': ts, 'event_id':event_id, 'action' : action, 'res_name': cur_res['name'], 'res': cur_res['id']})\n"
   ]
  },
  {
   "cell_type": "code",
   "execution_count": null,
   "id": "06ecd9bc",
   "metadata": {
    "scrolled": true
   },
   "outputs": [],
   "source": [
    "# UpperFrame 2\n",
    "# Input event 1\n",
    "# Define input event accept for UpperFrame 1\n",
    "process_name = 'UpperFrame_2'\n",
    "event_note='accept UpperFrame to be modified'\n",
    "\n",
    "action = 'accept'\n",
    "amount = 1\n",
    "resource = 'upper_frame'\n",
    "agent = 'two'\n",
    "\n",
    "cur_pros = process_data[f'{process_name}']\n",
    "cur_res = res_data[f'{resource}_res']\n",
    "\n",
    "event_id, ts = create_event(users_data[f'{agent}'], action, event_note, amount=amount, process=cur_pros, \\\n",
    "                 res_spec_data=res_spec_data, existing_res=cur_res, endpoint=ENDPOINT)\n",
    "\n",
    "event_seq.append({'ts': ts, 'event_id':event_id, 'action' : action, 'res_name': cur_res['name'], 'res': cur_res['id']})\n"
   ]
  },
  {
   "cell_type": "code",
   "execution_count": null,
   "id": "d6ec10b4-da7c-4817-abd8-08a4bb68de1e",
   "metadata": {
    "scrolled": true
   },
   "outputs": [],
   "source": [
    "# UpperFrame 2\n",
    "# Input event 2\n",
    "# Define input consume 2 x M6nutplates event for UpperFrame Assembly: \n",
    "process_name = 'UpperFrame_2'\n",
    "event_note='Input consume 2 x M6nutplate event for Upper Frame Assembly'\n",
    "\n",
    "action = 'consume'\n",
    "amount = 2\n",
    "resource = 'M6nutplate'\n",
    "agent = 'two'\n",
    "\n",
    "cur_pros = process_data[f'{process_name}']\n",
    "cur_res = res_data[f'{resource}_res']\n",
    "\n",
    "event_id, ts = create_event(users_data[f'{agent}'], action, event_note, amount=amount, process=cur_pros, \\\n",
    "                            res_spec_data=res_spec_data, existing_res=cur_res, endpoint=ENDPOINT)\n",
    "\n",
    "event_seq.append({'ts': ts, 'event_id':event_id, 'action' : action, 'res_name': cur_res['name'], 'res': cur_res['id']})\n"
   ]
  },
  {
   "cell_type": "code",
   "execution_count": null,
   "id": "0acf744e-0ab8-489f-9e2a-e7857000d0ae",
   "metadata": {
    "scrolled": true
   },
   "outputs": [],
   "source": [
    "# UpperFrame 2\n",
    "# Input event 3\n",
    "# Define input event work inserting 2 x M6nutplates into the upper and the outer slot of the Tslot16 beam of the Upper Frame\n",
    "process_name = 'UpperFrame_2'\n",
    "event_note='Insert two M6nutplates into the upper and the outer slot of the Tslot16 beam of the Upper Frame.'\n",
    "\n",
    "action = 'work'\n",
    "# amount = 0.05\n",
    "agent = 'one'\n",
    "\n",
    "cur_pros = process_data[f'{process_name}']\n",
    "effort_spec = {}\n",
    "effort_spec['unit_id'] = res_spec_data['assembly_construction']['defaultUnit']\n",
    "effort_spec['spec_id'] = res_spec_data['assembly_construction']['id']\n",
    "effort_spec['amount'] = 0.05\n",
    "\n",
    "event_id, ts = create_event(users_data[f'{agent}'], action, event_note, amount=amount, process=cur_pros, \\\n",
    "                 res_spec_data=res_spec_data, effort_spec=effort_spec, endpoint=ENDPOINT)\n",
    "\n",
    "event_seq.append({'ts': ts, 'event_id':event_id, 'action' : action, 'res_name': cur_res['name'], 'res': cur_res['id']})\n"
   ]
  },
  {
   "cell_type": "code",
   "execution_count": null,
   "id": "0c637ad9-513c-4c97-a37b-107dc1cf1580",
   "metadata": {},
   "outputs": [],
   "source": [
    "# PROCESS wrap\n",
    "event_seq.append({'ts': ts, 'event_id':cur_pros['id'], 'action' : cur_pros['name'], 'res_name': cur_res['name'], 'res': cur_res['id']})"
   ]
  },
  {
   "cell_type": "code",
   "execution_count": null,
   "id": "dd269384-5f0a-476f-b587-b269cb82edcc",
   "metadata": {
    "scrolled": true
   },
   "outputs": [],
   "source": [
    "# UpperFrame 2\n",
    "# Output event 1\n",
    "# Define output modify Upper Frame\n",
    "process_name = 'UpperFrame_2'\n",
    "event_note='modify UpperFrame_2'\n",
    "\n",
    "action = 'modify'\n",
    "amount = 1\n",
    "resource = 'upper_frame'\n",
    "agent = 'two'\n",
    "cur_pros = process_data[f'{process_name}']\n",
    "cur_res = res_data[f'{resource}_res']\n",
    "\n",
    "\n",
    "event_id, ts = create_event(users_data[f'{agent}'], action, event_note, amount=amount, process=cur_pros, \\\n",
    "                 res_spec_data=res_spec_data, existing_res=cur_res, endpoint=ENDPOINT)\n",
    "\n",
    "event_seq.append({'ts': ts, 'event_id':event_id, 'action' : action, 'res_name': cur_res['name'], 'res': cur_res['id']})\n"
   ]
  },
  {
   "cell_type": "code",
   "execution_count": null,
   "id": "f660bf25-c9e5-4e96-9fad-67690c148f6d",
   "metadata": {
    "scrolled": true
   },
   "outputs": [],
   "source": [
    "# UpperFrame 3\n",
    "# Input event 1\n",
    "# Define input event accept for UpperFrame 2\n",
    "process_name = 'UpperFrame_3'\n",
    "event_note='accept UpperFrame to be modified'\n",
    "\n",
    "action = 'accept'\n",
    "amount = 1\n",
    "resource = 'upper_frame'\n",
    "agent = 'two'\n",
    "\n",
    "\n",
    "cur_pros = process_data[f'{process_name}']\n",
    "cur_res = res_data[f'{resource}_res']\n",
    "\n",
    "event_id, ts = create_event(users_data[f'{agent}'], action, event_note, amount=amount, process=cur_pros, \\\n",
    "                 res_spec_data=res_spec_data, existing_res=cur_res, endpoint=ENDPOINT)\n",
    "\n",
    "event_seq.append({'ts': ts, 'event_id':event_id, 'action' : action, 'res_name': cur_res['name'], 'res': cur_res['id']})\n"
   ]
  },
  {
   "cell_type": "code",
   "execution_count": null,
   "id": "4867e7a4-d282-47b2-a7c3-442911a4f6ae",
   "metadata": {
    "scrolled": true
   },
   "outputs": [],
   "source": [
    "# UpperFrame 3\n",
    "# Input event 2\n",
    "# Define input consume 1 x M6nutplate event for UpperFrame Assembly\n",
    "process_name = 'UpperFrame_3'\n",
    "event_note='Input consume 1 x M6nutplate event for Upper Frame Assembly'\n",
    "\n",
    "action = 'consume'\n",
    "amount = 1\n",
    "resource = 'M6nutplate'\n",
    "agent = 'two'\n",
    "\n",
    "cur_pros = process_data[f'{process_name}']\n",
    "cur_res = res_data[f'{resource}_res']\n",
    "\n",
    "event_id, ts = create_event(users_data[f'{agent}'], action, event_note, amount=amount, process=cur_pros, \\\n",
    "                            res_spec_data=res_spec_data, existing_res=cur_res, endpoint=ENDPOINT)\n",
    "\n",
    "event_seq.append({'ts': ts, 'event_id':event_id, 'action' : action, 'res_name': cur_res['name'], 'res': cur_res['id']})\n"
   ]
  },
  {
   "cell_type": "code",
   "execution_count": null,
   "id": "e019e3f2-5a04-4679-9d0d-e97f524284a0",
   "metadata": {
    "scrolled": true
   },
   "outputs": [],
   "source": [
    "# UpperFrame 3\n",
    "# Input event 3\n",
    "# Define input consume 1 x Tslot16 event for UpperFrame Assembly\n",
    "process_name = 'UpperFrame_3'\n",
    "action = 'consume'\n",
    "event_note='Input consume 1 x Tslot16 event for Upper Frame Assembly'\n",
    "amount = 1\n",
    "resource = 'Tslot16'\n",
    "agent = 'two'\n",
    "cur_pros = process_data[f'{process_name}']\n",
    "cur_res = res_data[f'{resource}_res']\n",
    "\n",
    "event_id, ts = create_event(users_data[f'{agent}'], action, event_note, amount=amount, process=cur_pros, \\\n",
    "                            res_spec_data=res_spec_data, existing_res=cur_res, endpoint=ENDPOINT)\n",
    "\n",
    "event_seq.append({'ts': ts, 'event_id':event_id, 'action' : action, 'res_name': cur_res['name'], 'res': cur_res['id']})\n",
    "# event_seq.append({'ts': ts, 'event_id':cur_pros['id'], 'action' : cur_pros['name'], 'res_name': cur_res['name'], 'res': cur_res['id']})"
   ]
  },
  {
   "cell_type": "code",
   "execution_count": null,
   "id": "4717ecbf-e802-414f-95fc-4794ca2dac42",
   "metadata": {
    "scrolled": true
   },
   "outputs": [],
   "source": [
    "# UpperFrame 3\n",
    "# Input event 4\n",
    "# Define input consume 1 x M6x25cyl event for UpperFrame Assembly\n",
    "process_name = 'UpperFrame_3'\n",
    "action = 'consume'\n",
    "event_note='Input consume 1 x M6x25cyl event for Upper Frame Assembly'\n",
    "amount = 1\n",
    "resource = 'M6x25cyl'\n",
    "agent = 'two'\n",
    "cur_pros = process_data[f'{process_name}']\n",
    "cur_res = res_data[f'{resource}_res']\n",
    "\n",
    "event_id, ts = create_event(users_data[f'{agent}'], action, event_note, amount=amount, process=cur_pros, \\\n",
    "                            res_spec_data=res_spec_data, existing_res=cur_res, endpoint=ENDPOINT)\n",
    "\n",
    "event_seq.append({'ts': ts, 'event_id':event_id, 'action' : action, 'res_name': cur_res['name'], 'res': cur_res['id']})\n"
   ]
  },
  {
   "cell_type": "code",
   "execution_count": null,
   "id": "773026e9-e272-4b52-8022-28f1bd730d3f",
   "metadata": {},
   "outputs": [],
   "source": [
    "# UpperFrame 3\n",
    "# Input event 5\n",
    "# Define input use Allen Key for UpperFrame Assembly: \n",
    "process_name = 'UpperFrame_3'\n",
    "event_note='Input use Allen Key event for Upper Frame Assembly'\n",
    "\n",
    "action = 'use'\n",
    "amount = 1\n",
    "resource = 'Allen_Key'\n",
    "agent = 'two'\n",
    "\n",
    "cur_pros = process_data[f'{process_name}']\n",
    "cur_res = res_data[f'{resource}_res']\n",
    "\n",
    "#####\n",
    "effort_spec = {}\n",
    "effort_spec['unit_id'] = res_spec_data['assembly_construction']['defaultUnit']\n",
    "# effort_spec['spec_id'] = res_spec_data['assembly_construction']['id']\n",
    "effort_spec['amount'] = 0.03\n",
    "\n",
    "\n",
    "event_id, ts = create_event(users_data[f'{agent}'], action, event_note, amount=amount, process=cur_pros, \\\n",
    "                 res_spec_data=res_spec_data, existing_res=cur_res, effort_spec=effort_spec, endpoint=ENDPOINT)\n",
    "\n",
    "event_seq.append({'ts': ts, 'event_id':event_id, 'action' : action, 'res_name': cur_res['name'], 'res': cur_res['id']})\n"
   ]
  },
  {
   "cell_type": "code",
   "execution_count": null,
   "id": "36bfa98e-7232-4dfe-af63-b869596cde11",
   "metadata": {},
   "outputs": [],
   "source": [
    "# UpperFrame 3\n",
    "# Input event 6\n",
    "# Define input event work of the Upper Frame\n",
    "process_name = 'UpperFrame_3'\n",
    "event_note='Before connecting the second Tslot16 beam you must insert a nutplate into the outer slot of the long Tslot32con, which will be enclosed by the M6x25cyl during the corner connection.'\n",
    "\n",
    "action = 'work'\n",
    "# amount = 0.05\n",
    "agent = 'one'\n",
    "\n",
    "cur_pros = process_data[f'{process_name}']\n",
    "effort_spec = {}\n",
    "effort_spec['unit_id'] = res_spec_data['assembly_construction']['defaultUnit']\n",
    "effort_spec['spec_id'] = res_spec_data['assembly_construction']['id']\n",
    "effort_spec['amount'] = 0.05\n",
    "\n",
    "event_id, ts = create_event(users_data[f'{agent}'], action, event_note, amount=amount, process=cur_pros, \\\n",
    "                 res_spec_data=res_spec_data, effort_spec=effort_spec, endpoint=ENDPOINT)\n",
    "\n",
    "event_seq.append({'ts': ts, 'event_id':event_id, 'action' : action, 'res_name': cur_res['name'], 'res': cur_res['id']})\n"
   ]
  },
  {
   "cell_type": "code",
   "execution_count": null,
   "id": "90494efe-004f-49b0-8290-37263a6065cf",
   "metadata": {},
   "outputs": [],
   "source": [
    "# PROCESS wrap\n",
    "event_seq.append({'ts': ts, 'event_id':cur_pros['id'], 'action' : cur_pros['name'], 'res_name': cur_res['name'], 'res': cur_res['id']})"
   ]
  },
  {
   "cell_type": "code",
   "execution_count": null,
   "id": "e1a1a5e5-0753-4a46-a11c-e4bc3d2aa09a",
   "metadata": {},
   "outputs": [],
   "source": [
    "# UpperFrame 3\n",
    "# Output event 1\n",
    "# Define output modify Upper Frame\n",
    "process_name = 'UpperFrame_3'\n",
    "event_note='modify UpperFrame_3'\n",
    "\n",
    "action = 'modify'\n",
    "amount = 1\n",
    "resource = 'upper_frame'\n",
    "agent = 'two'\n",
    "\n",
    "\n",
    "cur_pros = process_data[f'{process_name}']\n",
    "cur_res = res_data[f'{resource}_res']\n",
    "\n",
    "event_id, ts = create_event(users_data[f'{agent}'], action, event_note, amount=amount, process=cur_pros, \\\n",
    "                 res_spec_data=res_spec_data, existing_res=cur_res, endpoint=ENDPOINT)\n",
    "\n",
    "event_seq.append({'ts': ts, 'event_id':event_id, 'action' : action, 'res_name': cur_res['name'], 'res': cur_res['id']})\n"
   ]
  },
  {
   "cell_type": "code",
   "execution_count": null,
   "id": "4552182e-5799-440a-9460-735958632d14",
   "metadata": {
    "tags": []
   },
   "outputs": [],
   "source": [
    "# UpperFrame 4\n",
    "# Input event 1\n",
    "# Define input event accept for UpperFrame 2\n",
    "process_name = 'UpperFrame_4'\n",
    "event_note='accept UpperFrame to be modified'\n",
    "\n",
    "action = 'accept'\n",
    "amount = 1\n",
    "agent = 'two'\n",
    "\n",
    "cur_pros = process_data[f'{process_name}']\n",
    "\n",
    "event_id, ts = create_event(users_data[f'{agent}'], action, event_note, amount=amount, process=cur_pros, \\\n",
    "                 res_spec_data=res_spec_data, existing_res=cur_res, endpoint=ENDPOINT)\n",
    "\n",
    "event_seq.append({'ts': ts, 'event_id':event_id, 'action' : action, 'res_name': cur_res['name'], 'res': cur_res['id']})\n"
   ]
  },
  {
   "cell_type": "code",
   "execution_count": null,
   "id": "0e24f151-2021-4a3d-9869-c17bc79ac113",
   "metadata": {},
   "outputs": [],
   "source": [
    "# UpperFrame 4\n",
    "# Input event 2\n",
    "# Define input consume 3 x M6nutplate event for UpperFrame Assembly\n",
    "process_name = 'UpperFrame_4'\n",
    "event_note='Input consume 3 x M6nutplate event for Upper Frame Assembly'\n",
    "\n",
    "action = 'consume'\n",
    "amount = 3\n",
    "resource = 'M6nutplate'\n",
    "agent = 'two'\n",
    "\n",
    "cur_pros = process_data[f'{process_name}']\n",
    "cur_res = res_data[f'{resource}_res']\n",
    "\n",
    "event_id, ts = create_event(users_data[f'{agent}'], action, event_note, amount=amount, process=cur_pros, \\\n",
    "                            res_spec_data=res_spec_data, existing_res=cur_res, endpoint=ENDPOINT)\n",
    "\n",
    "event_seq.append({'ts': ts, 'event_id':event_id, 'action' : action, 'res_name': cur_res['name'], 'res': cur_res['id']})\n"
   ]
  },
  {
   "cell_type": "code",
   "execution_count": null,
   "id": "73bddaef-6e53-4627-bf30-5c7abe2bc483",
   "metadata": {},
   "outputs": [],
   "source": [
    "# EVENTS\n",
    "# UpperFrame 4\n",
    "# Input event 3\n",
    "# Define input consume Tslot32con event for UpperFrame Assembly: \n",
    "process_name = 'UpperFrame_4'\n",
    "event_note='Input consume Tslot32con event for Upper Frame Assembly'\n",
    "\n",
    "action = 'consume'\n",
    "amount = 2\n",
    "resource = 'Tslot32con'\n",
    "agent = 'two'\n",
    "\n",
    "cur_pros = process_data[f'{process_name}']\n",
    "cur_res = res_data[f'{resource}_res']\n",
    "\n",
    "event_id, ts = create_event(users_data[f'{agent}'], action, event_note, amount=amount, process=cur_pros, \\\n",
    "                            res_spec_data=res_spec_data, existing_res=cur_res, endpoint=ENDPOINT)\n",
    "\n",
    "event_seq.append({'ts': ts, 'event_id':event_id, 'action' : action, 'res_name': cur_res['name'], 'res': cur_res['id']})\n"
   ]
  },
  {
   "cell_type": "code",
   "execution_count": null,
   "id": "aed7dee6-cd88-4c91-9c57-28d3ec39a5be",
   "metadata": {},
   "outputs": [],
   "source": [
    "# UpperFrame 4\n",
    "# Input event 4\n",
    "# Define input consume M6x25cyl event for UpperFrame Assembly: \n",
    "process_name = 'UpperFrame_4'\n",
    "event_note='Input consume M6x25cyl event for Upper Frame Assembly'\n",
    "\n",
    "action = 'consume'\n",
    "amount = 2\n",
    "resource = 'M6x25cyl'\n",
    "agent = 'two'\n",
    "\n",
    "cur_pros = process_data[f'{process_name}']\n",
    "cur_res = res_data[f'{resource}_res']\n",
    "\n",
    "event_id, ts = create_event(users_data[f'{agent}'], action, event_note, amount=amount, process=cur_pros, \\\n",
    "                            res_spec_data=res_spec_data, existing_res=cur_res, endpoint=ENDPOINT)\n",
    "\n",
    "event_seq.append({'ts': ts, 'event_id':event_id, 'action' : action, 'res_name': cur_res['name'], 'res': cur_res['id']})\n"
   ]
  },
  {
   "cell_type": "code",
   "execution_count": null,
   "id": "c1d40d79-0380-4559-8987-d901cb680d36",
   "metadata": {},
   "outputs": [],
   "source": [
    "# UpperFrame 4\n",
    "# Input event 5\n",
    "# Define input use Allen Key for UpperFrame Assembly: \n",
    "process_name = 'UpperFrame_4'\n",
    "event_note='Input use Allen Key event for Upper Frame Assembly'\n",
    "\n",
    "action = 'use'\n",
    "amount = 1\n",
    "resource = 'Allen_Key'\n",
    "agent = 'two'\n",
    "\n",
    "cur_pros = process_data[f'{process_name}']\n",
    "cur_res = res_data[f'{resource}_res']\n",
    "\n",
    "#####\n",
    "effort_spec = {}\n",
    "effort_spec['unit_id'] = res_spec_data['assembly_construction']['defaultUnit']\n",
    "# effort_spec['spec_id'] = res_spec_data['assembly_construction']['id']\n",
    "effort_spec['amount'] = 0.03\n",
    "\n",
    "\n",
    "event_id, ts = create_event(users_data[f'{agent}'], action, event_note, amount=amount, process=cur_pros, \\\n",
    "                 res_spec_data=res_spec_data, existing_res=cur_res, effort_spec=effort_spec, endpoint=ENDPOINT)\n",
    "\n",
    "event_seq.append({'ts': ts, 'event_id':event_id, 'action' : action, 'res_name': cur_res['name'], 'res': cur_res['id']})\n"
   ]
  },
  {
   "cell_type": "code",
   "execution_count": null,
   "id": "b0b76a64-7212-4c55-8b3a-d0684769d681",
   "metadata": {},
   "outputs": [],
   "source": [
    "# UpperFrame 4\n",
    "# Input event 6\n",
    "# Define input use Allen Key for UpperFrame Assembly: \n",
    "process_name = 'UpperFrame_4'\n",
    "event_note='Input use Allen Key event for Upper Frame Assembly'\n",
    "\n",
    "action = 'use'\n",
    "amount = 1\n",
    "agent = 'two'\n",
    "\n",
    "cur_pros = process_data[f'{process_name}']\n",
    "cur_res = res_data[f'{resource}_res']\n",
    "\n",
    "#####\n",
    "effort_spec = {}\n",
    "effort_spec['unit_id'] = res_spec_data['assembly_construction']['defaultUnit']\n",
    "# effort_spec['spec_id'] = res_spec_data['assembly_construction']['id']\n",
    "effort_spec['amount'] = 0.03\n",
    "\n",
    "\n",
    "event_id, ts = create_event(users_data[f'{agent}'], action, event_note, amount=amount, process=cur_pros, \\\n",
    "                 res_spec_data=res_spec_data, existing_res=cur_res, effort_spec=effort_spec, endpoint=ENDPOINT)\n",
    "\n",
    "event_seq.append({'ts': ts, 'event_id':event_id, 'action' : action, 'res_name': cur_res['name'], 'res': cur_res['id']})\n"
   ]
  },
  {
   "cell_type": "code",
   "execution_count": null,
   "id": "c02fef8b-657b-4e39-a47a-7b17cb03c921",
   "metadata": {
    "tags": []
   },
   "outputs": [],
   "source": [
    "# PROCESS wrap\n",
    "event_seq.append({'ts': ts, 'event_id':cur_pros['id'], 'action' : cur_pros['name'], 'res_name': cur_res['name'], 'res': cur_res['id']})"
   ]
  },
  {
   "cell_type": "code",
   "execution_count": null,
   "id": "accb9df9-ef50-45dd-84d4-3065662565b0",
   "metadata": {},
   "outputs": [],
   "source": [
    "# UpperFrame 4\n",
    "# Output event 1\n",
    "# Define output modify Upper Frame\n",
    "process_name = 'UpperFrame_4'\n",
    "event_note='modify UpperFrame_4'\n",
    "\n",
    "action = 'modify'\n",
    "amount = 1\n",
    "resource = 'upper_frame'\n",
    "agent = 'two'\n",
    "\n",
    "cur_pros = process_data[f'{process_name}']\n",
    "cur_res = res_data[f'{resource}_res']\n",
    "\n",
    "\n",
    "event_id, ts = create_event(users_data[f'{agent}'], action, event_note, amount=amount, process=cur_pros, \\\n",
    "                 res_spec_data=res_spec_data, existing_res=cur_res, endpoint=ENDPOINT)\n",
    "\n",
    "event_seq.append({'ts': ts, 'event_id':event_id, 'action' : action, 'res_name': cur_res['name'], 'res': cur_res['id']})\n"
   ]
  },
  {
   "cell_type": "markdown",
   "id": "659a92ee-227c-4cc2-8b4c-2fae53796f46",
   "metadata": {
    "tags": []
   },
   "source": [
    "## LowerFrame"
   ]
  },
  {
   "cell_type": "code",
   "execution_count": null,
   "id": "9af1f1a5-3bb2-41ea-88ff-a0946d9dee5c",
   "metadata": {
    "scrolled": true
   },
   "outputs": [],
   "source": [
    "# EVENT\n",
    "# LowerFrame 1\n",
    "# Input event 1\n",
    "# Define input consume Tslot32con event for LowerFrame Assembly: \n",
    "process_name = 'LowerFrame_1'\n",
    "event_note='Input consume Tslot32con event for Lower Frame Assembly'\n",
    "\n",
    "action = 'consume'\n",
    "amount = 1\n",
    "resource = 'Tslot32con'\n",
    "agent = 'two'\n",
    "\n",
    "cur_pros = process_data[f'{process_name}']\n",
    "cur_res = res_data[f'{resource}_res']\n",
    "\n",
    "event_id, ts = create_event(users_data[f'{agent}'], action, event_note, amount=amount, process=cur_pros, \\\n",
    "                            res_spec_data=res_spec_data, existing_res=cur_res, endpoint=ENDPOINT)\n",
    "\n",
    "event_seq.append({'ts': ts, 'event_id':event_id, 'action' : action, 'res_name': cur_res['name'], 'res': cur_res['id']})\n"
   ]
  },
  {
   "cell_type": "code",
   "execution_count": null,
   "id": "7a85ceba-8965-4e1c-9573-e9bcf26057ae",
   "metadata": {
    "scrolled": true,
    "tags": []
   },
   "outputs": [],
   "source": [
    "# LowerFrame 1\n",
    "# Input event 2\n",
    "# Define input consume Tslot16 event for LowerFrame Assembly: \n",
    "process_name = 'LowerFrame_1'\n",
    "event_note='Input consume Tslot16 event for Lower Frame Assembly'\n",
    "\n",
    "action = 'consume'\n",
    "amount = 1\n",
    "resource = 'Tslot16'\n",
    "agent = 'two'\n",
    "\n",
    "cur_pros = process_data[f'{process_name}']\n",
    "cur_res = res_data[f'{resource}_res']\n",
    "\n",
    "event_id, ts = create_event(users_data[f'{agent}'], action, event_note, amount=amount, process=cur_pros, \\\n",
    "                            res_spec_data=res_spec_data, existing_res=cur_res, endpoint=ENDPOINT)\n",
    "\n",
    "event_seq.append({'ts': ts, 'event_id':event_id, 'action' : action, 'res_name': cur_res['name'], 'res': cur_res['id']})\n"
   ]
  },
  {
   "cell_type": "code",
   "execution_count": null,
   "id": "c467405d-8554-4ac2-9a19-5bb195494953",
   "metadata": {
    "scrolled": true
   },
   "outputs": [],
   "source": [
    "# LowerFrame 1\n",
    "# Input event 3\n",
    "# Define input consume M6x25cyl event for LowerFrame Assembly: \n",
    "process_name = 'LowerFrame_1'\n",
    "event_note='Input consume M6x25cyl event for Lower Frame Assembly'\n",
    "\n",
    "action = 'consume'\n",
    "amount = 1\n",
    "resource = 'M6x25cyl'\n",
    "agent = 'two'\n",
    "\n",
    "cur_pros = process_data[f'{process_name}']\n",
    "cur_res = res_data[f'{resource}_res']\n",
    "\n",
    "event_id, ts = create_event(users_data[f'{agent}'], action, event_note, amount=amount, process=cur_pros, \\\n",
    "                            res_spec_data=res_spec_data, existing_res=cur_res, endpoint=ENDPOINT)\n",
    "\n",
    "event_seq.append({'ts': ts, 'event_id':event_id, 'action' : action, 'res_name': cur_res['name'], 'res': cur_res['id']})\n"
   ]
  },
  {
   "cell_type": "code",
   "execution_count": null,
   "id": "fd84cd71-81f7-465f-bd2f-6ea2c2a1c4d7",
   "metadata": {
    "scrolled": true
   },
   "outputs": [],
   "source": [
    "# LowerFrame 1\n",
    "# Input event 4\n",
    "# Define input use Allen Key for LowerFrame Assembly: \n",
    "process_name = 'LowerFrame_1'\n",
    "event_note='Input use Allen Key event for Lower Frame Assembly'\n",
    "\n",
    "action = 'use'\n",
    "amount = 1\n",
    "resource = 'Allen_Key'\n",
    "agent = 'two'\n",
    "\n",
    "cur_pros = process_data[f'{process_name}']\n",
    "cur_res = res_data[f'{resource}_res']\n",
    "\n",
    "#####\n",
    "effort_spec = {}\n",
    "effort_spec['unit_id'] = res_spec_data['assembly_construction']['defaultUnit']\n",
    "# effort_spec['spec_id'] = res_spec_data['assembly_construction']['id']\n",
    "effort_spec['amount'] = 0.03\n",
    "\n",
    "\n",
    "event_id, ts = create_event(users_data[f'{agent}'], action, event_note, amount=amount, process=cur_pros, \\\n",
    "                 res_spec_data=res_spec_data, existing_res=cur_res, effort_spec=effort_spec, endpoint=ENDPOINT)\n",
    "\n",
    "event_seq.append({'ts': ts, 'event_id':event_id, 'action' : action, 'res_name': cur_res['name'], 'res': cur_res['id']})\n"
   ]
  },
  {
   "cell_type": "code",
   "execution_count": null,
   "id": "cb1e2f7d-fd0a-4287-80f6-815ddd471595",
   "metadata": {},
   "outputs": [],
   "source": [
    "# LowerFrame 1\n",
    "# Input event 5\n",
    "# Define input event work of the Lower Frame\n",
    "process_name = 'LowerFrame_1'\n",
    "event_note='Make a corner junction between aTslot32con and Tslot16 by a M6x25cyl screw.'\n",
    "\n",
    "action = 'work'\n",
    "# amount = 0.05\n",
    "agent = 'one'\n",
    "\n",
    "cur_pros = process_data[f'{process_name}']\n",
    "\n",
    "effort_spec = {}\n",
    "effort_spec['unit_id'] = res_spec_data['assembly_construction']['defaultUnit']\n",
    "effort_spec['spec_id'] = res_spec_data['assembly_construction']['id']\n",
    "effort_spec['amount'] = 0.05\n",
    "\n",
    "event_id, ts = create_event(users_data[f'{agent}'], action, event_note, amount=amount, process=cur_pros, \\\n",
    "                 res_spec_data=res_spec_data, effort_spec=effort_spec, endpoint=ENDPOINT)\n",
    "\n",
    "event_seq.append({'ts': ts, 'event_id':event_id, 'action' : action, 'res_name': cur_res['name'], 'res': cur_res['id']})\n"
   ]
  },
  {
   "cell_type": "code",
   "execution_count": null,
   "id": "03a55321-fb72-425d-ae29-96037e635081",
   "metadata": {
    "tags": []
   },
   "outputs": [],
   "source": [
    "# PROCESS wrap\n",
    "event_seq.append({'ts': ts, 'event_id':cur_pros['id'], 'action' : cur_pros['name'], 'res_name': cur_res['name'], 'res': cur_res['id']})"
   ]
  },
  {
   "cell_type": "code",
   "execution_count": null,
   "id": "0bd9ec74-6ca8-4967-a5c5-30f71a093129",
   "metadata": {
    "scrolled": true
   },
   "outputs": [],
   "source": [
    "# LowerFrame 1\n",
    "# Output event 1\n",
    "# Define output event produce for LowerFrame\n",
    "process_name = 'LowerFrame_1'\n",
    "event_note='produce LowerFrame'\n",
    "\n",
    "action = 'produce'\n",
    "amount = 1\n",
    "resource = 'lower_frame'\n",
    "agent = 'two'\n",
    "\n",
    "cur_pros = process_data[f'{process_name}']\n",
    "\n",
    "res_data['lower_frame_res'] = {\n",
    "    \"res_ref_id\": f'lower_frame-{random.randint(0, 10000)}',\n",
    "    \"name\": 'lower_frame',\n",
    "    \"spec_id\": res_spec_data['lower_frame']['id']\n",
    "}\n",
    "cur_res = res_data[f'{resource}_res']\n",
    "\n",
    "# for produce events, note new_res=cur_res parameter is required\n",
    "event_id, ts = create_event(users_data[f'{agent}'], action, event_note, amount=amount, process=cur_pros, \\\n",
    "                 res_spec_data=res_spec_data, new_res=cur_res, endpoint=ENDPOINT)\n",
    "\n",
    "event_seq.append({'ts': ts, 'event_id':event_id, 'action' : action, 'res_name': cur_res['name'], 'res': cur_res['id']})\n"
   ]
  },
  {
   "cell_type": "code",
   "execution_count": null,
   "id": "0d02a940-b3cf-4485-a8d3-79c7362885f9",
   "metadata": {
    "tags": []
   },
   "outputs": [],
   "source": [
    "# LowerFrame 2\n",
    "# Input event 1\n",
    "# Define input event accept for LowerFrame 2\n",
    "process_name = 'LowerFrame_2'\n",
    "event_note='accept LowerFrame to be modified'\n",
    "\n",
    "action = 'accept'\n",
    "amount = 1\n",
    "resource = 'lower_frame'\n",
    "agent = 'two'\n",
    "\n",
    "cur_pros = process_data[f'{process_name}']\n",
    "cur_res = res_data[f'{resource}_res']\n",
    "\n",
    "\n",
    "event_id, ts = create_event(users_data[f'{agent}'], action, event_note, amount=amount, process=cur_pros, \\\n",
    "                 res_spec_data=res_spec_data, existing_res=cur_res, endpoint=ENDPOINT)\n",
    "\n",
    "event_seq.append({'ts': ts, 'event_id':event_id, 'action' : action, 'res_name': cur_res['name'], 'res': cur_res['id']})\n"
   ]
  },
  {
   "cell_type": "code",
   "execution_count": null,
   "id": "c365fa9b-bcc9-4d76-991d-7ed8b05e6253",
   "metadata": {
    "scrolled": true
   },
   "outputs": [],
   "source": [
    "# LowerFrame 2\n",
    "# Input event 2\n",
    "# Define input consume 4 x M6nutplates event for LowerFrame Assembly: \n",
    "process_name = 'LowerFrame_2'\n",
    "event_note='Input consume 4 x M6nutplate event for Lower Frame Assembly'\n",
    "\n",
    "action = 'consume'\n",
    "amount = 4\n",
    "resource = 'M6nutplate'\n",
    "agent = 'two'\n",
    "\n",
    "cur_pros = process_data[f'{process_name}']\n",
    "cur_res = res_data[f'{resource}_res']\n",
    "\n",
    "event_id, ts = create_event(users_data[f'{agent}'], action, event_note, amount=amount, process=cur_pros, \\\n",
    "                            res_spec_data=res_spec_data, existing_res=cur_res, endpoint=ENDPOINT)\n",
    "\n",
    "event_seq.append({'ts': ts, 'event_id':event_id, 'action' : action, 'res_name': cur_res['name'], 'res': cur_res['id']})\n"
   ]
  },
  {
   "cell_type": "code",
   "execution_count": null,
   "id": "44de3eda-5a26-4151-ab5f-fadd179b6ad9",
   "metadata": {
    "tags": []
   },
   "outputs": [],
   "source": [
    "# LowerFrame 2\n",
    "# Input event 3\n",
    "# Define input event work of the Lower Frame\n",
    "process_name = 'LowerFrame_2'\n",
    "event_note='Insert therefore two M6nutplates into the upper slot and one into the lower slot underneath and one into the outer slot as usual.'\n",
    "\n",
    "action = 'work'\n",
    "amount = 0.05\n",
    "agent = 'two'\n",
    "\n",
    "cur_pros = process_data[f'{process_name}']\n",
    "\n",
    "effort_spec = {}\n",
    "effort_spec['unit_id'] = res_spec_data['assembly_construction']['defaultUnit']\n",
    "effort_spec['spec_id'] = res_spec_data['assembly_construction']['id']\n",
    "effort_spec['amount'] = amount\n",
    "\n",
    "event_id, ts = create_event(users_data[f'{agent}'], action, event_note, amount=amount, process=cur_pros, \\\n",
    "                 res_spec_data=res_spec_data, effort_spec=effort_spec, endpoint=ENDPOINT)\n",
    "\n",
    "event_seq.append({'ts': ts, 'event_id':event_id, 'action' : action, 'res_name': cur_res['name'], 'res': cur_res['id']})\n"
   ]
  },
  {
   "cell_type": "code",
   "execution_count": null,
   "id": "eb5ab308-0a18-4869-9787-db55924e061d",
   "metadata": {
    "tags": []
   },
   "outputs": [],
   "source": [
    "# PROCESS wrap\n",
    "event_seq.append({'ts': ts, 'event_id':cur_pros['id'], 'action' : cur_pros['name'], 'res_name': cur_res['name'], 'res': cur_res['id']})"
   ]
  },
  {
   "cell_type": "code",
   "execution_count": null,
   "id": "59422f50-487f-407e-8924-6cf9d8e90791",
   "metadata": {
    "tags": []
   },
   "outputs": [],
   "source": [
    "# LowerFrame 2\n",
    "# Output event 1\n",
    "# Define output modify Lower Frame\n",
    "process_name = 'LowerFrame_2'\n",
    "event_note='modify LowerFrame_2'\n",
    "\n",
    "action = 'modify'\n",
    "amount = 1\n",
    "resource = 'lower_frame'\n",
    "agent = 'two'\n",
    "\n",
    "cur_pros = process_data[f'{process_name}']\n",
    "cur_res = res_data[f'{resource}_res']\n",
    "\n",
    "\n",
    "event_id, ts = create_event(users_data[f'{agent}'], action, event_note, amount=amount, process=cur_pros, \\\n",
    "                 res_spec_data=res_spec_data, existing_res=cur_res, endpoint=ENDPOINT)\n",
    "\n",
    "event_seq.append({'ts': ts, 'event_id':event_id, 'action' : action, 'res_name': cur_res['name'], 'res': cur_res['id']})\n"
   ]
  },
  {
   "cell_type": "code",
   "execution_count": null,
   "id": "15331b2a-3b4d-452a-a043-a41462ad0d1f",
   "metadata": {
    "tags": []
   },
   "outputs": [],
   "source": [
    "# LowerFrame 3\n",
    "# Input event 1\n",
    "# Define input event accept for Lower Frame 3\n",
    "process_name = 'LowerFrame_3'\n",
    "event_note='accept LowerFrame to be modified'\n",
    "\n",
    "action = 'accept'\n",
    "amount = 1\n",
    "resource = 'lower_frame'\n",
    "agent = 'two'\n",
    "\n",
    "cur_pros = process_data[f'{process_name}']\n",
    "cur_res = res_data[f'{resource}_res']\n",
    "\n",
    "\n",
    "event_id, ts = create_event(users_data[f'{agent}'], action, event_note, amount=amount, process=cur_pros, \\\n",
    "                 res_spec_data=res_spec_data, existing_res=cur_res, endpoint=ENDPOINT)\n",
    "\n",
    "event_seq.append({'ts': ts, 'event_id':event_id, 'action' : action, 'res_name': cur_res['name'], 'res': cur_res['id']})\n"
   ]
  },
  {
   "cell_type": "code",
   "execution_count": null,
   "id": "357b052a-7536-4af2-bd35-f2bb866d8b49",
   "metadata": {
    "scrolled": true
   },
   "outputs": [],
   "source": [
    "# LowerFrame 3\n",
    "# Input event 2\n",
    "# Define input consume 1 x M6nutplates event for LowerFrame Assembly: \n",
    "process_name = 'LowerFrame_3'\n",
    "event_note='Input consume 1 x M6nutplate event for Lower Frame Assembly'\n",
    "\n",
    "action = 'consume'\n",
    "amount = 1\n",
    "resource = 'M6nutplate'\n",
    "agent = 'two'\n",
    "\n",
    "cur_pros = process_data[f'{process_name}']\n",
    "cur_res = res_data[f'{resource}_res']\n",
    "\n",
    "event_id, ts = create_event(users_data[f'{agent}'], action, event_note, amount=amount, process=cur_pros, \\\n",
    "                            res_spec_data=res_spec_data, existing_res=cur_res, endpoint=ENDPOINT)\n",
    "\n",
    "event_seq.append({'ts': ts, 'event_id':event_id, 'action' : action, 'res_name': cur_res['name'], 'res': cur_res['id']})\n"
   ]
  },
  {
   "cell_type": "code",
   "execution_count": null,
   "id": "496c1fd9-2ebd-45aa-888e-5ded3f2c642c",
   "metadata": {
    "scrolled": true
   },
   "outputs": [],
   "source": [
    "# EVENT\n",
    "# LowerFrame 3\n",
    "# Input event 3\n",
    "# Define input consume Tslot16 event for LowerFrame Assembly: \n",
    "process_name = 'LowerFrame_3'\n",
    "event_note='Input consume Tslot16 event for Lower Frame Assembly'\n",
    "\n",
    "action = 'consume'\n",
    "amount = 1\n",
    "resource = 'Tslot16'\n",
    "agent = 'two'\n",
    "\n",
    "cur_pros = process_data[f'{process_name}']\n",
    "cur_res = res_data[f'{resource}_res']\n",
    "\n",
    "event_id, ts = create_event(users_data[f'{agent}'], action, event_note, amount=amount, process=cur_pros, \\\n",
    "                            res_spec_data=res_spec_data, existing_res=cur_res, endpoint=ENDPOINT)\n",
    "\n",
    "event_seq.append({'ts': ts, 'event_id':event_id, 'action' : action, 'res_name': cur_res['name'], 'res': cur_res['id']})\n"
   ]
  },
  {
   "cell_type": "code",
   "execution_count": null,
   "id": "8834a51f-a3d4-4407-9d16-eb2ab67f2144",
   "metadata": {
    "scrolled": true
   },
   "outputs": [],
   "source": [
    "# LowerFrame 3\n",
    "# Input event 4\n",
    "# Define input consume M6x25cyl event for LowerFrame Assembly: \n",
    "process_name = 'LowerFrame_3'\n",
    "event_note='Input consume M6x25cyl event for Lower Frame Assembly'\n",
    "\n",
    "action = 'consume'\n",
    "amount = 1\n",
    "resource = 'M6x25cyl'\n",
    "agent = 'two'\n",
    "\n",
    "cur_pros = process_data[f'{process_name}']\n",
    "cur_res = res_data[f'{resource}_res']\n",
    "\n",
    "event_id, ts = create_event(users_data[f'{agent}'], action, event_note, amount=amount, process=cur_pros, \\\n",
    "                            res_spec_data=res_spec_data, existing_res=cur_res, endpoint=ENDPOINT)\n",
    "\n",
    "event_seq.append({'ts': ts, 'event_id':event_id, 'action' : action, 'res_name': cur_res['name'], 'res': cur_res['id']})\n"
   ]
  },
  {
   "cell_type": "code",
   "execution_count": null,
   "id": "49130005-e4f9-4cac-8796-0cba57def07f",
   "metadata": {
    "scrolled": true
   },
   "outputs": [],
   "source": [
    "# LowerFrame 3\n",
    "# Input event 5\n",
    "# Define input use Allen Key for LowerFrame Assembly: \n",
    "process_name = 'LowerFrame_3'\n",
    "event_note='Input use Allen Key event for Lower Frame Assembly'\n",
    "\n",
    "action = 'use'\n",
    "amount = 1\n",
    "resource = 'Allen_Key'\n",
    "agent = 'one'\n",
    "\n",
    "cur_pros = process_data[f'{process_name}']\n",
    "cur_res = res_data[f'{resource}_res']\n",
    "\n",
    "#####\n",
    "effort_spec = {}\n",
    "effort_spec['unit_id'] = res_spec_data['assembly_construction']['defaultUnit']\n",
    "# effort_spec['spec_id'] = res_spec_data['assembly_construction']['id']\n",
    "effort_spec['amount'] = 0.03\n",
    "\n",
    "\n",
    "event_id, ts = create_event(users_data[f'{agent}'], action, event_note, amount=amount, process=cur_pros, \\\n",
    "                 res_spec_data=res_spec_data, existing_res=cur_res, effort_spec=effort_spec, endpoint=ENDPOINT)\n",
    "\n",
    "event_seq.append({'ts': ts, 'event_id':event_id, 'action' : action, 'res_name': cur_res['name'], 'res': cur_res['id']})\n"
   ]
  },
  {
   "cell_type": "code",
   "execution_count": null,
   "id": "76045d1a-481f-4f28-bb07-980920b34edb",
   "metadata": {
    "tags": []
   },
   "outputs": [],
   "source": [
    "# LowerFrame 3\n",
    "# Input event 6\n",
    "# Define input event work of the Lower Frame\n",
    "process_name = 'LowerFrame_3'\n",
    "event_note='Before connecting the second Tslot16 beam you must insert a nutplate into the outer slot of the long Tslot32con, which will be enclosed by the M6x25cyl during the corner connection.'\n",
    "\n",
    "action = 'work'\n",
    "amount = 0.05\n",
    "agent = 'one'\n",
    "\n",
    "cur_pros = process_data[f'{process_name}']\n",
    "\n",
    "effort_spec = {}\n",
    "effort_spec['unit_id'] = res_spec_data['assembly_construction']['defaultUnit']\n",
    "effort_spec['spec_id'] = res_spec_data['assembly_construction']['id']\n",
    "effort_spec['amount'] = amount\n",
    "\n",
    "event_id, ts = create_event(users_data[f'{agent}'], action, event_note, amount=amount, process=cur_pros, \\\n",
    "                 res_spec_data=res_spec_data, effort_spec=effort_spec, endpoint=ENDPOINT)\n",
    "\n",
    "event_seq.append({'ts': ts, 'event_id':event_id, 'action' : action, 'res_name': cur_res['name'], 'res': cur_res['id']})\n"
   ]
  },
  {
   "cell_type": "code",
   "execution_count": null,
   "id": "33dbe83a-3be0-419f-8aaf-e0b037b89657",
   "metadata": {
    "tags": []
   },
   "outputs": [],
   "source": [
    "# PROCESS wrap\n",
    "event_seq.append({'ts': ts, 'event_id':cur_pros['id'], 'action' : cur_pros['name'], 'res_name': cur_res['name'], 'res': cur_res['id']})"
   ]
  },
  {
   "cell_type": "code",
   "execution_count": null,
   "id": "da472a30-48a6-4332-bc2d-9c56d691bb2a",
   "metadata": {
    "tags": []
   },
   "outputs": [],
   "source": [
    "# LowerFrame 3\n",
    "# Output event 1\n",
    "# Define output modify Lower Frame\n",
    "process_name = 'LowerFrame_3'\n",
    "event_note='modify LowerFrame_3'\n",
    "\n",
    "action = 'modify'\n",
    "amount = 1\n",
    "resource = 'lower_frame'\n",
    "agent = 'two'\n",
    "\n",
    "cur_pros = process_data[f'{process_name}']\n",
    "cur_res = res_data[f'{resource}_res']\n",
    "\n",
    "\n",
    "event_id, ts = create_event(users_data[f'{agent}'], action, event_note, amount=amount, process=cur_pros, \\\n",
    "                 res_spec_data=res_spec_data, existing_res=cur_res, endpoint=ENDPOINT)\n",
    "\n",
    "event_seq.append({'ts': ts, 'event_id':event_id, 'action' : action, 'res_name': cur_res['name'], 'res': cur_res['id']})\n"
   ]
  },
  {
   "cell_type": "code",
   "execution_count": null,
   "id": "dae6eeca-bc62-41a3-93e7-e9c329d22abc",
   "metadata": {
    "tags": []
   },
   "outputs": [],
   "source": [
    "# LowerFrame 4\n",
    "# Input event 1\n",
    "# Define input event accept for Lower Frame\n",
    "process_name = 'LowerFrame_4'\n",
    "event_note='accept LowerFrame to be modified'\n",
    "\n",
    "action = 'accept'\n",
    "amount = 1\n",
    "resource = 'lower_frame'\n",
    "agent = 'two'\n",
    "\n",
    "\n",
    "cur_pros = process_data[f'{process_name}']\n",
    "cur_res = res_data[f'{resource}_res']\n",
    "\n",
    "event_id, ts = create_event(users_data[f'{agent}'], action, event_note, amount=amount, process=cur_pros, \\\n",
    "                 res_spec_data=res_spec_data, existing_res=cur_res, endpoint=ENDPOINT)\n",
    "\n",
    "event_seq.append({'ts': ts, 'event_id':event_id, 'action' : action, 'res_name': cur_res['name'], 'res': cur_res['id']})\n"
   ]
  },
  {
   "cell_type": "code",
   "execution_count": null,
   "id": "5141789d-2e28-45d9-8266-75c441b4253c",
   "metadata": {
    "scrolled": true
   },
   "outputs": [],
   "source": [
    "# LowerFrame 4\n",
    "# Input event 2\n",
    "# Define input consume 4 x M6nutplates event for LowerFrame Assembly: \n",
    "process_name = 'LowerFrame_4'\n",
    "event_note='Input consume 4 x M6nutplate event for Lower Frame Assembly'\n",
    "\n",
    "action = 'consume'\n",
    "amount = 4\n",
    "resource = 'M6nutplate'\n",
    "agent = 'two'\n",
    "\n",
    "cur_pros = process_data[f'{process_name}']\n",
    "cur_res = res_data[f'{resource}_res']\n",
    "\n",
    "event_id, ts = create_event(users_data[f'{agent}'], action, event_note, amount=amount, process=cur_pros, \\\n",
    "                            res_spec_data=res_spec_data, existing_res=cur_res, endpoint=ENDPOINT)\n",
    "\n",
    "event_seq.append({'ts': ts, 'event_id':event_id, 'action' : action, 'res_name': cur_res['name'], 'res': cur_res['id']})\n"
   ]
  },
  {
   "cell_type": "code",
   "execution_count": null,
   "id": "4a151d15-43d2-4314-af91-3a1b3860fcb7",
   "metadata": {
    "scrolled": true
   },
   "outputs": [],
   "source": [
    "# EVENT\n",
    "# LowerFrame 4\n",
    "# Input event 3\n",
    "# Define input consume Tslot32con event for LowerFrame Assembly: \n",
    "process_name = 'LowerFrame_4'\n",
    "event_note='Input consume Tslot32con event for Lower Frame Assembly'\n",
    "\n",
    "action = 'consume'\n",
    "amount = 1\n",
    "resource = 'Tslot32con'\n",
    "agent = 'two'\n",
    "\n",
    "cur_pros = process_data[f'{process_name}']\n",
    "cur_res = res_data[f'{resource}_res']\n",
    "\n",
    "event_id, ts = create_event(users_data[f'{agent}'], action, event_note, amount=amount, process=cur_pros, \\\n",
    "                            res_spec_data=res_spec_data, existing_res=cur_res, endpoint=ENDPOINT)\n",
    "\n",
    "event_seq.append({'ts': ts, 'event_id':event_id, 'action' : action, 'res_name': cur_res['name'], 'res': cur_res['id']})\n"
   ]
  },
  {
   "cell_type": "code",
   "execution_count": null,
   "id": "2fd20832-f750-4810-9399-35b8f36ee8df",
   "metadata": {
    "scrolled": true
   },
   "outputs": [],
   "source": [
    "# LowerFrame 4\n",
    "# Input event 4\n",
    "# Define input consume M6x25cyl event for LowerFrame Assembly: \n",
    "process_name = 'LowerFrame_4'\n",
    "event_note='Input consume M6x25cyl event for Lower Frame Assembly'\n",
    "\n",
    "action = 'consume'\n",
    "amount = 2\n",
    "resource = 'M6x25cyl'\n",
    "agent = 'two'\n",
    "\n",
    "\n",
    "cur_pros = process_data[f'{process_name}']\n",
    "cur_res = res_data[f'{resource}_res']\n",
    "\n",
    "event_id, ts = create_event(users_data[f'{agent}'], action, event_note, amount=amount, process=cur_pros, \\\n",
    "                            res_spec_data=res_spec_data, existing_res=cur_res, endpoint=ENDPOINT)\n",
    "\n",
    "event_seq.append({'ts': ts, 'event_id':event_id, 'action' : action, 'res_name': cur_res['name'], 'res': cur_res['id']})\n"
   ]
  },
  {
   "cell_type": "code",
   "execution_count": null,
   "id": "eb8f20d9-0671-49c8-9e65-f4bb66d6256b",
   "metadata": {
    "scrolled": true
   },
   "outputs": [],
   "source": [
    "# LowerFrame 4\n",
    "# Input event 5\n",
    "# Define input use Allen Key for LowerFrame Assembly: \n",
    "process_name = 'LowerFrame_4'\n",
    "event_note='Input use Allen Key event for Lower Frame Assembly'\n",
    "\n",
    "action = 'use'\n",
    "amount = 1\n",
    "resource = 'Allen_Key'\n",
    "agent = 'two'\n",
    "\n",
    "cur_pros = process_data[f'{process_name}']\n",
    "cur_res = res_data[f'{resource}_res']\n",
    "\n",
    "#####\n",
    "effort_spec = {}\n",
    "effort_spec['unit_id'] = res_spec_data['assembly_construction']['defaultUnit']\n",
    "# effort_spec['spec_id'] = res_spec_data['assembly_construction']['id']\n",
    "effort_spec['amount'] = 0.03\n",
    "\n",
    "\n",
    "event_id, ts = create_event(users_data[f'{agent}'], action, event_note, amount=amount, process=cur_pros, \\\n",
    "                 res_spec_data=res_spec_data, existing_res=cur_res, effort_spec=effort_spec, endpoint=ENDPOINT)\n",
    "\n",
    "event_seq.append({'ts': ts, 'event_id':event_id, 'action' : action, 'res_name': cur_res['name'], 'res': cur_res['id']})\n"
   ]
  },
  {
   "cell_type": "code",
   "execution_count": null,
   "id": "88d43007-4837-4e32-b49e-9e062f5c9b73",
   "metadata": {
    "tags": []
   },
   "outputs": [],
   "source": [
    "# LowerFrame 4\n",
    "# Input event 6\n",
    "# Define input event work of the Lower Frame\n",
    "process_name = 'LowerFrame_4'\n",
    "event_note='Before connecting the second Tslot16 beam you must insert 2 nutplates into the upper slot, 1 nutplate into the power slot & 1 nutplate into the outer slot of the long Tslot32com, which will be enclosed by the M6x25cyl during the corner connection.'\n",
    "\n",
    "action = 'work'\n",
    "amount = 0.05\n",
    "agent = 'one'\n",
    "\n",
    "cur_pros = process_data[f'{process_name}']\n",
    "\n",
    "effort_spec = {}\n",
    "effort_spec['unit_id'] = res_spec_data['assembly_construction']['defaultUnit']\n",
    "effort_spec['spec_id'] = res_spec_data['assembly_construction']['id']\n",
    "effort_spec['amount'] = amount\n",
    "\n",
    "event_id, ts = create_event(users_data[f'{agent}'], action, event_note, amount=amount, process=cur_pros, \\\n",
    "                 res_spec_data=res_spec_data, effort_spec=effort_spec, endpoint=ENDPOINT)\n",
    "\n",
    "event_seq.append({'ts': ts, 'event_id':event_id, 'action' : action, 'res_name': cur_res['name'], 'res': cur_res['id']})\n"
   ]
  },
  {
   "cell_type": "code",
   "execution_count": null,
   "id": "f2c01a58-30b1-40f5-b36d-d4282aad41b6",
   "metadata": {
    "tags": []
   },
   "outputs": [],
   "source": [
    "# PROCESS wrap\n",
    "event_seq.append({'ts': ts, 'event_id':cur_pros['id'], 'action' : cur_pros['name'], 'res_name': cur_res['name'], 'res': cur_res['id']})"
   ]
  },
  {
   "cell_type": "code",
   "execution_count": null,
   "id": "f5d42701-0fa3-4321-a34d-d6064d4b365b",
   "metadata": {
    "tags": []
   },
   "outputs": [],
   "source": [
    "# LowerFrame 4\n",
    "# Output event 1\n",
    "# Define output modify Lower Frame\n",
    "process_name = 'LowerFrame_4'\n",
    "event_note='modify LowerFrame_4'\n",
    "\n",
    "action = 'modify'\n",
    "amount = 1\n",
    "resource = 'lower_frame'\n",
    "agent = 'two'\n",
    "\n",
    "\n",
    "cur_pros = process_data[f'{process_name}']\n",
    "cur_res = res_data[f'{resource}_res']\n",
    "\n",
    "event_id, ts = create_event(users_data[f'{agent}'], action, event_note, amount=amount, process=cur_pros, \\\n",
    "                 res_spec_data=res_spec_data, existing_res=cur_res, endpoint=ENDPOINT)\n",
    "\n",
    "event_seq.append({'ts': ts, 'event_id':event_id, 'action' : action, 'res_name': cur_res['name'], 'res': cur_res['id']})\n"
   ]
  },
  {
   "cell_type": "markdown",
   "id": "245d11e7-00e4-48e6-a6c9-a38f30eb571e",
   "metadata": {
    "tags": []
   },
   "source": [
    "## FirstPillar"
   ]
  },
  {
   "cell_type": "code",
   "execution_count": null,
   "id": "c1c5d9d6-7d4f-41ea-b035-17397d5ff77d",
   "metadata": {
    "scrolled": true
   },
   "outputs": [],
   "source": [
    "# First Pillar\n",
    "# Pillar_1\n",
    "# Input event 1\n",
    "# Define input consume Tslot32 event for Pillar Assembly: \n",
    "process_name = 'First_Pillar_1'\n",
    "event_note='Input consume Tslot32 event for Pillar Assembly'\n",
    "\n",
    "action = 'consume'\n",
    "amount = 1\n",
    "resource = 'Tslot32'\n",
    "agent = 'two'\n",
    "\n",
    "cur_pros = process_data[f'{process_name}']\n",
    "cur_res = res_data[f'{resource}_res']\n",
    "\n",
    "event_id, ts = create_event(users_data[f'{agent}'], action, event_note, amount=amount, process=cur_pros, \\\n",
    "                            res_spec_data=res_spec_data, existing_res=cur_res, endpoint=ENDPOINT)\n",
    "\n",
    "event_seq.append({'ts': ts, 'event_id':event_id, 'action' : action, 'res_name': cur_res['name'], 'res': cur_res['id']})\n"
   ]
  },
  {
   "cell_type": "code",
   "execution_count": null,
   "id": "9eb1a1bf-9f98-48e9-977c-000cfbadc454",
   "metadata": {
    "scrolled": true
   },
   "outputs": [],
   "source": [
    "# First Pillar\n",
    "# Pillar_1\n",
    "# Input event 2\n",
    "# Define input consume 1 x M6nutplate event for Pillar Assembly: \n",
    "process_name = 'First_Pillar_1'\n",
    "event_note='Input consume 1 x M6nutplate event for Pillar Assembly'\n",
    "\n",
    "action = 'consume'\n",
    "amount = 1\n",
    "resource = 'M6nutplate'\n",
    "agent = 'two'\n",
    "\n",
    "cur_pros = process_data[f'{process_name}']\n",
    "cur_res = res_data[f'{resource}_res']\n",
    "\n",
    "event_id, ts = create_event(users_data[f'{agent}'], action, event_note, amount=amount, process=cur_pros, \\\n",
    "                            res_spec_data=res_spec_data, existing_res=cur_res, endpoint=ENDPOINT)\n",
    "\n",
    "event_seq.append({'ts': ts, 'event_id':event_id, 'action' : action, 'res_name': cur_res['name'], 'res': cur_res['id']})\n"
   ]
  },
  {
   "cell_type": "code",
   "execution_count": null,
   "id": "300057c4-77f5-4a60-8cb0-c883440527bf",
   "metadata": {
    "scrolled": true
   },
   "outputs": [],
   "source": [
    "# First Pillar\n",
    "# Pillar_1\n",
    "# Input event 3\n",
    "# Define input consume RAConnector event for Pillar Assembly: \n",
    "process_name = 'First_Pillar_1'\n",
    "event_note='Input consume 1 x RAConnector event for Pillar Assembly'\n",
    "\n",
    "action = 'consume'\n",
    "amount = 1\n",
    "resource = 'RAConnector'\n",
    "agent = 'two'\n",
    "\n",
    "cur_pros = process_data[f'{process_name}']\n",
    "cur_res = res_data[f'{resource}_res']\n",
    "\n",
    "event_id, ts = create_event(users_data[f'{agent}'], action, event_note, amount=amount, process=cur_pros, \\\n",
    "                            res_spec_data=res_spec_data, existing_res=cur_res, endpoint=ENDPOINT)\n",
    "\n",
    "event_seq.append({'ts': ts, 'event_id':event_id, 'action' : action, 'res_name': cur_res['name'], 'res': cur_res['id']})\n"
   ]
  },
  {
   "cell_type": "code",
   "execution_count": null,
   "id": "1efc93f9-0998-4dbb-bbea-7c24c5b6245b",
   "metadata": {
    "scrolled": true
   },
   "outputs": [],
   "source": [
    "# First Pillar\n",
    "# Pillar_1\n",
    "# Input event 4\n",
    "# Define input consume 1 x M6x12 event for Pillar Assembly: \n",
    "process_name = 'First_Pillar_1'\n",
    "event_note='Input consume 1 x M6x12 event for Pillar Assembly'\n",
    "\n",
    "action = 'consume'\n",
    "amount = 1\n",
    "resource = 'M6x12'\n",
    "agent = 'two'\n",
    "\n",
    "cur_pros = process_data[f'{process_name}']\n",
    "cur_res = res_data[f'{resource}_res']\n",
    "\n",
    "event_id, ts = create_event(users_data[f'{agent}'], action, event_note, amount=amount, process=cur_pros, \\\n",
    "                            res_spec_data=res_spec_data, existing_res=cur_res, endpoint=ENDPOINT)\n",
    "\n",
    "event_seq.append({'ts': ts, 'event_id':event_id, 'action' : action, 'res_name': cur_res['name'], 'res': cur_res['id']})\n"
   ]
  },
  {
   "cell_type": "code",
   "execution_count": null,
   "id": "49ba756f-cc5b-444f-8726-938807587ef7",
   "metadata": {
    "scrolled": true
   },
   "outputs": [],
   "source": [
    "# First Pillar\n",
    "# Pillar_1\n",
    "# Input event 5\n",
    "# Define input use Allen Key for LowerFrame Assembly: \n",
    "process_name = 'First_Pillar_1'\n",
    "event_note='Input use Allen Key event for Lower Frame Assembly'\n",
    "\n",
    "action = 'use'\n",
    "amount = 1\n",
    "resource = 'Allen_Key'\n",
    "agent = 'one'\n",
    "\n",
    "cur_res = res_data[f'{resource}_res']\n",
    "cur_pros = process_data[f'{process_name}']\n",
    "\n",
    "#####\n",
    "effort_spec = {}\n",
    "effort_spec['unit_id'] = res_spec_data['assembly_construction']['defaultUnit']\n",
    "# effort_spec['spec_id'] = res_spec_data['assembly_construction']['id']\n",
    "effort_spec['amount'] = 0.03\n",
    "\n",
    "\n",
    "event_id, ts = create_event(users_data[f'{agent}'], action, event_note, amount=amount, process=cur_pros, \\\n",
    "                 res_spec_data=res_spec_data, existing_res=cur_res, effort_spec=effort_spec, endpoint=ENDPOINT)\n",
    "\n",
    "event_seq.append({'ts': ts, 'event_id':event_id, 'action' : action, 'res_name': cur_res['name'], 'res': cur_res['id']})\n"
   ]
  },
  {
   "cell_type": "code",
   "execution_count": null,
   "id": "a0316990-4064-4713-9910-d659e540de9d",
   "metadata": {
    "tags": []
   },
   "outputs": [],
   "source": [
    "# First Pillar\n",
    "# Pillar_1\n",
    "# Input event 6\n",
    "# Define input event work of the Pillar Pillar_1\n",
    "process_name = 'First_Pillar_1'\n",
    "event_note='Insert one M6nutplate at one end of a Tslot32 beam and use it to connect one of the RAconnectors to that beam with a M6x12 screw.'\n",
    "\n",
    "action = 'work'\n",
    "amount = 0.05\n",
    "agent = 'two'\n",
    "\n",
    "cur_pros = process_data[f'{process_name}']\n",
    "\n",
    "effort_spec = {}\n",
    "effort_spec['unit_id'] = res_spec_data['assembly_construction']['defaultUnit']\n",
    "effort_spec['spec_id'] = res_spec_data['assembly_construction']['id']\n",
    "effort_spec['amount'] = amount\n",
    "\n",
    "event_id, ts = create_event(users_data[f'{agent}'], action, event_note, amount=amount, process=cur_pros, \\\n",
    "                 res_spec_data=res_spec_data, effort_spec=effort_spec, endpoint=ENDPOINT)\n",
    "\n",
    "event_seq.append({'ts': ts, 'event_id':event_id, 'action' : action, 'res_name': cur_res['name'], 'res': cur_res['id']})\n"
   ]
  },
  {
   "cell_type": "code",
   "execution_count": null,
   "id": "fdda3b2e-9aab-49ee-91d3-ada6a043e169",
   "metadata": {
    "tags": []
   },
   "outputs": [],
   "source": [
    "# PROCESS wrap\n",
    "event_seq.append({'ts': ts, 'event_id':cur_pros['id'], 'action' : cur_pros['name'], 'res_name': cur_res['name'], 'res': cur_res['id']})"
   ]
  },
  {
   "cell_type": "code",
   "execution_count": null,
   "id": "398edccc-8f59-4344-b1b9-2841e367d6d9",
   "metadata": {
    "scrolled": true
   },
   "outputs": [],
   "source": [
    "# First Pillar\n",
    "# Pillar_1\n",
    "# Output event 1\n",
    "# Define output produce event of the Pillar\n",
    "process_name = 'First_Pillar_1'\n",
    "event_note='produce Pillar'\n",
    "\n",
    "action = 'produce'\n",
    "amount = 1\n",
    "agent = 'two'\n",
    "\n",
    "produced_resource = 'first_pillar'\n",
    "produced_resource_spec = 'pillar'\n",
    "\n",
    "cur_pros = process_data[f'{process_name}']\n",
    "\n",
    "res_data[f'{produced_resource}_res'] = {\n",
    "    \"res_ref_id\": f'{produced_resource}-{random.randint(0, 10000)}',\n",
    "    \"name\": f'{produced_resource}',\n",
    "    \"spec_id\": res_spec_data[f'{produced_resource_spec}']['id']\n",
    "}\n",
    "cur_res = res_data[f'{produced_resource}_res']\n",
    "\n",
    "# for produce events, note new_res=cur_res parameter is required\n",
    "event_id, ts = create_event(users_data[f'{agent}'], action, event_note, amount=amount, process=cur_pros, \\\n",
    "                 res_spec_data=res_spec_data, new_res=cur_res, endpoint=ENDPOINT)\n",
    "\n",
    "event_seq.append({'ts': ts, 'event_id':event_id, 'action' : action, 'res_name': cur_res['name'], 'res': cur_res['id']})\n"
   ]
  },
  {
   "cell_type": "code",
   "execution_count": null,
   "id": "1e457646-e37e-4b29-b4e9-135f3ed742ed",
   "metadata": {
    "tags": []
   },
   "outputs": [],
   "source": [
    "# First Pillar\n",
    "# Pillar_2\n",
    "# Input event 1\n",
    "# Define input event accept of the Pillar\n",
    "process_name = 'First_Pillar_2'\n",
    "event_note='accept Pillar to be modified'\n",
    "\n",
    "action = 'accept'\n",
    "amount = 1\n",
    "agent = 'two'\n",
    "\n",
    "cur_pros = process_data[f'{process_name}']\n",
    "cur_res = res_data[f'{produced_resource}_res']\n",
    "\n",
    "\n",
    "event_id, ts = create_event(users_data[f'{agent}'], action, event_note, amount=amount, process=cur_pros, \\\n",
    "                 res_spec_data=res_spec_data, existing_res=cur_res, endpoint=ENDPOINT)\n",
    "\n",
    "event_seq.append({'ts': ts, 'event_id':event_id, 'action' : action, 'res_name': cur_res['name'], 'res': cur_res['id']})\n"
   ]
  },
  {
   "cell_type": "code",
   "execution_count": null,
   "id": "12877c2d-f04c-417c-8e7e-a77f96a6410b",
   "metadata": {
    "scrolled": true
   },
   "outputs": [],
   "source": [
    "# First Pillar\n",
    "# Pillar_2\n",
    "# Input event 2\n",
    "# Define input consume 3 x M6nutplate event for Pillar Assembly: \n",
    "process_name = 'First_Pillar_2'\n",
    "event_note='Input consume 3 x M6nutplate event for Pillar Assembly'\n",
    "\n",
    "action = 'consume'\n",
    "amount = 3\n",
    "resource = 'M6nutplate'\n",
    "agent = 'two'\n",
    "\n",
    "cur_pros = process_data[f'{process_name}']\n",
    "cur_res = res_data[f'{resource}_res']\n",
    "\n",
    "event_id, ts = create_event(users_data[f'{agent}'], action, event_note, amount=amount, process=cur_pros, \\\n",
    "                            res_spec_data=res_spec_data, existing_res=cur_res, endpoint=ENDPOINT)\n",
    "\n",
    "event_seq.append({'ts': ts, 'event_id':event_id, 'action' : action, 'res_name': cur_res['name'], 'res': cur_res['id']})\n"
   ]
  },
  {
   "cell_type": "code",
   "execution_count": null,
   "id": "fae71284-c479-4845-af83-ca04d8a7b6fd",
   "metadata": {
    "scrolled": true
   },
   "outputs": [],
   "source": [
    "# First Pillar\n",
    "# Pillar_2\n",
    "# Input event 3\n",
    "# Define input consume RAConnector event for Pillar Assembly: \n",
    "process_name = 'First_Pillar_2'\n",
    "event_note='Input consume 1 x RAConnector event for Pillar Assembly'\n",
    "\n",
    "action = 'consume'\n",
    "amount = 1\n",
    "resource = 'RAConnector'\n",
    "agent = 'two'\n",
    "\n",
    "cur_pros = process_data[f'{process_name}']\n",
    "cur_res = res_data[f'{resource}_res']\n",
    "\n",
    "event_id, ts = create_event(users_data[f'{agent}'], action, event_note, amount=amount, process=cur_pros, \\\n",
    "                            res_spec_data=res_spec_data, existing_res=cur_res, endpoint=ENDPOINT)\n",
    "\n",
    "event_seq.append({'ts': ts, 'event_id':event_id, 'action' : action, 'res_name': cur_res['name'], 'res': cur_res['id']})\n"
   ]
  },
  {
   "cell_type": "code",
   "execution_count": null,
   "id": "ebaa94d7-db3f-4c5c-92b3-464cb2726a1e",
   "metadata": {
    "scrolled": true
   },
   "outputs": [],
   "source": [
    "# First Pillar\n",
    "# Pillar_2\n",
    "# Input event 4\n",
    "# Define input use Allen Key for Pillar Assembly: \n",
    "process_name = 'First_Pillar_2'\n",
    "event_note='Input use Allen Key event for Lower Frame Assembly'\n",
    "\n",
    "action = 'use'\n",
    "amount = 1\n",
    "resource = 'Allen_Key'\n",
    "agent = 'two'\n",
    "\n",
    "cur_pros = process_data[f'{process_name}']\n",
    "cur_res = res_data[f'{resource}_res']\n",
    "\n",
    "#####\n",
    "effort_spec = {}\n",
    "effort_spec['unit_id'] = res_spec_data['assembly_construction']['defaultUnit']\n",
    "# effort_spec['spec_id'] = res_spec_data['assembly_construction']['id']\n",
    "effort_spec['amount'] = 0.03\n",
    "\n",
    "\n",
    "event_id, ts = create_event(users_data[f'{agent}'], action, event_note, amount=amount, process=cur_pros, \\\n",
    "                 res_spec_data=res_spec_data, existing_res=cur_res, effort_spec=effort_spec, endpoint=ENDPOINT)\n",
    "\n",
    "event_seq.append({'ts': ts, 'event_id':event_id, 'action' : action, 'res_name': cur_res['name'], 'res': cur_res['id']})\n"
   ]
  },
  {
   "cell_type": "code",
   "execution_count": null,
   "id": "06b621be-8f67-4955-b935-c5b210ccdb2f",
   "metadata": {
    "tags": []
   },
   "outputs": [],
   "source": [
    "# First Pillar\n",
    "# Pillar_2\n",
    "# Input event 5\n",
    "# Define input event work of the Pillar Pillar_2\n",
    "process_name = 'First_Pillar_2'\n",
    "event_note='Insert three M6nutplates more at the other end of the beam and use one of them to connect another RAconnector there.'\n",
    "\n",
    "action = 'work'\n",
    "amount = 0.05\n",
    "agent = 'one'\n",
    "\n",
    "\n",
    "cur_pros = process_data[f'{process_name}']\n",
    "\n",
    "effort_spec = {}\n",
    "effort_spec['unit_id'] = res_spec_data['assembly_construction']['defaultUnit']\n",
    "effort_spec['spec_id'] = res_spec_data['assembly_construction']['id']\n",
    "effort_spec['amount'] = amount\n",
    "\n",
    "event_id, ts = create_event(users_data[f'{agent}'], action, event_note, amount=amount, process=cur_pros, \\\n",
    "                 res_spec_data=res_spec_data, effort_spec=effort_spec, endpoint=ENDPOINT)\n",
    "\n",
    "event_seq.append({'ts': ts, 'event_id':event_id, 'action' : action, 'res_name': cur_res['name'], 'res': cur_res['id']})\n"
   ]
  },
  {
   "cell_type": "code",
   "execution_count": null,
   "id": "a62b53ce-c75a-4e9f-9012-d25481fe6373",
   "metadata": {
    "tags": []
   },
   "outputs": [],
   "source": [
    "# PROCESS wrap\n",
    "event_seq.append({'ts': ts, 'event_id':cur_pros['id'], 'action' : cur_pros['name'], 'res_name': cur_res['name'], 'res': cur_res['id']})"
   ]
  },
  {
   "cell_type": "code",
   "execution_count": null,
   "id": "5cd9ee28-ff55-42e4-8da3-3cb89e2fe405",
   "metadata": {
    "tags": []
   },
   "outputs": [],
   "source": [
    "# First Pillar\n",
    "# Pillar_2\n",
    "# Output event 1\n",
    "# Define output event modify Pillar\n",
    "process_name = 'First_Pillar_2'\n",
    "event_note='modify Pillar'\n",
    "\n",
    "action = 'modify'\n",
    "amount = 1\n",
    "agent = 'two'\n",
    "\n",
    "\n",
    "cur_pros = process_data[f'{process_name}']\n",
    "cur_res = res_data[f'{produced_resource}_res']\n",
    "\n",
    "event_id, ts = create_event(users_data[f'{agent}'], action, event_note, amount=amount, process=cur_pros, \\\n",
    "                 res_spec_data=res_spec_data, existing_res=cur_res, endpoint=ENDPOINT)\n",
    "\n",
    "event_seq.append({'ts': ts, 'event_id':event_id, 'action' : action, 'res_name': cur_res['name'], 'res': cur_res['id']})\n"
   ]
  },
  {
   "cell_type": "code",
   "execution_count": null,
   "id": "874eb34a-3077-4005-a56c-71346e892562",
   "metadata": {
    "scrolled": true
   },
   "outputs": [],
   "source": [
    "# Second Pillar\n",
    "# Pillar_1\n",
    "# Input event 1\n",
    "# Define input consume Tslot32 event for Pillar Assembly: \n",
    "process_name = 'Second_Pillar_1'\n",
    "event_note='Input consume Tslot32 event for Pillar Assembly'\n",
    "\n",
    "action = 'consume'\n",
    "amount = 1\n",
    "resource = 'Tslot32'\n",
    "agent = 'two'\n",
    "\n",
    "cur_pros = process_data[f'{process_name}']\n",
    "cur_res = res_data[f'{resource}_res']\n",
    "\n",
    "event_id, ts = create_event(users_data[f'{agent}'], action, event_note, amount=amount, process=cur_pros, \\\n",
    "                            res_spec_data=res_spec_data, existing_res=cur_res, endpoint=ENDPOINT)\n",
    "\n",
    "event_seq.append({'ts': ts, 'event_id':event_id, 'action' : action, 'res_name': cur_res['name'], 'res': cur_res['id']})\n"
   ]
  },
  {
   "cell_type": "markdown",
   "id": "51f84e26-d418-49f7-b142-952dc96d7295",
   "metadata": {
    "tags": []
   },
   "source": [
    "## SecondPillar"
   ]
  },
  {
   "cell_type": "code",
   "execution_count": null,
   "id": "1c3e4c7b-15cf-4ee8-8087-9a3af3e33c4d",
   "metadata": {
    "scrolled": true
   },
   "outputs": [],
   "source": [
    "# Second Pillar\n",
    "# Pillar_1\n",
    "# Input event 2\n",
    "# Define input consume 1 x M6nutplate event for Pillar Assembly: \n",
    "process_name = 'Second_Pillar_1'\n",
    "event_note='Input consume 1 x M6nutplate event for Pillar Assembly'\n",
    "\n",
    "action = 'consume'\n",
    "amount = 1\n",
    "resource = 'M6nutplate'\n",
    "agent = 'two'\n",
    "\n",
    "cur_pros = process_data[f'{process_name}']\n",
    "cur_res = res_data[f'{resource}_res']\n",
    "\n",
    "event_id, ts = create_event(users_data[f'{agent}'], action, event_note, amount=amount, process=cur_pros, \\\n",
    "                            res_spec_data=res_spec_data, existing_res=cur_res, endpoint=ENDPOINT)\n",
    "\n",
    "event_seq.append({'ts': ts, 'event_id':event_id, 'action' : action, 'res_name': cur_res['name'], 'res': cur_res['id']})\n"
   ]
  },
  {
   "cell_type": "code",
   "execution_count": null,
   "id": "6093d9e8-707b-4daa-a5ab-c73a840d434e",
   "metadata": {
    "scrolled": true
   },
   "outputs": [],
   "source": [
    "# Second Pillar\n",
    "# Pillar_1\n",
    "# Input event 3\n",
    "# Define input consume RAConnector event for Pillar Assembly: \n",
    "process_name = 'Second_Pillar_1'\n",
    "event_note='Input consume 1 x RAConnector event for Pillar Assembly'\n",
    "\n",
    "action = 'consume'\n",
    "amount = 1\n",
    "resource = 'RAConnector'\n",
    "agent = 'two'\n",
    "\n",
    "cur_pros = process_data[f'{process_name}']\n",
    "cur_res = res_data[f'{resource}_res']\n",
    "\n",
    "event_id, ts = create_event(users_data[f'{agent}'], action, event_note, amount=amount, process=cur_pros, \\\n",
    "                            res_spec_data=res_spec_data, existing_res=cur_res, endpoint=ENDPOINT)\n",
    "\n",
    "event_seq.append({'ts': ts, 'event_id':event_id, 'action' : action, 'res_name': cur_res['name'], 'res': cur_res['id']})\n"
   ]
  },
  {
   "cell_type": "code",
   "execution_count": null,
   "id": "ba027a9a-5fb7-4505-858b-50ae0ca9cd9e",
   "metadata": {
    "scrolled": true
   },
   "outputs": [],
   "source": [
    "# Second Pillar\n",
    "# Pillar_1\n",
    "# Input event 4\n",
    "# Define input consume 1 x M6x12 event for Pillar Assembly: \n",
    "process_name = 'Second_Pillar_1'\n",
    "event_note='Input consume 1 x M6x12 event for Pillar Assembly'\n",
    "\n",
    "action = 'consume'\n",
    "amount = 1\n",
    "resource = 'M6x12'\n",
    "agent = 'two'\n",
    "\n",
    "cur_pros = process_data[f'{process_name}']\n",
    "cur_res = res_data[f'{resource}_res']\n",
    "\n",
    "event_id, ts = create_event(users_data[f'{agent}'], action, event_note, amount=amount, process=cur_pros, \\\n",
    "                            res_spec_data=res_spec_data, existing_res=cur_res, endpoint=ENDPOINT)\n",
    "\n",
    "event_seq.append({'ts': ts, 'event_id':event_id, 'action' : action, 'res_name': cur_res['name'], 'res': cur_res['id']})\n"
   ]
  },
  {
   "cell_type": "code",
   "execution_count": null,
   "id": "91fdf31a-3780-4016-b5fb-2c52b12b2176",
   "metadata": {
    "scrolled": true
   },
   "outputs": [],
   "source": [
    "# Second Pillar\n",
    "# Pillar_1\n",
    "# Input event 5\n",
    "# Define input use Allen Key for LowerFrame Assembly: \n",
    "process_name = 'Second_Pillar_1'\n",
    "event_note='Input use Allen Key event for Lower Frame Assembly'\n",
    "\n",
    "action = 'use'\n",
    "amount = 1\n",
    "resource = 'Allen_Key'\n",
    "agent = 'two'\n",
    "\n",
    "cur_pros = process_data[f'{process_name}']\n",
    "cur_res = res_data[f'{resource}_res']\n",
    "\n",
    "#####\n",
    "effort_spec = {}\n",
    "effort_spec['unit_id'] = res_spec_data['assembly_construction']['defaultUnit']\n",
    "# effort_spec['spec_id'] = res_spec_data['assembly_construction']['id']\n",
    "effort_spec['amount'] = 0.03\n",
    "\n",
    "\n",
    "event_id, ts = create_event(users_data[f'{agent}'], action, event_note, amount=amount, process=cur_pros, \\\n",
    "                 res_spec_data=res_spec_data, existing_res=cur_res, effort_spec=effort_spec, endpoint=ENDPOINT)\n",
    "\n",
    "event_seq.append({'ts': ts, 'event_id':event_id, 'action' : action, 'res_name': cur_res['name'], 'res': cur_res['id']})\n"
   ]
  },
  {
   "cell_type": "code",
   "execution_count": null,
   "id": "9b5ba0dd-f254-42df-88fe-4c199624c090",
   "metadata": {
    "tags": []
   },
   "outputs": [],
   "source": [
    "# Second Pillar\n",
    "# Pillar_1\n",
    "# Input event 6\n",
    "# Define input event work of the Pillar Pillar_1\n",
    "process_name = 'Second_Pillar_1'\n",
    "event_note='Insert one M6nutplate at one end of a Tslot32 beam and use it to connect one of the RAconnectors to that beam with a M6x12 screw.'\n",
    "\n",
    "action = 'work'\n",
    "# amount = 0.05\n",
    "agent = 'two'\n",
    "\n",
    "cur_pros = process_data[f'{process_name}']\n",
    "effort_spec = {}\n",
    "effort_spec['unit_id'] = res_spec_data['assembly_construction']['defaultUnit']\n",
    "effort_spec['spec_id'] = res_spec_data['assembly_construction']['id']\n",
    "effort_spec['amount'] = 0.05\n",
    "\n",
    "event_id, ts = create_event(users_data[f'{agent}'], action, event_note, amount=amount, process=cur_pros, \\\n",
    "                 res_spec_data=res_spec_data, effort_spec=effort_spec, endpoint=ENDPOINT)\n",
    "\n",
    "event_seq.append({'ts': ts, 'event_id':event_id, 'action' : action, 'res_name': cur_res['name'], 'res': cur_res['id']})\n"
   ]
  },
  {
   "cell_type": "code",
   "execution_count": null,
   "id": "2d99fa71-5ffe-4141-b647-1a7604717800",
   "metadata": {
    "tags": []
   },
   "outputs": [],
   "source": [
    "# PROCESS wrap\n",
    "event_seq.append({'ts': ts, 'event_id':cur_pros['id'], 'action' : cur_pros['name'], 'res_name': cur_res['name'], 'res': cur_res['id']})"
   ]
  },
  {
   "cell_type": "code",
   "execution_count": null,
   "id": "6f7bda93-c421-4d90-83f3-c6d38e8d0e2f",
   "metadata": {
    "scrolled": true
   },
   "outputs": [],
   "source": [
    "# Second Pillar\n",
    "# Pillar_1\n",
    "# Output event 1\n",
    "# Define output produce event of the Pillar\n",
    "process_name = 'Second_Pillar_1'\n",
    "event_note='produce Pillar'\n",
    "\n",
    "action = 'produce'\n",
    "amount = 1\n",
    "agent = 'two'\n",
    "\n",
    "produced_resource ='second_pillar'\n",
    "produced_resource_spec ='pillar'\n",
    "\n",
    "cur_pros = process_data[f'{process_name}']\n",
    "\n",
    "res_data[f'{produced_resource}_res'] = {\n",
    "    \"res_ref_id\": f'{produced_resource}-{random.randint(0, 10000)}',\n",
    "    \"name\": f'{produced_resource}',\n",
    "    \"spec_id\": res_spec_data[f'{produced_resource_spec}']['id']\n",
    "}\n",
    "cur_res = res_data[f'{produced_resource}_res']\n",
    "\n",
    "# for produce events, note new_res=cur_res parameter is required\n",
    "event_id, ts = create_event(users_data[f'{agent}'], action, event_note, amount=amount, process=cur_pros, \\\n",
    "                 res_spec_data=res_spec_data, new_res=cur_res, endpoint=ENDPOINT)\n",
    "\n",
    "event_seq.append({'ts': ts, 'event_id':event_id, 'action' : action, 'res_name': cur_res['name'], 'res': cur_res['id']})\n"
   ]
  },
  {
   "cell_type": "code",
   "execution_count": null,
   "id": "b18d1b15-c63c-4197-888a-2d303e59b3c2",
   "metadata": {
    "tags": []
   },
   "outputs": [],
   "source": [
    "# Second Pillar\n",
    "# Pillar_2\n",
    "# Input event 1\n",
    "# Define input event accept of the Pillar\n",
    "process_name = 'Second_Pillar_2'\n",
    "event_note='accept Pillar to be modified'\n",
    "\n",
    "action = 'accept'\n",
    "amount = 1\n",
    "agent = 'two'\n",
    "\n",
    "\n",
    "cur_pros = process_data[f'{process_name}']\n",
    "cur_res = res_data[f'{produced_resource}_res']\n",
    "\n",
    "event_id, ts = create_event(users_data[f'{agent}'], action, event_note, amount=amount, process=cur_pros, \\\n",
    "                 res_spec_data=res_spec_data, existing_res=cur_res, endpoint=ENDPOINT)\n",
    "\n",
    "event_seq.append({'ts': ts, 'event_id':event_id, 'action' : action, 'res_name': cur_res['name'], 'res': cur_res['id']})\n"
   ]
  },
  {
   "cell_type": "code",
   "execution_count": null,
   "id": "ce20b8d0-4678-4092-9bfd-a42aad5f3d83",
   "metadata": {
    "scrolled": true
   },
   "outputs": [],
   "source": [
    "# Second Pillar\n",
    "# Pillar_2\n",
    "# Input event 2\n",
    "# Define input consume 3 x M6nutplate event for Pillar Assembly: \n",
    "process_name = 'Second_Pillar_2'\n",
    "event_note='Input consume 3 x M6nutplate event for Pillar Assembly'\n",
    "\n",
    "action = 'consume'\n",
    "amount = 3\n",
    "resource = 'M6nutplate'\n",
    "agent = 'two'\n",
    "\n",
    "cur_pros = process_data[f'{process_name}']\n",
    "cur_res = res_data[f'{resource}_res']\n",
    "\n",
    "event_id, ts = create_event(users_data[f'{agent}'], action, event_note, amount=amount, process=cur_pros, \\\n",
    "                            res_spec_data=res_spec_data, existing_res=cur_res, endpoint=ENDPOINT)\n",
    "\n",
    "event_seq.append({'ts': ts, 'event_id':event_id, 'action' : action, 'res_name': cur_res['name'], 'res': cur_res['id']})\n"
   ]
  },
  {
   "cell_type": "code",
   "execution_count": null,
   "id": "ace32b20-ff13-472a-92dd-30fde0448fdb",
   "metadata": {
    "scrolled": true
   },
   "outputs": [],
   "source": [
    "# Second Pillar\n",
    "# Pillar_2\n",
    "# Input event 3\n",
    "# Define input consume RAConnector event for Pillar Assembly: \n",
    "process_name = 'Second_Pillar_2'\n",
    "event_note='Input consume 1 x RAConnector event for Pillar Assembly'\n",
    "\n",
    "action = 'consume'\n",
    "amount = 1\n",
    "resource = 'RAConnector'\n",
    "agent = 'two'\n",
    "\n",
    "cur_pros = process_data[f'{process_name}']\n",
    "cur_res = res_data[f'{resource}_res']\n",
    "\n",
    "event_id, ts = create_event(users_data[f'{agent}'], action, event_note, amount=amount, process=cur_pros, \\\n",
    "                            res_spec_data=res_spec_data, existing_res=cur_res, endpoint=ENDPOINT)\n",
    "\n",
    "event_seq.append({'ts': ts, 'event_id':event_id, 'action' : action, 'res_name': cur_res['name'], 'res': cur_res['id']})\n"
   ]
  },
  {
   "cell_type": "code",
   "execution_count": null,
   "id": "18693730-b798-4957-9bbc-4656c5649cc6",
   "metadata": {
    "scrolled": true
   },
   "outputs": [],
   "source": [
    "# Second Pillar\n",
    "# Pillar_2\n",
    "# Input event 4\n",
    "# Define input use Allen Key for Pillar Assembly: \n",
    "process_name = 'Second_Pillar_2'\n",
    "event_note='Input use Allen Key event for Lower Frame Assembly'\n",
    "\n",
    "action = 'use'\n",
    "amount = 1\n",
    "resource = 'Allen_Key'\n",
    "agent = 'two'\n",
    "\n",
    "cur_pros = process_data[f'{process_name}']\n",
    "cur_res = res_data[f'{resource}_res']\n",
    "\n",
    "#####\n",
    "effort_spec = {}\n",
    "effort_spec['unit_id'] = res_spec_data['assembly_construction']['defaultUnit']\n",
    "# effort_spec['spec_id'] = res_spec_data['assembly_construction']['id']\n",
    "effort_spec['amount'] = 0.03\n",
    "\n",
    "event_id, ts = create_event(users_data[f'{agent}'], action, event_note, amount=amount, process=cur_pros, \\\n",
    "                 res_spec_data=res_spec_data, existing_res=cur_res, effort_spec=effort_spec, endpoint=ENDPOINT)\n",
    "\n",
    "event_seq.append({'ts': ts, 'event_id':event_id, 'action' : action, 'res_name': cur_res['name'], 'res': cur_res['id']})\n"
   ]
  },
  {
   "cell_type": "code",
   "execution_count": null,
   "id": "021fc68e-b5c5-4fda-9b43-45f98eac4acc",
   "metadata": {
    "tags": []
   },
   "outputs": [],
   "source": [
    "# Second Pillar\n",
    "# Pillar_2\n",
    "# Input event 5\n",
    "# Define input event work of the Pillar Pillar_2\n",
    "process_name = 'Second_Pillar_2'\n",
    "event_note='Insert three M6nutplates more at the other end of the beam and use one of them to connect another RAconnector there.'\n",
    "\n",
    "action = 'work'\n",
    "# amount = 0.05\n",
    "\n",
    "\n",
    "cur_pros = process_data[f'{process_name}']\n",
    "effort_spec = {}\n",
    "effort_spec['unit_id'] = res_spec_data['assembly_construction']['defaultUnit']\n",
    "effort_spec['spec_id'] = res_spec_data['assembly_construction']['id']\n",
    "effort_spec['amount'] = 0.05\n",
    "\n",
    "event_id, ts = create_event(users_data[f'{agent}'], action, event_note, amount=amount, process=cur_pros, \\\n",
    "                 res_spec_data=res_spec_data, effort_spec=effort_spec, endpoint=ENDPOINT)\n",
    "\n",
    "event_seq.append({'ts': ts, 'event_id':event_id, 'action' : action, 'res_name': cur_res['name'], 'res': cur_res['id']})\n"
   ]
  },
  {
   "cell_type": "code",
   "execution_count": null,
   "id": "b4d87ffe-0308-41fc-8adf-5921a188fc9c",
   "metadata": {
    "tags": []
   },
   "outputs": [],
   "source": [
    "# PROCESS wrap\n",
    "event_seq.append({'ts': ts, 'event_id':cur_pros['id'], 'action' : cur_pros['name'], 'res_name': cur_res['name'], 'res': cur_res['id']})"
   ]
  },
  {
   "cell_type": "code",
   "execution_count": null,
   "id": "fb118950-4b7c-406f-aa59-7dcb1c6a6ed3",
   "metadata": {
    "tags": []
   },
   "outputs": [],
   "source": [
    "# Second Pillar\n",
    "# Pillar_2\n",
    "# Output event 1\n",
    "# Define output event modify Pillar\n",
    "process_name = 'Second_Pillar_2'\n",
    "event_note='modify Pillar'\n",
    "\n",
    "action = 'modify'\n",
    "amount = 1\n",
    "agent = 'two'\n",
    "\n",
    "cur_pros = process_data[f'{process_name}']\n",
    "cur_res = res_data[f'{produced_resource}_res']\n",
    "\n",
    "event_id, ts = create_event(users_data[f'{agent}'], action, event_note, amount=amount, process=cur_pros, \\\n",
    "                 res_spec_data=res_spec_data, existing_res=cur_res, endpoint=ENDPOINT)\n",
    "\n",
    "event_seq.append({'ts': ts, 'event_id':event_id, 'action' : action, 'res_name': cur_res['name'], 'res': cur_res['id']})\n"
   ]
  },
  {
   "cell_type": "markdown",
   "id": "4a04620b-2e39-4b35-9b26-fb7a3b9b304e",
   "metadata": {
    "tags": []
   },
   "source": [
    "## ThirdPillar"
   ]
  },
  {
   "cell_type": "code",
   "execution_count": null,
   "id": "e46ab7f4-d48a-427f-b494-ea6b87634fee",
   "metadata": {
    "scrolled": true
   },
   "outputs": [],
   "source": [
    "# Third Pillar\n",
    "# Pillar_1\n",
    "# Input event 1\n",
    "# Define input consume Tslot32 event for Pillar Assembly: \n",
    "process_name = 'Third_Pillar_1'\n",
    "event_note='Input consume Tslot32 event for Pillar Assembly'\n",
    "\n",
    "action = 'consume'\n",
    "amount = 1\n",
    "resource = 'Tslot32'\n",
    "agent = 'two'\n",
    "\n",
    "cur_pros = process_data[f'{process_name}']\n",
    "cur_res = res_data[f'{resource}_res']\n",
    "\n",
    "event_id, ts = create_event(users_data[f'{agent}'], action, event_note, amount=amount, process=cur_pros, \\\n",
    "                            res_spec_data=res_spec_data, existing_res=cur_res, endpoint=ENDPOINT)\n",
    "\n",
    "event_seq.append({'ts': ts, 'event_id':event_id, 'action' : action, 'res_name': cur_res['name'], 'res': cur_res['id']})\n"
   ]
  },
  {
   "cell_type": "code",
   "execution_count": null,
   "id": "c6caf4d4-26d3-4e59-884a-b6efc131f3fb",
   "metadata": {
    "scrolled": true
   },
   "outputs": [],
   "source": [
    "# Third Pillar\n",
    "# Pillar_1\n",
    "# Input event 2\n",
    "# Define input consume 1 x M6nutplate event for Pillar Assembly: \n",
    "process_name = 'Third_Pillar_1'\n",
    "event_note='Input consume 1 x M6nutplate event for Pillar Assembly'\n",
    "\n",
    "action = 'consume'\n",
    "amount = 1\n",
    "resource = 'M6nutplate'\n",
    "agent = 'two'\n",
    "\n",
    "cur_pros = process_data[f'{process_name}']\n",
    "cur_res = res_data[f'{resource}_res']\n",
    "\n",
    "event_id, ts = create_event(users_data[f'{agent}'], action, event_note, amount=amount, process=cur_pros, \\\n",
    "                            res_spec_data=res_spec_data, existing_res=cur_res, endpoint=ENDPOINT)\n",
    "\n",
    "event_seq.append({'ts': ts, 'event_id':event_id, 'action' : action, 'res_name': cur_res['name'], 'res': cur_res['id']})\n"
   ]
  },
  {
   "cell_type": "code",
   "execution_count": null,
   "id": "d3b4f92a-ea4a-44b9-ba8f-063d1212a573",
   "metadata": {
    "scrolled": true
   },
   "outputs": [],
   "source": [
    "# Third Pillar\n",
    "# Pillar_1\n",
    "# Input event 3\n",
    "# Define input consume RAConnector event for Pillar Assembly: \n",
    "process_name = 'Third_Pillar_1'\n",
    "event_note='Input consume 1 x RAConnector event for Pillar Assembly'\n",
    "\n",
    "action = 'consume'\n",
    "amount = 1\n",
    "resource = 'RAConnector'\n",
    "agent = 'two'\n",
    "\n",
    "cur_pros = process_data[f'{process_name}']\n",
    "cur_res = res_data[f'{resource}_res']\n",
    "\n",
    "event_id, ts = create_event(users_data[f'{agent}'], action, event_note, amount=amount, process=cur_pros, \\\n",
    "                            res_spec_data=res_spec_data, existing_res=cur_res, endpoint=ENDPOINT)\n",
    "\n",
    "event_seq.append({'ts': ts, 'event_id':event_id, 'action' : action, 'res_name': cur_res['name'], 'res': cur_res['id']})\n"
   ]
  },
  {
   "cell_type": "code",
   "execution_count": null,
   "id": "bd7698db-f9f9-4f9f-8ac3-55a602521079",
   "metadata": {
    "scrolled": true
   },
   "outputs": [],
   "source": [
    "# Third Pillar\n",
    "# Pillar_1\n",
    "# Input event 4\n",
    "# Define input consume 1 x M6x12 event for Pillar Assembly: \n",
    "process_name = 'Third_Pillar_1'\n",
    "event_note='Input consume 1 x M6x12 event for Pillar Assembly'\n",
    "\n",
    "action = 'consume'\n",
    "amount = 1\n",
    "resource = 'M6x12'\n",
    "agent = 'two'\n",
    "\n",
    "cur_pros = process_data[f'{process_name}']\n",
    "cur_res = res_data[f'{resource}_res']\n",
    "\n",
    "event_id, ts = create_event(users_data[f'{agent}'], action, event_note, amount=amount, process=cur_pros, \\\n",
    "                            res_spec_data=res_spec_data, existing_res=cur_res, endpoint=ENDPOINT)\n",
    "\n",
    "event_seq.append({'ts': ts, 'event_id':event_id, 'action' : action, 'res_name': cur_res['name'], 'res': cur_res['id']})\n"
   ]
  },
  {
   "cell_type": "code",
   "execution_count": null,
   "id": "ab8c49f3-d06a-4651-ac8e-d1d7086c13cb",
   "metadata": {
    "scrolled": true
   },
   "outputs": [],
   "source": [
    "# Third Pillar\n",
    "# Pillar_1\n",
    "# Input event 5\n",
    "# Define input use Allen Key for LowerFrame Assembly: \n",
    "process_name = 'Third_Pillar_1'\n",
    "event_note='Input use Allen Key event for Lower Frame Assembly'\n",
    "\n",
    "action = 'use'\n",
    "amount = 1\n",
    "resource = 'Allen_Key'\n",
    "agent = 'two'\n",
    "\n",
    "cur_pros = process_data[f'{process_name}']\n",
    "cur_res = res_data[f'{resource}_res']\n",
    "\n",
    "#####\n",
    "effort_spec = {}\n",
    "effort_spec['unit_id'] = res_spec_data['assembly_construction']['defaultUnit']\n",
    "# effort_spec['spec_id'] = res_spec_data['assembly_construction']['id']\n",
    "effort_spec['amount'] = 0.03\n",
    "\n",
    "\n",
    "event_id, ts = create_event(users_data[f'{agent}'], action, event_note, amount=amount, process=cur_pros, \\\n",
    "                 res_spec_data=res_spec_data, existing_res=cur_res, effort_spec=effort_spec, endpoint=ENDPOINT)\n",
    "\n",
    "event_seq.append({'ts': ts, 'event_id':event_id, 'action' : action, 'res_name': cur_res['name'], 'res': cur_res['id']})\n"
   ]
  },
  {
   "cell_type": "code",
   "execution_count": null,
   "id": "afa196cc-66b2-4100-bd21-1826cb77b445",
   "metadata": {
    "tags": []
   },
   "outputs": [],
   "source": [
    "# Third Pillar\n",
    "# Pillar_1\n",
    "# Input event 6\n",
    "# Define input event work of the Pillar Pillar_1\n",
    "process_name = 'Third_Pillar_1'\n",
    "event_note='Insert one M6nutplate at one end of a Tslot32 beam and use it to connect one of the RAconnectors to that beam with a M6x12 screw.'\n",
    "\n",
    "action = 'work'\n",
    "# amount = 0.05\n",
    "agent = 'two'\n",
    "\n",
    "cur_pros = process_data[f'{process_name}']\n",
    "\n",
    "effort_spec = {}\n",
    "effort_spec['unit_id'] = res_spec_data['assembly_construction']['defaultUnit']\n",
    "effort_spec['spec_id'] = res_spec_data['assembly_construction']['id']\n",
    "effort_spec['amount'] = 0.05\n",
    "\n",
    "event_id, ts = create_event(users_data[f'{agent}'], action, event_note, amount=amount, process=cur_pros, \\\n",
    "                 res_spec_data=res_spec_data, effort_spec=effort_spec, endpoint=ENDPOINT)\n",
    "\n",
    "event_seq.append({'ts': ts, 'event_id':event_id, 'action' : action, 'res_name': cur_res['name'], 'res': cur_res['id']})\n"
   ]
  },
  {
   "cell_type": "code",
   "execution_count": null,
   "id": "9d669d00-60b2-4bca-8fa9-58f5da4672c4",
   "metadata": {
    "tags": []
   },
   "outputs": [],
   "source": [
    "# PROCESS wrap\n",
    "event_seq.append({'ts': ts, 'event_id':cur_pros['id'], 'action' : cur_pros['name'], 'res_name': cur_res['name'], 'res': cur_res['id']})"
   ]
  },
  {
   "cell_type": "code",
   "execution_count": null,
   "id": "c4e42c5e-9108-4cec-883b-1168aede1e0b",
   "metadata": {
    "scrolled": true
   },
   "outputs": [],
   "source": [
    "# Third Pillar\n",
    "# Pillar_1\n",
    "# Output event 1\n",
    "# Define output produce event of the Pillar\n",
    "process_name = 'Third_Pillar_1'\n",
    "action = 'produce'\n",
    "event_note='produce Pillar'\n",
    "amount = 1\n",
    "\n",
    "agent = 'two'\n",
    "\n",
    "produced_resource ='third_pillar'\n",
    "produced_resource_spec = 'pillar'\n",
    "\n",
    "cur_pros = process_data[f'{process_name}']\n",
    "\n",
    "res_data[f'{produced_resource}_res'] = {\n",
    "    \"res_ref_id\": f'{produced_resource}-{random.randint(0, 10000)}',\n",
    "    \"name\": f'{produced_resource}',\n",
    "    \"spec_id\": res_spec_data[f'{produced_resource_spec}']['id']\n",
    "}\n",
    "cur_res = res_data[f'{produced_resource}_res']\n",
    "\n",
    "# for produce events, note new_res=cur_res parameter is required\n",
    "event_id, ts = create_event(users_data[f'{agent}'], action, event_note, amount=amount, process=cur_pros, \\\n",
    "                 res_spec_data=res_spec_data, new_res=cur_res, endpoint=ENDPOINT)\n",
    "\n",
    "event_seq.append({'ts': ts, 'event_id':event_id, 'action' : action, 'res_name': cur_res['name'], 'res': cur_res['id']})\n"
   ]
  },
  {
   "cell_type": "code",
   "execution_count": null,
   "id": "a5784003-c8b9-4e41-952e-0759bbdc6734",
   "metadata": {
    "tags": []
   },
   "outputs": [],
   "source": [
    "# Third Pillar\n",
    "# Pillar_2\n",
    "# Input event 1\n",
    "# Define input event accept of the Pillar\n",
    "process_name = 'Third_Pillar_2'\n",
    "event_note='accept Pillar to be modified'\n",
    "\n",
    "action = 'accept'\n",
    "amount = 1\n",
    "agent = 'two'\n",
    "\n",
    "\n",
    "cur_pros = process_data[f'{process_name}']\n",
    "cur_res = res_data[f'{produced_resource}_res']\n",
    "\n",
    "\n",
    "event_id, ts = create_event(users_data[f'{agent}'], action, event_note, amount=amount, process=cur_pros, \\\n",
    "                 res_spec_data=res_spec_data, existing_res=cur_res, endpoint=ENDPOINT)\n",
    "\n",
    "event_seq.append({'ts': ts, 'event_id':event_id, 'action' : action, 'res_name': cur_res['name'], 'res': cur_res['id']})\n"
   ]
  },
  {
   "cell_type": "code",
   "execution_count": null,
   "id": "6de3035c-d9af-4137-b2e2-3f2f4a27ffc0",
   "metadata": {
    "scrolled": true
   },
   "outputs": [],
   "source": [
    "# Third Pillar\n",
    "# Pillar_2\n",
    "# Input event 2\n",
    "# Define input consume 3 x M6nutplate event for Pillar Assembly: \n",
    "process_name = 'Third_Pillar_2'\n",
    "event_note='Input consume 3 x M6nutplate event for Pillar Assembly'\n",
    "\n",
    "action = 'consume'\n",
    "amount = 3\n",
    "resource = 'M6nutplate'\n",
    "agent = 'two'\n",
    "\n",
    "cur_pros = process_data[f'{process_name}']\n",
    "cur_res = res_data[f'{resource}_res']\n",
    "\n",
    "event_id, ts = create_event(users_data[f'{agent}'], action, event_note, amount=amount, process=cur_pros, \\\n",
    "                            res_spec_data=res_spec_data, existing_res=cur_res, endpoint=ENDPOINT)\n",
    "\n",
    "event_seq.append({'ts': ts, 'event_id':event_id, 'action' : action, 'res_name': cur_res['name'], 'res': cur_res['id']})\n"
   ]
  },
  {
   "cell_type": "code",
   "execution_count": null,
   "id": "6e83968f-3a0e-4152-9902-2531570fca06",
   "metadata": {
    "scrolled": true
   },
   "outputs": [],
   "source": [
    "# Third Pillar\n",
    "# Pillar_2\n",
    "# Input event 3\n",
    "# Define input consume RAConnector event for Pillar Assembly: \n",
    "process_name = 'Third_Pillar_2'\n",
    "event_note='Input consume 1 x RAConnector event for Pillar Assembly'\n",
    "\n",
    "action = 'consume'\n",
    "amount = 1\n",
    "resource = 'RAConnector'\n",
    "agent = 'two'\n",
    "\n",
    "cur_pros = process_data[f'{process_name}']\n",
    "cur_res = res_data[f'{resource}_res']\n",
    "\n",
    "event_id, ts = create_event(users_data[f'{agent}'], action, event_note, amount=amount, process=cur_pros, \\\n",
    "                            res_spec_data=res_spec_data, existing_res=cur_res, endpoint=ENDPOINT)\n",
    "\n",
    "event_seq.append({'ts': ts, 'event_id':event_id, 'action' : action, 'res_name': cur_res['name'], 'res': cur_res['id']})\n"
   ]
  },
  {
   "cell_type": "code",
   "execution_count": null,
   "id": "357d6a96-01a2-4e55-891b-cb7aa03851ba",
   "metadata": {
    "scrolled": true
   },
   "outputs": [],
   "source": [
    "# Third Pillar\n",
    "# Pillar_2\n",
    "# Input event 4\n",
    "# Define input use Allen Key for Pillar Assembly: \n",
    "process_name = 'Third_Pillar_2'\n",
    "event_note='Input use Allen Key event for Lower Frame Assembly'\n",
    "\n",
    "action = 'use'\n",
    "amount = 1\n",
    "resource = 'Allen_Key'\n",
    "agent = 'two'\n",
    "\n",
    "cur_pros = process_data[f'{process_name}']\n",
    "cur_res = res_data[f'{resource}_res']\n",
    "\n",
    "#####\n",
    "effort_spec = {}\n",
    "effort_spec['unit_id'] = res_spec_data['assembly_construction']['defaultUnit']\n",
    "# effort_spec['spec_id'] = res_spec_data['assembly_construction']['id']\n",
    "effort_spec['amount'] = 0.03\n",
    "\n",
    "\n",
    "event_id, ts = create_event(users_data[f'{agent}'], action, event_note, amount=amount, process=cur_pros, \\\n",
    "                 res_spec_data=res_spec_data, existing_res=cur_res, effort_spec=effort_spec, endpoint=ENDPOINT)\n",
    "\n",
    "event_seq.append({'ts': ts, 'event_id':event_id, 'action' : action, 'res_name': cur_res['name'], 'res': cur_res['id']})\n"
   ]
  },
  {
   "cell_type": "code",
   "execution_count": null,
   "id": "8bb1d21e-b379-4e9b-93d9-ef06aede68e4",
   "metadata": {
    "tags": []
   },
   "outputs": [],
   "source": [
    "# Third Pillar\n",
    "# Pillar_2\n",
    "# Input event 5\n",
    "# Define input event work of the Pillar Pillar_2\n",
    "process_name = 'Third_Pillar_2'\n",
    "event_note='Insert three M6nutplates more at the other end of the beam and use one of them to connect another RAconnector there.'\n",
    "\n",
    "action = 'work'\n",
    "# amount = 0.05\n",
    "agent = 'two'\n",
    "\n",
    "cur_pros = process_data[f'{process_name}']\n",
    "effort_spec = {}\n",
    "effort_spec['unit_id'] = res_spec_data['assembly_construction']['defaultUnit']\n",
    "effort_spec['spec_id'] = res_spec_data['assembly_construction']['id']\n",
    "effort_spec['amount'] = 0.05\n",
    "\n",
    "event_id, ts = create_event(users_data[f'{agent}'], action, event_note, amount=amount, process=cur_pros, \\\n",
    "                 res_spec_data=res_spec_data, effort_spec=effort_spec, endpoint=ENDPOINT)\n",
    "\n",
    "event_seq.append({'ts': ts, 'event_id':event_id, 'action' : action, 'res_name': cur_res['name'], 'res': cur_res['id']})\n"
   ]
  },
  {
   "cell_type": "code",
   "execution_count": null,
   "id": "34f5c7ca-207c-48f6-ac9a-a4ae6f831746",
   "metadata": {
    "tags": []
   },
   "outputs": [],
   "source": [
    "# PROCESS wrap\n",
    "event_seq.append({'ts': ts, 'event_id':cur_pros['id'], 'action' : cur_pros['name'], 'res_name': cur_res['name'], 'res': cur_res['id']})"
   ]
  },
  {
   "cell_type": "code",
   "execution_count": null,
   "id": "14925aae-fcb2-4e4b-a5e6-7e1b2778f86f",
   "metadata": {
    "tags": []
   },
   "outputs": [],
   "source": [
    "# Third Pillar\n",
    "# Pillar_2\n",
    "# Output event 1\n",
    "# Define output event modify Pillar\n",
    "event_note='modify Pillar'\n",
    "process_name = 'Third_Pillar_2'\n",
    "\n",
    "action = 'modify'\n",
    "amount = 1\n",
    "agent = 'two'\n",
    "\n",
    "\n",
    "cur_pros = process_data[f'{process_name}']\n",
    "cur_res = res_data[f'{produced_resource}_res']\n",
    "\n",
    "\n",
    "event_id, ts = create_event(users_data[f'{agent}'], action, event_note, amount=amount, process=cur_pros, \\\n",
    "                 res_spec_data=res_spec_data, existing_res=cur_res, endpoint=ENDPOINT)\n",
    "\n",
    "event_seq.append({'ts': ts, 'event_id':event_id, 'action' : action, 'res_name': cur_res['name'], 'res': cur_res['id']})\n"
   ]
  },
  {
   "cell_type": "markdown",
   "id": "9e950f31-a157-42c2-9e3f-3f185a20ccc8",
   "metadata": {
    "tags": []
   },
   "source": [
    "## ForthPillar"
   ]
  },
  {
   "cell_type": "code",
   "execution_count": null,
   "id": "ac2ba12d-3cdb-4415-b4a1-b10f0094cc44",
   "metadata": {
    "scrolled": true
   },
   "outputs": [],
   "source": [
    "# Forth Pillar\n",
    "# Pillar_1\n",
    "# Input event 1\n",
    "# Define input consume Tslot32 event for Pillar Assembly: \n",
    "process_name = 'Forth_Pillar_1'\n",
    "event_note='Input consume Tslot32 event for Pillar Assembly'\n",
    "\n",
    "action = 'consume'\n",
    "amount = 1\n",
    "resource = 'Tslot32'\n",
    "agent = 'two'\n",
    "\n",
    "cur_pros = process_data[f'{process_name}']\n",
    "cur_res = res_data[f'{resource}_res']\n",
    "\n",
    "event_id, ts = create_event(users_data[f'{agent}'], action, event_note, amount=amount, process=cur_pros, \\\n",
    "                            res_spec_data=res_spec_data, existing_res=cur_res, endpoint=ENDPOINT)\n",
    "\n",
    "event_seq.append({'ts': ts, 'event_id':event_id, 'action' : action, 'res_name': cur_res['name'], 'res': cur_res['id']})\n"
   ]
  },
  {
   "cell_type": "code",
   "execution_count": null,
   "id": "5f65b90a-9939-4508-bb3e-db35c2295328",
   "metadata": {
    "scrolled": true
   },
   "outputs": [],
   "source": [
    "# Forth Pillar\n",
    "# Pillar_1\n",
    "# Input event 2\n",
    "# Define input consume 1 x M6nutplate event for Pillar Assembly: \n",
    "process_name = 'Forth_Pillar_1'\n",
    "event_note='Input consume 1 x M6nutplate event for Pillar Assembly'\n",
    "\n",
    "action = 'consume'\n",
    "amount = 1\n",
    "resource = 'M6nutplate'\n",
    "agent = 'two'\n",
    "\n",
    "cur_pros = process_data[f'{process_name}']\n",
    "cur_res = res_data[f'{resource}_res']\n",
    "\n",
    "event_id, ts = create_event(users_data[f'{agent}'], action, event_note, amount=amount, process=cur_pros, \\\n",
    "                            res_spec_data=res_spec_data, existing_res=cur_res, endpoint=ENDPOINT)\n",
    "\n",
    "event_seq.append({'ts': ts, 'event_id':event_id, 'action' : action, 'res_name': cur_res['name'], 'res': cur_res['id']})\n"
   ]
  },
  {
   "cell_type": "code",
   "execution_count": null,
   "id": "123ba009-f0a3-4c0e-913b-e1d5117871e8",
   "metadata": {
    "scrolled": true
   },
   "outputs": [],
   "source": [
    "# Forth Pillar\n",
    "# Pillar_1\n",
    "# Input event 3\n",
    "# Define input consume RAConnector event for Pillar Assembly: \n",
    "process_name = 'Forth_Pillar_1'\n",
    "event_note='Input consume 1 x RAConnector event for Pillar Assembly'\n",
    "\n",
    "action = 'consume'\n",
    "amount = 1\n",
    "resource = 'RAConnector'\n",
    "agent = 'two'\n",
    "\n",
    "cur_pros = process_data[f'{process_name}']\n",
    "cur_res = res_data[f'{resource}_res']\n",
    "\n",
    "event_id, ts = create_event(users_data[f'{agent}'], action, event_note, amount=amount, process=cur_pros, \\\n",
    "                            res_spec_data=res_spec_data, existing_res=cur_res, endpoint=ENDPOINT)\n",
    "\n",
    "event_seq.append({'ts': ts, 'event_id':event_id, 'action' : action, 'res_name': cur_res['name'], 'res': cur_res['id']})\n"
   ]
  },
  {
   "cell_type": "code",
   "execution_count": null,
   "id": "8f2e4c61-1136-4c43-bf0c-1baa472d0e6f",
   "metadata": {
    "scrolled": true
   },
   "outputs": [],
   "source": [
    "# Forth Pillar\n",
    "# Pillar_1\n",
    "# Input event 4\n",
    "# Define input consume 1 x M6x12 event for Pillar Assembly: \n",
    "process_name = 'Forth_Pillar_1'\n",
    "event_note='Input consume 1 x M6x12 event for Pillar Assembly'\n",
    "\n",
    "action = 'consume'\n",
    "amount = 1\n",
    "resource = 'M6x12'\n",
    "agent = 'two'\n",
    "\n",
    "cur_pros = process_data[f'{process_name}']\n",
    "cur_res = res_data[f'{resource}_res']\n",
    "\n",
    "event_id, ts = create_event(users_data[f'{agent}'], action, event_note, amount=amount, process=cur_pros, \\\n",
    "                            res_spec_data=res_spec_data, existing_res=cur_res, endpoint=ENDPOINT)\n",
    "\n",
    "event_seq.append({'ts': ts, 'event_id':event_id, 'action' : action, 'res_name': cur_res['name'], 'res': cur_res['id']})\n"
   ]
  },
  {
   "cell_type": "code",
   "execution_count": null,
   "id": "30ce5f69-aba6-42c8-9106-13730cb86194",
   "metadata": {
    "scrolled": true
   },
   "outputs": [],
   "source": [
    "# Forth Pillar\n",
    "# Pillar_1\n",
    "# Input event 5\n",
    "# Define input use Allen Key for LowerFrame Assembly: \n",
    "process_name = 'Forth_Pillar_1'\n",
    "event_note='Input use Allen Key event for Lower Frame Assembly'\n",
    "\n",
    "action = 'use'\n",
    "amount = 1\n",
    "resource = 'Allen_Key'\n",
    "agent = 'two'\n",
    "\n",
    "cur_pros = process_data[f'{process_name}']\n",
    "cur_res = res_data[f'{resource}_res']\n",
    "\n",
    "#####\n",
    "effort_spec = {}\n",
    "effort_spec['unit_id'] = res_spec_data['assembly_construction']['defaultUnit']\n",
    "# effort_spec['spec_id'] = res_spec_data['assembly_construction']['id']\n",
    "effort_spec['amount'] = 0.03\n",
    "\n",
    "\n",
    "event_id, ts = create_event(users_data[f'{agent}'], action, event_note, amount=amount, process=cur_pros, \\\n",
    "                 res_spec_data=res_spec_data, existing_res=cur_res, effort_spec=effort_spec, endpoint=ENDPOINT)\n",
    "\n",
    "event_seq.append({'ts': ts, 'event_id':event_id, 'action' : action, 'res_name': cur_res['name'], 'res': cur_res['id']})\n"
   ]
  },
  {
   "cell_type": "code",
   "execution_count": null,
   "id": "1640f3d4-cddc-44b8-85bd-857e44515a64",
   "metadata": {
    "tags": []
   },
   "outputs": [],
   "source": [
    "# Forth Pillar\n",
    "# Pillar_1\n",
    "# Input event 6\n",
    "# Define input event work of the Pillar Pillar_1\n",
    "process_name = 'Forth_Pillar_1'\n",
    "event_note='Insert one M6nutplate at one end of a Tslot32 beam and use it to connect one of the RAconnectors to that beam with a M6x12 screw.'\n",
    "\n",
    "action = 'work'\n",
    "amount = 0.05\n",
    "agent = 'two'\n",
    "\n",
    "\n",
    "cur_pros = process_data[f'{process_name}']\n",
    "\n",
    "effort_spec = {}\n",
    "effort_spec['unit_id'] = res_spec_data['assembly_construction']['defaultUnit']\n",
    "effort_spec['spec_id'] = res_spec_data['assembly_construction']['id']\n",
    "effort_spec['amount'] = amount\n",
    "\n",
    "event_id, ts = create_event(users_data[f'{agent}'], action, event_note, amount=amount, process=cur_pros, \\\n",
    "                 res_spec_data=res_spec_data, effort_spec=effort_spec, endpoint=ENDPOINT)\n",
    "\n",
    "event_seq.append({'ts': ts, 'event_id':event_id, 'action' : action, 'res_name': cur_res['name'], 'res': cur_res['id']})\n"
   ]
  },
  {
   "cell_type": "code",
   "execution_count": null,
   "id": "ae6025e3-5f92-4d80-87d3-ee879f127144",
   "metadata": {
    "tags": []
   },
   "outputs": [],
   "source": [
    "# PROCESS wrap\n",
    "event_seq.append({'ts': ts, 'event_id':cur_pros['id'], 'action' : cur_pros['name'], 'res_name': cur_res['name'], 'res': cur_res['id']})"
   ]
  },
  {
   "cell_type": "code",
   "execution_count": null,
   "id": "8b94a0fd-dfb8-41c7-8f99-d5fc849695f3",
   "metadata": {
    "scrolled": true
   },
   "outputs": [],
   "source": [
    "# Forth Pillar\n",
    "# Pillar_1\n",
    "# Output event 1\n",
    "# Define output produce event of the Pillar\n",
    "process_name = 'Forth_Pillar_1'\n",
    "event_note='produce Pillar'\n",
    "\n",
    "action = 'produce'\n",
    "amount = 1\n",
    "\n",
    "produced_resource ='forth_pillar'\n",
    "produced_resource_spec ='pillar'\n",
    "\n",
    "cur_pros = process_data[f'{process_name}']\n",
    "\n",
    "res_data[f'{produced_resource}_res'] = {\n",
    "    \"res_ref_id\": f'{produced_resource}-{random.randint(0, 10000)}',\n",
    "    \"name\": f'{produced_resource}',\n",
    "    \"spec_id\": res_spec_data[f'{produced_resource_spec}']['id']\n",
    "}\n",
    "cur_res = res_data[f'{produced_resource}_res']\n",
    "\n",
    "# for produce events, note new_res=cur_res parameter is required\n",
    "event_id, ts = create_event(users_data[f'{agent}'], action, event_note, amount=amount, process=cur_pros, \\\n",
    "                 res_spec_data=res_spec_data, new_res=cur_res, endpoint=ENDPOINT)\n",
    "\n",
    "event_seq.append({'ts': ts, 'event_id':event_id, 'action' : action, 'res_name': cur_res['name'], 'res': cur_res['id']})\n"
   ]
  },
  {
   "cell_type": "code",
   "execution_count": null,
   "id": "389a0e2f-d441-4c7b-90cb-6804e593c9bd",
   "metadata": {
    "tags": []
   },
   "outputs": [],
   "source": [
    "# Forth Pillar\n",
    "# Pillar_2\n",
    "# Input event 1\n",
    "# Define input event accept of the Pillar\n",
    "process_name = 'Forth_Pillar_2'\n",
    "event_note='accept Pillar to be modified'\n",
    "\n",
    "action = 'accept'\n",
    "amount = 1\n",
    "resource = 'forth_pillar'\n",
    "agent = 'two'\n",
    "\n",
    "\n",
    "cur_pros = process_data[f'{process_name}']\n",
    "cur_res = res_data[f'{resource}_res']\n",
    "\n",
    "event_id, ts = create_event(users_data[f'{agent}'], action, event_note, amount=amount, process=cur_pros, \\\n",
    "                 res_spec_data=res_spec_data, existing_res=cur_res, endpoint=ENDPOINT)\n",
    "\n",
    "event_seq.append({'ts': ts, 'event_id':event_id, 'action' : action, 'res_name': cur_res['name'], 'res': cur_res['id']})\n"
   ]
  },
  {
   "cell_type": "code",
   "execution_count": null,
   "id": "f5ceb135-7cf1-48cc-8324-bd29d28f5177",
   "metadata": {
    "scrolled": true
   },
   "outputs": [],
   "source": [
    "# Forth Pillar\n",
    "# Pillar_2\n",
    "# Input event 2\n",
    "# Define input consume 3 x M6nutplate event for Pillar Assembly: \n",
    "process_name = 'Forth_Pillar_2'\n",
    "event_note='Input consume 3 x M6nutplate event for Pillar Assembly'\n",
    "\n",
    "action = 'consume'\n",
    "amount = 3\n",
    "resource = 'M6nutplate'\n",
    "agent = 'two'\n",
    "\n",
    "cur_pros = process_data[f'{process_name}']\n",
    "cur_res = res_data[f'{resource}_res']\n",
    "\n",
    "event_id, ts = create_event(users_data[f'{agent}'], action, event_note, amount=amount, process=cur_pros, \\\n",
    "                            res_spec_data=res_spec_data, existing_res=cur_res, endpoint=ENDPOINT)\n",
    "\n",
    "event_seq.append({'ts': ts, 'event_id':event_id, 'action' : action, 'res_name': cur_res['name'], 'res': cur_res['id']})\n"
   ]
  },
  {
   "cell_type": "code",
   "execution_count": null,
   "id": "ad484d13-a317-4551-8f31-193ba044be37",
   "metadata": {
    "scrolled": true
   },
   "outputs": [],
   "source": [
    "# Forth Pillar\n",
    "# Pillar_2\n",
    "# Input event 3\n",
    "# Define input consume RAConnector event for Pillar Assembly: \n",
    "process_name = 'Forth_Pillar_2'\n",
    "event_note='Input consume 1 x RAConnector event for Pillar Assembly'\n",
    "\n",
    "action = 'consume'\n",
    "amount = 1\n",
    "resource = 'RAConnector'\n",
    "agent = 'two'\n",
    "\n",
    "\n",
    "cur_pros = process_data[f'{process_name}']\n",
    "cur_res = res_data[f'{resource}_res']\n",
    "\n",
    "event_id, ts = create_event(users_data[f'{agent}'], action, event_note, amount=amount, process=cur_pros, \\\n",
    "                            res_spec_data=res_spec_data, existing_res=cur_res, endpoint=ENDPOINT)\n",
    "\n",
    "event_seq.append({'ts': ts, 'event_id':event_id, 'action' : action, 'res_name': cur_res['name'], 'res': cur_res['id']})\n"
   ]
  },
  {
   "cell_type": "code",
   "execution_count": null,
   "id": "b732939d-0b78-4083-91a6-96fc98f300f1",
   "metadata": {
    "scrolled": true
   },
   "outputs": [],
   "source": [
    "# Forth Pillar\n",
    "# Pillar_2\n",
    "# Input event 4\n",
    "# Define input use Allen Key for Pillar Assembly: \n",
    "process_name = 'Forth_Pillar_2'\n",
    "event_note='Input use Allen Key event for Lower Frame Assembly'\n",
    "\n",
    "action = 'use'\n",
    "amount = 1\n",
    "resource = 'Allen_Key'\n",
    "agent = 'two'\n",
    "\n",
    "\n",
    "cur_pros = process_data[f'{process_name}']\n",
    "cur_res = res_data[f'{resource}_res']\n",
    "\n",
    "#####\n",
    "effort_spec = {}\n",
    "effort_spec['unit_id'] = res_spec_data['assembly_construction']['defaultUnit']\n",
    "# effort_spec['spec_id'] = res_spec_data['assembly_construction']['id']\n",
    "effort_spec['amount'] = 0.03\n",
    "\n",
    "\n",
    "event_id, ts = create_event(users_data[f'{agent}'], action, event_note, amount=amount, process=cur_pros, \\\n",
    "                 res_spec_data=res_spec_data, existing_res=cur_res, effort_spec=effort_spec, endpoint=ENDPOINT)\n",
    "\n",
    "event_seq.append({'ts': ts, 'event_id':event_id, 'action' : action, 'res_name': cur_res['name'], 'res': cur_res['id']})\n"
   ]
  },
  {
   "cell_type": "code",
   "execution_count": null,
   "id": "b39ca912-5dcd-4b63-bb26-8e1694de29c7",
   "metadata": {
    "tags": []
   },
   "outputs": [],
   "source": [
    "# Forth Pillar\n",
    "# Pillar_2\n",
    "# Input event 5\n",
    "# Define input event work of the Pillar Pillar_2\n",
    "process_name = 'Forth_Pillar_2'\n",
    "event_note='Insert three M6nutplates more at the other end of the beam and use one of them to connect another RAconnector there.'\n",
    "\n",
    "action = 'work'\n",
    "# amount = 0.05\n",
    "agent = 'one'\n",
    "\n",
    "\n",
    "cur_pros = process_data[f'{process_name}']\n",
    "effort_spec = {}\n",
    "effort_spec['unit_id'] = res_spec_data['assembly_construction']['defaultUnit']\n",
    "effort_spec['spec_id'] = res_spec_data['assembly_construction']['id']\n",
    "effort_spec['amount'] = 0.05\n",
    "\n",
    "event_id, ts = create_event(users_data[f'{agent}'], action, event_note, amount=amount, process=cur_pros, \\\n",
    "                 res_spec_data=res_spec_data, effort_spec=effort_spec, endpoint=ENDPOINT)\n",
    "\n",
    "event_seq.append({'ts': ts, 'event_id':event_id, 'action' : action, 'res_name': cur_res['name'], 'res': cur_res['id']})\n"
   ]
  },
  {
   "cell_type": "code",
   "execution_count": null,
   "id": "f38164ab-c003-4f89-89cb-bd51e21cc53b",
   "metadata": {
    "tags": []
   },
   "outputs": [],
   "source": [
    "# PROCESS wrap\n",
    "event_seq.append({'ts': ts, 'event_id':cur_pros['id'], 'action' : cur_pros['name'], 'res_name': cur_res['name'], 'res': cur_res['id']})"
   ]
  },
  {
   "cell_type": "code",
   "execution_count": null,
   "id": "0a6ee7ee-28e7-409f-91d1-6296e90df24e",
   "metadata": {
    "tags": []
   },
   "outputs": [],
   "source": [
    "# Forth Pillar\n",
    "# Pillar_2\n",
    "# Output event 1\n",
    "# Define output event modify Pillar\n",
    "process_name = 'Forth_Pillar_2'\n",
    "event_note='modify Pillar'\n",
    "\n",
    "action = 'modify'\n",
    "amount = 1\n",
    "agent = 'two'\n",
    "\n",
    "\n",
    "cur_pros = process_data[f'{process_name}']\n",
    "\n",
    "cur_res = res_data[f'{produced_resource}_res']\n",
    "\n",
    "event_id, ts = create_event(users_data[f'{agent}'], action, event_note, amount=amount, process=cur_pros, \\\n",
    "                 res_spec_data=res_spec_data, existing_res=cur_res, endpoint=ENDPOINT)\n",
    "\n",
    "event_seq.append({'ts': ts, 'event_id':event_id, 'action' : action, 'res_name': cur_res['name'], 'res': cur_res['id']})\n"
   ]
  },
  {
   "cell_type": "markdown",
   "id": "7bf2859c-549a-4c7d-bba4-6d533194b8d5",
   "metadata": {
    "tags": []
   },
   "source": [
    "## BoxFrame"
   ]
  },
  {
   "cell_type": "code",
   "execution_count": null,
   "id": "19a8c04d-74df-4d41-ad0f-087f150167b3",
   "metadata": {
    "tags": []
   },
   "outputs": [],
   "source": [
    "# First Pillar to Box Frame connection\n",
    "# First_Pillar_Box_Frame_Connect\n",
    "# Input event 1\n",
    "# Define input event accept Lower Frame\n",
    "process_name = 'First_Pillar_Box_Frame_Connect'\n",
    "event_note='consume Lower Frame for adding Pillar'\n",
    "\n",
    "action = 'consume'\n",
    "amount = 1\n",
    "resource = 'lower_frame'\n",
    "agent = 'two'\n",
    "\n",
    "\n",
    "cur_res = res_data[f'{resource}_res']\n",
    "\n",
    "cur_pros = process_data[f'{process_name}']\n",
    "\n",
    "event_id, ts = create_event(users_data[f'{agent}'], action, event_note, amount=amount, process=cur_pros, \\\n",
    "                 res_spec_data=res_spec_data, existing_res=cur_res, endpoint=ENDPOINT)\n",
    "\n",
    "event_seq.append({'ts': ts, 'event_id':event_id, 'action' : action, 'res_name': cur_res['name'], 'res': cur_res['id']})\n"
   ]
  },
  {
   "cell_type": "code",
   "execution_count": null,
   "id": "08ede854-f71e-4d91-8eee-2a9769a25a00",
   "metadata": {
    "tags": []
   },
   "outputs": [],
   "source": [
    "# First Pillar to Box Frame connection\n",
    "# First_Pillar_Box_Frame_Connect\n",
    "# Input event 2\n",
    "# Define input event consume first_pillar\n",
    "process_name = 'First_Pillar_Box_Frame_Connect'\n",
    "event_note='consume Pillar into Lower Frame'\n",
    "\n",
    "action = 'consume'\n",
    "resource = 'first_pillar'\n",
    "amount = 1\n",
    "agent = 'two'\n",
    "\n",
    "\n",
    "cur_res = res_data[f'{resource}_res']\n",
    "\n",
    "cur_pros = process_data[f'{process_name}']\n",
    "\n",
    "event_id, ts = create_event(users_data[f'{agent}'], action, event_note, amount=amount, process=cur_pros, \\\n",
    "                 res_spec_data=res_spec_data, existing_res=cur_res, endpoint=ENDPOINT)\n",
    "\n",
    "event_seq.append({'ts': ts, 'event_id':event_id, 'action' : action, 'res_name': cur_res['name'], 'res': cur_res['id']})\n"
   ]
  },
  {
   "cell_type": "code",
   "execution_count": null,
   "id": "38427e02-a803-4fd7-a595-a2b128766f86",
   "metadata": {
    "tags": []
   },
   "outputs": [],
   "source": [
    "# First Pillar to Box Frame connection\n",
    "# First_Pillar_Box_Frame_Connect\n",
    "# Input event 3\n",
    "# Define input event consume M6nutplate\n",
    "process_name = 'First_Pillar_Box_Frame_Connect'\n",
    "event_note='consume M6nutplate into Box Frame'\n",
    "\n",
    "action = 'consume'\n",
    "resource = 'M6nutplate'\n",
    "amount = 1\n",
    "agent = 'two'\n",
    "\n",
    "cur_res = res_data[f'{resource}_res']\n",
    "\n",
    "cur_pros = process_data[f'{process_name}']\n",
    "\n",
    "event_id, ts = create_event(users_data[f'{agent}'], action, event_note, amount=amount, process=cur_pros, \\\n",
    "                 res_spec_data=res_spec_data, existing_res=cur_res, endpoint=ENDPOINT)\n",
    "\n",
    "event_seq.append({'ts': ts, 'event_id':event_id, 'action' : action, 'res_name': cur_res['name'], 'res': cur_res['id']})\n"
   ]
  },
  {
   "cell_type": "code",
   "execution_count": null,
   "id": "503130a3-bbad-4092-9cf1-9f099e7cb57c",
   "metadata": {
    "tags": []
   },
   "outputs": [],
   "source": [
    "# First Pillar to Box Frame connection\n",
    "# First_Pillar_Box_Frame_Connect\n",
    "# Input event 4\n",
    "# Define input event consume M6x12 screw\n",
    "process_name = 'First_Pillar_Box_Frame_Connect'\n",
    "event_note='consume M6nutplate into Lower Frame'\n",
    "\n",
    "action = 'consume'\n",
    "resource = 'M6x12'\n",
    "amount = 1\n",
    "agent = 'two'\n",
    "\n",
    "\n",
    "cur_res = res_data[f'{resource}_res']\n",
    "\n",
    "cur_pros = process_data[f'{process_name}']\n",
    "\n",
    "event_id, ts = create_event(users_data[f'{agent}'], action, event_note, amount=amount, process=cur_pros, \\\n",
    "                 res_spec_data=res_spec_data, existing_res=cur_res, endpoint=ENDPOINT)\n",
    "\n",
    "event_seq.append({'ts': ts, 'event_id':event_id, 'action' : action, 'res_name': cur_res['name'], 'res': cur_res['id']})\n"
   ]
  },
  {
   "cell_type": "code",
   "execution_count": null,
   "id": "38fe089d-d1d6-4418-9da1-9ac01e9718cd",
   "metadata": {},
   "outputs": [],
   "source": [
    "# First Pillar to Box Frame connection\n",
    "# First_Pillar_Box_Frame_Connect\n",
    "# Input event 5\n",
    "# Define input use Allen Key for Pillar to Box Frame connection\n",
    "process_name = 'First_Pillar_Box_Frame_Connect'\n",
    "event_note='Input use Allen Key event for Pillar to Lower Frame connection'\n",
    "\n",
    "action = 'use'\n",
    "resource = 'Allen_Key'\n",
    "amount = 1\n",
    "agent = 'two'\n",
    "\n",
    "\n",
    "cur_res = res_data[f'{resource}_res']\n",
    "cur_pros = process_data[f'{process_name}']\n",
    "\n",
    "#####\n",
    "effort_spec = {}\n",
    "effort_spec['unit_id'] = res_spec_data['assembly_construction']['defaultUnit']\n",
    "# effort_spec['spec_id'] = res_spec_data['assembly_construction']['id']\n",
    "effort_spec['amount'] = 0.03\n",
    "\n",
    "\n",
    "event_id, ts = create_event(users_data[f'{agent}'], action, event_note, amount=amount, process=cur_pros, \\\n",
    "                 res_spec_data=res_spec_data, existing_res=cur_res, effort_spec=effort_spec, endpoint=ENDPOINT)\n",
    "\n",
    "event_seq.append({'ts': ts, 'event_id':event_id, 'action' : action, 'res_name': cur_res['name'], 'res': cur_res['id']})\n"
   ]
  },
  {
   "cell_type": "code",
   "execution_count": null,
   "id": "49196a8a-6af5-4878-a237-60c0ac693d28",
   "metadata": {},
   "outputs": [],
   "source": [
    "# First Pillar to Box Frame connection\n",
    "# First_Pillar_Box_Frame_Connect\n",
    "# Input event 6\n",
    "# Define input event work for Pillar to Lower Frame connection\n",
    "process_name = 'First_Pillar_Box_Frame_Connect'\n",
    "event_note='Insert a M6nutplate into the upper slot of the lower frame subassembly and connect one pillar subassembly to it with a M6x12 screw.'\n",
    "\n",
    "action = 'work'\n",
    "amount = 0.05\n",
    "agent = 'one'\n",
    "\n",
    "\n",
    "cur_pros = process_data[f'{process_name}']\n",
    "\n",
    "effort_spec = {}\n",
    "effort_spec['unit_id'] = res_spec_data['assembly_construction']['defaultUnit']\n",
    "effort_spec['spec_id'] = res_spec_data['assembly_construction']['id']\n",
    "effort_spec['amount'] = amount\n",
    "\n",
    "event_id, ts = create_event(users_data[f'{agent}'], action, event_note, amount=amount, process=cur_pros, \\\n",
    "                 res_spec_data=res_spec_data, effort_spec=effort_spec, endpoint=ENDPOINT)\n",
    "\n",
    "event_seq.append({'ts': ts, 'event_id':event_id, 'action' : action, 'res_name': cur_res['name'], 'res': cur_res['id']})\n"
   ]
  },
  {
   "cell_type": "code",
   "execution_count": null,
   "id": "2a9d94f8-d12f-4e63-a30d-5cd7f893744b",
   "metadata": {
    "tags": []
   },
   "outputs": [],
   "source": [
    "# PROCESS wrap\n",
    "event_seq.append({'ts': ts, 'event_id':cur_pros['id'], 'action' : cur_pros['name'], 'res_name': cur_res['name'], 'res': cur_res['id']})"
   ]
  },
  {
   "cell_type": "code",
   "execution_count": null,
   "id": "5e798d6a-61a8-4ab8-b574-d30a25e8b083",
   "metadata": {
    "tags": []
   },
   "outputs": [],
   "source": [
    "# First Pillar to Box Frame connection\n",
    "# First_Pillar_Box_Frame_Connect\n",
    "# Output event 1\n",
    "# Define output event produce Box Frame\n",
    "process_name = 'First_Pillar_Box_Frame_Connect'\n",
    "event_note='produce Box Frame with First Pillar'\n",
    "\n",
    "action = 'produce'\n",
    "# resource = 'box_frame'\n",
    "amount = 1\n",
    "agent = 'two'\n",
    "\n",
    "cur_pros = process_data[f'{process_name}']\n",
    "\n",
    "produced_resource ='box_frame'\n",
    "produced_resource_spec ='box_frame'\n",
    "\n",
    "res_data[f'{produced_resource}_res'] = {\n",
    "    \"res_ref_id\": f'{produced_resource}-{random.randint(0, 10000)}',\n",
    "    \"name\": f'{produced_resource}',\n",
    "    \"spec_id\": res_spec_data[f'{produced_resource_spec}']['id']\n",
    "}\n",
    "cur_res = res_data[f'{produced_resource}_res']\n",
    "\n",
    "event_id, ts = create_event(users_data[f'{agent}'], action, event_note, amount=amount, process=cur_pros, \\\n",
    "                 res_spec_data=res_spec_data, new_res=cur_res, endpoint=ENDPOINT)\n",
    "\n",
    "event_seq.append({'ts': ts, 'event_id':event_id, 'action' : action, 'res_name': cur_res['name'], 'res': cur_res['id']})\n"
   ]
  },
  {
   "cell_type": "code",
   "execution_count": null,
   "id": "8c23a2f4-b1f1-4760-86a8-594355c5148e",
   "metadata": {
    "tags": []
   },
   "outputs": [],
   "source": [
    "# Second Pillar to Box Frame connection\n",
    "# Second_Pillar_Box_Frame_Connect\n",
    "# Input event 1\n",
    "# Define input event accept Box Frame\n",
    "process_name = 'Second_Pillar_Box_Frame_Connect'\n",
    "event_note='accept Box Frame for adding Pillar'\n",
    "\n",
    "action = 'accept'\n",
    "amount = 1\n",
    "resource = 'box_frame'\n",
    "agent = 'two'\n",
    "\n",
    "\n",
    "cur_res = res_data[f'{resource}_res']\n",
    "\n",
    "cur_pros = process_data[f'{process_name}']\n",
    "\n",
    "event_id, ts = create_event(users_data[f'{agent}'], action, event_note, amount=amount, process=cur_pros, \\\n",
    "                 res_spec_data=res_spec_data, existing_res=cur_res, endpoint=ENDPOINT)\n",
    "\n",
    "event_seq.append({'ts': ts, 'event_id':event_id, 'action' : action, 'res_name': cur_res['name'], 'res': cur_res['id']})\n"
   ]
  },
  {
   "cell_type": "code",
   "execution_count": null,
   "id": "6e6755fd-c550-40a9-a524-e1a85991d689",
   "metadata": {
    "tags": []
   },
   "outputs": [],
   "source": [
    "# Second Pillar to Box Frame connection\n",
    "# Second_Pillar_Box_Frame_Connect\n",
    "# Input event 2\n",
    "# Define input event accept Lower Frame\n",
    "process_name = 'Second_Pillar_Box_Frame_Connect'\n",
    "event_note='consume Pillar into Box Frame'\n",
    "\n",
    "action = 'consume'\n",
    "resource = 'second_pillar'\n",
    "amount = 1\n",
    "agent = 'two'\n",
    "\n",
    "\n",
    "cur_res = res_data[f'{resource}_res']\n",
    "\n",
    "cur_pros = process_data[f'{process_name}']\n",
    "\n",
    "event_id, ts = create_event(users_data[f'{agent}'], action, event_note, amount=amount, process=cur_pros, \\\n",
    "                 res_spec_data=res_spec_data, existing_res=cur_res, endpoint=ENDPOINT)\n",
    "\n",
    "event_seq.append({'ts': ts, 'event_id':event_id, 'action' : action, 'res_name': cur_res['name'], 'res': cur_res['id']})\n"
   ]
  },
  {
   "cell_type": "code",
   "execution_count": null,
   "id": "b4d35ac0-9deb-4dd9-8b4c-4a9625b22f87",
   "metadata": {
    "tags": []
   },
   "outputs": [],
   "source": [
    "# Second Pillar to Box Frame connection\n",
    "# Second_Pillar_Box_Frame_Connect\n",
    "# Input event 3\n",
    "# Define input event consume M6nutplate\n",
    "process_name = 'Second_Pillar_Box_Frame_Connect'\n",
    "event_note='consume M6nutplate into Lower Frame'\n",
    "\n",
    "action = 'consume'\n",
    "resource = 'M6nutplate'\n",
    "amount = 1\n",
    "agent = 'two'\n",
    "\n",
    "cur_res = res_data[f'{resource}_res']\n",
    "\n",
    "cur_pros = process_data[f'{process_name}']\n",
    "\n",
    "event_id, ts = create_event(users_data[f'{agent}'], action, event_note, amount=amount, process=cur_pros, \\\n",
    "                 res_spec_data=res_spec_data, existing_res=cur_res, endpoint=ENDPOINT)\n",
    "\n",
    "event_seq.append({'ts': ts, 'event_id':event_id, 'action' : action, 'res_name': cur_res['name'], 'res': cur_res['id']})\n"
   ]
  },
  {
   "cell_type": "code",
   "execution_count": null,
   "id": "16e2a9e2-c9d7-47d5-b5ee-8d27dd0405bb",
   "metadata": {
    "tags": []
   },
   "outputs": [],
   "source": [
    "# Second Pillar to Box Frame connection\n",
    "# Second_Pillar_Box_Frame_Connect\n",
    "# Input event 4\n",
    "# Define input event consume M6x12 screw\n",
    "process_name = 'Second_Pillar_Box_Frame_Connect'\n",
    "event_note='consume M6nutplate into Lower Frame'\n",
    "\n",
    "action = 'consume'\n",
    "resource = 'M6x12'\n",
    "amount = 1\n",
    "agent = 'two'\n",
    "\n",
    "\n",
    "cur_res = res_data[f'{resource}_res']\n",
    "\n",
    "cur_pros = process_data[f'{process_name}']\n",
    "\n",
    "event_id, ts = create_event(users_data[f'{agent}'], action, event_note, amount=amount, process=cur_pros, \\\n",
    "                 res_spec_data=res_spec_data, existing_res=cur_res, endpoint=ENDPOINT)\n",
    "\n",
    "event_seq.append({'ts': ts, 'event_id':event_id, 'action' : action, 'res_name': cur_res['name'], 'res': cur_res['id']})\n"
   ]
  },
  {
   "cell_type": "code",
   "execution_count": null,
   "id": "0a99a780-acef-4a6c-a218-a38f1239399b",
   "metadata": {},
   "outputs": [],
   "source": [
    "# Second Pillar to Box Frame connection\n",
    "# Second_Pillar_Box_Frame_Connect\n",
    "# Input event 5\n",
    "# Define input use Allen Key for Pillar to Box Frame connection\n",
    "process_name = 'Second_Pillar_Box_Frame_Connect'\n",
    "event_note='Input use Allen Key event for Pillar to Lower Frame connection'\n",
    "\n",
    "action = 'use'\n",
    "resource = 'Allen_Key'\n",
    "amount = 1\n",
    "agent = 'two'\n",
    "\n",
    "\n",
    "cur_res = res_data[f'{resource}_res']\n",
    "cur_pros = process_data[f'{process_name}']\n",
    "\n",
    "#####\n",
    "effort_spec = {}\n",
    "effort_spec['unit_id'] = res_spec_data['assembly_construction']['defaultUnit']\n",
    "# effort_spec['spec_id'] = res_spec_data['assembly_construction']['id']\n",
    "effort_spec['amount'] = 0.03\n",
    "\n",
    "\n",
    "event_id, ts = create_event(users_data[f'{agent}'], action, event_note, amount=amount, process=cur_pros, \\\n",
    "                 res_spec_data=res_spec_data, existing_res=cur_res, effort_spec=effort_spec, endpoint=ENDPOINT)\n",
    "\n",
    "event_seq.append({'ts': ts, 'event_id':event_id, 'action' : action, 'res_name': cur_res['name'], 'res': cur_res['id']})\n"
   ]
  },
  {
   "cell_type": "code",
   "execution_count": null,
   "id": "67d1451a-4b93-4776-bdb6-7ffe80c1826f",
   "metadata": {},
   "outputs": [],
   "source": [
    "# Second Pillar to Box Frame connection\n",
    "# Second_Pillar_Box_Frame_Connect\n",
    "# Input event 6\n",
    "# Define input event work for Pillar to Box Frame connection\n",
    "process_name = 'Second_Pillar_Box_Frame_Connect'\n",
    "event_note='Insert a M6nutplate into the upper slot of the lower frame subassembly and connect one pillar subassembly to it with a M6x12 screw.'\n",
    "\n",
    "action = 'work'\n",
    "amount = 0.05\n",
    "agent = 'one'\n",
    "\n",
    "\n",
    "cur_pros = process_data[f'{process_name}']\n",
    "\n",
    "effort_spec = {}\n",
    "effort_spec['unit_id'] = res_spec_data['assembly_construction']['defaultUnit']\n",
    "effort_spec['spec_id'] = res_spec_data['assembly_construction']['id']\n",
    "effort_spec['amount'] = amount\n",
    "\n",
    "event_id, ts = create_event(users_data[f'{agent}'], action, event_note, amount=amount, process=cur_pros, \\\n",
    "                 res_spec_data=res_spec_data, effort_spec=effort_spec, endpoint=ENDPOINT)\n",
    "\n",
    "event_seq.append({'ts': ts, 'event_id':event_id, 'action' : action, 'res_name': cur_res['name'], 'res': cur_res['id']})\n"
   ]
  },
  {
   "cell_type": "code",
   "execution_count": null,
   "id": "d5acf3db-fe70-4869-bf5a-27638e0cef15",
   "metadata": {
    "tags": []
   },
   "outputs": [],
   "source": [
    "# PROCESS wrap\n",
    "event_seq.append({'ts': ts, 'event_id':cur_pros['id'], 'action' : cur_pros['name'], 'res_name': cur_res['name'], 'res': cur_res['id']})"
   ]
  },
  {
   "cell_type": "code",
   "execution_count": null,
   "id": "efafeff0-3263-4176-a8b7-646210593fbf",
   "metadata": {
    "tags": []
   },
   "outputs": [],
   "source": [
    "# Second Pillar to Box Frame connection\n",
    "# Second_Pillar_Box_Frame_Connect\n",
    "# Output event 1\n",
    "# Define output event modify Box Frame\n",
    "process_name = 'Second_Pillar_Box_Frame_Connect'\n",
    "event_note='modify Lower Frame attaching Pillar'\n",
    "\n",
    "action = 'modify'\n",
    "resource = 'box_frame'\n",
    "amount = 1\n",
    "agent = 'two'\n",
    "\n",
    "\n",
    "cur_res = res_data[f'{resource}_res']\n",
    "\n",
    "cur_pros = process_data[f'{process_name}']\n",
    "\n",
    "\n",
    "event_id, ts = create_event(users_data[f'{agent}'], action, event_note, amount=amount, process=cur_pros, \\\n",
    "                 res_spec_data=res_spec_data, existing_res=cur_res, endpoint=ENDPOINT)\n",
    "\n",
    "event_seq.append({'ts': ts, 'event_id':event_id, 'action' : action, 'res_name': cur_res['name'], 'res': cur_res['id']})\n"
   ]
  },
  {
   "cell_type": "code",
   "execution_count": null,
   "id": "2c530aa4-f241-4134-b0f2-083ee91ec6a1",
   "metadata": {
    "tags": []
   },
   "outputs": [],
   "source": [
    "# Third Pillar to Box Frame connection\n",
    "# Third_Pillar_Box_Frame_Connect\n",
    "# Input event 1\n",
    "# Define input event accept Box Frame\n",
    "process_name = 'Third_Pillar_Box_Frame_Connect'\n",
    "event_note='accept Box Frame for adding Pillar'\n",
    "\n",
    "action = 'accept'\n",
    "amount = 1\n",
    "resource = 'box_frame'\n",
    "agent = 'two'\n",
    "\n",
    "\n",
    "cur_res = res_data[f'{resource}_res']\n",
    "\n",
    "cur_pros = process_data[f'{process_name}']\n",
    "\n",
    "event_id, ts = create_event(users_data[f'{agent}'], action, event_note, amount=amount, process=cur_pros, \\\n",
    "                 res_spec_data=res_spec_data, existing_res=cur_res, endpoint=ENDPOINT)\n",
    "\n",
    "event_seq.append({'ts': ts, 'event_id':event_id, 'action' : action, 'res_name': cur_res['name'], 'res': cur_res['id']})\n"
   ]
  },
  {
   "cell_type": "code",
   "execution_count": null,
   "id": "3a23abf1-bac3-47c9-9314-13a5b3643c25",
   "metadata": {
    "tags": []
   },
   "outputs": [],
   "source": [
    "# Third Pillar to Box Frame connection\n",
    "# Third_Pillar_Box_Frame_Connect\n",
    "# Input event 2\n",
    "# Define input event consume Pillar for Box Frame\n",
    "process_name = 'Third_Pillar_Box_Frame_Connect'\n",
    "event_note='consume Pillar into Box Frame'\n",
    "\n",
    "action = 'consume'\n",
    "resource = 'third_pillar'\n",
    "amount = 1\n",
    "agent = 'two'\n",
    "\n",
    "\n",
    "cur_res = res_data[f'{resource}_res']\n",
    "\n",
    "cur_pros = process_data[f'{process_name}']\n",
    "\n",
    "event_id, ts = create_event(users_data[f'{agent}'], action, event_note, amount=amount, process=cur_pros, \\\n",
    "                 res_spec_data=res_spec_data, existing_res=cur_res, endpoint=ENDPOINT)\n",
    "\n",
    "event_seq.append({'ts': ts, 'event_id':event_id, 'action' : action, 'res_name': cur_res['name'], 'res': cur_res['id']})\n"
   ]
  },
  {
   "cell_type": "code",
   "execution_count": null,
   "id": "398a4b14-d2fd-42f3-a277-81d9e6b4c208",
   "metadata": {
    "tags": []
   },
   "outputs": [],
   "source": [
    "# Third Pillar to Box Frame connection\n",
    "# Third_Pillar_Box_Frame_Connect\n",
    "# Input event 3\n",
    "# Define input event consume M6nutplate\n",
    "process_name = 'Third_Pillar_Box_Frame_Connect'\n",
    "event_note='consume M6nutplate into Lower Frame'\n",
    "\n",
    "action = 'consume'\n",
    "resource = 'M6nutplate'\n",
    "amount = 1\n",
    "agent = 'two'\n",
    "\n",
    "cur_res = res_data[f'{resource}_res']\n",
    "\n",
    "cur_pros = process_data[f'{process_name}']\n",
    "\n",
    "event_id, ts = create_event(users_data[f'{agent}'], action, event_note, amount=amount, process=cur_pros, \\\n",
    "                 res_spec_data=res_spec_data, existing_res=cur_res, endpoint=ENDPOINT)\n",
    "\n",
    "event_seq.append({'ts': ts, 'event_id':event_id, 'action' : action, 'res_name': cur_res['name'], 'res': cur_res['id']})\n"
   ]
  },
  {
   "cell_type": "code",
   "execution_count": null,
   "id": "51687608-8121-4a7a-a4c2-5b5d3e8e415f",
   "metadata": {
    "tags": []
   },
   "outputs": [],
   "source": [
    "# Third Pillar to Box Frame connection\n",
    "# Third_Pillar_Box_Frame_Connect\n",
    "# Input event 4\n",
    "# Define input event consume M6x12 screw\n",
    "process_name = 'Third_Pillar_Box_Frame_Connect'\n",
    "event_note='consume M6nutplate into Box Frame'\n",
    "\n",
    "action = 'consume'\n",
    "resource = 'M6x12'\n",
    "amount = 1\n",
    "agent = 'two'\n",
    "\n",
    "\n",
    "cur_res = res_data[f'{resource}_res']\n",
    "\n",
    "cur_pros = process_data[f'{process_name}']\n",
    "\n",
    "event_id, ts = create_event(users_data[f'{agent}'], action, event_note, amount=amount, process=cur_pros, \\\n",
    "                 res_spec_data=res_spec_data, existing_res=cur_res, endpoint=ENDPOINT)\n",
    "\n",
    "event_seq.append({'ts': ts, 'event_id':event_id, 'action' : action, 'res_name': cur_res['name'], 'res': cur_res['id']})\n"
   ]
  },
  {
   "cell_type": "code",
   "execution_count": null,
   "id": "117f9ddb-8147-41fb-aa70-2961c003c808",
   "metadata": {},
   "outputs": [],
   "source": [
    "# Third Pillar to Box Frame connection\n",
    "# Third_Pillar_Box_Frame_Connect\n",
    "# Input event 5\n",
    "# Define input use Allen Key for Pillar to Box Frame connection\n",
    "process_name = 'Third_Pillar_Box_Frame_Connect'\n",
    "event_note='Input use Allen Key event for Pillar to Lower Frame connection'\n",
    "\n",
    "action = 'use'\n",
    "resource = 'Allen_Key'\n",
    "amount = 1\n",
    "agent = 'two'\n",
    "\n",
    "\n",
    "cur_res = res_data[f'{resource}_res']\n",
    "cur_pros = process_data[f'{process_name}']\n",
    "\n",
    "#####\n",
    "effort_spec = {}\n",
    "effort_spec['unit_id'] = res_spec_data['assembly_construction']['defaultUnit']\n",
    "# effort_spec['spec_id'] = res_spec_data['assembly_construction']['id']\n",
    "effort_spec['amount'] = 0.03\n",
    "\n",
    "\n",
    "event_id, ts = create_event(users_data[f'{agent}'], action, event_note, amount=amount, process=cur_pros, \\\n",
    "                 res_spec_data=res_spec_data, existing_res=cur_res, effort_spec=effort_spec, endpoint=ENDPOINT)\n",
    "\n",
    "event_seq.append({'ts': ts, 'event_id':event_id, 'action' : action, 'res_name': cur_res['name'], 'res': cur_res['id']})\n"
   ]
  },
  {
   "cell_type": "code",
   "execution_count": null,
   "id": "04825e5c-f430-4529-9ba9-ee8a09d0a7bc",
   "metadata": {},
   "outputs": [],
   "source": [
    "# Third Pillar to Box Frame connection\n",
    "# Third_Pillar_Box_Frame_Connect\n",
    "# Input event 6\n",
    "# Define input event work for Pillar to Box Frame connection\n",
    "process_name = 'Third_Pillar_Box_Frame_Connect'\n",
    "event_note='Insert a M6nutplate into the upper slot of the lower frame subassembly and connect one pillar subassembly to it with a M6x12 screw.'\n",
    "\n",
    "action = 'work'\n",
    "amount = 0.05\n",
    "agent = 'one'\n",
    "\n",
    "\n",
    "cur_pros = process_data[f'{process_name}']\n",
    "\n",
    "effort_spec = {}\n",
    "effort_spec['unit_id'] = res_spec_data['assembly_construction']['defaultUnit']\n",
    "effort_spec['spec_id'] = res_spec_data['assembly_construction']['id']\n",
    "effort_spec['amount'] = amount\n",
    "\n",
    "event_id, ts = create_event(users_data[f'{agent}'], action, event_note, amount=amount, process=cur_pros, \\\n",
    "                 res_spec_data=res_spec_data, effort_spec=effort_spec, endpoint=ENDPOINT)\n",
    "\n",
    "event_seq.append({'ts': ts, 'event_id':event_id, 'action' : action, 'res_name': cur_res['name'], 'res': cur_res['id']})\n"
   ]
  },
  {
   "cell_type": "code",
   "execution_count": null,
   "id": "dfed2ae6-bb08-479d-8f73-25eb6cc1f5c5",
   "metadata": {
    "tags": []
   },
   "outputs": [],
   "source": [
    "# PROCESS wrap\n",
    "event_seq.append({'ts': ts, 'event_id':cur_pros['id'], 'action' : cur_pros['name'], 'res_name': cur_res['name'], 'res': cur_res['id']})"
   ]
  },
  {
   "cell_type": "code",
   "execution_count": null,
   "id": "a3e1e461-eaf3-465f-81d8-426850c0471f",
   "metadata": {
    "tags": []
   },
   "outputs": [],
   "source": [
    "# Third Pillar to Box Frame connection\n",
    "# Third_Pillar_Box_Frame_Connect\n",
    "# Output event 1\n",
    "# Define output event modify Box Frame\n",
    "process_name = 'Third_Pillar_Box_Frame_Connect'\n",
    "event_note='modify Box Frame attaching Pillar'\n",
    "\n",
    "action = 'modify'\n",
    "resource = 'box_frame'\n",
    "amount = 1\n",
    "agent = 'two'\n",
    "\n",
    "\n",
    "cur_res = res_data[f'{resource}_res']\n",
    "\n",
    "cur_pros = process_data[f'{process_name}']\n",
    "\n",
    "\n",
    "event_id, ts = create_event(users_data[f'{agent}'], action, event_note, amount=amount, process=cur_pros, \\\n",
    "                 res_spec_data=res_spec_data, existing_res=cur_res, endpoint=ENDPOINT)\n",
    "\n",
    "event_seq.append({'ts': ts, 'event_id':event_id, 'action' : action, 'res_name': cur_res['name'], 'res': cur_res['id']})\n"
   ]
  },
  {
   "cell_type": "code",
   "execution_count": null,
   "id": "a39a959a-3e0b-43e6-8b46-3d4dc803bc71",
   "metadata": {
    "tags": []
   },
   "outputs": [],
   "source": [
    "# Forth Pillar to Box Frame connection\n",
    "# Forth_Pillar_Box_Frame_Connect\n",
    "# Input event 1\n",
    "# Define input event accept Box Frame\n",
    "process_name = 'Forth_Pillar_Box_Frame_Connect'\n",
    "event_note='accept Box Frame for adding Pillar'\n",
    "\n",
    "action = 'accept'\n",
    "amount = 1\n",
    "resource = 'box_frame'\n",
    "agent = 'two'\n",
    "\n",
    "\n",
    "cur_res = res_data[f'{resource}_res']\n",
    "\n",
    "cur_pros = process_data[f'{process_name}']\n",
    "\n",
    "event_id, ts = create_event(users_data[f'{agent}'], action, event_note, amount=amount, process=cur_pros, \\\n",
    "                 res_spec_data=res_spec_data, existing_res=cur_res, endpoint=ENDPOINT)\n",
    "\n",
    "event_seq.append({'ts': ts, 'event_id':event_id, 'action' : action, 'res_name': cur_res['name'], 'res': cur_res['id']})\n"
   ]
  },
  {
   "cell_type": "code",
   "execution_count": null,
   "id": "29d75711-782c-489f-8392-d623a09ebeac",
   "metadata": {
    "tags": []
   },
   "outputs": [],
   "source": [
    "# Forth Pillar to Box Frame connection\n",
    "# Forth_Pillar_Box_Frame_Connect\n",
    "## Input event 2\n",
    "# Define input event accept Box Frame\n",
    "process_name = 'Forth_Pillar_Box_Frame_Connect'\n",
    "event_note='consume Pillar into Box Frame'\n",
    "\n",
    "action = 'consume'\n",
    "resource = 'forth_pillar'\n",
    "amount = 1\n",
    "agent = 'two'\n",
    "\n",
    "\n",
    "cur_res = res_data[f'{resource}_res']\n",
    "\n",
    "cur_pros = process_data[f'{process_name}']\n",
    "\n",
    "event_id, ts = create_event(users_data[f'{agent}'], action, event_note, amount=amount, process=cur_pros, \\\n",
    "                 res_spec_data=res_spec_data, existing_res=cur_res, endpoint=ENDPOINT)\n",
    "\n",
    "event_seq.append({'ts': ts, 'event_id':event_id, 'action' : action, 'res_name': cur_res['name'], 'res': cur_res['id']})\n"
   ]
  },
  {
   "cell_type": "code",
   "execution_count": null,
   "id": "1901c1fd-fc2e-4982-a217-2cf43b1cba18",
   "metadata": {
    "tags": []
   },
   "outputs": [],
   "source": [
    "# Forth Pillar to Box Frame connection\n",
    "# Forth_Pillar_Box_Frame_Connect\n",
    "# Input event 3\n",
    "# Define input event consume M6nutplate\n",
    "process_name = 'Forth_Pillar_Box_Frame_Connect'\n",
    "event_note='consume M6nutplate into Lower Frame'\n",
    "\n",
    "action = 'consume'\n",
    "resource = 'M6nutplate'\n",
    "amount = 1\n",
    "agent = 'two'\n",
    "\n",
    "cur_res = res_data[f'{resource}_res']\n",
    "\n",
    "cur_pros = process_data[f'{process_name}']\n",
    "\n",
    "event_id, ts = create_event(users_data[f'{agent}'], action, event_note, amount=amount, process=cur_pros, \\\n",
    "                 res_spec_data=res_spec_data, existing_res=cur_res, endpoint=ENDPOINT)\n",
    "\n",
    "event_seq.append({'ts': ts, 'event_id':event_id, 'action' : action, 'res_name': cur_res['name'], 'res': cur_res['id']})\n"
   ]
  },
  {
   "cell_type": "code",
   "execution_count": null,
   "id": "7f3f8576-5f35-4e63-ad6e-f79f58bd104c",
   "metadata": {
    "tags": []
   },
   "outputs": [],
   "source": [
    "# Forth Pillar to Box Frame connection\n",
    "# Forth_Pillar_Box_Frame_Connect\n",
    "# Input event 4\n",
    "# Define input event consume M6x12 screw\n",
    "process_name = 'Forth_Pillar_Box_Frame_Connect'\n",
    "event_note='consume M6x12 screw into Lower Frame'\n",
    "\n",
    "action = 'consume'\n",
    "resource = 'M6x12'\n",
    "amount = 1\n",
    "agent = 'two'\n",
    "\n",
    "\n",
    "cur_res = res_data[f'{resource}_res']\n",
    "\n",
    "cur_pros = process_data[f'{process_name}']\n",
    "\n",
    "event_id, ts = create_event(users_data[f'{agent}'], action, event_note, amount=amount, process=cur_pros, \\\n",
    "                 res_spec_data=res_spec_data, existing_res=cur_res, endpoint=ENDPOINT)\n",
    "\n",
    "event_seq.append({'ts': ts, 'event_id':event_id, 'action' : action, 'res_name': cur_res['name'], 'res': cur_res['id']})\n"
   ]
  },
  {
   "cell_type": "code",
   "execution_count": null,
   "id": "c885ffe4-4d8e-46a4-a5c6-0f9a7dd3d7ef",
   "metadata": {},
   "outputs": [],
   "source": [
    "# Forth Pillar to Box Frame connection\n",
    "# Forth_Pillar_Box_Frame_Connect\n",
    "# Input event 5\n",
    "# Define input use Allen Key for Pillar to Box Frame connection\n",
    "process_name = 'Forth_Pillar_Box_Frame_Connect'\n",
    "event_note='Input use Allen Key event for Pillar to Box Frame connection'\n",
    "\n",
    "action = 'use'\n",
    "resource = 'Allen_Key'\n",
    "amount = 1\n",
    "agent = 'two'\n",
    "\n",
    "\n",
    "cur_res = res_data[f'{resource}_res']\n",
    "cur_pros = process_data[f'{process_name}']\n",
    "\n",
    "#####\n",
    "effort_spec = {}\n",
    "effort_spec['unit_id'] = res_spec_data['assembly_construction']['defaultUnit']\n",
    "# effort_spec['spec_id'] = res_spec_data['assembly_construction']['id']\n",
    "effort_spec['amount'] = 0.03\n",
    "\n",
    "\n",
    "event_id, ts = create_event(users_data[f'{agent}'], action, event_note, amount=amount, process=cur_pros, \\\n",
    "                 res_spec_data=res_spec_data, existing_res=cur_res, effort_spec=effort_spec, endpoint=ENDPOINT)\n",
    "\n",
    "event_seq.append({'ts': ts, 'event_id':event_id, 'action' : action, 'res_name': cur_res['name'], 'res': cur_res['id']})\n"
   ]
  },
  {
   "cell_type": "code",
   "execution_count": null,
   "id": "25ff9917-55ed-4480-adc7-8ab84038b96a",
   "metadata": {},
   "outputs": [],
   "source": [
    "# Forth Pillar to Box Frame connection\n",
    "# Forth_Pillar_Box_Frame_Connect\n",
    "# Input event 6\n",
    "# Define input event work for Pillar to BoxFrame connection\n",
    "process_name = 'Forth_Pillar_Box_Frame_Connect'\n",
    "event_note='Insert a M6nutplate into the upper slot of the lower frame subassembly and connect one pillar subassembly to it with a M6x12 screw.'\n",
    "\n",
    "action = 'work'\n",
    "amount = 0.05\n",
    "agent = 'one'\n",
    "\n",
    "\n",
    "cur_pros = process_data[f'{process_name}']\n",
    "\n",
    "effort_spec = {}\n",
    "effort_spec['unit_id'] = res_spec_data['assembly_construction']['defaultUnit']\n",
    "effort_spec['spec_id'] = res_spec_data['assembly_construction']['id']\n",
    "effort_spec['amount'] = amount\n",
    "\n",
    "event_id, ts = create_event(users_data[f'{agent}'], action, event_note, amount=amount, process=cur_pros, \\\n",
    "                 res_spec_data=res_spec_data, effort_spec=effort_spec, endpoint=ENDPOINT)\n",
    "\n",
    "event_seq.append({'ts': ts, 'event_id':event_id, 'action' : action, 'res_name': cur_res['name'], 'res': cur_res['id']})\n"
   ]
  },
  {
   "cell_type": "code",
   "execution_count": null,
   "id": "4a2bdda3-d499-4a9a-af83-029e46aca762",
   "metadata": {
    "tags": []
   },
   "outputs": [],
   "source": [
    "# PROCESS wrap\n",
    "event_seq.append({'ts': ts, 'event_id':cur_pros['id'], 'action' : cur_pros['name'], 'res_name': cur_res['name'], 'res': cur_res['id']})"
   ]
  },
  {
   "cell_type": "code",
   "execution_count": null,
   "id": "ccd838b4-3d11-41bd-8d9e-8613f330c681",
   "metadata": {
    "tags": []
   },
   "outputs": [],
   "source": [
    "# Forth Pillar to Box Frame connection\n",
    "# Forth_Pillar_Box_Frame_Connect\n",
    "# Output event 1\n",
    "# Define output event modify Box Frame\n",
    "process_name = 'Forth_Pillar_Box_Frame_Connect'\n",
    "event_note='modify Box Frame attaching Pillar'\n",
    "\n",
    "action = 'modify'\n",
    "resource = 'box_frame'\n",
    "amount = 1\n",
    "agent = 'two'\n",
    "\n",
    "\n",
    "cur_res = res_data[f'{resource}_res']\n",
    "\n",
    "cur_pros = process_data[f'{process_name}']\n",
    "\n",
    "\n",
    "event_id, ts = create_event(users_data[f'{agent}'], action, event_note, amount=amount, process=cur_pros, \\\n",
    "                 res_spec_data=res_spec_data, existing_res=cur_res, endpoint=ENDPOINT)\n",
    "\n",
    "event_seq.append({'ts': ts, 'event_id':event_id, 'action' : action, 'res_name': cur_res['name'], 'res': cur_res['id']})\n"
   ]
  },
  {
   "cell_type": "code",
   "execution_count": null,
   "id": "19ee995b-339a-4287-b1d7-bc6a75ef79bf",
   "metadata": {
    "tags": []
   },
   "outputs": [],
   "source": [
    "# Box Frame Side Cover Nutplate Insertion\n",
    "# Box_Frame_Side_Cover_Nutplates_Insertion\n",
    "# Input event 1\n",
    "# Define input event accept Box Frame\n",
    "process_name = 'Box_Frame_Side_Cover_Nutplates_Insertion'\n",
    "event_note='accept Lower Frame for adding Side Cover Nutplates'\n",
    "\n",
    "action = 'accept'\n",
    "amount = 1\n",
    "resource = 'box_frame'\n",
    "agent = 'two'\n",
    "\n",
    "\n",
    "cur_res = res_data[f'{resource}_res']\n",
    "\n",
    "cur_pros = process_data[f'{process_name}']\n",
    "\n",
    "event_id, ts = create_event(users_data[f'{agent}'], action, event_note, amount=amount, process=cur_pros, \\\n",
    "                 res_spec_data=res_spec_data, existing_res=cur_res, endpoint=ENDPOINT)\n",
    "\n",
    "event_seq.append({'ts': ts, 'event_id':event_id, 'action' : action, 'res_name': cur_res['name'], 'res': cur_res['id']})\n"
   ]
  },
  {
   "cell_type": "code",
   "execution_count": null,
   "id": "d79742cc-ac89-4b2e-bc21-e3f54e2cdb32",
   "metadata": {
    "tags": []
   },
   "outputs": [],
   "source": [
    "# Box Frame Side Cover Nutplate Insertion\n",
    "# Box_Frame_Side_Cover_Nutplates_Insertion\n",
    "# Input event 2\n",
    "# Define input event consume 8 x Nutplates\n",
    "process_name = 'Box_Frame_Side_Cover_Nutplates_Insertion'\n",
    "event_note='consume M6nutplates into Lower Frame'\n",
    "\n",
    "action = 'consume'\n",
    "resource = 'M6nutplate'\n",
    "amount = 8\n",
    "agent = 'two'\n",
    "\n",
    "cur_res = res_data[f'{resource}_res']\n",
    "\n",
    "cur_pros = process_data[f'{process_name}']\n",
    "\n",
    "event_id, ts = create_event(users_data[f'{agent}'], action, event_note, amount=amount, process=cur_pros, \\\n",
    "                 res_spec_data=res_spec_data, existing_res=cur_res, endpoint=ENDPOINT)\n",
    "\n",
    "event_seq.append({'ts': ts, 'event_id':event_id, 'action' : action, 'res_name': cur_res['name'], 'res': cur_res['id']})\n"
   ]
  },
  {
   "cell_type": "code",
   "execution_count": null,
   "id": "c03a33bb-9755-46cb-a2eb-251d555a4558",
   "metadata": {},
   "outputs": [],
   "source": [
    "# Box Frame Side Cover Nutplate Insertion\n",
    "# Box_Frame_Side_Cover_Nutplates_Insertion\n",
    "# Input event 3\n",
    "# Define input event work for Side Cover Nutplate Insertion\n",
    "process_name = 'Box_Frame_Side_Cover_Nutplates_Insertion'\n",
    "event_note='Insert two M6nutplates in each of the outer slots of the large sides.'\n",
    "\n",
    "action = 'work'\n",
    "amount = 0.05\n",
    "agent = 'one'\n",
    "\n",
    "\n",
    "cur_pros = process_data[f'{process_name}']\n",
    "\n",
    "effort_spec = {}\n",
    "effort_spec['unit_id'] = res_spec_data['assembly_construction']['defaultUnit']\n",
    "effort_spec['spec_id'] = res_spec_data['assembly_construction']['id']\n",
    "effort_spec['amount'] = amount\n",
    "\n",
    "event_id, ts = create_event(users_data[f'{agent}'], action, event_note, amount=amount, process=cur_pros, \\\n",
    "                 res_spec_data=res_spec_data, effort_spec=effort_spec, endpoint=ENDPOINT)\n",
    "\n",
    "event_seq.append({'ts': ts, 'event_id':event_id, 'action' : action, 'res_name': cur_res['name'], 'res': cur_res['id']})\n"
   ]
  },
  {
   "cell_type": "code",
   "execution_count": null,
   "id": "adb1e192-4613-4694-866e-a250343ca7bc",
   "metadata": {
    "tags": []
   },
   "outputs": [],
   "source": [
    "# PROCESS wrap\n",
    "event_seq.append({'ts': ts, 'event_id':cur_pros['id'], 'action' : cur_pros['name'], 'res_name': cur_res['name'], 'res': cur_res['id']})"
   ]
  },
  {
   "cell_type": "code",
   "execution_count": null,
   "id": "f55e9a60-e0ed-4c27-8848-459b41a0b596",
   "metadata": {
    "tags": []
   },
   "outputs": [],
   "source": [
    "# Box Frame Side Cover Nutplate Insertion\n",
    "# Box_Frame_Side_Cover_Nutplates_Insertion\n",
    "# Output event 1\n",
    "# Define output event modify Box Frame\n",
    "process_name = 'Box_Frame_Side_Cover_Nutplates_Insertion'\n",
    "event_note='modify Lower Frame inserting Side Cover Nutplates'\n",
    "\n",
    "action = 'modify'\n",
    "resource = 'box_frame'\n",
    "amount = 1\n",
    "agent = 'two'\n",
    "\n",
    "\n",
    "cur_res = res_data[f'{resource}_res']\n",
    "\n",
    "cur_pros = process_data[f'{process_name}']\n",
    "\n",
    "\n",
    "event_id, ts = create_event(users_data[f'{agent}'], action, event_note, amount=amount, process=cur_pros, \\\n",
    "                 res_spec_data=res_spec_data, existing_res=cur_res, endpoint=ENDPOINT)\n",
    "\n",
    "event_seq.append({'ts': ts, 'event_id':event_id, 'action' : action, 'res_name': cur_res['name'], 'res': cur_res['id']})\n"
   ]
  },
  {
   "cell_type": "code",
   "execution_count": null,
   "id": "222d2730-0c84-423c-8212-3a078f11c1ed",
   "metadata": {
    "tags": []
   },
   "outputs": [],
   "source": [
    "# Box Frame Front Back Cover Nutplate Insertion\n",
    "# Box_Frame_Front_Back_Cover_Nutplates_Insertion\n",
    "# Input event 1\n",
    "# Define input event accept Box Frame\n",
    "process_name = 'Box_Frame_Front_Back_Cover_Nutplates_Insertion'\n",
    "event_note='accept Lower Frame for adding Side Cover Nutplates'\n",
    "\n",
    "action = 'accept'\n",
    "amount = 1\n",
    "resource = 'box_frame'\n",
    "agent = 'two'\n",
    "\n",
    "\n",
    "cur_res = res_data[f'{resource}_res']\n",
    "\n",
    "cur_pros = process_data[f'{process_name}']\n",
    "\n",
    "event_id, ts = create_event(users_data[f'{agent}'], action, event_note, amount=amount, process=cur_pros, \\\n",
    "                 res_spec_data=res_spec_data, existing_res=cur_res, endpoint=ENDPOINT)\n",
    "\n",
    "event_seq.append({'ts': ts, 'event_id':event_id, 'action' : action, 'res_name': cur_res['name'], 'res': cur_res['id']})\n"
   ]
  },
  {
   "cell_type": "code",
   "execution_count": null,
   "id": "13040bf9-6401-4ba1-a3d8-a84d8a64998e",
   "metadata": {
    "tags": []
   },
   "outputs": [],
   "source": [
    "# Box Frame Front Back Cover Nutplate Insertion\n",
    "# Box_Frame_Front_Back_Cover_Nutplates_Insertion\n",
    "# Input event 2\n",
    "# Define input event consume 8 x Nutplates\n",
    "process_name = 'Box_Frame_Front_Back_Cover_Nutplates_Insertion'\n",
    "event_note='consume M6nutplates into Lower Frame'\n",
    "\n",
    "action = 'consume'\n",
    "resource = 'M6nutplate'\n",
    "amount = 8\n",
    "agent = 'two'\n",
    "\n",
    "cur_res = res_data[f'{resource}_res']\n",
    "\n",
    "cur_pros = process_data[f'{process_name}']\n",
    "\n",
    "event_id, ts = create_event(users_data[f'{agent}'], action, event_note, amount=amount, process=cur_pros, \\\n",
    "                 res_spec_data=res_spec_data, existing_res=cur_res, endpoint=ENDPOINT)\n",
    "\n",
    "event_seq.append({'ts': ts, 'event_id':event_id, 'action' : action, 'res_name': cur_res['name'], 'res': cur_res['id']})\n"
   ]
  },
  {
   "cell_type": "code",
   "execution_count": null,
   "id": "20604f51-1201-4a4a-8a6c-456e1be164bc",
   "metadata": {},
   "outputs": [],
   "source": [
    "# Box Frame Front Back Cover Nutplate Insertion\n",
    "# Box_Frame_Front_Back_Cover_Nutplates_Insertion\n",
    "# Input event 3\n",
    "# Define input event work for Front/Back Cover Nutplate Insertion\n",
    "process_name = 'Box_Frame_Front_Back_Cover_Nutplates_Insertion'\n",
    "event_note='Insert two M6nutplates in each of the outer slots of the front and back sides.'\n",
    "\n",
    "action = 'work'\n",
    "amount = 0.05\n",
    "agent = 'one'\n",
    "\n",
    "\n",
    "cur_pros = process_data[f'{process_name}']\n",
    "\n",
    "effort_spec = {}\n",
    "effort_spec['unit_id'] = res_spec_data['assembly_construction']['defaultUnit']\n",
    "effort_spec['spec_id'] = res_spec_data['assembly_construction']['id']\n",
    "effort_spec['amount'] = amount\n",
    "\n",
    "event_id, ts = create_event(users_data[f'{agent}'], action, event_note, amount=amount, process=cur_pros, \\\n",
    "                 res_spec_data=res_spec_data, effort_spec=effort_spec, endpoint=ENDPOINT)\n",
    "\n",
    "event_seq.append({'ts': ts, 'event_id':event_id, 'action' : action, 'res_name': cur_res['name'], 'res': cur_res['id']})\n"
   ]
  },
  {
   "cell_type": "code",
   "execution_count": null,
   "id": "2a7b59d7-42d6-4b36-86fc-0cdc167c8a02",
   "metadata": {
    "tags": []
   },
   "outputs": [],
   "source": [
    "# PROCESS wrap\n",
    "event_seq.append({'ts': ts, 'event_id':cur_pros['id'], 'action' : cur_pros['name'], 'res_name': cur_res['name'], 'res': cur_res['id']})"
   ]
  },
  {
   "cell_type": "code",
   "execution_count": null,
   "id": "a43c731d-3805-466f-82cc-64e83bbbf4fc",
   "metadata": {
    "tags": []
   },
   "outputs": [],
   "source": [
    "# Box Frame Front Back Cover Nutplate Insertion\n",
    "# Box_Frame_Front_Back_Cover_Nutplates_Insertion\n",
    "# Output event 1\n",
    "# Define output event modify Lower Frame\n",
    "process_name = 'Box_Frame_Front_Back_Cover_Nutplates_Insertion'\n",
    "event_note='modify Box Frame inserting Front/Back Cover Nutplates'\n",
    "\n",
    "action = 'modify'\n",
    "resource = 'box_frame'\n",
    "amount = 1\n",
    "agent = 'two'\n",
    "\n",
    "\n",
    "cur_res = res_data[f'{resource}_res']\n",
    "\n",
    "cur_pros = process_data[f'{process_name}']\n",
    "\n",
    "\n",
    "event_id, ts = create_event(users_data[f'{agent}'], action, event_note, amount=amount, process=cur_pros, \\\n",
    "                 res_spec_data=res_spec_data, existing_res=cur_res, endpoint=ENDPOINT)\n",
    "\n",
    "event_seq.append({'ts': ts, 'event_id':event_id, 'action' : action, 'res_name': cur_res['name'], 'res': cur_res['id']})\n"
   ]
  },
  {
   "cell_type": "code",
   "execution_count": null,
   "id": "260cecf6-b3dc-42e5-b31c-720b5c3bb43d",
   "metadata": {
    "tags": []
   },
   "outputs": [],
   "source": [
    "# Box Frame Mountplate Nutplate Insertion\n",
    "# Box_Frame_Mountplate_Nutplates_Insertion\n",
    "# Input event 1\n",
    "# Define input event accept Lower Frame\n",
    "process_name = 'Box_Frame_Mountplate_Nutplates_Insertion'\n",
    "event_note='accept Box Frame for adding Side Cover Nutplates'\n",
    "\n",
    "action = 'accept'\n",
    "amount = 1\n",
    "resource = 'box_frame'\n",
    "agent = 'two'\n",
    "\n",
    "\n",
    "cur_res = res_data[f'{resource}_res']\n",
    "\n",
    "cur_pros = process_data[f'{process_name}']\n",
    "\n",
    "event_id, ts = create_event(users_data[f'{agent}'], action, event_note, amount=amount, process=cur_pros, \\\n",
    "                 res_spec_data=res_spec_data, existing_res=cur_res, endpoint=ENDPOINT)\n",
    "\n",
    "event_seq.append({'ts': ts, 'event_id':event_id, 'action' : action, 'res_name': cur_res['name'], 'res': cur_res['id']})\n"
   ]
  },
  {
   "cell_type": "code",
   "execution_count": null,
   "id": "127e9e96-e2d1-4b7d-b686-fe3bed2f16fb",
   "metadata": {
    "tags": []
   },
   "outputs": [],
   "source": [
    "# Box Frame Mountplate Nutplate Insertion\n",
    "# Box_Frame_Mountplate_Nutplates_Insertion\n",
    "# Input event 2\n",
    "# Define input event consume 4 x Nutplates\n",
    "process_name = 'Box_Frame_Mountplate_Nutplates_Insertion'\n",
    "event_note='consume M6nutplates into Lower Frame'\n",
    "\n",
    "action = 'consume'\n",
    "resource = 'M6nutplate'\n",
    "amount = 4\n",
    "agent = 'two'\n",
    "\n",
    "cur_res = res_data[f'{resource}_res']\n",
    "\n",
    "cur_pros = process_data[f'{process_name}']\n",
    "\n",
    "event_id, ts = create_event(users_data[f'{agent}'], action, event_note, amount=amount, process=cur_pros, \\\n",
    "                 res_spec_data=res_spec_data, existing_res=cur_res, endpoint=ENDPOINT)\n",
    "\n",
    "event_seq.append({'ts': ts, 'event_id':event_id, 'action' : action, 'res_name': cur_res['name'], 'res': cur_res['id']})\n"
   ]
  },
  {
   "cell_type": "code",
   "execution_count": null,
   "id": "8a730029-8d33-416b-b17d-e64a4b317188",
   "metadata": {},
   "outputs": [],
   "source": [
    "# Box Frame Mountplate Nutplate Insertion\n",
    "# Box_Frame_Mountplate_Nutplates_Insertion\n",
    "## Input event 3\n",
    "# Define input event work for Mountplate Nutplate Insertion\n",
    "process_name = 'Box_Frame_Mountplate_Nutplates_Insertion'\n",
    "event_note='Insert two M6nutplates in each of the inner slots of one small side. This defines, which will later become the front side.'\n",
    "\n",
    "action = 'work'\n",
    "amount = 0.05\n",
    "agent = 'one'\n",
    "\n",
    "\n",
    "cur_pros = process_data[f'{process_name}']\n",
    "\n",
    "effort_spec = {}\n",
    "effort_spec['unit_id'] = res_spec_data['assembly_construction']['defaultUnit']\n",
    "effort_spec['spec_id'] = res_spec_data['assembly_construction']['id']\n",
    "effort_spec['amount'] = amount\n",
    "\n",
    "event_id, ts = create_event(users_data[f'{agent}'], action, event_note, amount=amount, process=cur_pros, \\\n",
    "                 res_spec_data=res_spec_data, effort_spec=effort_spec, endpoint=ENDPOINT)\n",
    "\n",
    "event_seq.append({'ts': ts, 'event_id':event_id, 'action' : action, 'res_name': cur_res['name'], 'res': cur_res['id']})\n"
   ]
  },
  {
   "cell_type": "code",
   "execution_count": null,
   "id": "82559776-dd06-46c3-b671-b591d7e27807",
   "metadata": {
    "tags": []
   },
   "outputs": [],
   "source": [
    "# PROCESS wrap\n",
    "event_seq.append({'ts': ts, 'event_id':cur_pros['id'], 'action' : cur_pros['name'], 'res_name': cur_res['name'], 'res': cur_res['id']})"
   ]
  },
  {
   "cell_type": "code",
   "execution_count": null,
   "id": "51e85623-8698-4275-b271-1fb8c784027a",
   "metadata": {
    "tags": []
   },
   "outputs": [],
   "source": [
    "# Box Frame Mountplate Nutplate Insertion\n",
    "# Box_Frame_Mountplate_Nutplates_Insertion\n",
    "# Output event 1\n",
    "# Define output event modify Lower Frame\n",
    "process_name = 'Box_Frame_Mountplate_Nutplates_Insertion'\n",
    "event_note='modify Lower Frame inserting Mountplates Nutplates'\n",
    "\n",
    "action = 'modify'\n",
    "resource = 'box_frame'\n",
    "amount = 1\n",
    "agent = 'two'\n",
    "\n",
    "\n",
    "cur_res = res_data[f'{resource}_res']\n",
    "\n",
    "cur_pros = process_data[f'{process_name}']\n",
    "\n",
    "\n",
    "event_id, ts = create_event(users_data[f'{agent}'], action, event_note, amount=amount, process=cur_pros, \\\n",
    "                 res_spec_data=res_spec_data, existing_res=cur_res, endpoint=ENDPOINT)\n",
    "\n",
    "event_seq.append({'ts': ts, 'event_id':event_id, 'action' : action, 'res_name': cur_res['name'], 'res': cur_res['id']})\n"
   ]
  },
  {
   "cell_type": "code",
   "execution_count": null,
   "id": "21595b6c-8455-4ad0-9358-26afb78ee099",
   "metadata": {
    "tags": []
   },
   "outputs": [],
   "source": [
    "# Box Frame Upper Frame Connection\n",
    "# Box_Upper_Frame_Connection\n",
    "# Input event 1\n",
    "# Define input event accept Box Frame\n",
    "process_name = 'Box_Upper_Frame_Connection'\n",
    "event_note='accept Box Frame'\n",
    "\n",
    "action = 'accept'\n",
    "resource = 'box_frame'\n",
    "amount = 1\n",
    "agent = 'two'\n",
    "\n",
    "cur_res = res_data[f'{resource}_res']\n",
    "\n",
    "cur_pros = process_data[f'{process_name}']\n",
    "\n",
    "event_id, ts = create_event(users_data[f'{agent}'], action, event_note, amount=amount, process=cur_pros, \\\n",
    "                 res_spec_data=res_spec_data, existing_res=cur_res, endpoint=ENDPOINT)\n",
    "\n",
    "event_seq.append({'ts': ts, 'event_id':event_id, 'action' : action, 'res_name': cur_res['name'], 'res': cur_res['id']})\n"
   ]
  },
  {
   "cell_type": "code",
   "execution_count": null,
   "id": "079d5725-2eaa-4cd7-9aec-5af022d7496f",
   "metadata": {
    "tags": []
   },
   "outputs": [],
   "source": [
    "# Box Frame Upper Frame Connection\n",
    "# Box_Upper_Frame_Connection\n",
    "# Input event 2\n",
    "# Define input event consume Upper Frame\n",
    "process_name = 'Box_Upper_Frame_Connection'\n",
    "event_note='consume Upper Frame into Box Frame'\n",
    "\n",
    "action = 'consume'\n",
    "resource = 'upper_frame'\n",
    "amount = 1\n",
    "agent = 'two'\n",
    "\n",
    "cur_res = res_data[f'{resource}_res']\n",
    "\n",
    "cur_pros = process_data[f'{process_name}']\n",
    "\n",
    "event_id, ts = create_event(users_data[f'{agent}'], action, event_note, amount=amount, process=cur_pros, \\\n",
    "                 res_spec_data=res_spec_data, existing_res=cur_res, endpoint=ENDPOINT)\n",
    "\n",
    "event_seq.append({'ts': ts, 'event_id':event_id, 'action' : action, 'res_name': cur_res['name'], 'res': cur_res['id']})\n"
   ]
  },
  {
   "cell_type": "code",
   "execution_count": null,
   "id": "ef7b7786-5f1a-4328-ab05-0fd9f2667498",
   "metadata": {
    "tags": []
   },
   "outputs": [],
   "source": [
    "# Box Frame Upper Frame Connection\n",
    "# Box_Upper_Frame_Connection\n",
    "# Input event 3\n",
    "# Define input event consume 4 x Nutplates\n",
    "process_name = 'Box_Upper_Frame_Connection'\n",
    "event_note='consume 4 x M6nutplates into Box Frame'\n",
    "\n",
    "action = 'consume'\n",
    "resource = 'M6nutplate'\n",
    "amount = 4\n",
    "agent = 'two'\n",
    "\n",
    "cur_res = res_data[f'{resource}_res']\n",
    "\n",
    "cur_pros = process_data[f'{process_name}']\n",
    "\n",
    "event_id, ts = create_event(users_data[f'{agent}'], action, event_note, amount=amount, process=cur_pros, \\\n",
    "                 res_spec_data=res_spec_data, existing_res=cur_res, endpoint=ENDPOINT)\n",
    "\n",
    "event_seq.append({'ts': ts, 'event_id':event_id, 'action' : action, 'res_name': cur_res['name'], 'res': cur_res['id']})\n"
   ]
  },
  {
   "cell_type": "code",
   "execution_count": null,
   "id": "7b399ebb-a1fa-425a-bece-10e540610098",
   "metadata": {
    "tags": []
   },
   "outputs": [],
   "source": [
    "# Box Frame Upper Frame Connection\n",
    "# Box_Upper_Frame_Connection\n",
    "# Input event 4\n",
    "# Define input event consume 4 x M6x12\n",
    "process_name = 'Box_Upper_Frame_Connection'\n",
    "event_note='consume 4 x M6x12 into Box Frame'\n",
    "\n",
    "action = 'consume'\n",
    "resource = 'M6x12'\n",
    "amount = 4\n",
    "agent = 'two'\n",
    "\n",
    "cur_res = res_data[f'{resource}_res']\n",
    "\n",
    "cur_pros = process_data[f'{process_name}']\n",
    "\n",
    "event_id, ts = create_event(users_data[f'{agent}'], action, event_note, amount=amount, process=cur_pros, \\\n",
    "                 res_spec_data=res_spec_data, existing_res=cur_res, endpoint=ENDPOINT)\n",
    "\n",
    "event_seq.append({'ts': ts, 'event_id':event_id, 'action' : action, 'res_name': cur_res['name'], 'res': cur_res['id']})\n"
   ]
  },
  {
   "cell_type": "code",
   "execution_count": null,
   "id": "1c71a006-5e7d-4712-8715-cae1cfa35e46",
   "metadata": {},
   "outputs": [],
   "source": [
    "# Box Frame Upper Frame Connection\n",
    "# Box_Upper_Frame_Connection\n",
    "# Input event 5\n",
    "# Define input use Allen Key for Pillar to Lower Frame connection\n",
    "process_name = 'Box_Upper_Frame_Connection'\n",
    "event_note='Input use Allen Key event for Lower Frame Upper Frame Connection'\n",
    "\n",
    "action = 'use'\n",
    "resource = 'Allen_Key'\n",
    "amount = 1\n",
    "agent = 'two'\n",
    "\n",
    "\n",
    "cur_res = res_data[f'{resource}_res']\n",
    "cur_pros = process_data[f'{process_name}']\n",
    "\n",
    "#####\n",
    "effort_spec = {}\n",
    "effort_spec['unit_id'] = res_spec_data['assembly_construction']['defaultUnit']\n",
    "# effort_spec['spec_id'] = res_spec_data['assembly_construction']['id']\n",
    "effort_spec['amount'] = 0.03\n",
    "\n",
    "\n",
    "event_id, ts = create_event(users_data[f'{agent}'], action, event_note, amount=amount, process=cur_pros, \\\n",
    "                 res_spec_data=res_spec_data, existing_res=cur_res, effort_spec=effort_spec, endpoint=ENDPOINT)\n",
    "\n",
    "event_seq.append({'ts': ts, 'event_id':event_id, 'action' : action, 'res_name': cur_res['name'], 'res': cur_res['id']})\n"
   ]
  },
  {
   "cell_type": "code",
   "execution_count": null,
   "id": "9a2beff5-d5b9-4873-a7d6-9b27b3fe420b",
   "metadata": {},
   "outputs": [],
   "source": [
    "# Box Frame Upper Frame Connection\n",
    "# Box_Upper_Frame_Connection\n",
    "# Input event 6\n",
    "# Define input event work for Mountplate Nutplate Insertion\n",
    "process_name = 'Box_Upper_Frame_Connection'\n",
    "event_note='Place the upper frame on top and insert the four M6nutplates into the lower slot of each corner. Then make the connection to the Raconnectors of the pillars with the M6x12 screws.'\n",
    "\n",
    "action = 'work'\n",
    "amount = 0.05\n",
    "agent = 'one'\n",
    "\n",
    "\n",
    "cur_pros = process_data[f'{process_name}']\n",
    "\n",
    "effort_spec = {}\n",
    "effort_spec['unit_id'] = res_spec_data['assembly_construction']['defaultUnit']\n",
    "effort_spec['spec_id'] = res_spec_data['assembly_construction']['id']\n",
    "effort_spec['amount'] = amount\n",
    "\n",
    "event_id, ts = create_event(users_data[f'{agent}'], action, event_note, amount=amount, process=cur_pros, \\\n",
    "                 res_spec_data=res_spec_data, effort_spec=effort_spec, endpoint=ENDPOINT)\n",
    "\n",
    "event_seq.append({'ts': ts, 'event_id':event_id, 'action' : action, 'res_name': cur_res['name'], 'res': cur_res['id']})\n"
   ]
  },
  {
   "cell_type": "code",
   "execution_count": null,
   "id": "bd422b1c-b680-4355-926c-ac827011b43f",
   "metadata": {
    "tags": []
   },
   "outputs": [],
   "source": [
    "# PROCESS wrap\n",
    "event_seq.append({'ts': ts, 'event_id':cur_pros['id'], 'action' : cur_pros['name'], 'res_name': cur_res['name'], 'res': cur_res['id']})"
   ]
  },
  {
   "cell_type": "code",
   "execution_count": null,
   "id": "a010812e-3977-4854-b947-60b1079ad56a",
   "metadata": {
    "scrolled": true
   },
   "outputs": [],
   "source": [
    "# Box Frame Upper Frame Connection\n",
    "# Box_Upper_Frame_Connection\n",
    "# Output event 1\n",
    "# Define output modify event of the BoxFrame\n",
    "process_name = 'Box_Upper_Frame_Connection'\n",
    "event_note='modify Box Frame'\n",
    "\n",
    "action = 'modify'\n",
    "amount = 1\n",
    "resource = 'box_frame'\n",
    "agent = 'two'\n",
    "\n",
    "\n",
    "cur_res = res_data[f'{resource}_res']\n",
    "\n",
    "cur_pros = process_data[f'{process_name}']\n",
    "\n",
    "\n",
    "event_id, ts = create_event(users_data[f'{agent}'], action, event_note, amount=amount, process=cur_pros, \\\n",
    "                 res_spec_data=res_spec_data, existing_res=cur_res, endpoint=ENDPOINT)\n",
    "\n",
    "event_seq.append({'ts': ts, 'event_id':event_id, 'action' : action, 'res_name': cur_res['name'], 'res': cur_res['id']})\n"
   ]
  },
  {
   "cell_type": "markdown",
   "id": "5453b657-fb11-4012-bd00-54739f3ed7d6",
   "metadata": {
    "tags": []
   },
   "source": [
    "## Groups processes"
   ]
  },
  {
   "cell_type": "code",
   "execution_count": null,
   "id": "f20ed549-b00b-4802-94fb-cb1bbd9ad366",
   "metadata": {
    "scrolled": true
   },
   "outputs": [],
   "source": [
    "# Create the box_frame process group to hold subcomponent process groups\n",
    "name = note = processgrp = process = processgrp_id = None\n",
    "name = \"assemble_box_frame\"\n",
    "note = \"Groups box frame subcomponent groups: upper frame, lower frame & four pillars\"\n",
    "agent = 'one'\n",
    "\n",
    "\n",
    "get_processgrp(name, users_data[f'{agent}'], note, processgrp_data, processgrp_id=processgrp_id, endpoint=ENDPOINT)"
   ]
  },
  {
   "cell_type": "code",
   "execution_count": null,
   "id": "f0cb4034-678e-4e9f-848b-cd6c7fa3820f",
   "metadata": {
    "scrolled": true
   },
   "outputs": [],
   "source": [
    "# UPPER_FRAME\n",
    "# Create the process group to hold the processes\n",
    "group_name = note = processgrp = process = processgrp_id = agent = None\n",
    "\n",
    "group_name = \"assemble_upper_frame\"\n",
    "note = \"Groups assembly events of the upper frame\"\n",
    "parent_group = \"assemble_box_frame\"\n",
    "agent = 'one'\n",
    "\n",
    "processgrp_id = processgrp_data[f'{parent_group}']['id']\n",
    "\n",
    "get_processgrp(group_name, users_data[f'{agent}'], note, processgrp_data, processgrp_id=processgrp_id, endpoint=ENDPOINT)\n"
   ]
  },
  {
   "cell_type": "code",
   "execution_count": null,
   "id": "72d5e257-2998-419a-b7e3-f96ab368d6f5",
   "metadata": {},
   "outputs": [],
   "source": [
    "# UPPER FRAME\n",
    "# Insert the processes in the group\n",
    "group_name = note = processgrp = process = processgrp_id = None\n",
    "\n",
    "agent = 'one'\n",
    "group_name = \"assemble_upper_frame\"\n",
    "process_list = ['UpperFrame_1', 'UpperFrame_2', 'UpperFrame_3', 'UpperFrame_4']\n",
    "\n",
    "\n",
    "processgrp = processgrp_data[f'{group_name}']\n",
    "\n",
    "for process in process_list:\n",
    "    insert_procingrp(users_data[f'{agent}'], processgrp, process_data[f'{process}'], endpoint=ENDPOINT)\n"
   ]
  },
  {
   "cell_type": "code",
   "execution_count": null,
   "id": "7fce0cf4-e67e-4de9-ac81-cec96b5d7272",
   "metadata": {
    "scrolled": true
   },
   "outputs": [],
   "source": [
    "# LOWER FRAME\n",
    "# Create the process group to hold the processes\n",
    "group_name = note = processgrp = process = processgrp_id = agent = None\n",
    "\n",
    "group_name = \"assemble_lower_frame\"\n",
    "note = \"Groups assembly events of the lower frame\"\n",
    "parent_group = \"assemble_box_frame\"\n",
    "agent = 'one'\n",
    "\n",
    "processgrp_id = processgrp_data[f'{parent_group}']['id']\n",
    "\n",
    "get_processgrp(group_name, users_data[f'{agent}'], note, processgrp_data, processgrp_id=processgrp_id, endpoint=ENDPOINT)\n"
   ]
  },
  {
   "cell_type": "code",
   "execution_count": null,
   "id": "dd100ef7-78bc-4390-817a-74431e0fd28a",
   "metadata": {},
   "outputs": [],
   "source": [
    "# LOWER FRAME\n",
    "# Insert the processes in the group\n",
    "group_name = note = processgrp = process = processgrp_id = None\n",
    "\n",
    "agent = 'one'\n",
    "group_name = \"assemble_lower_frame\"\n",
    "process_list = ['LowerFrame_1', 'LowerFrame_2', 'LowerFrame_3', 'LowerFrame_4']\n",
    "\n",
    "\n",
    "processgrp = processgrp_data[f'{group_name}']\n",
    "\n",
    "for process in process_list:\n",
    "    insert_procingrp(users_data[f'{agent}'], processgrp, process_data[f'{process}'], endpoint=ENDPOINT)\n"
   ]
  },
  {
   "cell_type": "code",
   "execution_count": null,
   "id": "2257a504-cb95-48f6-890c-7a0d0edc2ee8",
   "metadata": {
    "scrolled": true,
    "tags": []
   },
   "outputs": [],
   "source": [
    "# FIRST PILLAR\n",
    "# Create the process group to hold the processes\n",
    "group_name = note = processgrp = process = processgrp_id = agent = None\n",
    "\n",
    "group_name = \"assemble_first_pillar\"\n",
    "note = \"Groups assembly events of the first pillar\"\n",
    "parent_group = \"assemble_box_frame\"\n",
    "agent = 'one'\n",
    "\n",
    "processgrp_id = processgrp_data[f'{parent_group}']['id']\n",
    "\n",
    "get_processgrp(group_name, users_data[f'{agent}'], note, processgrp_data, processgrp_id=processgrp_id, endpoint=ENDPOINT)\n"
   ]
  },
  {
   "cell_type": "code",
   "execution_count": null,
   "id": "e7aad873-19ff-4a6b-b3b0-bf4f2245a9bd",
   "metadata": {},
   "outputs": [],
   "source": [
    "# FIRST PILLAR\n",
    "# Insert the processes in the group\n",
    "group_name = note = processgrp = process = processgrp_id = None\n",
    "\n",
    "agent = 'one'\n",
    "group_name = \"assemble_first_pillar\"\n",
    "process_list = ['First_Pillar_1', 'First_Pillar_2']\n",
    "\n",
    "\n",
    "processgrp = processgrp_data[f'{group_name}']\n",
    "\n",
    "for process in process_list:\n",
    "    insert_procingrp(users_data[f'{agent}'], processgrp, process_data[f'{process}'], endpoint=ENDPOINT)\n"
   ]
  },
  {
   "cell_type": "code",
   "execution_count": null,
   "id": "5cf50b36-9f9e-41ef-9ba1-549f112cfafe",
   "metadata": {
    "scrolled": true,
    "tags": []
   },
   "outputs": [],
   "source": [
    "# SECOND PILLAR\n",
    "# Create the process group to hold the processes\n",
    "group_name = note = processgrp = process = processgrp_id = agent = None\n",
    "\n",
    "group_name = \"assemble_second_pillar\"\n",
    "note = \"Groups assembly events of the second pillar\"\n",
    "parent_group = \"assemble_box_frame\"\n",
    "agent = 'one'\n",
    "\n",
    "processgrp_id = processgrp_data[f'{parent_group}']['id']\n",
    "\n",
    "get_processgrp(group_name, users_data[f'{agent}'], note, processgrp_data, processgrp_id=processgrp_id, endpoint=ENDPOINT)\n"
   ]
  },
  {
   "cell_type": "code",
   "execution_count": null,
   "id": "32fdf27e-9b8c-42ea-b65b-7d6f6b0e7e09",
   "metadata": {},
   "outputs": [],
   "source": [
    "# SECOND PILLAR\n",
    "# Insert the processes in the group\n",
    "group_name = note = processgrp = process = processgrp_id = None\n",
    "\n",
    "agent = 'one'\n",
    "group_name = \"assemble_second_pillar\"\n",
    "process_list = ['Second_Pillar_1', 'Second_Pillar_2']\n",
    "\n",
    "\n",
    "processgrp = processgrp_data[f'{group_name}']\n",
    "\n",
    "for process in process_list:\n",
    "    insert_procingrp(users_data[f'{agent}'], processgrp, process_data[f'{process}'], endpoint=ENDPOINT)\n"
   ]
  },
  {
   "cell_type": "code",
   "execution_count": null,
   "id": "1e0d14f8-7960-4bdc-9761-e51c589dd297",
   "metadata": {
    "scrolled": true,
    "tags": []
   },
   "outputs": [],
   "source": [
    "# THIRD PILLAR\n",
    "# Create the process group to hold the processes\n",
    "group_name = note = processgrp = process = processgrp_id = agent = None\n",
    "\n",
    "group_name = \"assemble_third_pillar\"\n",
    "note = \"Groups assembly events of the third pillar\"\n",
    "parent_group = \"assemble_box_frame\"\n",
    "agent = 'one'\n",
    "\n",
    "processgrp_id = processgrp_data[f'{parent_group}']['id']\n",
    "\n",
    "get_processgrp(group_name, users_data[f'{agent}'], note, processgrp_data, processgrp_id=processgrp_id, endpoint=ENDPOINT)\n"
   ]
  },
  {
   "cell_type": "code",
   "execution_count": null,
   "id": "8fff8aa6-17f3-40bd-8159-8a6224344e3e",
   "metadata": {},
   "outputs": [],
   "source": [
    "# THIRD PILLAR\n",
    "# Insert the processes in the group\n",
    "group_name = note = processgrp = process = processgrp_id = None\n",
    "\n",
    "agent = 'one'\n",
    "group_name = \"assemble_third_pillar\"\n",
    "process_list = ['Third_Pillar_1', 'Third_Pillar_2']\n",
    "\n",
    "\n",
    "processgrp = processgrp_data[f'{group_name}']\n",
    "\n",
    "for process in process_list:\n",
    "    insert_procingrp(users_data[f'{agent}'], processgrp, process_data[f'{process}'], endpoint=ENDPOINT)\n"
   ]
  },
  {
   "cell_type": "code",
   "execution_count": null,
   "id": "a2950bb2-0de6-4be9-aa69-6cccb0004baf",
   "metadata": {
    "scrolled": true,
    "tags": []
   },
   "outputs": [],
   "source": [
    "# FORTH PILLAR\n",
    "# Create the process group to hold the processes\n",
    "group_name = note = processgrp = process = processgrp_id = agent = None\n",
    "\n",
    "group_name = \"assemble_forth_pillar\"\n",
    "note = \"Groups assembly events of the forth pillar\"\n",
    "parent_group = \"assemble_box_frame\"\n",
    "agent = 'one'\n",
    "\n",
    "processgrp_id = processgrp_data[f'{parent_group}']['id']\n",
    "\n",
    "get_processgrp(group_name, users_data[f'{agent}'], note, processgrp_data, processgrp_id=processgrp_id, endpoint=ENDPOINT)\n"
   ]
  },
  {
   "cell_type": "code",
   "execution_count": null,
   "id": "4ce5ea6e-5eea-4cc3-a33c-ff0acf84e37d",
   "metadata": {},
   "outputs": [],
   "source": [
    "# FORTH PILLAR\n",
    "# Insert the processes in the group\n",
    "group_name = note = processgrp = process = processgrp_id = None\n",
    "\n",
    "agent = 'one'\n",
    "group_name = \"assemble_forth_pillar\"\n",
    "process_list = ['Forth_Pillar_1', 'Forth_Pillar_2']\n",
    "\n",
    "\n",
    "processgrp = processgrp_data[f'{group_name}']\n",
    "\n",
    "for process in process_list:\n",
    "    insert_procingrp(users_data[f'{agent}'], processgrp, process_data[f'{process}'], endpoint=ENDPOINT)\n"
   ]
  },
  {
   "cell_type": "code",
   "execution_count": null,
   "id": "c2f6328e-62e8-4899-8ac4-62831e5eb8a9",
   "metadata": {
    "scrolled": true,
    "tags": []
   },
   "outputs": [],
   "source": [
    "# BOX FRAME PILLAR ATTACH\n",
    "# Create the process group to hold the processes\n",
    "group_name = note = processgrp = process = processgrp_id = agent = None\n",
    "\n",
    "group_name = \"attach_pillars_to_box_frame\"\n",
    "note = \"Groups assembly attaching 4 pillars to box_frame\"\n",
    "parent_group = \"assemble_box_frame\"\n",
    "agent = 'one'\n",
    "\n",
    "processgrp_id = processgrp_data[f'{parent_group}']['id']\n",
    "\n",
    "get_processgrp(group_name, users_data[f'{agent}'], note, processgrp_data, processgrp_id=processgrp_id, endpoint=ENDPOINT)\n"
   ]
  },
  {
   "cell_type": "code",
   "execution_count": null,
   "id": "5105667c-973e-4c7c-9803-e1e489c4b97e",
   "metadata": {},
   "outputs": [],
   "source": [
    "# BOX FRAME PILLAR ATTACH\n",
    "# Insert the processes in the group\n",
    "group_name = note = processgrp = process = processgrp_id = None\n",
    "\n",
    "agent = 'one'\n",
    "group_name = \"attach_pillars_to_box_frame\"\n",
    "process_list = ['First_Pillar_Box_Frame_Connect','Second_Pillar_Box_Frame_Connect','Third_Pillar_Box_Frame_Connect','Forth_Pillar_Box_Frame_Connect']\n",
    "\n",
    "\n",
    "processgrp = processgrp_data[f'{group_name}']\n",
    "\n",
    "for process in process_list:\n",
    "    insert_procingrp(users_data[f'{agent}'], processgrp, process_data[f'{process}'], endpoint=ENDPOINT)\n"
   ]
  },
  {
   "cell_type": "code",
   "execution_count": null,
   "id": "31ce5d6e-8768-4598-8c97-6b83446b5fea",
   "metadata": {
    "scrolled": true,
    "tags": []
   },
   "outputs": [],
   "source": [
    "# BOX FRAME NUTPLATE INSERTION\n",
    "# Create the process group to hold the processes\n",
    "group_name = note = processgrp = process = processgrp_id = agent = None\n",
    "\n",
    "group_name = \"insert_nutplates_in_box_frame\"\n",
    "note = \"Groups assembly inserting nutplates into box_frame\"\n",
    "parent_group = \"assemble_box_frame\"\n",
    "agent = 'one'\n",
    "\n",
    "processgrp_id = processgrp_data[f'{parent_group}']['id']\n",
    "\n",
    "get_processgrp(group_name, users_data[f'{agent}'], note, processgrp_data, processgrp_id=processgrp_id, endpoint=ENDPOINT)\n"
   ]
  },
  {
   "cell_type": "code",
   "execution_count": null,
   "id": "d6e9da25-19c2-4944-bc75-f3eca9459ef2",
   "metadata": {},
   "outputs": [],
   "source": [
    "# BOX FRAME NUTPLATE INSERTION\n",
    "# Insert the processes in the group\n",
    "group_name = note = processgrp = process = processgrp_id = None\n",
    "\n",
    "agent = 'one'\n",
    "group_name = \"insert_nutplates_in_box_frame\"\n",
    "process_list = ['Box_Frame_Side_Cover_Nutplates_Insertion','Box_Frame_Front_Back_Cover_Nutplates_Insertion','Box_Frame_Mountplate_Nutplates_Insertion']\n",
    "\n",
    "\n",
    "processgrp = processgrp_data[f'{group_name}']\n",
    "\n",
    "for process in process_list:\n",
    "    insert_procingrp(users_data[f'{agent}'], processgrp, process_data[f'{process}'], endpoint=ENDPOINT)\n"
   ]
  },
  {
   "cell_type": "code",
   "execution_count": null,
   "id": "1fd148c2-883a-4860-b742-170c5369a032",
   "metadata": {
    "scrolled": true,
    "tags": []
   },
   "outputs": [],
   "source": [
    "# BOX FRAME UPPER FRAME ATTACH\n",
    "# Create the process group to hold the processes\n",
    "# when these are uncommentde, visualisation seems to break?\n",
    "group_name = note = processgrp = process = processgrp_id = agent = None\n",
    "\n",
    "group_name = \"attach_upper_frame_to_box_frame\"\n",
    "note = \"Groups assembly attaching upper frame to box frame\"\n",
    "parent_group = \"assemble_box_frame\"\n",
    "agent = 'one'\n",
    "\n",
    "processgrp_id = processgrp_data[f'{parent_group}']['id']\n",
    "\n",
    "get_processgrp(group_name, users_data[f'{agent}'], note, processgrp_data, processgrp_id=processgrp_id, endpoint=ENDPOINT)\n"
   ]
  },
  {
   "cell_type": "code",
   "execution_count": null,
   "id": "e979a005-2d89-4b76-bfef-7a550552f9e7",
   "metadata": {},
   "outputs": [],
   "source": [
    "# BOX FRAME UPPER FRAME ATTACH\n",
    "# Insert the processes in the group\n",
    "group_name = note = processgrp = process = processgrp_id = agent = None\n",
    "\n",
    "agent = 'one'\n",
    "group_name = \"attach_upper_frame_to_box_frame\"\n",
    "process_list = ['Box_Upper_Frame_Connection']\n",
    "process = 'Box_Upper_Frame_Connection'\n",
    "\n",
    "\n",
    "processgrp = processgrp_data[f'{group_name}']\n",
    "\n",
    "for process in process_list:\n",
    "    insert_procingrp(users_data[f'{agent}'], processgrp, process_data[f'{process}'], endpoint=ENDPOINT)\n"
   ]
  },
  {
   "cell_type": "markdown",
   "id": "4bdb69ca-6113-494e-a63b-8641fe62c726",
   "metadata": {
    "tags": []
   },
   "source": [
    "## Transfer BoxFrame"
   ]
  },
  {
   "cell_type": "code",
   "execution_count": null,
   "id": "a8dbca3e-ae8c-4fbb-adfa-d6dafc2a0ae4",
   "metadata": {},
   "outputs": [],
   "source": [
    "# XXXX Mock Transfer from user two to user one\n",
    "note='Mock Transfer UpperFrame from two to one'\n",
    "action = 'transfer'\n",
    "amount = 1\n",
    "resource = 'box_frame'\n",
    "\n",
    "cur_res = res_data[f'{resource}_res']\n",
    "\n",
    "event_id, ts = make_transfer(users_data['two'], action, note, users_data['one'], amount, cur_res, locs_data, res_spec_data, endpoint=ENDPOINT)\n",
    "event_seq.append({'ts': ts, 'event_id':event_id, 'action' : action, 'res_name': cur_res['name'], 'res': cur_res['id']})"
   ]
  },
  {
   "cell_type": "code",
   "execution_count": null,
   "id": "4b8b4001",
   "metadata": {},
   "outputs": [],
   "source": [
    "show_data(users_data, locs_data, res_data, units_data, res_spec_data, process_data, event_seq, \\\n",
    "          proposal_data, intent_data, prop_int_data, satisfaction_data, processgrp_data)"
   ]
  },
  {
   "cell_type": "code",
   "execution_count": null,
   "id": "065a2a66",
   "metadata": {},
   "outputs": [],
   "source": [
    "# example of using show functions\n",
    "# show_resource(users_data['one'], '061Z9FX8M4BJ3M6JMB7MW7VSER', endpoint=ENDPOINT)\n",
    "# show_proposal(users_data['one'], '061Z9FX9H8PT0JF16KP25VS8R0', endpoint=ENDPOINT)\n"
   ]
  },
  {
   "cell_type": "markdown",
   "id": "a5508a65-1dba-4d5f-b8f0-60b01a7e7370",
   "metadata": {
    "tags": []
   },
   "source": [
    "## Traces"
   ]
  },
  {
   "cell_type": "code",
   "execution_count": null,
   "id": "89e9fa5c-f962-4f36-b0d6-bfd22065b945",
   "metadata": {
    "tags": []
   },
   "outputs": [],
   "source": [
    "trace_object = 'upper_frame'\n",
    "\n",
    "trace_resource = f'{trace_object}_res'\n",
    "trace_me = res_data[f'{trace_resource}']['id']\n",
    "\n",
    "print(f\"Resource to be traced: {trace_me}\")\n",
    "tot_dpp = []\n",
    "visited = set()\n",
    "er_before(trace_me, users_data['two'], dpp_children=tot_dpp, depth=0, visited=visited, endpoint=ENDPOINT)\n",
    "\n",
    "# Serializing json\n",
    "json_object = json.dumps(tot_dpp, indent=2)\n",
    "\n",
    "# print(json_object)\n",
    "# print(visited)"
   ]
  },
  {
   "cell_type": "code",
   "execution_count": null,
   "id": "239aa175",
   "metadata": {
    "tags": []
   },
   "outputs": [],
   "source": [
    "be_dpp = get_dpp(trace_me, user_data, endpoint=ENDPOINT)\n",
    "# print(json.dumps(be_dpp, indent=2))"
   ]
  },
  {
   "cell_type": "code",
   "execution_count": null,
   "id": "597c9173",
   "metadata": {
    "tags": []
   },
   "outputs": [],
   "source": [
    "trace = trace_query(trace_me, users_data['two'], endpoint=ENDPOINT)\n",
    "# check consistency between the registered events, the back-end trace and the generated dpp\n",
    "# XXX DEBUG comment check_traces for now\n",
    "# check_traces(trace, event_seq, tot_dpp, be_dpp)"
   ]
  },
  {
   "cell_type": "code",
   "execution_count": null,
   "id": "8a03e394",
   "metadata": {},
   "outputs": [],
   "source": [
    "save_traces(f'{USE_CASE}-{trace_object}', tot_dpp, trace, be_dpp, event_seq, processgrp_data)"
   ]
  },
  {
   "cell_type": "code",
   "execution_count": null,
   "id": "85893af9",
   "metadata": {
    "tags": []
   },
   "outputs": [],
   "source": [
    "labels = []\n",
    "sources = []\n",
    "targets = []\n",
    "values = []\n",
    "color_nodes = []\n",
    "color_links = []\n",
    "assigned = {}\n",
    "vis_dpp(tot_dpp[0], count=0, assigned=assigned, labels=labels, targets=targets, sources=sources, values=values, color_nodes=color_nodes, color_links=color_links)\n",
    "sources, targets = consol_trace(assigned, sources, targets)\n",
    "make_sankey(sources, targets, labels, values, color_nodes, color_links)"
   ]
  },
  {
   "cell_type": "code",
   "execution_count": null,
   "id": "035bc286-c94b-4014-85dc-41d388e04611",
   "metadata": {
    "tags": []
   },
   "outputs": [],
   "source": [
    "trace_object = 'lower_frame'\n",
    "\n",
    "trace_resource = f'{trace_object}_res'\n",
    "trace_me = res_data[f'{trace_resource}']['id']\n",
    "\n",
    "print(f\"Resource to be traced: {trace_me}\")\n",
    "tot_dpp = []\n",
    "visited = set()\n",
    "er_before(trace_me, users_data['two'], dpp_children=tot_dpp, depth=0, visited=visited, endpoint=ENDPOINT)\n",
    "\n",
    "# Serializing json\n",
    "json_object = json.dumps(tot_dpp, indent=2)\n",
    "\n",
    "# print(json_object)\n",
    "# print(visited)"
   ]
  },
  {
   "cell_type": "code",
   "execution_count": null,
   "id": "a197ffd0-6751-49d3-8a51-ac2c2faa7ec4",
   "metadata": {
    "tags": []
   },
   "outputs": [],
   "source": [
    "be_dpp = get_dpp(trace_me, user_data, endpoint=ENDPOINT)\n",
    "# print(json.dumps(be_dpp, indent=2))"
   ]
  },
  {
   "cell_type": "code",
   "execution_count": null,
   "id": "e3b3f18e-6db0-41be-8d9b-746609449b4b",
   "metadata": {
    "tags": []
   },
   "outputs": [],
   "source": [
    "trace = trace_query(trace_me, users_data['two'], endpoint=ENDPOINT)\n",
    "# check consistency between the registered events, the back-end trace and the generated dpp\n",
    "# XXX DEBUG comment check_traces for now\n",
    "# check_traces(trace, event_seq, tot_dpp, be_dpp)"
   ]
  },
  {
   "cell_type": "code",
   "execution_count": null,
   "id": "8ebbc92d-53a9-486a-938b-2df7a9156d07",
   "metadata": {
    "tags": []
   },
   "outputs": [],
   "source": [
    "save_traces(f'{USE_CASE}-{trace_object}', tot_dpp, trace, be_dpp, event_seq, processgrp_data)"
   ]
  },
  {
   "cell_type": "code",
   "execution_count": null,
   "id": "026f59bf-250b-4770-b7d1-e04a356fdf76",
   "metadata": {
    "tags": []
   },
   "outputs": [],
   "source": [
    "labels = []\n",
    "sources = []\n",
    "targets = []\n",
    "values = []\n",
    "color_nodes = []\n",
    "color_links = []\n",
    "assigned = {}\n",
    "vis_dpp(tot_dpp[0], count=0, assigned=assigned, labels=labels, targets=targets, sources=sources, values=values, color_nodes=color_nodes, color_links=color_links)\n",
    "sources, targets = consol_trace(assigned, sources, targets)\n",
    "make_sankey(sources, targets, labels, values, color_nodes, color_links)"
   ]
  },
  {
   "cell_type": "code",
   "execution_count": null,
   "id": "b98ddac7",
   "metadata": {
    "tags": []
   },
   "outputs": [],
   "source": [
    "trace_object = 'first_pillar'\n",
    "\n",
    "trace_resource = f'{trace_object}_res'\n",
    "trace_me = res_data[f'{trace_resource}']['id']\n",
    "\n",
    "print(f\"Resource to be traced: {trace_me}\")\n",
    "tot_dpp = []\n",
    "visited = set()\n",
    "er_before(trace_me, users_data['two'], dpp_children=tot_dpp, depth=0, visited=visited, endpoint=ENDPOINT)\n",
    "\n",
    "# Serializing json\n",
    "json_object = json.dumps(tot_dpp, indent=2)\n",
    "\n",
    "# print(json_object)\n",
    "# print(visited)"
   ]
  },
  {
   "cell_type": "code",
   "execution_count": null,
   "id": "b3b7064f-f720-4452-8e7e-4a8da8e90fce",
   "metadata": {
    "tags": []
   },
   "outputs": [],
   "source": [
    "be_dpp = get_dpp(trace_me, user_data, endpoint=ENDPOINT)\n",
    "# print(json.dumps(be_dpp, indent=2))"
   ]
  },
  {
   "cell_type": "code",
   "execution_count": null,
   "id": "e47e4148-062f-46f3-acc3-7a998ac8dd72",
   "metadata": {
    "tags": []
   },
   "outputs": [],
   "source": [
    "trace = trace_query(trace_me, users_data['two'], endpoint=ENDPOINT)\n",
    "# check consistency between the registered events, the back-end trace and the generated dpp\n",
    "# XXX DEBUG comment check_traces for now\n",
    "# check_traces(trace, event_seq, tot_dpp, be_dpp)"
   ]
  },
  {
   "cell_type": "code",
   "execution_count": null,
   "id": "71e964a7-54a3-4bdd-a3b7-8a132ebb2a57",
   "metadata": {
    "tags": []
   },
   "outputs": [],
   "source": [
    "save_traces(f'{USE_CASE}-{trace_object}', tot_dpp, trace, be_dpp, event_seq, processgrp_data)"
   ]
  },
  {
   "cell_type": "code",
   "execution_count": null,
   "id": "0d2c5dee-403f-40de-a180-5617181936fd",
   "metadata": {
    "tags": []
   },
   "outputs": [],
   "source": [
    "labels = []\n",
    "sources = []\n",
    "targets = []\n",
    "values = []\n",
    "color_nodes = []\n",
    "color_links = []\n",
    "assigned = {}\n",
    "vis_dpp(tot_dpp[0], count=0, assigned=assigned, labels=labels, targets=targets, sources=sources, values=values, color_nodes=color_nodes, color_links=color_links)\n",
    "sources, targets = consol_trace(assigned, sources, targets)\n",
    "make_sankey(sources, targets, labels, values, color_nodes, color_links)"
   ]
  },
  {
   "cell_type": "code",
   "execution_count": null,
   "id": "b614522f-41ef-4efc-bf51-8797a0946568",
   "metadata": {
    "tags": []
   },
   "outputs": [],
   "source": [
    "trace_object = 'second_pillar'\n",
    "\n",
    "trace_resource = f'{trace_object}_res'\n",
    "trace_me = res_data[f'{trace_resource}']['id']\n",
    "\n",
    "print(f\"Resource to be traced: {trace_me}\")\n",
    "tot_dpp = []\n",
    "visited = set()\n",
    "er_before(trace_me, users_data['two'], dpp_children=tot_dpp, depth=0, visited=visited, endpoint=ENDPOINT)\n",
    "\n",
    "# Serializing json\n",
    "json_object = json.dumps(tot_dpp, indent=2)\n",
    "\n",
    "# print(json_object)\n",
    "# print(visited)"
   ]
  },
  {
   "cell_type": "code",
   "execution_count": null,
   "id": "b840b6d4-a589-4f59-adad-29c80449fcbe",
   "metadata": {
    "tags": []
   },
   "outputs": [],
   "source": [
    "be_dpp = get_dpp(trace_me, user_data, endpoint=ENDPOINT)\n",
    "# print(json.dumps(be_dpp, indent=2))"
   ]
  },
  {
   "cell_type": "code",
   "execution_count": null,
   "id": "8a056caf-9460-49bf-86e2-01cb609e2810",
   "metadata": {
    "tags": []
   },
   "outputs": [],
   "source": [
    "trace = trace_query(trace_me, users_data['two'], endpoint=ENDPOINT)\n",
    "# check consistency between the registered events, the back-end trace and the generated dpp\n",
    "# XXX DEBUG comment check_traces for now\n",
    "# check_traces(trace, event_seq, tot_dpp, be_dpp)"
   ]
  },
  {
   "cell_type": "code",
   "execution_count": null,
   "id": "b0ae9a69-5c73-4f3e-bb6d-98045b919443",
   "metadata": {
    "tags": []
   },
   "outputs": [],
   "source": [
    "save_traces(f'{USE_CASE}-{trace_object}', tot_dpp, trace, be_dpp, event_seq, processgrp_data)"
   ]
  },
  {
   "cell_type": "code",
   "execution_count": null,
   "id": "8dfd9b10-849f-43d6-8d12-7e6a9ddea6cc",
   "metadata": {
    "tags": []
   },
   "outputs": [],
   "source": [
    "labels = []\n",
    "sources = []\n",
    "targets = []\n",
    "values = []\n",
    "color_nodes = []\n",
    "color_links = []\n",
    "assigned = {}\n",
    "vis_dpp(tot_dpp[0], count=0, assigned=assigned, labels=labels, targets=targets, sources=sources, values=values, color_nodes=color_nodes, color_links=color_links)\n",
    "sources, targets = consol_trace(assigned, sources, targets)\n",
    "make_sankey(sources, targets, labels, values, color_nodes, color_links)"
   ]
  },
  {
   "cell_type": "code",
   "execution_count": null,
   "id": "6b533360-ae19-476f-b282-a317f917069c",
   "metadata": {
    "tags": []
   },
   "outputs": [],
   "source": [
    "trace_object = 'third_pillar'\n",
    "\n",
    "trace_resource = f'{trace_object}_res'\n",
    "trace_me = res_data[f'{trace_resource}']['id']\n",
    "\n",
    "print(f\"Resource to be traced: {trace_me}\")\n",
    "tot_dpp = []\n",
    "visited = set()\n",
    "er_before(trace_me, users_data['two'], dpp_children=tot_dpp, depth=0, visited=visited, endpoint=ENDPOINT)\n",
    "\n",
    "# Serializing json\n",
    "json_object = json.dumps(tot_dpp, indent=2)\n",
    "\n",
    "# print(json_object)\n",
    "# print(visited)"
   ]
  },
  {
   "cell_type": "code",
   "execution_count": null,
   "id": "8d06b1f0-9a43-4885-8d91-42c62b65a646",
   "metadata": {
    "tags": []
   },
   "outputs": [],
   "source": [
    "be_dpp = get_dpp(trace_me, user_data, endpoint=ENDPOINT)\n",
    "# print(json.dumps(be_dpp, indent=2))"
   ]
  },
  {
   "cell_type": "code",
   "execution_count": null,
   "id": "817c23bf-1de6-41d7-9f7c-2dac4f31c1e1",
   "metadata": {
    "tags": []
   },
   "outputs": [],
   "source": [
    "trace = trace_query(trace_me, users_data['two'], endpoint=ENDPOINT)\n",
    "# check consistency between the registered events, the back-end trace and the generated dpp\n",
    "# XXX DEBUG comment check_traces for now\n",
    "# check_traces(trace, event_seq, tot_dpp, be_dpp)"
   ]
  },
  {
   "cell_type": "code",
   "execution_count": null,
   "id": "f385d99d-67bb-486a-8f08-c06ebd9eb2fd",
   "metadata": {
    "tags": []
   },
   "outputs": [],
   "source": [
    "save_traces(f'{USE_CASE}-{trace_object}', tot_dpp, trace, be_dpp, event_seq, processgrp_data)"
   ]
  },
  {
   "cell_type": "code",
   "execution_count": null,
   "id": "b4298230-4ab2-4acc-99fe-3647a4216c0e",
   "metadata": {
    "tags": []
   },
   "outputs": [],
   "source": [
    "labels = []\n",
    "sources = []\n",
    "targets = []\n",
    "values = []\n",
    "color_nodes = []\n",
    "color_links = []\n",
    "assigned = {}\n",
    "vis_dpp(tot_dpp[0], count=0, assigned=assigned, labels=labels, targets=targets, sources=sources, values=values, color_nodes=color_nodes, color_links=color_links)\n",
    "sources, targets = consol_trace(assigned, sources, targets)\n",
    "make_sankey(sources, targets, labels, values, color_nodes, color_links)"
   ]
  },
  {
   "cell_type": "code",
   "execution_count": null,
   "id": "e07f03c5-e230-43c2-aa6c-cf6b6160a4f5",
   "metadata": {
    "tags": []
   },
   "outputs": [],
   "source": [
    "trace_object = 'forth_pillar'\n",
    "\n",
    "trace_resource = f'{trace_object}_res'\n",
    "trace_me = res_data[f'{trace_resource}']['id']\n",
    "\n",
    "print(f\"Resource to be traced: {trace_me}\")\n",
    "tot_dpp = []\n",
    "visited = set()\n",
    "er_before(trace_me, users_data['two'], dpp_children=tot_dpp, depth=0, visited=visited, endpoint=ENDPOINT)\n",
    "\n",
    "# Serializing json\n",
    "json_object = json.dumps(tot_dpp, indent=2)\n",
    "\n",
    "# print(json_object)\n",
    "# print(visited)"
   ]
  },
  {
   "cell_type": "code",
   "execution_count": null,
   "id": "2d25706c-5fe3-442b-807e-3d3872e38fa3",
   "metadata": {
    "tags": []
   },
   "outputs": [],
   "source": [
    "be_dpp = get_dpp(trace_me, user_data, endpoint=ENDPOINT)\n",
    "# print(json.dumps(be_dpp, indent=2))"
   ]
  },
  {
   "cell_type": "code",
   "execution_count": null,
   "id": "b6337a66-edda-4899-90de-f22ec61331ae",
   "metadata": {
    "tags": []
   },
   "outputs": [],
   "source": [
    "trace = trace_query(trace_me, users_data['two'], endpoint=ENDPOINT)\n",
    "# check consistency between the registered events, the back-end trace and the generated dpp\n",
    "# XXX DEBUG comment check_traces for now\n",
    "# check_traces(trace, event_seq, tot_dpp, be_dpp)"
   ]
  },
  {
   "cell_type": "code",
   "execution_count": null,
   "id": "d8b2fd64-83b1-4fcf-a9d2-b1a31f2b47f6",
   "metadata": {
    "tags": []
   },
   "outputs": [],
   "source": [
    "save_traces(f'{USE_CASE}-{trace_object}', tot_dpp, trace, be_dpp, event_seq, processgrp_data)"
   ]
  },
  {
   "cell_type": "code",
   "execution_count": null,
   "id": "f98efbe5-f6ae-4553-8062-a2dd297dd26e",
   "metadata": {
    "tags": []
   },
   "outputs": [],
   "source": [
    "labels = []\n",
    "sources = []\n",
    "targets = []\n",
    "values = []\n",
    "color_nodes = []\n",
    "color_links = []\n",
    "assigned = {}\n",
    "vis_dpp(tot_dpp[0], count=0, assigned=assigned, labels=labels, targets=targets, sources=sources, values=values, color_nodes=color_nodes, color_links=color_links)\n",
    "sources, targets = consol_trace(assigned, sources, targets)\n",
    "make_sankey(sources, targets, labels, values, color_nodes, color_links)"
   ]
  },
  {
   "cell_type": "code",
   "execution_count": null,
   "id": "8b354394-1413-4040-bdda-f1c73d6f5950",
   "metadata": {
    "tags": []
   },
   "outputs": [],
   "source": [
    "# XXXX DEBUG testing viz with upper frame\n",
    "\n",
    "# trace_me = res_data['first_pillar_res']['id']\n",
    "# trace_me = res_data['box_frame_res']['id']\n",
    "# trace_object = 'upper_frame'\n",
    "# trace_object = 'first_pillar'\n",
    "trace_object = 'box_frame'\n",
    "\n",
    "trace_resource = f'{trace_object}_res'\n",
    "trace_me = res_data[f'{trace_resource}']['id']\n",
    "\n",
    "print(f\"Resource to be traced: {trace_me}\")\n",
    "tot_dpp = []\n",
    "visited = set()\n",
    "er_before(trace_me, users_data['two'], dpp_children=tot_dpp, depth=0, visited=visited, endpoint=ENDPOINT)\n",
    "\n",
    "# Serializing json\n",
    "json_object = json.dumps(tot_dpp, indent=2)\n",
    "\n",
    "# print(json_object)\n",
    "# print(visited)"
   ]
  },
  {
   "cell_type": "code",
   "execution_count": null,
   "id": "2ac0266e-65a1-42b3-ad47-2e7a1ec2812a",
   "metadata": {
    "tags": []
   },
   "outputs": [],
   "source": [
    "be_dpp = get_dpp(trace_me, user_data, endpoint=ENDPOINT)\n",
    "# print(json.dumps(be_dpp, indent=2))"
   ]
  },
  {
   "cell_type": "code",
   "execution_count": null,
   "id": "615c4f21-e787-4d63-87d2-6577bd45ceb4",
   "metadata": {
    "tags": []
   },
   "outputs": [],
   "source": [
    "trace = trace_query(trace_me, users_data['two'], endpoint=ENDPOINT)\n",
    "# XXX DEBUG comment check_traces for now\n",
    "# check_traces(trace, event_seq, tot_dpp, be_dpp)"
   ]
  },
  {
   "cell_type": "code",
   "execution_count": null,
   "id": "d4ac1080-157f-4080-82b4-85014d0660f3",
   "metadata": {
    "tags": []
   },
   "outputs": [],
   "source": [
    "save_traces(USE_CASE, tot_dpp, trace, be_dpp, event_seq, processgrp_data)\n",
    "save_traces(f'{USE_CASE}-{trace_object}', tot_dpp, trace, be_dpp, event_seq, processgrp_data)"
   ]
  },
  {
   "cell_type": "code",
   "execution_count": null,
   "id": "ab818d8e-f7db-4b7b-99e9-eaa2a7063c1e",
   "metadata": {
    "tags": []
   },
   "outputs": [],
   "source": [
    "labels = []\n",
    "sources = []\n",
    "targets = []\n",
    "values = []\n",
    "color_nodes = []\n",
    "color_links = []\n",
    "assigned = {}\n",
    "vis_dpp(tot_dpp[0], count=0, assigned=assigned, labels=labels, targets=targets, sources=sources, values=values, color_nodes=color_nodes, color_links=color_links)\n",
    "sources, targets = consol_trace(assigned, sources, targets)\n",
    "make_sankey(sources, targets, labels, values, color_nodes, color_links)"
   ]
  }
 ],
 "metadata": {
  "celltoolbar": "Tags",
  "kernelspec": {
   "display_name": "Python 3 (ipykernel)",
   "language": "python",
   "name": "python3"
  },
  "language_info": {
   "codemirror_mode": {
    "name": "ipython",
    "version": 3
   },
   "file_extension": ".py",
   "mimetype": "text/x-python",
   "name": "python",
   "nbconvert_exporter": "python",
   "pygments_lexer": "ipython3",
   "version": "3.13.2"
  },
  "vscode": {
   "interpreter": {
    "hash": "aee8b7b246df8f9039afb4144a1f6fd8d2ca17a180786b69acc140d282b71a49"
   }
  }
 },
 "nbformat": 4,
 "nbformat_minor": 5
}
