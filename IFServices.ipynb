{
 "cells": [
  {
   "cell_type": "markdown",
   "id": "8b6d87c3",
   "metadata": {},
   "source": [
    "# Introduction\n",
    "This notebook implements services for Interfacer inspired by [this](https://interfacer-gui-staging.dyne.org/project/062REP7DAN6ZZCR1EJFW2JX0FC) case"
   ]
  },
  {
   "cell_type": "markdown",
   "id": "016261f4",
   "metadata": {},
   "source": [
    "# Initialisation"
   ]
  },
  {
   "cell_type": "code",
   "execution_count": null,
   "id": "2899cdd5",
   "metadata": {},
   "outputs": [],
   "source": [
    "# The following should reload files if we change them on disk\n",
    "%load_ext autoreload\n",
    "%aimport if_lib, if_utils, if_dpp, if_graphics, if_consts, if_prop, if_groups\n",
    "%autoreload 1\n",
    "import os\n",
    "import json\n",
    "import random\n",
    "from datetime import datetime, timezone, timedelta\n",
    "\n",
    "from if_utils import get_filename, show_data, save_traces\n",
    "\n",
    "from if_lib import generate_random_challenge, read_HMAC, read_keypair, get_id_person, get_location_id, \\\n",
    "get_unit_id, get_resource_spec_id, get_resource, get_process, create_event, make_transfer, reduce_resource, \\\n",
    "set_user_location\n",
    "\n",
    "from if_groups import get_processgrp, insert_procingrp\n",
    "\n",
    "from if_prop import get_proposal, get_intent, get_proposedIntent, show_proposal, get_satisfaction, check_proposals\n",
    "\n",
    "from if_dpp import trace_query, check_traces, er_before, get_dpp\n",
    "\n",
    "from if_graphics import vis_dpp, make_sankey, consol_trace"
   ]
  },
  {
   "cell_type": "code",
   "execution_count": null,
   "id": "69530699",
   "metadata": {
    "tags": [
     "parameters"
    ]
   },
   "outputs": [],
   "source": [
    "# We define the constant for our case\n",
    "USE_CASE = 'ifservices'\n",
    "\n",
    "# What endpoint are we talking to?\n",
    "# debug\n",
    "# ENDPOINT = 'http://65.109.11.42:10000/api'\n",
    "# ENDPOINT = 'http://zenflows-debug.interfacer.dyne.org/api'\n",
    "# staging\n",
    "# ENDPOINT = 'http://65.109.11.42:8000/api'\n",
    "# ENDPOINT = 'https://zenflows-staging.interfacer.dyne.org/api'\n",
    "# testing\n",
    "# ENDPOINT = 'http://65.109.11.42:9000/api'\n",
    "# ENDPOINT = 'https://zenflows-test.interfacer.dyne.org/api'\n",
    "ENDPOINT = 'http://localhost:8000/api'\n",
    "\n",
    "\n",
    "USERS = ['designer1', 'designer2', 'service_prov1', 'service_prov2', 'manufacturer1', 'manufacturer2', 'customer1', 'customer2']"
   ]
  },
  {
   "cell_type": "code",
   "execution_count": null,
   "id": "b3171a4a",
   "metadata": {},
   "outputs": [],
   "source": [
    "# Calculate names of settings files\n",
    "USERS_FILE = get_filename('cred_users.json', ENDPOINT, USE_CASE)\n",
    "LOCS_FILE = get_filename('loc_users.json', ENDPOINT, USE_CASE)\n",
    "UNITS_FILE = get_filename('units_data.json', ENDPOINT, USE_CASE)\n",
    "SPECS_FILE = get_filename('res_spec_data.json', ENDPOINT, USE_CASE)"
   ]
  },
  {
   "cell_type": "code",
   "execution_count": null,
   "id": "b8bc7c31",
   "metadata": {},
   "outputs": [],
   "source": [
    "# Read or define user data that is going to be used in the GraphQL calls\n",
    "\n",
    "# create data structure to hold processes\n",
    "process_data = {}\n",
    "\n",
    "# create data structure to hold process groups\n",
    "processgrp_data = {}\n",
    "\n",
    "# create data structure to hold proposals\n",
    "proposal_data = {}\n",
    "\n",
    "# create data structure to hold intents\n",
    "intent_data = {}\n",
    "\n",
    "# create data structure to hold proposed intents\n",
    "prop_int_data = {}\n",
    "\n",
    "# create data structure to hold satisfactions\n",
    "satisfaction_data = {}\n",
    "\n",
    "# create data structures to hold resources and events (to compare/check results from track and trace)\n",
    "res_data = {}\n",
    "event_seq = []\n",
    "\n",
    "if os.path.isfile(USERS_FILE):\n",
    "    with open(USERS_FILE,'r') as f:\n",
    "        users_data = json.loads(f.read())\n",
    "    print(\"Credentials file available for users\")\n",
    "else:\n",
    "    users_data = {}\n",
    "    users_data['designer1'] = {\n",
    "      \"userChallenges\": {\n",
    "        \"whereParentsMet\": \"London\",\n",
    "        \"nameFirstPet\": \"Fuffy\",\n",
    "        \"nameFirstTeacher\": \"Jim\",\n",
    "        \"whereHomeTown\": \"Paris\",\n",
    "        \"nameMotherMaid\": \"Wright\"\n",
    "      },\n",
    "      \"name\": \"Designer1\",\n",
    "      \"username\": \"designer1_username\",\n",
    "      \"email\": \"designer1@example.org\",\n",
    "      \"note\": \"me.designer1.org\"\n",
    "    }\n",
    "    users_data['designer2'] = {\n",
    "      \"userChallenges\": {\n",
    "        \"whereParentsMet\": \"London\",\n",
    "        \"nameFirstPet\": \"Fido\",\n",
    "        \"nameFirstTeacher\": \"Mary\",\n",
    "        \"whereHomeTown\": \"Amsterdam\",\n",
    "        \"nameMotherMaid\": \"Wraight\"\n",
    "      },\n",
    "      \"name\": \"Designer2\",\n",
    "      \"username\": \"designer2_username\",\n",
    "      \"email\": \"designer2@example.org\",\n",
    "      \"note\": \"me.designer2.org\"\n",
    "    }\n",
    "\n",
    "    users_data['manufacturer1'] = {\n",
    "        \"userChallenges\": {\n",
    "            \"whereParentsMet\":\"Amsterdam\",\n",
    "            \"nameFirstPet\":\"Toby\",\n",
    "            \"nameFirstTeacher\":\"Juliet\",\n",
    "            \"whereHomeTown\":\"Rome\",\n",
    "            \"nameMotherMaid\":\"Banks\"\n",
    "        },\n",
    "        \"name\": \"Manufacturer1\",\n",
    "        \"username\": \"manufacturer1_username\",\n",
    "        \"email\": \"manufacturer1@example.org\",\n",
    "        \"note\" : \"me.manufacturer1.org\"\n",
    "    }\n",
    "    users_data['manufacturer2'] = {\n",
    "        \"userChallenges\": {\n",
    "            \"whereParentsMet\":\"Canicatti\",\n",
    "            \"nameFirstPet\":\"Ula\",\n",
    "            \"nameFirstTeacher\":\"Pugsly\",\n",
    "            \"whereHomeTown\":\"Florence\",\n",
    "            \"nameMotherMaid\":\"Ranks\"\n",
    "        },\n",
    "        \"name\": \"Manufacturer2\",\n",
    "        \"username\": \"manufacturer2_username\",\n",
    "        \"email\": \"manufacturer2@example.org\",\n",
    "        \"note\" : \"me.manufacturer2.org\"\n",
    "    }\n",
    "    users_data['service_prov1'] = {\n",
    "        \"userChallenges\": {\n",
    "            \"whereParentsMet\":\"Amsterdam\",\n",
    "            \"nameFirstPet\":\"Toby\",\n",
    "            \"nameFirstTeacher\":\"Juliet\",\n",
    "            \"whereHomeTown\":\"Rome\",\n",
    "            \"nameMotherMaid\":\"Banks\"\n",
    "        },\n",
    "        \"name\": \"Service_prov1\",\n",
    "        \"username\": \"service_prov1_username\",\n",
    "        \"email\": \"service_prov1@example.org\",\n",
    "        \"note\" : \"me.service_prov1.com\"\n",
    "    }\n",
    "    users_data['service_prov2'] = {\n",
    "        \"userChallenges\": {\n",
    "            \"whereParentsMet\":\"Canicatti\",\n",
    "            \"nameFirstPet\":\"Ula\",\n",
    "            \"nameFirstTeacher\":\"Pugsly\",\n",
    "            \"whereHomeTown\":\"Florence\",\n",
    "            \"nameMotherMaid\":\"Ranks\"\n",
    "        },\n",
    "        \"name\": \"service_prov2\",\n",
    "        \"username\": \"service_prov2_username\",\n",
    "        \"email\": \"service_prov2@example.org\",\n",
    "        \"note\" : \"me.service_prov2.com\"\n",
    "    }\n",
    "\n",
    "\n",
    "    users_data['customer1'] = {\n",
    "        \"userChallenges\": {\n",
    "            \"whereParentsMet\":\"Rome\",\n",
    "            \"nameFirstPet\":\"Ku\",\n",
    "            \"nameFirstTeacher\":\"George\",\n",
    "            \"whereHomeTown\":\"Florence\",\n",
    "            \"nameMotherMaid\":\"Canti\"\n",
    "        },\n",
    "        \"name\": \"Customer1\",\n",
    "        \"username\": \"customer1_username\",\n",
    "        \"email\": \"customer1@example.org\",\n",
    "        \"note\" : \"me.customer1.org\"\n",
    "    }\n",
    "\n",
    "    users_data['customer2'] = {\n",
    "        \"userChallenges\": {\n",
    "            \"whereParentsMet\":\"Rome\",\n",
    "            \"nameFirstPet\":\"Ku\",\n",
    "            \"nameFirstTeacher\":\"George\",\n",
    "            \"whereHomeTown\":\"Florence\",\n",
    "            \"nameMotherMaid\":\"Canti\"\n",
    "        },\n",
    "        \"name\": \"Customer2\",\n",
    "        \"username\": \"customer2_username\",\n",
    "        \"email\": \"customer2@example.org\",\n",
    "        \"note\" : \"me.customer2.org\"\n",
    "    }\n",
    "\n",
    "    with open(USERS_FILE,'w') as f:\n",
    "        json.dump(users_data, f)\n",
    "\n",
    "if os.path.isfile(LOCS_FILE):\n",
    "    with open(LOCS_FILE,'r') as f:\n",
    "        locs_data = json.loads(f.read())\n",
    "    print(\"Location file available\")\n",
    "else:\n",
    "    locs_data = {}\n",
    "    locs_data['designer1'] = {\n",
    "        \"name\": \"Dyne\",\n",
    "        \"lat\": 52.39679,\n",
    "        \"long\": 4.8781073,\n",
    "        \"addr\": \"Haparandadam 7, A1, 1013 AK Amsterdam, Netherlands\",\n",
    "        \"note\": \"location.designer1.org\"\n",
    "    }\n",
    "    locs_data['designer2'] = {\n",
    "        \"name\": \"Farback\",\n",
    "        \"lat\": 52.3767127,\n",
    "        \"long\": 4.8990591,\n",
    "        \"addr\": \"Prins Hendrikkade 82 A, 1012 AE, Amsterdam, Netherlands\",\n",
    "        \"note\": \"location.designer2.org\"\n",
    "    }\n",
    "\n",
    "    locs_data['manufacturer1'] = {\n",
    "        \"name\": \"Fab Lab Hamburg\",\n",
    "        \"lat\" : 51.1531305,\n",
    "        \"long\" : 5.2685045,\n",
    "        \"addr\" : \"Stockmeyerstr. 43 Halle 4K Eingang von der Wasserseite, 20457 Hamburg, Germany\",\n",
    "        \"note\": \"location.manufacturer1.org\"\n",
    "    }\n",
    "\n",
    "    locs_data['manufacturer2'] = {\n",
    "        \"name\": \"Fab Lab Amsterdam\",\n",
    "        \"lat\" : 52.372773,\n",
    "        \"long\" : 4.8981243,\n",
    "        \"addr\" : \"Nieuwmarkt 4, 1012 CR Amsterdam, Netherlands\",\n",
    "        \"note\": \"location.manufacturer2.org\"\n",
    "    }\n",
    "\n",
    "    locs_data['service_prov1'] = {\n",
    "        \"name\": \"Bike Totaal B.V.\",\n",
    "        \"lat\" : 52.1971579,\n",
    "        \"long\" : 5.3924199,\n",
    "        \"addr\" : \"Spaceshuttle 22, 3824 ML Amersfoort, Netherlands\",\n",
    "        \"note\": \"location.service_prov1.com\"\n",
    "    }\n",
    "\n",
    "    locs_data['service_prov2'] = {\n",
    "        \"name\": \"Lyondell Covestro Manufacturing\",\n",
    "        \"lat\" : 51.9650382,\n",
    "        \"long\" : 4.0133683,\n",
    "        \"addr\" : \"Australiëweg 7, 3199 KB Maasvlakte Rotterdam, Netherlands\",\n",
    "        \"note\": \"location.service_prov2.com\"\n",
    "    }\n",
    "\n",
    "    locs_data['customer1'] = {\n",
    "        \"name\": \"CleanLease\",\n",
    "        \"lat\" : 51.47240440868687,\n",
    "        \"long\" : 5.412460440524406,\n",
    "        \"addr\" : \"De schakel 30, 5651 Eindhoven, Netherlands\",\n",
    "        \"note\": \"location.customer1.org\"\n",
    "    }\n",
    "\n",
    "    locs_data['customer2'] = {\n",
    "        \"name\": \"OLVG\",\n",
    "        \"lat\" : 52.3585703,\n",
    "        \"long\" : 4.9124307,\n",
    "        \"addr\" : \"Oosterpark 9, 1091 AC Amsterdam, Netherlands\",\n",
    "        \"note\": \"location.customer2.org\"\n",
    "    }\n",
    "\n",
    "    with open(LOCS_FILE,'w') as f:\n",
    "        json.dump(locs_data, f)\n",
    "\n",
    "if os.path.isfile(UNITS_FILE):\n",
    "    with open(UNITS_FILE,'r') as f:\n",
    "        units_data = json.loads(f.read())\n",
    "    print(f\"Unit file available\")\n",
    "else:\n",
    "    units_data = {}\n",
    "#     with open(file,'w') as f:\n",
    "#         json.dump(units_data, f)\n",
    "\n",
    "\n",
    "if os.path.isfile(SPECS_FILE):\n",
    "    with open(SPECS_FILE,'r') as f:\n",
    "        res_spec_data = json.loads(f.read())\n",
    "    print(f\"Resource Spec file available\")\n",
    "else:\n",
    "    res_spec_data = {}"
   ]
  },
  {
   "cell_type": "code",
   "execution_count": null,
   "id": "5bf379da",
   "metadata": {},
   "outputs": [],
   "source": [
    "# Read HMAC or get it from the server\n",
    "for user in USERS:\n",
    "    read_HMAC(USERS_FILE, users_data, user, endpoint=ENDPOINT)"
   ]
  },
  {
   "cell_type": "code",
   "execution_count": null,
   "id": "968e547b",
   "metadata": {
    "scrolled": true
   },
   "outputs": [],
   "source": [
    "# Read the keypair\n",
    "for user in USERS:\n",
    "    read_keypair(USERS_FILE, users_data, user)"
   ]
  },
  {
   "cell_type": "code",
   "execution_count": null,
   "id": "5f04298a",
   "metadata": {},
   "outputs": [],
   "source": [
    "# read or get id of the person\n",
    "for user in USERS:\n",
    "    get_id_person(USERS_FILE, users_data, user, endpoint=ENDPOINT)"
   ]
  },
  {
   "cell_type": "code",
   "execution_count": null,
   "id": "b4898764",
   "metadata": {},
   "outputs": [],
   "source": [
    "# Read of get the location id\n",
    "for user in USERS:\n",
    "    get_location_id(LOCS_FILE, users_data[user], locs_data, user, endpoint=ENDPOINT)\n",
    "    set_user_location(USERS_FILE, users_data, locs_data, user, endpoint=ENDPOINT)"
   ]
  },
  {
   "cell_type": "code",
   "execution_count": null,
   "id": "9df2fe4f",
   "metadata": {
    "scrolled": true
   },
   "outputs": [],
   "source": [
    "# Get the ids of all units\n",
    "get_unit_id(UNITS_FILE, users_data['designer1'], units_data, 'piece', 'u_piece', 'om2:one', endpoint=ENDPOINT)\n",
    "get_unit_id(UNITS_FILE, users_data['designer1'], units_data, 'mass', 'kg', 'om2:kilogram', endpoint=ENDPOINT)\n",
    "get_unit_id(UNITS_FILE, users_data['designer1'], units_data, 'volume', 'lt', 'om2:litre', endpoint=ENDPOINT)\n",
    "get_unit_id(UNITS_FILE, users_data['designer1'], units_data, 'time', 'h', 'om2:hour', endpoint=ENDPOINT)\n",
    "get_unit_id(UNITS_FILE, users_data['designer1'], units_data, 'distance', 'km', 'om2:kilometer', endpoint=ENDPOINT)"
   ]
  },
  {
   "cell_type": "markdown",
   "id": "be2e0ec3",
   "metadata": {},
   "source": [
    "# Proposals"
   ]
  },
  {
   "cell_type": "markdown",
   "id": "153bf07c",
   "metadata": {},
   "source": [
    "## These steps create the \"Service\" that manufactures an aluminium bike frame"
   ]
  },
  {
   "cell_type": "code",
   "execution_count": null,
   "id": "52502888",
   "metadata": {},
   "outputs": [],
   "source": [
    "# Create resource specification for aluminium bike frame\n",
    "name = 'aluminium_bike_frame'\n",
    "note = 'Repository for aluminium bike frame'\n",
    "classification = 'https://github.com/manufacturer1/aluminium_bike_frame'\n",
    "default_unit_id = units_data['piece']['id']\n",
    "get_resource_spec_id(SPECS_FILE, users_data['manufacturer1'], res_spec_data, name, note, classification, default_unit_id, endpoint=ENDPOINT)\n"
   ]
  },
  {
   "cell_type": "code",
   "execution_count": null,
   "id": "5bb41403",
   "metadata": {},
   "outputs": [],
   "source": [
    "# Resource specification for aluminium pipes\n",
    "name = 'aluminium'\n",
    "note = 'Aluminium 10mt, 4cm pipes'\n",
    "classification = 'https://www.wikidata.org/wiki/Q663'\n",
    "default_unit_id = units_data['mass']['id']\n",
    "get_resource_spec_id(SPECS_FILE, users_data['manufacturer1'], res_spec_data, name, note, classification, default_unit_id, endpoint=ENDPOINT)\n"
   ]
  },
  {
   "cell_type": "code",
   "execution_count": null,
   "id": "a10bcbfe",
   "metadata": {},
   "outputs": [],
   "source": [
    "# Resource specification for manifacturing work\n",
    "name = 'manufacturing_work'\n",
    "note = 'Specification for manufacturing work'\n",
    "classification = 'https://www.wikidata.org/wiki/Q187939'\n",
    "default_unit_id = units_data['time']['id']\n",
    "get_resource_spec_id(SPECS_FILE, users_data['manufacturer1'], res_spec_data, name, note, classification, default_unit_id, endpoint=ENDPOINT)"
   ]
  },
  {
   "cell_type": "code",
   "execution_count": null,
   "id": "3ff9c51e",
   "metadata": {},
   "outputs": [],
   "source": [
    "# Create the process that manifactures the bike frame\n",
    "process_name = 'Manifacture_aluminium_bike_frame'\n",
    "user_data = users_data['manufacturer1']\n",
    "note = f\"Creation of aluminum bike frame by {user_data['name']}\"\n",
    "get_process(process_name, process_data, note, user_data, endpoint=ENDPOINT)"
   ]
  },
  {
   "cell_type": "code",
   "execution_count": null,
   "id": "58924575",
   "metadata": {},
   "outputs": [],
   "source": [
    "# Create the proposal for encapsulating intent to manufacture bike frame\n",
    "name = \"Bike_frame_manifacturing_proposal\"\n",
    "note = \"Proposal for manifacturing bike frame\"\n",
    "user_data = users_data['manufacturer1']\n",
    "\n",
    "hasBeginning = datetime.now(timezone.utc).isoformat()\n",
    "dur_days = 365\n",
    "hasEnd = (datetime.now(timezone.utc) + timedelta(days=dur_days)).isoformat()\n",
    "\n",
    "eligibleLocation = locs_data['manufacturer1']['id']\n",
    "\n",
    "unitBased = True\n",
    "\n",
    "get_proposal(name, proposal_data, note, user_data,\\\n",
    "             hasBeginning=hasBeginning, hasEnd=hasEnd, \\\n",
    "             eligibleLocation=eligibleLocation, unitBased=unitBased, endpoint=ENDPOINT)"
   ]
  },
  {
   "cell_type": "code",
   "execution_count": null,
   "id": "1ba52b88",
   "metadata": {},
   "outputs": [],
   "source": [
    "# Create the intent to consume aluminium for a bike frame\n",
    "\n",
    "name = \"Bike_frame_consume_intent\"\n",
    "note = \"Intent for consuming aluminium for a bike frame\"\n",
    "user_data = users_data['manufacturer1']\n",
    "\n",
    "# Relates an intent to a verb, such as consume, produce, work, improve, etc.\n",
    "action = 'consume'\n",
    "# References a concept in a common taxonomy or other classification scheme for purposes of categorization \n",
    "# or grouping.\n",
    "resourceClassifiedAs = None\n",
    "# The primary resource specification or definition of an existing or potential economic resource. \n",
    "# A resource will have only one, as this specifies exactly what the resource is.\n",
    "resourceConformsTo = res_spec_data['aluminium']['id']\n",
    "# When a specific `EconomicResource` is known which can service the `Intent`, this defines that resource.\n",
    "# TODO: In this case should we specify the aluminium?\n",
    "resourceInventoriedAs = None\n",
    "# Since we want to produce 1 bike frame we will put one here, the correct unity will be derived from the res specs\n",
    "amount = 5\n",
    "# Reference to an agreement between agents which specifies the rules or policies or calculations \n",
    "# which govern this intent.\n",
    "agreedIn = None\n",
    "# The place where an intent would occur. Usually mappable.\n",
    "atLocation = locs_data['manufacturer1']['id']\n",
    "# The total quantity of the offered resource available.\n",
    "# TODO: should we here specify a production capability, like 10 per day?\n",
    "availableQuantity = None\n",
    "# The amount and unit of the work or use or citation effort-based action. This is often a time duration, \n",
    "# but also could be cycle counts or other measures of effort or usefulness.\n",
    "effortQuantity = None\n",
    "# The intent is complete or not. This is irrespective of if the original goal has been met, and indicates that no more will be done.\n",
    "finished = False\n",
    "# The time something is expected to be complete.\n",
    "due = None\n",
    "# The planned beginning of the intent.\n",
    "hasBeginning = datetime.now(timezone.utc).isoformat()\n",
    "# The planned end of the intent.\n",
    "dur_days = 365\n",
    "hasEnd = (datetime.now(timezone.utc) + timedelta(days=dur_days)).isoformat()\n",
    "# The planned date/time for the intent. Can be used instead of beginning and end.\n",
    "hasPointInTime = None\n",
    "# Defines the process to which this intent is an input.\n",
    "inputOf = process_data['Manifacture_aluminium_bike_frame']['id']\n",
    "# Defines the process to which this intent is an output.\n",
    "outputOf = None\n",
    "# The economic agent from whom the intent is initiated. This implies that the intent is an offer.\n",
    "provider = users_data['manufacturer1']['id']\n",
    "# The economic agent whom the intent is for. This implies that the intent is a request.\n",
    "receiver = None\n",
    "\n",
    "get_intent(name, intent_data, note, user_data, res_spec_data, provider=provider, receiver=receiver, action=action, \\\n",
    "           resourceClassifiedAs=resourceClassifiedAs, resourceConformsTo=resourceConformsTo, \\\n",
    "           resourceInventoriedAs=resourceInventoriedAs, amount=amount, agreedIn=agreedIn, \\\n",
    "           atLocation=atLocation, availableQuantity=availableQuantity, effortQuantity=effortQuantity,\n",
    "           finished=finished, due=due, hasBeginning=hasBeginning, hasEnd=hasEnd, hasPointInTime=hasPointInTime,\n",
    "           inputOf=inputOf, outputOf=outputOf, endpoint=ENDPOINT)\n"
   ]
  },
  {
   "cell_type": "code",
   "execution_count": null,
   "id": "77b74a46",
   "metadata": {},
   "outputs": [],
   "source": [
    "# Create the intent to work on a bike frame\n",
    "\n",
    "name = \"Bike_frame_work_intent\"\n",
    "note = \"Intent for working on bike frame\"\n",
    "user_data = users_data['manufacturer1']\n",
    "\n",
    "# Relates an intent to a verb, such as consume, produce, work, improve, etc.\n",
    "action = 'work'\n",
    "# References a concept in a common taxonomy or other classification scheme for purposes of categorization \n",
    "# or grouping.\n",
    "resourceClassifiedAs = None\n",
    "# The primary resource specification or definition of an existing or potential economic resource. \n",
    "# A resource will have only one, as this specifies exactly what the resource is.\n",
    "resourceConformsTo = res_spec_data['aluminium_bike_frame']['id']\n",
    "# When a specific `EconomicResource` is known which can service the `Intent`, this defines that resource.\n",
    "# TODO: In this case should we specify the aluminium?\n",
    "resourceInventoriedAs = None\n",
    "# Since we want to produce 1 bike frame we will put one here, the correct unity will be derived from the res specs\n",
    "amount = 1\n",
    "# Reference to an agreement between agents which specifies the rules or policies or calculations \n",
    "# which govern this intent.\n",
    "agreedIn = None\n",
    "# The place where an intent would occur. Usually mappable.\n",
    "atLocation = locs_data['manufacturer1']['id']\n",
    "# The total quantity of the offered resource available.\n",
    "# TODO: should we here specify a production capability, like 10 per day?\n",
    "availableQuantity = None\n",
    "# The amount and unit of the work or use or citation effort-based action. This is often a time duration, \n",
    "# but also could be cycle counts or other measures of effort or usefulness.\n",
    "effortQuantity = {}\n",
    "effortQuantity['hasUnit'] = res_spec_data['manufacturing_work']['defaultUnit']\n",
    "effortQuantity['hasNumericalValue'] = 8\n",
    "\n",
    "# The intent is complete or not. This is irrespective of if the original goal has been met, and indicates that no more will be done.\n",
    "finished = False\n",
    "# The time something is expected to be complete.\n",
    "due = None\n",
    "# The planned beginning of the intent.\n",
    "hasBeginning = datetime.now(timezone.utc).isoformat()\n",
    "# The planned end of the intent.\n",
    "dur_days = 365\n",
    "hasEnd = (datetime.now(timezone.utc) + timedelta(days=dur_days)).isoformat()\n",
    "# The planned date/time for the intent. Can be used instead of beginning and end.\n",
    "hasPointInTime = None\n",
    "# Defines the process to which this intent is an input.\n",
    "inputOf = process_data['Manifacture_aluminium_bike_frame']['id']\n",
    "# Defines the process to which this intent is an output.\n",
    "outputOf = None\n",
    "# The economic agent from whom the intent is initiated. This implies that the intent is an offer.\n",
    "provider = users_data['manufacturer1']['id']\n",
    "# The economic agent whom the intent is for. This implies that the intent is a request.\n",
    "receiver = None\n",
    "\n",
    "get_intent(name, intent_data, note, user_data, res_spec_data, provider=provider, receiver=receiver, action=action, \\\n",
    "           resourceClassifiedAs=resourceClassifiedAs, resourceConformsTo=resourceConformsTo, \\\n",
    "           resourceInventoriedAs=resourceInventoriedAs, amount=amount, agreedIn=agreedIn, \\\n",
    "           atLocation=atLocation, availableQuantity=availableQuantity, effortQuantity=effortQuantity,\n",
    "           finished=finished, due=due, hasBeginning=hasBeginning, hasEnd=hasEnd, hasPointInTime=hasPointInTime,\n",
    "           inputOf=inputOf, outputOf=outputOf, endpoint=ENDPOINT)\n"
   ]
  },
  {
   "cell_type": "code",
   "execution_count": null,
   "id": "6597a9c9",
   "metadata": {},
   "outputs": [],
   "source": [
    "# Create the intent to produce a bike frame\n",
    "\n",
    "name = \"Bike_frame_produce_intent\"\n",
    "note = \"Intent for bike frame production\"\n",
    "user_data = users_data['manufacturer1']\n",
    "\n",
    "# Relates an intent to a verb, such as consume, produce, work, improve, etc.\n",
    "action = 'produce'\n",
    "# References a concept in a common taxonomy or other classification scheme for purposes of categorization \n",
    "# or grouping.\n",
    "resourceClassifiedAs = None\n",
    "# The primary resource specification or definition of an existing or potential economic resource. \n",
    "# A resource will have only one, as this specifies exactly what the resource is.\n",
    "resourceConformsTo = res_spec_data['aluminium_bike_frame']['id']\n",
    "# When a specific `EconomicResource` is known which can service the `Intent`, this defines that resource.\n",
    "# TODO: In this case should we specify the aluminium?\n",
    "resourceInventoriedAs = None\n",
    "# Since we want to produce 1 bike frame we will put one here, the correct unity will be derived from the res specs\n",
    "amount = 1\n",
    "# Reference to an agreement between agents which specifies the rules or policies or calculations \n",
    "# which govern this intent.\n",
    "agreedIn = None\n",
    "# The place where an intent would occur. Usually mappable.\n",
    "atLocation = locs_data['manufacturer1']['id']\n",
    "# The total quantity of the offered resource available.\n",
    "# TODO: should we here specify a production capability, like 10 per day?\n",
    "availableQuantity = None\n",
    "# The amount and unit of the work or use or citation effort-based action. This is often a time duration, \n",
    "# but also could be cycle counts or other measures of effort or usefulness.\n",
    "# TODO: for the moment we do not quantify it, but it might be important, or it might be determined when the \n",
    "# event is performed.\n",
    "effortQuantity = None\n",
    "# The intent is complete or not. This is irrespective of if the original goal has been met, and indicates that no more will be done.\n",
    "finished = False\n",
    "# The time something is expected to be complete.\n",
    "due = None\n",
    "# The planned beginning of the intent.\n",
    "hasBeginning = datetime.now(timezone.utc).isoformat()\n",
    "# The planned end of the intent.\n",
    "dur_days = 365\n",
    "hasEnd = (datetime.now(timezone.utc) + timedelta(days=dur_days)).isoformat()\n",
    "# The planned date/time for the intent. Can be used instead of beginning and end.\n",
    "hasPointInTime = None\n",
    "# Defines the process to which this intent is an input.\n",
    "inputOf = None\n",
    "# Defines the process to which this intent is an output.\n",
    "outputOf = process_data['Manifacture_aluminium_bike_frame']['id']\n",
    "# The economic agent from whom the intent is initiated. This implies that the intent is an offer.\n",
    "provider = users_data['manufacturer1']['id']\n",
    "# The economic agent whom the intent is for. This implies that the intent is a request.\n",
    "receiver = None\n",
    "\n",
    "get_intent(name, intent_data, note, user_data, res_spec_data, provider=provider, receiver=receiver, action=action, \\\n",
    "           resourceClassifiedAs=resourceClassifiedAs, resourceConformsTo=resourceConformsTo, \\\n",
    "           resourceInventoriedAs=resourceInventoriedAs, amount=amount, agreedIn=agreedIn, \\\n",
    "           atLocation=atLocation, availableQuantity=availableQuantity, effortQuantity=effortQuantity,\n",
    "           finished=finished, due=due, hasBeginning=hasBeginning, hasEnd=hasEnd, hasPointInTime=hasPointInTime,\n",
    "           inputOf=inputOf, outputOf=outputOf, endpoint=ENDPOINT)\n"
   ]
  },
  {
   "cell_type": "code",
   "execution_count": null,
   "id": "f784dc77",
   "metadata": {},
   "outputs": [],
   "source": [
    "# Create the proposed intent that publishes the intent in the proposal\n",
    "name = 'Bike_frame_consume_publishing'\n",
    "publishedIn = proposal_data['Bike_frame_manifacturing_proposal']['id']\n",
    "publishes = intent_data['Bike_frame_consume_intent']['id']\n",
    "reciprocal = False\n",
    "\n",
    "get_proposedIntent(name, prop_int_data, user_data, publishedIn=publishedIn, publishes=publishes, \\\n",
    "                   reciprocal=reciprocal, endpoint=ENDPOINT)"
   ]
  },
  {
   "cell_type": "code",
   "execution_count": null,
   "id": "5480dfb8",
   "metadata": {},
   "outputs": [],
   "source": [
    "# Create the proposed intent that publishes the intent in the proposal\n",
    "name = 'Bike_frame_work_publishing'\n",
    "publishedIn = proposal_data['Bike_frame_manifacturing_proposal']['id']\n",
    "publishes = intent_data['Bike_frame_work_intent']['id']\n",
    "reciprocal = False\n",
    "\n",
    "get_proposedIntent(name, prop_int_data, user_data, publishedIn=publishedIn, publishes=publishes, \\\n",
    "                   reciprocal=reciprocal, endpoint=ENDPOINT)"
   ]
  },
  {
   "cell_type": "code",
   "execution_count": null,
   "id": "f752ddc7",
   "metadata": {},
   "outputs": [],
   "source": [
    "# Create the proposed intent that publishes the intent in the proposal\n",
    "name = 'Bike_frame_manifacturing_publishing'\n",
    "publishedIn = proposal_data['Bike_frame_manifacturing_proposal']['id']\n",
    "publishes = intent_data['Bike_frame_produce_intent']['id']\n",
    "reciprocal = False\n",
    "\n",
    "get_proposedIntent(name, prop_int_data, user_data, publishedIn=publishedIn, publishes=publishes, \\\n",
    "                   reciprocal=reciprocal, endpoint=ENDPOINT)"
   ]
  },
  {
   "cell_type": "markdown",
   "id": "cad7a7d0",
   "metadata": {},
   "source": [
    "## These steps create the \"Service\" that assembles a bike"
   ]
  },
  {
   "cell_type": "code",
   "execution_count": null,
   "id": "ee62dfec",
   "metadata": {},
   "outputs": [],
   "source": [
    "# Create resource specification for an assembled bike\n",
    "# TODO: here we pass a specification for the bike to be produced by the service provider\n",
    "# when we will actually provide the bike, given that we also pass a design and a custom mirror,\n",
    "# we will give another resource specification to the produced bike, and we will also use that \n",
    "# produce event as a satisfaction of the intent below. There will be no check that this might be\n",
    "# an error, as we are practically overwriting what the intent was meant to produce.\n",
    "name = 'assembled_bike'\n",
    "note = 'Specification assembled bike'\n",
    "classification = 'https://www.service_prov2.com/assembled/bike'\n",
    "default_unit_id = units_data['piece']['id']\n",
    "get_resource_spec_id(SPECS_FILE, users_data['service_prov2'], res_spec_data, name, note, classification, default_unit_id, endpoint=ENDPOINT)\n"
   ]
  },
  {
   "cell_type": "code",
   "execution_count": null,
   "id": "3b76cbc0",
   "metadata": {},
   "outputs": [],
   "source": [
    "# Create the process that assembles the bike\n",
    "process_name = 'Assemble_bike'\n",
    "user_data = users_data['service_prov2']\n",
    "note = f\"Assemble bike 1-hour service by {user_data['name']}\"\n",
    "get_process(process_name, process_data, note, user_data, endpoint=ENDPOINT)"
   ]
  },
  {
   "cell_type": "code",
   "execution_count": null,
   "id": "52971c25",
   "metadata": {},
   "outputs": [],
   "source": [
    "# Create the proposal for encapsulating intent to assemble bike\n",
    "name = \"Bike_assembling_proposal\"\n",
    "note = \"Proposal for assembling bike\"\n",
    "user_data = users_data['service_prov2']\n",
    "\n",
    "hasBeginning = datetime.now(timezone.utc).isoformat()\n",
    "dur_days = 365\n",
    "hasEnd = (datetime.now(timezone.utc) + timedelta(days=dur_days)).isoformat()\n",
    "\n",
    "eligibleLocation = locs_data['service_prov2']['id']\n",
    "\n",
    "unitBased = True\n",
    "\n",
    "get_proposal(name, proposal_data, note, user_data,\\\n",
    "             hasBeginning=hasBeginning, hasEnd=hasEnd, \\\n",
    "             eligibleLocation=eligibleLocation, unitBased=unitBased, endpoint=ENDPOINT)"
   ]
  },
  {
   "cell_type": "code",
   "execution_count": null,
   "id": "d3a119a2",
   "metadata": {},
   "outputs": [],
   "source": [
    "# Create the intent to produce a bike\n",
    "\n",
    "name = \"Bike_produce_intent\"\n",
    "note = \"Intent to produce a bike\"\n",
    "user_data = users_data['service_prov2']\n",
    "\n",
    "action = 'produce'\n",
    "# References a concept in a common taxonomy or other classification scheme for purposes of categorization \n",
    "# or grouping.\n",
    "resourceClassifiedAs = None\n",
    "resourceConformsTo = res_spec_data['assembled_bike']['id']\n",
    "resourceInventoriedAs = None\n",
    "# Since we want to produce 1 bike we will put one here, the correct unity will be derived from the res specs\n",
    "amount = 1\n",
    "agreedIn = None\n",
    "atLocation = locs_data['service_prov2']['id']\n",
    "availableQuantity = None\n",
    "effortQuantity = None\n",
    "finished = False\n",
    "due = None\n",
    "hasBeginning = datetime.now(timezone.utc).isoformat()\n",
    "dur_days = 365\n",
    "hasEnd = (datetime.now(timezone.utc) + timedelta(days=dur_days)).isoformat()\n",
    "hasPointInTime = None\n",
    "inputOf = None\n",
    "outputOf = process_data['Assemble_bike']['id']\n",
    "provider = users_data['service_prov2']['id']\n",
    "receiver = None\n",
    "\n",
    "get_intent(name, intent_data, note, user_data, res_spec_data, provider=provider, receiver=receiver, action=action, \\\n",
    "           resourceClassifiedAs=resourceClassifiedAs, resourceConformsTo=resourceConformsTo, \\\n",
    "           resourceInventoriedAs=resourceInventoriedAs, amount=amount, agreedIn=agreedIn, \\\n",
    "           atLocation=atLocation, availableQuantity=availableQuantity, effortQuantity=effortQuantity,\n",
    "           finished=finished, due=due, hasBeginning=hasBeginning, hasEnd=hasEnd, hasPointInTime=hasPointInTime,\n",
    "           inputOf=inputOf, outputOf=outputOf, endpoint=ENDPOINT)\n"
   ]
  },
  {
   "cell_type": "code",
   "execution_count": null,
   "id": "9879e3e6",
   "metadata": {},
   "outputs": [],
   "source": [
    "# Create the proposed intent that publishes the intent in the proposal\n",
    "name = 'Bike_assembling_publishing'\n",
    "publishedIn = proposal_data['Bike_assembling_proposal']['id']\n",
    "publishes = intent_data['Bike_produce_intent']['id']\n",
    "reciprocal = False\n",
    "\n",
    "get_proposedIntent(name, prop_int_data, user_data, publishedIn=publishedIn, publishes=publishes, \\\n",
    "                   reciprocal=reciprocal, endpoint=ENDPOINT)"
   ]
  },
  {
   "cell_type": "markdown",
   "id": "19177a5e",
   "metadata": {},
   "source": [
    "# Implementation"
   ]
  },
  {
   "cell_type": "markdown",
   "id": "c2ce7cce",
   "metadata": {},
   "source": [
    "## Create the design for the funky bike"
   ]
  },
  {
   "cell_type": "code",
   "execution_count": null,
   "id": "b651cab4",
   "metadata": {},
   "outputs": [],
   "source": [
    "name = 'funky_bike_design'\n",
    "note = 'Repository for funky bike design'\n",
    "classification = 'https://github.com/designer1/funky_bike_design'\n",
    "default_unit_id = units_data['piece']['id']\n",
    "get_resource_spec_id(SPECS_FILE, users_data['designer1'], res_spec_data, name, note, classification, default_unit_id, endpoint=ENDPOINT)"
   ]
  },
  {
   "cell_type": "code",
   "execution_count": null,
   "id": "8aa47fbf",
   "metadata": {},
   "outputs": [],
   "source": [
    "name = 'design_work'\n",
    "note = 'Specification for design work'\n",
    "classification = 'https://www.wikidata.org/wiki/Q82604'\n",
    "default_unit_id = units_data['time']['id']\n",
    "get_resource_spec_id(SPECS_FILE, users_data['designer1'], res_spec_data, name, note, classification, default_unit_id, endpoint=ENDPOINT)"
   ]
  },
  {
   "cell_type": "code",
   "execution_count": null,
   "id": "3e3115dd",
   "metadata": {},
   "outputs": [],
   "source": [
    "# Create the process that wraps creating design\n",
    "process_name = 'Design_funky_bike'\n",
    "user_data = users_data['designer1']\n",
    "note = f\"Design of funky bike by {user_data['name']}\"\n",
    "get_process(process_name, process_data, note, user_data, endpoint=ENDPOINT)"
   ]
  },
  {
   "cell_type": "code",
   "execution_count": null,
   "id": "315459d0",
   "metadata": {},
   "outputs": [],
   "source": [
    "# Define event work for the bike design\n",
    "cur_res = action = event_note = amount = cur_pros = cur_int = None\n",
    "action = 'work'\n",
    "event_note='work to design funky bike'\n",
    "\n",
    "cur_pros = process_data['Design_funky_bike']\n",
    "effort_spec = {}\n",
    "effort_spec['unit_id'] = res_spec_data['design_work']['defaultUnit']\n",
    "effort_spec['spec_id'] = res_spec_data['design_work']['id']\n",
    "effort_spec['amount'] = 8\n",
    "\n",
    "\n",
    "event_id, ts = create_event(users_data['designer1'], action, event_note, amount=0, process=cur_pros, \\\n",
    "                 res_spec_data=res_spec_data, effort_spec=effort_spec, endpoint=ENDPOINT)\n",
    "\n",
    "event_seq.append({'ts': ts, 'event_id':event_id, 'action' : action, 'amount': effort_spec['amount']})\n",
    "event_seq.append({'ts': ts, 'process_id':cur_pros['id'], 'name' : cur_pros['name']})"
   ]
  },
  {
   "cell_type": "code",
   "execution_count": null,
   "id": "32673b8b",
   "metadata": {},
   "outputs": [],
   "source": [
    "# Define event produce for bike design\n",
    "cur_res = action = event_note = amount = cur_pros = cur_int = None\n",
    "action = 'produce'\n",
    "event_note='produce design for funky bike'\n",
    "amount = 1\n",
    "cur_pros = process_data['Design_funky_bike']\n",
    "\n",
    "res_data['funky_bike_design_res'] = {\n",
    "    \"res_ref_id\": f'funky_bike_design-{random.randint(0, 10000)}',\n",
    "    \"name\": 'funky bike design',\n",
    "    \"spec_id\": res_spec_data['funky_bike_design']['id']\n",
    "}\n",
    "cur_res = res_data['funky_bike_design_res']\n",
    "\n",
    "\n",
    "event_id, ts = create_event(users_data['designer1'], action, event_note, amount=amount, process=cur_pros, \\\n",
    "                 res_spec_data=res_spec_data, new_res=cur_res, endpoint=ENDPOINT)\n",
    "\n",
    "event_seq.append({'ts': ts, 'event_id':event_id, 'action' : action, 'res_name': cur_res['name'], 'res': cur_res['id']})\n"
   ]
  },
  {
   "cell_type": "markdown",
   "id": "89bd37a7",
   "metadata": {},
   "source": [
    "## Manifacture bike frame"
   ]
  },
  {
   "cell_type": "code",
   "execution_count": null,
   "id": "4c63425e",
   "metadata": {
    "scrolled": false
   },
   "outputs": [],
   "source": [
    "# We create the resources that will not be saved to file as it is assumed they are recreated at each run\n",
    "res_name = 'aluminium'\n",
    "amount = 5\n",
    "get_resource(res_data, res_spec_data, res_name, users_data['manufacturer1'], event_seq, amount, endpoint=ENDPOINT)"
   ]
  },
  {
   "cell_type": "code",
   "execution_count": null,
   "id": "711bc056",
   "metadata": {},
   "outputs": [],
   "source": [
    "# Define event work for the bike manufacturing\n",
    "cur_res = action = event_note = amount = cur_pros = cur_int = None\n",
    "action = 'work'\n",
    "event_note='work to manufacture bike frame'\n",
    "\n",
    "cur_pros = process_data['Manifacture_aluminium_bike_frame']\n",
    "effort_spec = {}\n",
    "effort_spec['unit_id'] = res_spec_data['manufacturing_work']['defaultUnit']\n",
    "effort_spec['spec_id'] = res_spec_data['manufacturing_work']['id']\n",
    "effort_spec['amount'] = 8\n",
    "\n",
    "\n",
    "event_id, ts = create_event(users_data['manufacturer1'], action, event_note, amount=0, process=cur_pros, \\\n",
    "                 res_spec_data=res_spec_data, effort_spec=effort_spec, endpoint=ENDPOINT)\n",
    "\n",
    "cur_int = intent_data['Bike_frame_work_intent']\n",
    "name = 'bike_frame_work_sat'\n",
    "note = f'satisfaction of {cur_int[\"name\"]}'  \n",
    "get_satisfaction(name, users_data['manufacturer1'], event_id, cur_int['id'], note, satisfaction_data, \\\n",
    "                 endpoint=ENDPOINT, effortQuantity=effort_spec)\n",
    "\n",
    "event_seq.append({'ts': ts, 'event_id':event_id, 'action' : action, 'amount': effort_spec['amount']})"
   ]
  },
  {
   "cell_type": "code",
   "execution_count": null,
   "id": "efa841b9",
   "metadata": {},
   "outputs": [],
   "source": [
    "# consume aluminium for bike frame\n",
    "cur_res = action = event_note = amount = cur_pros = cur_int = None\n",
    "action = 'consume'\n",
    "event_note='consume aluminium for bike frame'\n",
    "amount = 5\n",
    "cur_pros = process_data['Manifacture_aluminium_bike_frame']\n",
    "cur_res = res_data['aluminium_res']\n",
    "\n",
    "\n",
    "event_id, ts = create_event(users_data['manufacturer1'], action, event_note, amount=amount, process=cur_pros, \\\n",
    "                 res_spec_data=res_spec_data, existing_res=cur_res, endpoint=ENDPOINT)\n",
    "\n",
    "cur_int = intent_data['Bike_frame_consume_intent']\n",
    "name = 'bike_frame_consume_sat'\n",
    "note = f'satisfaction of {cur_int[\"name\"]}'  \n",
    "get_satisfaction(name, users_data['manufacturer1'], event_id, cur_int['id'], note, satisfaction_data, \\\n",
    "                 endpoint=ENDPOINT, amount=amount, cur_res=cur_res, res_spec_data=res_spec_data)\n",
    "\n",
    "\n",
    "event_seq.append({'ts': ts, 'event_id':event_id, 'action' : action, 'res_name': cur_res['name'], 'res': cur_res['id']})\n",
    "event_seq.append({'ts': ts, 'process_id':cur_pros['id'], 'name' : cur_pros['name']})\n"
   ]
  },
  {
   "cell_type": "code",
   "execution_count": null,
   "id": "f387858f",
   "metadata": {},
   "outputs": [],
   "source": [
    "# Define event produce for aluminium bike frame\n",
    "cur_res = action = event_note = amount = cur_pros = cur_int = None\n",
    "action = 'produce'\n",
    "event_note='produce aluminium bike frame'\n",
    "amount = 1\n",
    "cur_pros = process_data['Manifacture_aluminium_bike_frame']\n",
    "\n",
    "res_data['aluminium_bike_frame_res'] = {\n",
    "    \"res_ref_id\": f'aluminium_bike_frame-{random.randint(0, 10000)}',\n",
    "    \"name\": 'aluminium bike frame',\n",
    "    \"spec_id\": res_spec_data['aluminium_bike_frame']['id']\n",
    "}\n",
    "cur_res = res_data['aluminium_bike_frame_res']\n",
    "\n",
    "\n",
    "event_id, ts = create_event(users_data['manufacturer1'], action, event_note, amount=amount, process=cur_pros, \\\n",
    "                 res_spec_data=res_spec_data, new_res=cur_res, endpoint=ENDPOINT)\n",
    "\n",
    "cur_int = intent_data['Bike_frame_produce_intent']\n",
    "name = 'bike_frame_produce_sat'\n",
    "note = f'satisfaction of {cur_int[\"name\"]}'  \n",
    "get_satisfaction(name, users_data['manufacturer1'], event_id, cur_int['id'], note, satisfaction_data, \\\n",
    "                 endpoint=ENDPOINT, amount=amount, cur_res=cur_res, res_spec_data=res_spec_data)\n",
    "\n",
    "\n",
    "event_seq.append({'ts': ts, 'event_id':event_id, 'action' : action, 'res_name': cur_res['name'], 'res': cur_res['id']})\n"
   ]
  },
  {
   "cell_type": "code",
   "execution_count": null,
   "id": "6293d391",
   "metadata": {},
   "outputs": [],
   "source": [
    "# Transfer the aluminium bike frame from manufacturer1 to designer2\n",
    "cur_res = action = event_note = amount = cur_pros = cur_int = None\n",
    "note='Transfer aluminium bike frame from manufacturer1 to designer2'\n",
    "action = 'transfer'\n",
    "amount = 1\n",
    "cur_res = res_data['aluminium_bike_frame_res']\n",
    "\n",
    "event_id, ts = make_transfer(users_data['manufacturer1'], action, note, users_data['designer2'], amount, cur_res, locs_data, res_spec_data, endpoint=ENDPOINT)\n",
    "event_seq.append({'ts': ts, 'event_id':event_id, 'action' : action, 'res_name': cur_res['name'], 'res': cur_res['id']})\n"
   ]
  },
  {
   "cell_type": "markdown",
   "id": "5bd8ae00",
   "metadata": {},
   "source": [
    "## Create the design for the magic mirror"
   ]
  },
  {
   "cell_type": "code",
   "execution_count": null,
   "id": "69f11371",
   "metadata": {},
   "outputs": [],
   "source": [
    "name = 'magic_mirror_design'\n",
    "note = 'Repository for magic mirror design'\n",
    "classification = 'https://github.com/designer2/magic_mirror_design'\n",
    "default_unit_id = units_data['piece']['id']\n",
    "get_resource_spec_id(SPECS_FILE, users_data['designer2'], res_spec_data, name, note, classification, default_unit_id, endpoint=ENDPOINT)"
   ]
  },
  {
   "cell_type": "code",
   "execution_count": null,
   "id": "66a03115",
   "metadata": {},
   "outputs": [],
   "source": [
    "# Create the process that wraps creating design\n",
    "process_name = 'Design_magic_mirror'\n",
    "user_data = users_data['designer2']\n",
    "note = f\"Design of magic mirror by {user_data['name']}\"\n",
    "get_process(process_name, process_data, note, user_data, endpoint=ENDPOINT)"
   ]
  },
  {
   "cell_type": "code",
   "execution_count": null,
   "id": "f9f0dc92",
   "metadata": {},
   "outputs": [],
   "source": [
    "# Define event work for magic mirror design\n",
    "cur_res = action = event_note = amount = cur_pros = cur_int = None\n",
    "action = 'work'\n",
    "event_note='work to design magic mirror'\n",
    "\n",
    "cur_pros = process_data['Design_magic_mirror']\n",
    "effort_spec = {}\n",
    "effort_spec['unit_id'] = res_spec_data['design_work']['defaultUnit']\n",
    "effort_spec['spec_id'] = res_spec_data['design_work']['id']\n",
    "effort_spec['amount'] = 5\n",
    "\n",
    "\n",
    "event_id, ts = create_event(users_data['designer2'], action, event_note, amount=0, process=cur_pros, \\\n",
    "                 res_spec_data=res_spec_data, effort_spec=effort_spec, endpoint=ENDPOINT)\n",
    "\n",
    "event_seq.append({'ts': ts, 'event_id':event_id, 'action' : action, 'amount': effort_spec['amount']})\n",
    "event_seq.append({'ts': ts, 'process_id':cur_pros['id'], 'name' : cur_pros['name']})"
   ]
  },
  {
   "cell_type": "code",
   "execution_count": null,
   "id": "e4ff93da",
   "metadata": {},
   "outputs": [],
   "source": [
    "# Define event produce for magic mirror design\n",
    "cur_res = action = event_note = amount = cur_pros = cur_int = None\n",
    "action = 'produce'\n",
    "event_note='produce design for magic mirror'\n",
    "amount = 1\n",
    "cur_pros = process_data['Design_magic_mirror']\n",
    "\n",
    "res_data['magic_mirror_design_res'] = {\n",
    "    \"res_ref_id\": f'magic_mirror_design-{random.randint(0, 10000)}',\n",
    "    \"name\": 'magic mirror design',\n",
    "    \"spec_id\": res_spec_data['magic_mirror_design']['id']\n",
    "}\n",
    "cur_res = res_data['magic_mirror_design_res']\n",
    "\n",
    "\n",
    "event_id, ts = create_event(users_data['designer2'], action, event_note, amount=amount, process=cur_pros, \\\n",
    "                 res_spec_data=res_spec_data, new_res=cur_res, endpoint=ENDPOINT)\n",
    "\n",
    "event_seq.append({'ts': ts, 'event_id':event_id, 'action' : action, 'res_name': cur_res['name'], 'res': cur_res['id']})\n"
   ]
  },
  {
   "cell_type": "markdown",
   "id": "69a6ac87",
   "metadata": {},
   "source": [
    "## Create Magic Mirror"
   ]
  },
  {
   "cell_type": "code",
   "execution_count": null,
   "id": "092a69c7",
   "metadata": {},
   "outputs": [],
   "source": [
    "# Resource specification for glass\n",
    "name = 'glass'\n",
    "note = 'Glass for magic bike mirror'\n",
    "classification = 'https://www.wikidata.org/wiki/Q11469'\n",
    "default_unit_id = units_data['mass']['id']\n",
    "get_resource_spec_id(SPECS_FILE, users_data['manufacturer2'], res_spec_data, name, note, classification, default_unit_id, endpoint=ENDPOINT)"
   ]
  },
  {
   "cell_type": "code",
   "execution_count": null,
   "id": "1347e8e8",
   "metadata": {},
   "outputs": [],
   "source": [
    "res_name = 'glass'\n",
    "amount = .2\n",
    "get_resource(res_data, res_spec_data, res_name, users_data['manufacturer2'], event_seq, amount, endpoint=ENDPOINT)"
   ]
  },
  {
   "cell_type": "code",
   "execution_count": null,
   "id": "89ebaaad",
   "metadata": {},
   "outputs": [],
   "source": [
    "# Create the process that wraps creating the mirror\n",
    "process_name = 'Creation_magic_bike_mirror'\n",
    "user_data = users_data['manufacturer2']\n",
    "note = f\"Creation of magic bike mirror by {user_data['name']}\"\n",
    "get_process(process_name, process_data, note, user_data, endpoint=ENDPOINT)\n"
   ]
  },
  {
   "cell_type": "code",
   "execution_count": null,
   "id": "2a5fd95b",
   "metadata": {},
   "outputs": [],
   "source": [
    "# Create the resource specification for magic bike mirror\n",
    "name = 'magic_bike_mirror'\n",
    "note = 'Repository for magic bike mirror'\n",
    "classification = 'https://github.com/manufacturer2/magic_bike_mirror'\n",
    "default_unit_id = units_data['piece']['id']\n",
    "get_resource_spec_id(SPECS_FILE, users_data['manufacturer2'], res_spec_data, name, note, classification, default_unit_id, endpoint=ENDPOINT)"
   ]
  },
  {
   "cell_type": "code",
   "execution_count": null,
   "id": "30b9a51e",
   "metadata": {},
   "outputs": [],
   "source": [
    "# cite design for bike\n",
    "cur_res = action = event_note = amount = cur_pros = cur_int = None\n",
    "action = 'cite'\n",
    "event_note='cite design to make mirror'\n",
    "amount = 1\n",
    "cur_pros = process_data['Creation_magic_bike_mirror']\n",
    "cur_res = res_data['magic_mirror_design_res']\n",
    "\n",
    "\n",
    "event_id, ts = create_event(users_data['manufacturer2'], action, event_note, amount=amount, process=cur_pros, \\\n",
    "                 res_spec_data=res_spec_data, existing_res=cur_res, endpoint=ENDPOINT)\n",
    "\n",
    "event_seq.append({'ts': ts, 'event_id':event_id, 'action' : action, 'res_name': cur_res['name'], 'res': cur_res['id']})\n"
   ]
  },
  {
   "cell_type": "code",
   "execution_count": null,
   "id": "714c04d8",
   "metadata": {},
   "outputs": [],
   "source": [
    "# consume glass for mirror\n",
    "cur_res = action = event_note = amount = cur_pros = cur_int = None\n",
    "action = 'consume'\n",
    "event_note='consume glass for bike mirror'\n",
    "amount = .2\n",
    "cur_pros = process_data['Creation_magic_bike_mirror']\n",
    "cur_res = res_data['glass_res']\n",
    "\n",
    "\n",
    "event_id, ts = create_event(users_data['manufacturer2'], action, event_note, amount=amount, process=cur_pros, \\\n",
    "                 res_spec_data=res_spec_data, existing_res=cur_res, endpoint=ENDPOINT)\n",
    "\n",
    "event_seq.append({'ts': ts, 'event_id':event_id, 'action' : action, 'res_name': cur_res['name'], 'res': cur_res['id']})\n",
    "event_seq.append({'ts': ts, 'process_id':cur_pros['id'], 'name' : cur_pros['name']})\n"
   ]
  },
  {
   "cell_type": "code",
   "execution_count": null,
   "id": "eed5765f",
   "metadata": {},
   "outputs": [],
   "source": [
    "# Define event produce for bike mirror\n",
    "cur_res = action = event_note = amount = cur_pros = cur_int = None\n",
    "action = 'produce'\n",
    "event_note='produce magic bike mirror'\n",
    "amount = 1\n",
    "cur_pros = process_data['Creation_magic_bike_mirror']\n",
    "\n",
    "res_data['magic_bike_mirror_res'] = {\n",
    "    \"res_ref_id\": f'magic_bike_mirror-{random.randint(0, 10000)}',\n",
    "    \"name\": 'magic bike mirror',\n",
    "    \"spec_id\": res_spec_data['magic_bike_mirror']['id']\n",
    "}\n",
    "cur_res = res_data['magic_bike_mirror_res']\n",
    "\n",
    "\n",
    "event_id, ts = create_event(users_data['manufacturer2'], action, event_note, amount=amount, process=cur_pros, \\\n",
    "                 res_spec_data=res_spec_data, new_res=cur_res, endpoint=ENDPOINT)\n",
    "\n",
    "event_seq.append({'ts': ts, 'event_id':event_id, 'action' : action, 'res_name': cur_res['name'], 'res': cur_res['id']})\n"
   ]
  },
  {
   "cell_type": "markdown",
   "id": "1c47f501",
   "metadata": {},
   "source": [
    "## Paint the mirror"
   ]
  },
  {
   "cell_type": "code",
   "execution_count": null,
   "id": "658cd1f1",
   "metadata": {},
   "outputs": [],
   "source": [
    "name = 'painting_work'\n",
    "note = 'Specification for painting work'\n",
    "classification = 'https://www.wikidata.org/wiki/Q11629'\n",
    "default_unit_id = units_data['time']['id']\n",
    "get_resource_spec_id(SPECS_FILE, users_data['manufacturer2'], res_spec_data, name, note, classification, default_unit_id, endpoint=ENDPOINT)"
   ]
  },
  {
   "cell_type": "code",
   "execution_count": null,
   "id": "a6ea1ec0",
   "metadata": {},
   "outputs": [],
   "source": [
    "# Create the process that wraps painting the mirror\n",
    "process_name = 'Painting_magic_bike_mirror'\n",
    "user_data = users_data['manufacturer2']\n",
    "note = f\"Painting magic bike mirror by {user_data['name']}\"\n",
    "get_process(process_name, process_data, note, user_data, endpoint=ENDPOINT)\n"
   ]
  },
  {
   "cell_type": "code",
   "execution_count": null,
   "id": "6ec2906a",
   "metadata": {},
   "outputs": [],
   "source": [
    "# Define event work for magic mirror painting\n",
    "cur_res = action = event_note = amount = cur_pros = cur_int = None\n",
    "action = 'work'\n",
    "event_note='work to paint magic mirror'\n",
    "\n",
    "cur_pros = process_data['Painting_magic_bike_mirror']\n",
    "effort_spec = {}\n",
    "effort_spec['unit_id'] = res_spec_data['painting_work']['defaultUnit']\n",
    "effort_spec['spec_id'] = res_spec_data['painting_work']['id']\n",
    "effort_spec['amount'] = 6\n",
    "\n",
    "\n",
    "event_id, ts = create_event(users_data['manufacturer2'], action, event_note, amount=0, process=cur_pros, \\\n",
    "                 res_spec_data=res_spec_data, effort_spec=effort_spec, endpoint=ENDPOINT)\n",
    "\n",
    "event_seq.append({'ts': ts, 'event_id':event_id, 'action' : action, 'amount': effort_spec['amount']})"
   ]
  },
  {
   "cell_type": "code",
   "execution_count": null,
   "id": "9f4714d7",
   "metadata": {},
   "outputs": [],
   "source": [
    "# accept mirror for painting\n",
    "cur_res = action = event_note = amount = cur_pros = cur_int = None\n",
    "action = 'accept'\n",
    "event_note='accept mirror for painting'\n",
    "amount = 1\n",
    "cur_pros = process_data['Painting_magic_bike_mirror']\n",
    "cur_res = res_data['magic_bike_mirror_res']\n",
    "\n",
    "\n",
    "event_id, ts = create_event(users_data['manufacturer2'], action, event_note, amount=amount, process=cur_pros, \\\n",
    "                 res_spec_data=res_spec_data, existing_res=cur_res, endpoint=ENDPOINT)\n",
    "\n",
    "event_seq.append({'ts': ts, 'event_id':event_id, 'action' : action, 'res_name': cur_res['name'], 'res': cur_res['id']})\n",
    "event_seq.append({'ts': ts, 'process_id':cur_pros['id'], 'name' : cur_pros['name']})\n"
   ]
  },
  {
   "cell_type": "code",
   "execution_count": null,
   "id": "ca5bd207",
   "metadata": {},
   "outputs": [],
   "source": [
    "# modify the mirrow that is now painted\n",
    "cur_res = action = event_note = amount = cur_pros = None\n",
    "action = 'modify'\n",
    "event_note='modify mirror into painted mirror'\n",
    "amount = 1\n",
    "cur_pros = process_data['Painting_magic_bike_mirror']\n",
    "cur_res = res_data['magic_bike_mirror_res']\n",
    "\n",
    "\n",
    "event_id, ts = create_event(users_data['manufacturer2'], action, event_note, amount=amount, process=cur_pros, \\\n",
    "                 res_spec_data=res_spec_data, existing_res=cur_res, endpoint=ENDPOINT)\n",
    "\n",
    "event_seq.append({'ts': ts, 'event_id':event_id, 'action' : action, 'res_name': cur_res['name'], 'res': cur_res['id']})\n",
    "\n"
   ]
  },
  {
   "cell_type": "markdown",
   "id": "d54af661",
   "metadata": {},
   "source": [
    "## Package the mirror"
   ]
  },
  {
   "cell_type": "code",
   "execution_count": null,
   "id": "e270c825",
   "metadata": {},
   "outputs": [],
   "source": [
    "name = 'packaging_work'\n",
    "note = 'Specification for packaging work'\n",
    "classification = 'https://www.wikidata.org/wiki/Q207822'\n",
    "default_unit_id = units_data['time']['id']\n",
    "get_resource_spec_id(SPECS_FILE, users_data['manufacturer2'], res_spec_data, name, note, classification, default_unit_id, endpoint=ENDPOINT)"
   ]
  },
  {
   "cell_type": "code",
   "execution_count": null,
   "id": "787a291d",
   "metadata": {},
   "outputs": [],
   "source": [
    "# Create the process that wraps packaging the mirror\n",
    "process_name = 'Packaging_magic_bike_mirror'\n",
    "user_data = users_data['manufacturer2']\n",
    "note = f\"Packaging magic bike mirror by {user_data['name']}\"\n",
    "get_process(process_name, process_data, note, user_data, endpoint=ENDPOINT)\n"
   ]
  },
  {
   "cell_type": "code",
   "execution_count": null,
   "id": "547e0f94",
   "metadata": {},
   "outputs": [],
   "source": [
    "# Define event work for magic mirror painting\n",
    "cur_res = action = event_note = amount = cur_pros = cur_int = None\n",
    "action = 'work'\n",
    "event_note='work to package magic mirror'\n",
    "\n",
    "cur_pros = process_data['Packaging_magic_bike_mirror']\n",
    "effort_spec = {}\n",
    "effort_spec['unit_id'] = res_spec_data['packaging_work']['defaultUnit']\n",
    "effort_spec['spec_id'] = res_spec_data['packaging_work']['id']\n",
    "effort_spec['amount'] = 3\n",
    "\n",
    "\n",
    "event_id, ts = create_event(users_data['manufacturer2'], action, event_note, amount=0, process=cur_pros, \\\n",
    "                 res_spec_data=res_spec_data, effort_spec=effort_spec, endpoint=ENDPOINT)\n",
    "\n",
    "event_seq.append({'ts': ts, 'event_id':event_id, 'action' : action, 'amount': effort_spec['amount']})"
   ]
  },
  {
   "cell_type": "code",
   "execution_count": null,
   "id": "697171a7",
   "metadata": {},
   "outputs": [],
   "source": [
    "# accept mirror for packaging\n",
    "cur_res = action = event_note = amount = cur_pros = cur_int = None\n",
    "action = 'accept'\n",
    "event_note='accept mirror for packaging'\n",
    "amount = 1\n",
    "cur_pros = process_data['Packaging_magic_bike_mirror']\n",
    "cur_res = res_data['magic_bike_mirror_res']\n",
    "\n",
    "\n",
    "event_id, ts = create_event(users_data['manufacturer2'], action, event_note, amount=amount, process=cur_pros, \\\n",
    "                 res_spec_data=res_spec_data, existing_res=cur_res, endpoint=ENDPOINT)\n",
    "\n",
    "event_seq.append({'ts': ts, 'event_id':event_id, 'action' : action, 'res_name': cur_res['name'], 'res': cur_res['id']})\n",
    "event_seq.append({'ts': ts, 'process_id':cur_pros['id'], 'name' : cur_pros['name']})\n"
   ]
  },
  {
   "cell_type": "code",
   "execution_count": null,
   "id": "a84df16b",
   "metadata": {},
   "outputs": [],
   "source": [
    "# modify the mirrow that is now packaged\n",
    "cur_res = action = event_note = amount = cur_pros = None\n",
    "action = 'modify'\n",
    "event_note='modify mirror into packaged mirror'\n",
    "amount = 1\n",
    "cur_pros = process_data['Packaging_magic_bike_mirror']\n",
    "cur_res = res_data['magic_bike_mirror_res']\n",
    "\n",
    "\n",
    "event_id, ts = create_event(users_data['manufacturer2'], action, event_note, amount=amount, process=cur_pros, \\\n",
    "                 res_spec_data=res_spec_data, existing_res=cur_res, endpoint=ENDPOINT)\n",
    "\n",
    "event_seq.append({'ts': ts, 'event_id':event_id, 'action' : action, 'res_name': cur_res['name'], 'res': cur_res['id']})\n",
    "\n"
   ]
  },
  {
   "cell_type": "code",
   "execution_count": null,
   "id": "4b011731",
   "metadata": {},
   "outputs": [],
   "source": [
    "# Transfer the magic bike mirror from manufacturer2 to designer2\n",
    "cur_res = action = event_note = amount = cur_pros = cur_int = None\n",
    "note='Transfer magic bike mirror from manufacturer2 to designer2'\n",
    "action = 'transfer'\n",
    "amount = 1\n",
    "cur_res = res_data['magic_bike_mirror_res']\n",
    "\n",
    "event_id, ts = make_transfer(users_data['manufacturer2'], action, note, users_data['designer2'], amount, cur_res, locs_data, res_spec_data, endpoint=ENDPOINT)\n",
    "event_seq.append({'ts': ts, 'event_id':event_id, 'action' : action, 'res_name': cur_res['name'], 'res': cur_res['id']})\n"
   ]
  },
  {
   "cell_type": "markdown",
   "id": "d8d8addc",
   "metadata": {},
   "source": [
    "## Assemble the bike"
   ]
  },
  {
   "cell_type": "code",
   "execution_count": null,
   "id": "51d303e1",
   "metadata": {},
   "outputs": [],
   "source": [
    "# Transfer the magic bike mirror from designer2 to service_prov2\n",
    "cur_res = action = event_note = amount = cur_pros = cur_int = None\n",
    "note='Transfer magic bike mirror from designer2 to service_prov2'\n",
    "action = 'transfer'\n",
    "amount = 1\n",
    "cur_res = res_data['magic_bike_mirror_res']\n",
    "\n",
    "event_id, ts = make_transfer(users_data['designer2'], action, note, users_data['service_prov2'], amount, cur_res, locs_data, res_spec_data, endpoint=ENDPOINT)\n",
    "event_seq.append({'ts': ts, 'event_id':event_id, 'action' : action, 'res_name': cur_res['name'], 'res': cur_res['id']})\n"
   ]
  },
  {
   "cell_type": "code",
   "execution_count": null,
   "id": "03c954d6",
   "metadata": {},
   "outputs": [],
   "source": [
    "# Transfer the aluminium bike frame from designer2 to service_prov2\n",
    "cur_res = action = event_note = amount = cur_pros = cur_int = None\n",
    "note='Transfer aluminium bike frame from designer2 to service_prov2'\n",
    "action = 'transfer'\n",
    "amount = 1\n",
    "cur_res = res_data['aluminium_bike_frame_res']\n",
    "\n",
    "event_id, ts = make_transfer(users_data['designer2'], action, note, users_data['service_prov2'], amount, cur_res, locs_data, res_spec_data, endpoint=ENDPOINT)\n",
    "event_seq.append({'ts': ts, 'event_id':event_id, 'action' : action, 'res_name': cur_res['name'], 'res': cur_res['id']})\n"
   ]
  },
  {
   "cell_type": "code",
   "execution_count": null,
   "id": "ed2b15ba",
   "metadata": {
    "scrolled": true
   },
   "outputs": [],
   "source": [
    "# TODO: This process is not needed in theory as we already defined one in the intent\n",
    "# But is it wrong to do so? Should it be checked somehow?\n",
    "\n",
    "# Create the process that wraps creating the bike\n",
    "# process_name = 'Creation_fancy_collaborative_bike'\n",
    "# user_data = users_data['designer2']\n",
    "# note = f\"Creation of fancy collaborative bike by {user_data['name']}\"\n",
    "# get_process(process_name, process_data, note, user_data, endpoint=ENDPOINT)\n"
   ]
  },
  {
   "cell_type": "code",
   "execution_count": null,
   "id": "0028ae5c",
   "metadata": {},
   "outputs": [],
   "source": [
    "# consume mirror for bike\n",
    "cur_res = action = event_note = amount = cur_pros = cur_int = None\n",
    "action = 'consume'\n",
    "event_note='consume mirror for bike'\n",
    "amount = 1\n",
    "cur_pros = process_data['Assemble_bike']\n",
    "cur_res = res_data['magic_bike_mirror_res']\n",
    "\n",
    "\n",
    "event_id, ts = create_event(users_data['service_prov2'], action, event_note, amount=amount, process=cur_pros, \\\n",
    "                 res_spec_data=res_spec_data, existing_res=cur_res, endpoint=ENDPOINT)\n",
    "\n",
    "event_seq.append({'ts': ts, 'event_id':event_id, 'action' : action, 'res_name': cur_res['name'], 'res': cur_res['id']})\n"
   ]
  },
  {
   "cell_type": "code",
   "execution_count": null,
   "id": "52d979ba",
   "metadata": {},
   "outputs": [],
   "source": [
    "# cite design for bike\n",
    "cur_res = action = event_note = amount = cur_pros = cur_int = None\n",
    "action = 'cite'\n",
    "event_note='cite design to build bike'\n",
    "amount = 1\n",
    "cur_pros = process_data['Assemble_bike']\n",
    "cur_res = res_data['funky_bike_design_res']\n",
    "\n",
    "\n",
    "event_id, ts = create_event(users_data['service_prov2'], action, event_note, amount=amount, process=cur_pros, \\\n",
    "                 res_spec_data=res_spec_data, existing_res=cur_res, endpoint=ENDPOINT)\n",
    "\n",
    "event_seq.append({'ts': ts, 'event_id':event_id, 'action' : action, 'res_name': cur_res['name'], 'res': cur_res['id']})\n"
   ]
  },
  {
   "cell_type": "code",
   "execution_count": null,
   "id": "0cd7077a",
   "metadata": {},
   "outputs": [],
   "source": [
    "# consume aluminium bike frame for bike\n",
    "cur_res = action = event_note = amount = cur_pros = cur_int = None\n",
    "action = 'consume'\n",
    "event_note='consume aluminium bike frame'\n",
    "amount = 1\n",
    "cur_pros = process_data['Assemble_bike']\n",
    "cur_res = res_data['aluminium_bike_frame_res']\n",
    "\n",
    "\n",
    "event_id, ts = create_event(users_data['service_prov2'], action, event_note, amount=amount, process=cur_pros, \\\n",
    "                 res_spec_data=res_spec_data, existing_res=cur_res, endpoint=ENDPOINT)\n",
    "\n",
    "event_seq.append({'ts': ts, 'event_id':event_id, 'action' : action, 'res_name': cur_res['name'], 'res': cur_res['id']})\n"
   ]
  },
  {
   "cell_type": "code",
   "execution_count": null,
   "id": "0103dcee",
   "metadata": {},
   "outputs": [],
   "source": [
    "name = 'assembleing_work'\n",
    "note = 'Specification for assembleing work'\n",
    "classification = 'https://www.wikidata.org/wiki/Q187939'\n",
    "default_unit_id = units_data['time']['id']\n",
    "get_resource_spec_id(SPECS_FILE, users_data['service_prov2'], res_spec_data, name, note, classification, default_unit_id, endpoint=ENDPOINT)\n"
   ]
  },
  {
   "cell_type": "code",
   "execution_count": null,
   "id": "9d1a0c21",
   "metadata": {},
   "outputs": [],
   "source": [
    "# Define event work for the bike assembling\n",
    "cur_res = action = event_note = amount = cur_pros = cur_int = None\n",
    "action = 'work'\n",
    "event_note='work to assemble bike'\n",
    "\n",
    "cur_pros = process_data['Assemble_bike']\n",
    "effort_spec = {}\n",
    "effort_spec['unit_id'] = res_spec_data['assembleing_work']['defaultUnit']\n",
    "effort_spec['spec_id'] = res_spec_data['assembleing_work']['id']\n",
    "effort_spec['amount'] = 1\n",
    "\n",
    "\n",
    "event_id, ts = create_event(users_data['service_prov2'], action, event_note, amount=0, process=cur_pros, \\\n",
    "                 res_spec_data=res_spec_data, effort_spec=effort_spec, endpoint=ENDPOINT)\n",
    "\n",
    "event_seq.append({'ts': ts, 'event_id':event_id, 'action' : action, 'amount': effort_spec['amount']})\n",
    "event_seq.append({'ts': ts, 'process_id':cur_pros['id'], 'name' : cur_pros['name']})"
   ]
  },
  {
   "cell_type": "code",
   "execution_count": null,
   "id": "cd1fd6e8",
   "metadata": {},
   "outputs": [],
   "source": [
    "# Resource specification for the bike\n",
    "name = 'fancy_collaborative_bike'\n",
    "note = 'Repository for fancy collaborative bike'\n",
    "classification = 'https://github.com/designer2/fancy_collaborative_bike'\n",
    "default_unit_id = units_data['piece']['id']\n",
    "get_resource_spec_id(SPECS_FILE, users_data['designer2'], res_spec_data, name, note, classification, default_unit_id, endpoint=ENDPOINT)\n"
   ]
  },
  {
   "cell_type": "code",
   "execution_count": null,
   "id": "35ed7386",
   "metadata": {},
   "outputs": [],
   "source": [
    "# Define event produce for collaborative bike\n",
    "cur_res = action = event_note = amount = cur_pros = cur_int = None\n",
    "action = 'produce'\n",
    "event_note='produce fancy collaborative bike'\n",
    "amount = 1\n",
    "cur_pros = process_data['Assemble_bike']\n",
    "\n",
    "res_data['fancy_collaborative_bike_res'] = {\n",
    "    \"res_ref_id\": f'fancy_collaborative_bike-{random.randint(0, 10000)}',\n",
    "    \"name\": 'fancy collaborative bike',\n",
    "    \"spec_id\": res_spec_data['fancy_collaborative_bike']['id']\n",
    "}\n",
    "cur_res = res_data['fancy_collaborative_bike_res']\n",
    "\n",
    "\n",
    "event_id, ts = create_event(users_data['service_prov2'], action, event_note, amount=amount, process=cur_pros, \\\n",
    "                 res_spec_data=res_spec_data, new_res=cur_res, endpoint=ENDPOINT)\n",
    "\n",
    "cur_int = intent_data['Bike_produce_intent']\n",
    "name = 'bike_produce_sat'\n",
    "note = f'satisfaction of {cur_int[\"name\"]}'  \n",
    "\n",
    "get_satisfaction(name, users_data['service_prov2'], event_id, cur_int['id'], note, satisfaction_data, \\\n",
    "                 endpoint=ENDPOINT, amount=amount, cur_res=cur_res, res_spec_data=res_spec_data)\n",
    "\n",
    "event_seq.append({'ts': ts, 'event_id':event_id, 'action' : action, 'res_name': cur_res['name'], 'res': cur_res['id']})\n"
   ]
  },
  {
   "cell_type": "code",
   "execution_count": null,
   "id": "11341b7b",
   "metadata": {},
   "outputs": [],
   "source": [
    "# Transfer the fancy bike from service_prov2 to designer2\n",
    "cur_res = action = event_note = amount = cur_pros = cur_int = None\n",
    "note='Transfer fancy bike from service_prov2 to designer2'\n",
    "action = 'transfer'\n",
    "amount = 1\n",
    "cur_res = res_data['fancy_collaborative_bike_res']\n",
    "\n",
    "event_id, ts = make_transfer(users_data['service_prov2'], action, note, users_data['designer2'], amount, cur_res, locs_data, res_spec_data, endpoint=ENDPOINT)\n",
    "event_seq.append({'ts': ts, 'event_id':event_id, 'action' : action, 'res_name': cur_res['name'], 'res': cur_res['id']})\n"
   ]
  },
  {
   "cell_type": "code",
   "execution_count": null,
   "id": "58e14ac7",
   "metadata": {},
   "outputs": [],
   "source": [
    "show_proposal(users_data['designer2'], proposal_data['Bike_assembling_proposal']['id'], endpoint=ENDPOINT)"
   ]
  },
  {
   "cell_type": "code",
   "execution_count": null,
   "id": "cda7a0ff",
   "metadata": {},
   "outputs": [],
   "source": [
    "check_proposals(users_data['designer2'], proposal_data, endpoint=ENDPOINT)"
   ]
  },
  {
   "cell_type": "markdown",
   "id": "8094a2a9",
   "metadata": {},
   "source": [
    "## Groups processes"
   ]
  },
  {
   "cell_type": "code",
   "execution_count": null,
   "id": "5063a307",
   "metadata": {
    "scrolled": true
   },
   "outputs": [],
   "source": [
    "# Create the process group to hold the processes\n",
    "name = note = processgrp = process = processgrp_id = None\n",
    "name = \"design_assemble_bike\"\n",
    "note = \"Groups bike design and assemblage\"\n",
    "\n",
    "get_processgrp(name, users_data['designer2'], note, processgrp_data, processgrp_id=processgrp_id, endpoint=ENDPOINT)\n"
   ]
  },
  {
   "cell_type": "code",
   "execution_count": null,
   "id": "743d375c",
   "metadata": {},
   "outputs": [],
   "source": [
    "# Insert the processes in the group\n",
    "name = note = processgrp = process = processgrp_id = None\n",
    "\n",
    "processgrp = processgrp_data[\"design_assemble_bike\"]\n",
    "process = process_data['Design_funky_bike']\n",
    "\n",
    "insert_procingrp(users_data['designer2'], processgrp, process, endpoint=ENDPOINT)\n",
    "\n",
    "process = process_data['Assemble_bike']\n",
    "\n",
    "insert_procingrp(users_data['designer2'], processgrp, process, endpoint=ENDPOINT)"
   ]
  },
  {
   "cell_type": "code",
   "execution_count": null,
   "id": "917f6f6e",
   "metadata": {
    "scrolled": true
   },
   "outputs": [],
   "source": [
    "# Create the process group to hold two process groups\n",
    "name = note = processgrp = process = processgrp_id = None\n",
    "name = \"design_create_paint_package_mirror\"\n",
    "note = \"Groups two groups: mirror design and creation and mirror painting and packaging\"\n",
    "\n",
    "get_processgrp(name, users_data['designer2'], note, processgrp_data, processgrp_id=processgrp_id, endpoint=ENDPOINT)"
   ]
  },
  {
   "cell_type": "code",
   "execution_count": null,
   "id": "84c3420d",
   "metadata": {
    "scrolled": true
   },
   "outputs": [],
   "source": [
    "# Create the process group to hold the processes\n",
    "name = note = processgrp = process = processgrp_id = None\n",
    "name = \"design_create_mirror\"\n",
    "note = \"Groups mirror design and creation\"\n",
    "processgrp_id = processgrp_data['design_create_paint_package_mirror']['id']\n",
    "\n",
    "get_processgrp(name, users_data['designer2'], note, processgrp_data, processgrp_id=processgrp_id, endpoint=ENDPOINT)\n"
   ]
  },
  {
   "cell_type": "code",
   "execution_count": null,
   "id": "65e23d2b",
   "metadata": {},
   "outputs": [],
   "source": [
    "# Insert the processes in the group\n",
    "name = note = processgrp = process = processgrp_id = None\n",
    "\n",
    "processgrp = processgrp_data[\"design_create_mirror\"]\n",
    "process = process_data['Design_magic_mirror']\n",
    "\n",
    "insert_procingrp(users_data['designer2'], processgrp, process, endpoint=ENDPOINT)\n",
    "\n",
    "process = process_data['Creation_magic_bike_mirror']\n",
    "\n",
    "insert_procingrp(users_data['designer2'], processgrp, process, endpoint=ENDPOINT)"
   ]
  },
  {
   "cell_type": "code",
   "execution_count": null,
   "id": "95bda71f",
   "metadata": {
    "scrolled": true
   },
   "outputs": [],
   "source": [
    "# Create the process group to hold the processes\n",
    "name = note = processgrp = process = processgrp_id = None\n",
    "name = \"paint_package_mirror\"\n",
    "note = \"Groups mirror painting and packaging\"\n",
    "processgrp_id = processgrp_data['design_create_paint_package_mirror']['id']\n",
    "\n",
    "get_processgrp(name, users_data['designer2'], note, processgrp_data, processgrp_id=processgrp_id, endpoint=ENDPOINT)"
   ]
  },
  {
   "cell_type": "code",
   "execution_count": null,
   "id": "2288dd59",
   "metadata": {
    "scrolled": false
   },
   "outputs": [],
   "source": [
    "# Insert the processes in the group\n",
    "name = note = processgrp = process = processgrp_id = None\n",
    "\n",
    "processgrp = processgrp_data[\"paint_package_mirror\"]\n",
    "process = process_data['Painting_magic_bike_mirror']\n",
    "\n",
    "insert_procingrp(users_data['designer2'], processgrp, process, endpoint=ENDPOINT)\n",
    "\n",
    "process = process_data['Packaging_magic_bike_mirror']\n",
    "\n",
    "insert_procingrp(users_data['designer2'], processgrp, process, endpoint=ENDPOINT)"
   ]
  },
  {
   "cell_type": "markdown",
   "id": "685d609f",
   "metadata": {},
   "source": [
    "## Start tracing"
   ]
  },
  {
   "cell_type": "code",
   "execution_count": null,
   "id": "ea84565b",
   "metadata": {
    "scrolled": true
   },
   "outputs": [],
   "source": [
    "show_data(users_data, locs_data, res_data, units_data, res_spec_data, process_data, event_seq, \\\n",
    "          proposal_data, intent_data, prop_int_data, satisfaction_data, processgrp_data)"
   ]
  },
  {
   "cell_type": "code",
   "execution_count": null,
   "id": "6aa9ba73",
   "metadata": {},
   "outputs": [],
   "source": [
    "trace_me = res_data['fancy_collaborative_bike_res']['id']\n",
    "print(f\"Resource to be traced: {trace_me}\")\n",
    "tot_dpp = []\n",
    "visited = set()\n",
    "er_before(trace_me, users_data['designer2'], dpp_children=tot_dpp, depth=0, visited=visited, endpoint=ENDPOINT)\n",
    "\n",
    "# Serializing json\n",
    "json_object = json.dumps(tot_dpp, indent=2)\n",
    "\n",
    "print(json_object)\n",
    "print(visited)"
   ]
  },
  {
   "cell_type": "code",
   "execution_count": null,
   "id": "abfca89b",
   "metadata": {},
   "outputs": [],
   "source": [
    "be_dpp = get_dpp(trace_me, users_data['designer2'], endpoint=ENDPOINT)\n",
    "print(json.dumps(be_dpp, indent=2))"
   ]
  },
  {
   "cell_type": "code",
   "execution_count": null,
   "id": "1921860f",
   "metadata": {
    "scrolled": true
   },
   "outputs": [],
   "source": [
    "trace = trace_query(trace_me, users_data['designer2'], endpoint=ENDPOINT)"
   ]
  },
  {
   "cell_type": "code",
   "execution_count": null,
   "id": "92ad9793",
   "metadata": {},
   "outputs": [],
   "source": [
    "check_traces(trace, event_seq, tot_dpp, be_dpp)\n",
    "save_traces(USE_CASE, tot_dpp, trace, be_dpp, event_seq, processgrp_data)"
   ]
  },
  {
   "cell_type": "code",
   "execution_count": null,
   "id": "99422305",
   "metadata": {},
   "outputs": [],
   "source": [
    "print(json.dumps(processgrp_data, indent=2))"
   ]
  },
  {
   "cell_type": "code",
   "execution_count": null,
   "id": "abc051b2",
   "metadata": {},
   "outputs": [],
   "source": [
    "labels = []\n",
    "sources = []\n",
    "targets = []\n",
    "values = []\n",
    "color_nodes = []\n",
    "color_links = []\n",
    "assigned = {}\n",
    "vis_dpp(tot_dpp[0], count=0, assigned=assigned, labels=labels, targets=targets, sources=sources, values=values, color_nodes=color_nodes, color_links=color_links)\n",
    "sources, targets = consol_trace(assigned, sources, targets)\n",
    "make_sankey(sources, targets, labels, values, color_nodes, color_links)"
   ]
  },
  {
   "cell_type": "code",
   "execution_count": null,
   "id": "0728f4f2",
   "metadata": {
    "scrolled": false
   },
   "outputs": [],
   "source": [
    "# STOP HERE!!"
   ]
  },
  {
   "cell_type": "code",
   "execution_count": null,
   "id": "30c1756a",
   "metadata": {},
   "outputs": [],
   "source": []
  }
 ],
 "metadata": {
  "celltoolbar": "Tags",
  "kernelspec": {
   "display_name": "Python 3 (ipykernel)",
   "language": "python",
   "name": "python3"
  },
  "language_info": {
   "codemirror_mode": {
    "name": "ipython",
    "version": 3
   },
   "file_extension": ".py",
   "mimetype": "text/x-python",
   "name": "python",
   "nbconvert_exporter": "python",
   "pygments_lexer": "ipython3",
   "version": "3.11.0"
  },
  "vscode": {
   "interpreter": {
    "hash": "aee8b7b246df8f9039afb4144a1f6fd8d2ca17a180786b69acc140d282b71a49"
   }
  }
 },
 "nbformat": 4,
 "nbformat_minor": 5
}
